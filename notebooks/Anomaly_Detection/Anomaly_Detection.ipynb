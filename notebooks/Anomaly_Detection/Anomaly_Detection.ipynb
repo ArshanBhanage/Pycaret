{
  "cells": [
    {
      "cell_type": "code",
      "execution_count": 41,
      "id": "d7142a33",
      "metadata": {
        "id": "d7142a33",
        "outputId": "035b5657-e7e4-46d9-b54d-b6899f7b355a"
      },
      "outputs": [
        {
          "data": {
            "text/plain": [
              "'3.3.2'"
            ]
          },
          "execution_count": 41,
          "metadata": {},
          "output_type": "execute_result"
        }
      ],
      "source": [
        "# check installed version\n",
        "import pycaret\n",
        "pycaret.__version__"
      ]
    },
    {
      "cell_type": "code",
      "execution_count": 42,
      "id": "956dfdab",
      "metadata": {
        "id": "956dfdab",
        "outputId": "81336db7-a17f-4e7e-f085-8cf89f823a7e"
      },
      "outputs": [
        {
          "data": {
            "text/html": [
              "<div>\n",
              "<style scoped>\n",
              "    .dataframe tbody tr th:only-of-type {\n",
              "        vertical-align: middle;\n",
              "    }\n",
              "\n",
              "    .dataframe tbody tr th {\n",
              "        vertical-align: top;\n",
              "    }\n",
              "\n",
              "    .dataframe thead th {\n",
              "        text-align: right;\n",
              "    }\n",
              "</style>\n",
              "<table border=\"1\" class=\"dataframe\">\n",
              "  <thead>\n",
              "    <tr style=\"text-align: right;\">\n",
              "      <th></th>\n",
              "      <th>MouseID</th>\n",
              "      <th>DYRK1A_N</th>\n",
              "      <th>ITSN1_N</th>\n",
              "      <th>BDNF_N</th>\n",
              "      <th>NR1_N</th>\n",
              "      <th>NR2A_N</th>\n",
              "      <th>pAKT_N</th>\n",
              "      <th>pBRAF_N</th>\n",
              "      <th>pCAMKII_N</th>\n",
              "      <th>pCREB_N</th>\n",
              "      <th>...</th>\n",
              "      <th>pCFOS_N</th>\n",
              "      <th>SYP_N</th>\n",
              "      <th>H3AcK18_N</th>\n",
              "      <th>EGR1_N</th>\n",
              "      <th>H3MeK4_N</th>\n",
              "      <th>CaNA_N</th>\n",
              "      <th>Genotype</th>\n",
              "      <th>Treatment</th>\n",
              "      <th>Behavior</th>\n",
              "      <th>class</th>\n",
              "    </tr>\n",
              "  </thead>\n",
              "  <tbody>\n",
              "    <tr>\n",
              "      <th>0</th>\n",
              "      <td>309_1</td>\n",
              "      <td>0.503644</td>\n",
              "      <td>0.747193</td>\n",
              "      <td>0.430175</td>\n",
              "      <td>2.816329</td>\n",
              "      <td>5.990152</td>\n",
              "      <td>0.218830</td>\n",
              "      <td>0.177565</td>\n",
              "      <td>2.373744</td>\n",
              "      <td>0.232224</td>\n",
              "      <td>...</td>\n",
              "      <td>0.108336</td>\n",
              "      <td>0.427099</td>\n",
              "      <td>0.114783</td>\n",
              "      <td>0.131790</td>\n",
              "      <td>0.128186</td>\n",
              "      <td>1.675652</td>\n",
              "      <td>Control</td>\n",
              "      <td>Memantine</td>\n",
              "      <td>C/S</td>\n",
              "      <td>c-CS-m</td>\n",
              "    </tr>\n",
              "    <tr>\n",
              "      <th>1</th>\n",
              "      <td>309_2</td>\n",
              "      <td>0.514617</td>\n",
              "      <td>0.689064</td>\n",
              "      <td>0.411770</td>\n",
              "      <td>2.789514</td>\n",
              "      <td>5.685038</td>\n",
              "      <td>0.211636</td>\n",
              "      <td>0.172817</td>\n",
              "      <td>2.292150</td>\n",
              "      <td>0.226972</td>\n",
              "      <td>...</td>\n",
              "      <td>0.104315</td>\n",
              "      <td>0.441581</td>\n",
              "      <td>0.111974</td>\n",
              "      <td>0.135103</td>\n",
              "      <td>0.131119</td>\n",
              "      <td>1.743610</td>\n",
              "      <td>Control</td>\n",
              "      <td>Memantine</td>\n",
              "      <td>C/S</td>\n",
              "      <td>c-CS-m</td>\n",
              "    </tr>\n",
              "    <tr>\n",
              "      <th>2</th>\n",
              "      <td>309_3</td>\n",
              "      <td>0.509183</td>\n",
              "      <td>0.730247</td>\n",
              "      <td>0.418309</td>\n",
              "      <td>2.687201</td>\n",
              "      <td>5.622059</td>\n",
              "      <td>0.209011</td>\n",
              "      <td>0.175722</td>\n",
              "      <td>2.283337</td>\n",
              "      <td>0.230247</td>\n",
              "      <td>...</td>\n",
              "      <td>0.106219</td>\n",
              "      <td>0.435777</td>\n",
              "      <td>0.111883</td>\n",
              "      <td>0.133362</td>\n",
              "      <td>0.127431</td>\n",
              "      <td>1.926427</td>\n",
              "      <td>Control</td>\n",
              "      <td>Memantine</td>\n",
              "      <td>C/S</td>\n",
              "      <td>c-CS-m</td>\n",
              "    </tr>\n",
              "    <tr>\n",
              "      <th>3</th>\n",
              "      <td>309_4</td>\n",
              "      <td>0.442107</td>\n",
              "      <td>0.617076</td>\n",
              "      <td>0.358626</td>\n",
              "      <td>2.466947</td>\n",
              "      <td>4.979503</td>\n",
              "      <td>0.222886</td>\n",
              "      <td>0.176463</td>\n",
              "      <td>2.152301</td>\n",
              "      <td>0.207004</td>\n",
              "      <td>...</td>\n",
              "      <td>0.111262</td>\n",
              "      <td>0.391691</td>\n",
              "      <td>0.130405</td>\n",
              "      <td>0.147444</td>\n",
              "      <td>0.146901</td>\n",
              "      <td>1.700563</td>\n",
              "      <td>Control</td>\n",
              "      <td>Memantine</td>\n",
              "      <td>C/S</td>\n",
              "      <td>c-CS-m</td>\n",
              "    </tr>\n",
              "    <tr>\n",
              "      <th>4</th>\n",
              "      <td>309_5</td>\n",
              "      <td>0.434940</td>\n",
              "      <td>0.617430</td>\n",
              "      <td>0.358802</td>\n",
              "      <td>2.365785</td>\n",
              "      <td>4.718679</td>\n",
              "      <td>0.213106</td>\n",
              "      <td>0.173627</td>\n",
              "      <td>2.134014</td>\n",
              "      <td>0.192158</td>\n",
              "      <td>...</td>\n",
              "      <td>0.110694</td>\n",
              "      <td>0.434154</td>\n",
              "      <td>0.118481</td>\n",
              "      <td>0.140314</td>\n",
              "      <td>0.148380</td>\n",
              "      <td>1.839730</td>\n",
              "      <td>Control</td>\n",
              "      <td>Memantine</td>\n",
              "      <td>C/S</td>\n",
              "      <td>c-CS-m</td>\n",
              "    </tr>\n",
              "  </tbody>\n",
              "</table>\n",
              "<p>5 rows × 82 columns</p>\n",
              "</div>"
            ],
            "text/plain": [
              "  MouseID  DYRK1A_N   ITSN1_N    BDNF_N     NR1_N    NR2A_N    pAKT_N  \\\n",
              "0   309_1  0.503644  0.747193  0.430175  2.816329  5.990152  0.218830   \n",
              "1   309_2  0.514617  0.689064  0.411770  2.789514  5.685038  0.211636   \n",
              "2   309_3  0.509183  0.730247  0.418309  2.687201  5.622059  0.209011   \n",
              "3   309_4  0.442107  0.617076  0.358626  2.466947  4.979503  0.222886   \n",
              "4   309_5  0.434940  0.617430  0.358802  2.365785  4.718679  0.213106   \n",
              "\n",
              "    pBRAF_N  pCAMKII_N   pCREB_N  ...   pCFOS_N     SYP_N  H3AcK18_N  \\\n",
              "0  0.177565   2.373744  0.232224  ...  0.108336  0.427099   0.114783   \n",
              "1  0.172817   2.292150  0.226972  ...  0.104315  0.441581   0.111974   \n",
              "2  0.175722   2.283337  0.230247  ...  0.106219  0.435777   0.111883   \n",
              "3  0.176463   2.152301  0.207004  ...  0.111262  0.391691   0.130405   \n",
              "4  0.173627   2.134014  0.192158  ...  0.110694  0.434154   0.118481   \n",
              "\n",
              "     EGR1_N  H3MeK4_N    CaNA_N  Genotype  Treatment  Behavior   class  \n",
              "0  0.131790  0.128186  1.675652   Control  Memantine       C/S  c-CS-m  \n",
              "1  0.135103  0.131119  1.743610   Control  Memantine       C/S  c-CS-m  \n",
              "2  0.133362  0.127431  1.926427   Control  Memantine       C/S  c-CS-m  \n",
              "3  0.147444  0.146901  1.700563   Control  Memantine       C/S  c-CS-m  \n",
              "4  0.140314  0.148380  1.839730   Control  Memantine       C/S  c-CS-m  \n",
              "\n",
              "[5 rows x 82 columns]"
            ]
          },
          "metadata": {},
          "output_type": "display_data"
        }
      ],
      "source": [
        "# loading sample dataset from pycaret dataset module\n",
        "from pycaret.datasets import get_data\n",
        "data = get_data('mice')"
      ]
    },
    {
      "cell_type": "code",
      "execution_count": 43,
      "id": "97f2c6c6",
      "metadata": {
        "id": "97f2c6c6",
        "outputId": "4a3a2ca4-e7d6-461c-dcdf-d14ba47358ff"
      },
      "outputs": [
        {
          "data": {
            "text/html": [
              "<style type=\"text/css\">\n",
              "#T_8bd2b_row6_col1 {\n",
              "  background-color: lightgreen;\n",
              "}\n",
              "</style>\n",
              "<table id=\"T_8bd2b\">\n",
              "  <thead>\n",
              "    <tr>\n",
              "      <th class=\"blank level0\" >&nbsp;</th>\n",
              "      <th id=\"T_8bd2b_level0_col0\" class=\"col_heading level0 col0\" >Description</th>\n",
              "      <th id=\"T_8bd2b_level0_col1\" class=\"col_heading level0 col1\" >Value</th>\n",
              "    </tr>\n",
              "  </thead>\n",
              "  <tbody>\n",
              "    <tr>\n",
              "      <th id=\"T_8bd2b_level0_row0\" class=\"row_heading level0 row0\" >0</th>\n",
              "      <td id=\"T_8bd2b_row0_col0\" class=\"data row0 col0\" >Session id</td>\n",
              "      <td id=\"T_8bd2b_row0_col1\" class=\"data row0 col1\" >123</td>\n",
              "    </tr>\n",
              "    <tr>\n",
              "      <th id=\"T_8bd2b_level0_row1\" class=\"row_heading level0 row1\" >1</th>\n",
              "      <td id=\"T_8bd2b_row1_col0\" class=\"data row1 col0\" >Original data shape</td>\n",
              "      <td id=\"T_8bd2b_row1_col1\" class=\"data row1 col1\" >(1080, 82)</td>\n",
              "    </tr>\n",
              "    <tr>\n",
              "      <th id=\"T_8bd2b_level0_row2\" class=\"row_heading level0 row2\" >2</th>\n",
              "      <td id=\"T_8bd2b_row2_col0\" class=\"data row2 col0\" >Transformed data shape</td>\n",
              "      <td id=\"T_8bd2b_row2_col1\" class=\"data row2 col1\" >(1080, 1168)</td>\n",
              "    </tr>\n",
              "    <tr>\n",
              "      <th id=\"T_8bd2b_level0_row3\" class=\"row_heading level0 row3\" >3</th>\n",
              "      <td id=\"T_8bd2b_row3_col0\" class=\"data row3 col0\" >Numeric features</td>\n",
              "      <td id=\"T_8bd2b_row3_col1\" class=\"data row3 col1\" >77</td>\n",
              "    </tr>\n",
              "    <tr>\n",
              "      <th id=\"T_8bd2b_level0_row4\" class=\"row_heading level0 row4\" >4</th>\n",
              "      <td id=\"T_8bd2b_row4_col0\" class=\"data row4 col0\" >Categorical features</td>\n",
              "      <td id=\"T_8bd2b_row4_col1\" class=\"data row4 col1\" >5</td>\n",
              "    </tr>\n",
              "    <tr>\n",
              "      <th id=\"T_8bd2b_level0_row5\" class=\"row_heading level0 row5\" >5</th>\n",
              "      <td id=\"T_8bd2b_row5_col0\" class=\"data row5 col0\" >Rows with missing values</td>\n",
              "      <td id=\"T_8bd2b_row5_col1\" class=\"data row5 col1\" >48.9%</td>\n",
              "    </tr>\n",
              "    <tr>\n",
              "      <th id=\"T_8bd2b_level0_row6\" class=\"row_heading level0 row6\" >6</th>\n",
              "      <td id=\"T_8bd2b_row6_col0\" class=\"data row6 col0\" >Preprocess</td>\n",
              "      <td id=\"T_8bd2b_row6_col1\" class=\"data row6 col1\" >True</td>\n",
              "    </tr>\n",
              "    <tr>\n",
              "      <th id=\"T_8bd2b_level0_row7\" class=\"row_heading level0 row7\" >7</th>\n",
              "      <td id=\"T_8bd2b_row7_col0\" class=\"data row7 col0\" >Imputation type</td>\n",
              "      <td id=\"T_8bd2b_row7_col1\" class=\"data row7 col1\" >simple</td>\n",
              "    </tr>\n",
              "    <tr>\n",
              "      <th id=\"T_8bd2b_level0_row8\" class=\"row_heading level0 row8\" >8</th>\n",
              "      <td id=\"T_8bd2b_row8_col0\" class=\"data row8 col0\" >Numeric imputation</td>\n",
              "      <td id=\"T_8bd2b_row8_col1\" class=\"data row8 col1\" >mean</td>\n",
              "    </tr>\n",
              "    <tr>\n",
              "      <th id=\"T_8bd2b_level0_row9\" class=\"row_heading level0 row9\" >9</th>\n",
              "      <td id=\"T_8bd2b_row9_col0\" class=\"data row9 col0\" >Categorical imputation</td>\n",
              "      <td id=\"T_8bd2b_row9_col1\" class=\"data row9 col1\" >mode</td>\n",
              "    </tr>\n",
              "    <tr>\n",
              "      <th id=\"T_8bd2b_level0_row10\" class=\"row_heading level0 row10\" >10</th>\n",
              "      <td id=\"T_8bd2b_row10_col0\" class=\"data row10 col0\" >Maximum one-hot encoding</td>\n",
              "      <td id=\"T_8bd2b_row10_col1\" class=\"data row10 col1\" >-1</td>\n",
              "    </tr>\n",
              "    <tr>\n",
              "      <th id=\"T_8bd2b_level0_row11\" class=\"row_heading level0 row11\" >11</th>\n",
              "      <td id=\"T_8bd2b_row11_col0\" class=\"data row11 col0\" >Encoding method</td>\n",
              "      <td id=\"T_8bd2b_row11_col1\" class=\"data row11 col1\" >None</td>\n",
              "    </tr>\n",
              "    <tr>\n",
              "      <th id=\"T_8bd2b_level0_row12\" class=\"row_heading level0 row12\" >12</th>\n",
              "      <td id=\"T_8bd2b_row12_col0\" class=\"data row12 col0\" >CPU Jobs</td>\n",
              "      <td id=\"T_8bd2b_row12_col1\" class=\"data row12 col1\" >-1</td>\n",
              "    </tr>\n",
              "    <tr>\n",
              "      <th id=\"T_8bd2b_level0_row13\" class=\"row_heading level0 row13\" >13</th>\n",
              "      <td id=\"T_8bd2b_row13_col0\" class=\"data row13 col0\" >Use GPU</td>\n",
              "      <td id=\"T_8bd2b_row13_col1\" class=\"data row13 col1\" >False</td>\n",
              "    </tr>\n",
              "    <tr>\n",
              "      <th id=\"T_8bd2b_level0_row14\" class=\"row_heading level0 row14\" >14</th>\n",
              "      <td id=\"T_8bd2b_row14_col0\" class=\"data row14 col0\" >Log Experiment</td>\n",
              "      <td id=\"T_8bd2b_row14_col1\" class=\"data row14 col1\" >False</td>\n",
              "    </tr>\n",
              "    <tr>\n",
              "      <th id=\"T_8bd2b_level0_row15\" class=\"row_heading level0 row15\" >15</th>\n",
              "      <td id=\"T_8bd2b_row15_col0\" class=\"data row15 col0\" >Experiment Name</td>\n",
              "      <td id=\"T_8bd2b_row15_col1\" class=\"data row15 col1\" >anomaly-default-name</td>\n",
              "    </tr>\n",
              "    <tr>\n",
              "      <th id=\"T_8bd2b_level0_row16\" class=\"row_heading level0 row16\" >16</th>\n",
              "      <td id=\"T_8bd2b_row16_col0\" class=\"data row16 col0\" >USI</td>\n",
              "      <td id=\"T_8bd2b_row16_col1\" class=\"data row16 col1\" >95f9</td>\n",
              "    </tr>\n",
              "  </tbody>\n",
              "</table>\n"
            ],
            "text/plain": [
              "<pandas.io.formats.style.Styler at 0x3535bb4f0>"
            ]
          },
          "metadata": {},
          "output_type": "display_data"
        }
      ],
      "source": [
        "# import pycaret anomaly and init setup\n",
        "from pycaret.anomaly import *\n",
        "s = setup(data, session_id = 123)"
      ]
    },
    {
      "cell_type": "code",
      "execution_count": 44,
      "id": "32ee91c9",
      "metadata": {
        "id": "32ee91c9"
      },
      "outputs": [],
      "source": [
        "# import AnomalyExperiment and init the class\n",
        "from pycaret.anomaly import AnomalyExperiment\n",
        "exp = AnomalyExperiment()"
      ]
    },
    {
      "cell_type": "code",
      "execution_count": 45,
      "id": "3ead9fb5",
      "metadata": {
        "id": "3ead9fb5",
        "outputId": "698d2dc2-0823-4159-fdd1-ede2776691b8"
      },
      "outputs": [
        {
          "data": {
            "text/plain": [
              "pycaret.anomaly.oop.AnomalyExperiment"
            ]
          },
          "execution_count": 45,
          "metadata": {},
          "output_type": "execute_result"
        }
      ],
      "source": [
        "# check the type of exp\n",
        "type(exp)"
      ]
    },
    {
      "cell_type": "code",
      "execution_count": 46,
      "id": "f05b8590",
      "metadata": {
        "id": "f05b8590",
        "outputId": "63514bf8-3d22-4ce6-fcdc-67e9c8eca931"
      },
      "outputs": [
        {
          "data": {
            "text/html": [
              "<style type=\"text/css\">\n",
              "#T_09eb3_row6_col1 {\n",
              "  background-color: lightgreen;\n",
              "}\n",
              "</style>\n",
              "<table id=\"T_09eb3\">\n",
              "  <thead>\n",
              "    <tr>\n",
              "      <th class=\"blank level0\" >&nbsp;</th>\n",
              "      <th id=\"T_09eb3_level0_col0\" class=\"col_heading level0 col0\" >Description</th>\n",
              "      <th id=\"T_09eb3_level0_col1\" class=\"col_heading level0 col1\" >Value</th>\n",
              "    </tr>\n",
              "  </thead>\n",
              "  <tbody>\n",
              "    <tr>\n",
              "      <th id=\"T_09eb3_level0_row0\" class=\"row_heading level0 row0\" >0</th>\n",
              "      <td id=\"T_09eb3_row0_col0\" class=\"data row0 col0\" >Session id</td>\n",
              "      <td id=\"T_09eb3_row0_col1\" class=\"data row0 col1\" >123</td>\n",
              "    </tr>\n",
              "    <tr>\n",
              "      <th id=\"T_09eb3_level0_row1\" class=\"row_heading level0 row1\" >1</th>\n",
              "      <td id=\"T_09eb3_row1_col0\" class=\"data row1 col0\" >Original data shape</td>\n",
              "      <td id=\"T_09eb3_row1_col1\" class=\"data row1 col1\" >(1080, 82)</td>\n",
              "    </tr>\n",
              "    <tr>\n",
              "      <th id=\"T_09eb3_level0_row2\" class=\"row_heading level0 row2\" >2</th>\n",
              "      <td id=\"T_09eb3_row2_col0\" class=\"data row2 col0\" >Transformed data shape</td>\n",
              "      <td id=\"T_09eb3_row2_col1\" class=\"data row2 col1\" >(1080, 1168)</td>\n",
              "    </tr>\n",
              "    <tr>\n",
              "      <th id=\"T_09eb3_level0_row3\" class=\"row_heading level0 row3\" >3</th>\n",
              "      <td id=\"T_09eb3_row3_col0\" class=\"data row3 col0\" >Numeric features</td>\n",
              "      <td id=\"T_09eb3_row3_col1\" class=\"data row3 col1\" >77</td>\n",
              "    </tr>\n",
              "    <tr>\n",
              "      <th id=\"T_09eb3_level0_row4\" class=\"row_heading level0 row4\" >4</th>\n",
              "      <td id=\"T_09eb3_row4_col0\" class=\"data row4 col0\" >Categorical features</td>\n",
              "      <td id=\"T_09eb3_row4_col1\" class=\"data row4 col1\" >5</td>\n",
              "    </tr>\n",
              "    <tr>\n",
              "      <th id=\"T_09eb3_level0_row5\" class=\"row_heading level0 row5\" >5</th>\n",
              "      <td id=\"T_09eb3_row5_col0\" class=\"data row5 col0\" >Rows with missing values</td>\n",
              "      <td id=\"T_09eb3_row5_col1\" class=\"data row5 col1\" >48.9%</td>\n",
              "    </tr>\n",
              "    <tr>\n",
              "      <th id=\"T_09eb3_level0_row6\" class=\"row_heading level0 row6\" >6</th>\n",
              "      <td id=\"T_09eb3_row6_col0\" class=\"data row6 col0\" >Preprocess</td>\n",
              "      <td id=\"T_09eb3_row6_col1\" class=\"data row6 col1\" >True</td>\n",
              "    </tr>\n",
              "    <tr>\n",
              "      <th id=\"T_09eb3_level0_row7\" class=\"row_heading level0 row7\" >7</th>\n",
              "      <td id=\"T_09eb3_row7_col0\" class=\"data row7 col0\" >Imputation type</td>\n",
              "      <td id=\"T_09eb3_row7_col1\" class=\"data row7 col1\" >simple</td>\n",
              "    </tr>\n",
              "    <tr>\n",
              "      <th id=\"T_09eb3_level0_row8\" class=\"row_heading level0 row8\" >8</th>\n",
              "      <td id=\"T_09eb3_row8_col0\" class=\"data row8 col0\" >Numeric imputation</td>\n",
              "      <td id=\"T_09eb3_row8_col1\" class=\"data row8 col1\" >mean</td>\n",
              "    </tr>\n",
              "    <tr>\n",
              "      <th id=\"T_09eb3_level0_row9\" class=\"row_heading level0 row9\" >9</th>\n",
              "      <td id=\"T_09eb3_row9_col0\" class=\"data row9 col0\" >Categorical imputation</td>\n",
              "      <td id=\"T_09eb3_row9_col1\" class=\"data row9 col1\" >mode</td>\n",
              "    </tr>\n",
              "    <tr>\n",
              "      <th id=\"T_09eb3_level0_row10\" class=\"row_heading level0 row10\" >10</th>\n",
              "      <td id=\"T_09eb3_row10_col0\" class=\"data row10 col0\" >Maximum one-hot encoding</td>\n",
              "      <td id=\"T_09eb3_row10_col1\" class=\"data row10 col1\" >-1</td>\n",
              "    </tr>\n",
              "    <tr>\n",
              "      <th id=\"T_09eb3_level0_row11\" class=\"row_heading level0 row11\" >11</th>\n",
              "      <td id=\"T_09eb3_row11_col0\" class=\"data row11 col0\" >Encoding method</td>\n",
              "      <td id=\"T_09eb3_row11_col1\" class=\"data row11 col1\" >None</td>\n",
              "    </tr>\n",
              "    <tr>\n",
              "      <th id=\"T_09eb3_level0_row12\" class=\"row_heading level0 row12\" >12</th>\n",
              "      <td id=\"T_09eb3_row12_col0\" class=\"data row12 col0\" >CPU Jobs</td>\n",
              "      <td id=\"T_09eb3_row12_col1\" class=\"data row12 col1\" >-1</td>\n",
              "    </tr>\n",
              "    <tr>\n",
              "      <th id=\"T_09eb3_level0_row13\" class=\"row_heading level0 row13\" >13</th>\n",
              "      <td id=\"T_09eb3_row13_col0\" class=\"data row13 col0\" >Use GPU</td>\n",
              "      <td id=\"T_09eb3_row13_col1\" class=\"data row13 col1\" >False</td>\n",
              "    </tr>\n",
              "    <tr>\n",
              "      <th id=\"T_09eb3_level0_row14\" class=\"row_heading level0 row14\" >14</th>\n",
              "      <td id=\"T_09eb3_row14_col0\" class=\"data row14 col0\" >Log Experiment</td>\n",
              "      <td id=\"T_09eb3_row14_col1\" class=\"data row14 col1\" >False</td>\n",
              "    </tr>\n",
              "    <tr>\n",
              "      <th id=\"T_09eb3_level0_row15\" class=\"row_heading level0 row15\" >15</th>\n",
              "      <td id=\"T_09eb3_row15_col0\" class=\"data row15 col0\" >Experiment Name</td>\n",
              "      <td id=\"T_09eb3_row15_col1\" class=\"data row15 col1\" >anomaly-default-name</td>\n",
              "    </tr>\n",
              "    <tr>\n",
              "      <th id=\"T_09eb3_level0_row16\" class=\"row_heading level0 row16\" >16</th>\n",
              "      <td id=\"T_09eb3_row16_col0\" class=\"data row16 col0\" >USI</td>\n",
              "      <td id=\"T_09eb3_row16_col1\" class=\"data row16 col1\" >d027</td>\n",
              "    </tr>\n",
              "  </tbody>\n",
              "</table>\n"
            ],
            "text/plain": [
              "<pandas.io.formats.style.Styler at 0x352cefbe0>"
            ]
          },
          "metadata": {},
          "output_type": "display_data"
        },
        {
          "data": {
            "text/plain": [
              "<pycaret.anomaly.oop.AnomalyExperiment at 0x35358b7f0>"
            ]
          },
          "execution_count": 46,
          "metadata": {},
          "output_type": "execute_result"
        }
      ],
      "source": [
        "# init setup on exp\n",
        "exp.setup(data, session_id = 123)"
      ]
    },
    {
      "cell_type": "code",
      "execution_count": 47,
      "id": "65a19df4",
      "metadata": {
        "colab": {
          "referenced_widgets": [
            ""
          ]
        },
        "id": "65a19df4",
        "outputId": "4f3de07e-68e4-43d4-deb9-15618f2edd52"
      },
      "outputs": [
        {
          "data": {
            "text/html": [],
            "text/plain": [
              "<IPython.core.display.HTML object>"
            ]
          },
          "metadata": {},
          "output_type": "display_data"
        },
        {
          "data": {
            "text/html": [],
            "text/plain": [
              "<IPython.core.display.HTML object>"
            ]
          },
          "metadata": {},
          "output_type": "display_data"
        },
        {
          "data": {
            "text/html": [],
            "text/plain": [
              "<IPython.core.display.HTML object>"
            ]
          },
          "metadata": {},
          "output_type": "display_data"
        },
        {
          "data": {
            "text/plain": [
              "IForest(behaviour='new', bootstrap=False, contamination=0.05,\n",
              "    max_features=1.0, max_samples='auto', n_estimators=100, n_jobs=-1,\n",
              "    random_state=123, verbose=0)"
            ]
          },
          "execution_count": 47,
          "metadata": {},
          "output_type": "execute_result"
        }
      ],
      "source": [
        "# train iforest model\n",
        "iforest = create_model('iforest')\n",
        "iforest"
      ]
    },
    {
      "cell_type": "code",
      "execution_count": 48,
      "id": "8e1442ef",
      "metadata": {
        "id": "8e1442ef",
        "outputId": "fb653792-fa65-4568-c95a-6a30cd8b3318"
      },
      "outputs": [
        {
          "data": {
            "text/html": [
              "<div>\n",
              "<style scoped>\n",
              "    .dataframe tbody tr th:only-of-type {\n",
              "        vertical-align: middle;\n",
              "    }\n",
              "\n",
              "    .dataframe tbody tr th {\n",
              "        vertical-align: top;\n",
              "    }\n",
              "\n",
              "    .dataframe thead th {\n",
              "        text-align: right;\n",
              "    }\n",
              "</style>\n",
              "<table border=\"1\" class=\"dataframe\">\n",
              "  <thead>\n",
              "    <tr style=\"text-align: right;\">\n",
              "      <th></th>\n",
              "      <th>Name</th>\n",
              "      <th>Reference</th>\n",
              "    </tr>\n",
              "    <tr>\n",
              "      <th>ID</th>\n",
              "      <th></th>\n",
              "      <th></th>\n",
              "    </tr>\n",
              "  </thead>\n",
              "  <tbody>\n",
              "    <tr>\n",
              "      <th>abod</th>\n",
              "      <td>Angle-base Outlier Detection</td>\n",
              "      <td>pyod.models.abod.ABOD</td>\n",
              "    </tr>\n",
              "    <tr>\n",
              "      <th>cluster</th>\n",
              "      <td>Clustering-Based Local Outlier</td>\n",
              "      <td>pycaret.internal.patches.pyod.CBLOFForceToDouble</td>\n",
              "    </tr>\n",
              "    <tr>\n",
              "      <th>cof</th>\n",
              "      <td>Connectivity-Based Local Outlier</td>\n",
              "      <td>pyod.models.cof.COF</td>\n",
              "    </tr>\n",
              "    <tr>\n",
              "      <th>iforest</th>\n",
              "      <td>Isolation Forest</td>\n",
              "      <td>pyod.models.iforest.IForest</td>\n",
              "    </tr>\n",
              "    <tr>\n",
              "      <th>histogram</th>\n",
              "      <td>Histogram-based Outlier Detection</td>\n",
              "      <td>pyod.models.hbos.HBOS</td>\n",
              "    </tr>\n",
              "    <tr>\n",
              "      <th>knn</th>\n",
              "      <td>K-Nearest Neighbors Detector</td>\n",
              "      <td>pyod.models.knn.KNN</td>\n",
              "    </tr>\n",
              "    <tr>\n",
              "      <th>lof</th>\n",
              "      <td>Local Outlier Factor</td>\n",
              "      <td>pyod.models.lof.LOF</td>\n",
              "    </tr>\n",
              "    <tr>\n",
              "      <th>svm</th>\n",
              "      <td>One-class SVM detector</td>\n",
              "      <td>pyod.models.ocsvm.OCSVM</td>\n",
              "    </tr>\n",
              "    <tr>\n",
              "      <th>pca</th>\n",
              "      <td>Principal Component Analysis</td>\n",
              "      <td>pyod.models.pca.PCA</td>\n",
              "    </tr>\n",
              "    <tr>\n",
              "      <th>mcd</th>\n",
              "      <td>Minimum Covariance Determinant</td>\n",
              "      <td>pyod.models.mcd.MCD</td>\n",
              "    </tr>\n",
              "    <tr>\n",
              "      <th>sod</th>\n",
              "      <td>Subspace Outlier Detection</td>\n",
              "      <td>pyod.models.sod.SOD</td>\n",
              "    </tr>\n",
              "    <tr>\n",
              "      <th>sos</th>\n",
              "      <td>Stochastic Outlier Selection</td>\n",
              "      <td>pyod.models.sos.SOS</td>\n",
              "    </tr>\n",
              "  </tbody>\n",
              "</table>\n",
              "</div>"
            ],
            "text/plain": [
              "                                        Name  \\\n",
              "ID                                             \n",
              "abod            Angle-base Outlier Detection   \n",
              "cluster       Clustering-Based Local Outlier   \n",
              "cof         Connectivity-Based Local Outlier   \n",
              "iforest                     Isolation Forest   \n",
              "histogram  Histogram-based Outlier Detection   \n",
              "knn             K-Nearest Neighbors Detector   \n",
              "lof                     Local Outlier Factor   \n",
              "svm                   One-class SVM detector   \n",
              "pca             Principal Component Analysis   \n",
              "mcd           Minimum Covariance Determinant   \n",
              "sod               Subspace Outlier Detection   \n",
              "sos             Stochastic Outlier Selection   \n",
              "\n",
              "                                                  Reference  \n",
              "ID                                                           \n",
              "abod                                  pyod.models.abod.ABOD  \n",
              "cluster    pycaret.internal.patches.pyod.CBLOFForceToDouble  \n",
              "cof                                     pyod.models.cof.COF  \n",
              "iforest                         pyod.models.iforest.IForest  \n",
              "histogram                             pyod.models.hbos.HBOS  \n",
              "knn                                     pyod.models.knn.KNN  \n",
              "lof                                     pyod.models.lof.LOF  \n",
              "svm                                 pyod.models.ocsvm.OCSVM  \n",
              "pca                                     pyod.models.pca.PCA  \n",
              "mcd                                     pyod.models.mcd.MCD  \n",
              "sod                                     pyod.models.sod.SOD  \n",
              "sos                                     pyod.models.sos.SOS  "
            ]
          },
          "execution_count": 48,
          "metadata": {},
          "output_type": "execute_result"
        }
      ],
      "source": [
        "# to check all the available models\n",
        "models()"
      ]
    },
    {
      "cell_type": "code",
      "execution_count": 49,
      "id": "f1e54158",
      "metadata": {
        "id": "f1e54158",
        "outputId": "86c5578c-1932-4caf-b3f8-f3126f6c5e25"
      },
      "outputs": [
        {
          "data": {
            "text/html": [
              "<div>\n",
              "<style scoped>\n",
              "    .dataframe tbody tr th:only-of-type {\n",
              "        vertical-align: middle;\n",
              "    }\n",
              "\n",
              "    .dataframe tbody tr th {\n",
              "        vertical-align: top;\n",
              "    }\n",
              "\n",
              "    .dataframe thead th {\n",
              "        text-align: right;\n",
              "    }\n",
              "</style>\n",
              "<table border=\"1\" class=\"dataframe\">\n",
              "  <thead>\n",
              "    <tr style=\"text-align: right;\">\n",
              "      <th></th>\n",
              "      <th>MouseID</th>\n",
              "      <th>DYRK1A_N</th>\n",
              "      <th>ITSN1_N</th>\n",
              "      <th>BDNF_N</th>\n",
              "      <th>NR1_N</th>\n",
              "      <th>NR2A_N</th>\n",
              "      <th>pAKT_N</th>\n",
              "      <th>pBRAF_N</th>\n",
              "      <th>pCAMKII_N</th>\n",
              "      <th>pCREB_N</th>\n",
              "      <th>...</th>\n",
              "      <th>H3AcK18_N</th>\n",
              "      <th>EGR1_N</th>\n",
              "      <th>H3MeK4_N</th>\n",
              "      <th>CaNA_N</th>\n",
              "      <th>Genotype</th>\n",
              "      <th>Treatment</th>\n",
              "      <th>Behavior</th>\n",
              "      <th>class</th>\n",
              "      <th>Anomaly</th>\n",
              "      <th>Anomaly_Score</th>\n",
              "    </tr>\n",
              "  </thead>\n",
              "  <tbody>\n",
              "    <tr>\n",
              "      <th>0</th>\n",
              "      <td>309_1</td>\n",
              "      <td>0.503644</td>\n",
              "      <td>0.747193</td>\n",
              "      <td>0.430175</td>\n",
              "      <td>2.816329</td>\n",
              "      <td>5.990152</td>\n",
              "      <td>0.218830</td>\n",
              "      <td>0.177565</td>\n",
              "      <td>2.373744</td>\n",
              "      <td>0.232224</td>\n",
              "      <td>...</td>\n",
              "      <td>0.114783</td>\n",
              "      <td>0.131790</td>\n",
              "      <td>0.128186</td>\n",
              "      <td>1.675652</td>\n",
              "      <td>Control</td>\n",
              "      <td>Memantine</td>\n",
              "      <td>C/S</td>\n",
              "      <td>c-CS-m</td>\n",
              "      <td>0</td>\n",
              "      <td>-0.015795</td>\n",
              "    </tr>\n",
              "    <tr>\n",
              "      <th>1</th>\n",
              "      <td>309_2</td>\n",
              "      <td>0.514617</td>\n",
              "      <td>0.689064</td>\n",
              "      <td>0.411770</td>\n",
              "      <td>2.789514</td>\n",
              "      <td>5.685038</td>\n",
              "      <td>0.211636</td>\n",
              "      <td>0.172817</td>\n",
              "      <td>2.292150</td>\n",
              "      <td>0.226972</td>\n",
              "      <td>...</td>\n",
              "      <td>0.111974</td>\n",
              "      <td>0.135103</td>\n",
              "      <td>0.131119</td>\n",
              "      <td>1.743610</td>\n",
              "      <td>Control</td>\n",
              "      <td>Memantine</td>\n",
              "      <td>C/S</td>\n",
              "      <td>c-CS-m</td>\n",
              "      <td>0</td>\n",
              "      <td>-0.016963</td>\n",
              "    </tr>\n",
              "    <tr>\n",
              "      <th>2</th>\n",
              "      <td>309_3</td>\n",
              "      <td>0.509183</td>\n",
              "      <td>0.730247</td>\n",
              "      <td>0.418309</td>\n",
              "      <td>2.687201</td>\n",
              "      <td>5.622058</td>\n",
              "      <td>0.209011</td>\n",
              "      <td>0.175722</td>\n",
              "      <td>2.283337</td>\n",
              "      <td>0.230247</td>\n",
              "      <td>...</td>\n",
              "      <td>0.111883</td>\n",
              "      <td>0.133362</td>\n",
              "      <td>0.127431</td>\n",
              "      <td>1.926427</td>\n",
              "      <td>Control</td>\n",
              "      <td>Memantine</td>\n",
              "      <td>C/S</td>\n",
              "      <td>c-CS-m</td>\n",
              "      <td>0</td>\n",
              "      <td>-0.016017</td>\n",
              "    </tr>\n",
              "    <tr>\n",
              "      <th>3</th>\n",
              "      <td>309_4</td>\n",
              "      <td>0.442107</td>\n",
              "      <td>0.617076</td>\n",
              "      <td>0.358626</td>\n",
              "      <td>2.466947</td>\n",
              "      <td>4.979503</td>\n",
              "      <td>0.222886</td>\n",
              "      <td>0.176463</td>\n",
              "      <td>2.152301</td>\n",
              "      <td>0.207004</td>\n",
              "      <td>...</td>\n",
              "      <td>0.130405</td>\n",
              "      <td>0.147444</td>\n",
              "      <td>0.146901</td>\n",
              "      <td>1.700563</td>\n",
              "      <td>Control</td>\n",
              "      <td>Memantine</td>\n",
              "      <td>C/S</td>\n",
              "      <td>c-CS-m</td>\n",
              "      <td>0</td>\n",
              "      <td>-0.029976</td>\n",
              "    </tr>\n",
              "    <tr>\n",
              "      <th>4</th>\n",
              "      <td>309_5</td>\n",
              "      <td>0.434940</td>\n",
              "      <td>0.617430</td>\n",
              "      <td>0.358802</td>\n",
              "      <td>2.365785</td>\n",
              "      <td>4.718678</td>\n",
              "      <td>0.213106</td>\n",
              "      <td>0.173627</td>\n",
              "      <td>2.134014</td>\n",
              "      <td>0.192158</td>\n",
              "      <td>...</td>\n",
              "      <td>0.118481</td>\n",
              "      <td>0.140314</td>\n",
              "      <td>0.148380</td>\n",
              "      <td>1.839730</td>\n",
              "      <td>Control</td>\n",
              "      <td>Memantine</td>\n",
              "      <td>C/S</td>\n",
              "      <td>c-CS-m</td>\n",
              "      <td>0</td>\n",
              "      <td>-0.031542</td>\n",
              "    </tr>\n",
              "    <tr>\n",
              "      <th>...</th>\n",
              "      <td>...</td>\n",
              "      <td>...</td>\n",
              "      <td>...</td>\n",
              "      <td>...</td>\n",
              "      <td>...</td>\n",
              "      <td>...</td>\n",
              "      <td>...</td>\n",
              "      <td>...</td>\n",
              "      <td>...</td>\n",
              "      <td>...</td>\n",
              "      <td>...</td>\n",
              "      <td>...</td>\n",
              "      <td>...</td>\n",
              "      <td>...</td>\n",
              "      <td>...</td>\n",
              "      <td>...</td>\n",
              "      <td>...</td>\n",
              "      <td>...</td>\n",
              "      <td>...</td>\n",
              "      <td>...</td>\n",
              "      <td>...</td>\n",
              "    </tr>\n",
              "    <tr>\n",
              "      <th>1075</th>\n",
              "      <td>J3295_11</td>\n",
              "      <td>0.254860</td>\n",
              "      <td>0.463591</td>\n",
              "      <td>0.254860</td>\n",
              "      <td>2.092082</td>\n",
              "      <td>2.600035</td>\n",
              "      <td>0.211736</td>\n",
              "      <td>0.171262</td>\n",
              "      <td>2.483740</td>\n",
              "      <td>0.207317</td>\n",
              "      <td>...</td>\n",
              "      <td>0.318782</td>\n",
              "      <td>0.204660</td>\n",
              "      <td>0.328327</td>\n",
              "      <td>1.364823</td>\n",
              "      <td>Ts65Dn</td>\n",
              "      <td>Saline</td>\n",
              "      <td>S/C</td>\n",
              "      <td>t-SC-s</td>\n",
              "      <td>0</td>\n",
              "      <td>-0.014019</td>\n",
              "    </tr>\n",
              "    <tr>\n",
              "      <th>1076</th>\n",
              "      <td>J3295_12</td>\n",
              "      <td>0.272198</td>\n",
              "      <td>0.474163</td>\n",
              "      <td>0.251638</td>\n",
              "      <td>2.161390</td>\n",
              "      <td>2.801492</td>\n",
              "      <td>0.251274</td>\n",
              "      <td>0.182496</td>\n",
              "      <td>2.512737</td>\n",
              "      <td>0.216339</td>\n",
              "      <td>...</td>\n",
              "      <td>0.325639</td>\n",
              "      <td>0.200415</td>\n",
              "      <td>0.293435</td>\n",
              "      <td>1.364478</td>\n",
              "      <td>Ts65Dn</td>\n",
              "      <td>Saline</td>\n",
              "      <td>S/C</td>\n",
              "      <td>t-SC-s</td>\n",
              "      <td>0</td>\n",
              "      <td>-0.013914</td>\n",
              "    </tr>\n",
              "    <tr>\n",
              "      <th>1077</th>\n",
              "      <td>J3295_13</td>\n",
              "      <td>0.228700</td>\n",
              "      <td>0.395179</td>\n",
              "      <td>0.234118</td>\n",
              "      <td>1.733184</td>\n",
              "      <td>2.220852</td>\n",
              "      <td>0.220665</td>\n",
              "      <td>0.161435</td>\n",
              "      <td>1.989723</td>\n",
              "      <td>0.185164</td>\n",
              "      <td>...</td>\n",
              "      <td>0.321306</td>\n",
              "      <td>0.229193</td>\n",
              "      <td>0.355213</td>\n",
              "      <td>1.430825</td>\n",
              "      <td>Ts65Dn</td>\n",
              "      <td>Saline</td>\n",
              "      <td>S/C</td>\n",
              "      <td>t-SC-s</td>\n",
              "      <td>1</td>\n",
              "      <td>0.012883</td>\n",
              "    </tr>\n",
              "    <tr>\n",
              "      <th>1078</th>\n",
              "      <td>J3295_14</td>\n",
              "      <td>0.221242</td>\n",
              "      <td>0.412894</td>\n",
              "      <td>0.243974</td>\n",
              "      <td>1.876347</td>\n",
              "      <td>2.384088</td>\n",
              "      <td>0.208897</td>\n",
              "      <td>0.173623</td>\n",
              "      <td>2.086028</td>\n",
              "      <td>0.192044</td>\n",
              "      <td>...</td>\n",
              "      <td>0.335936</td>\n",
              "      <td>0.251317</td>\n",
              "      <td>0.365353</td>\n",
              "      <td>1.404031</td>\n",
              "      <td>Ts65Dn</td>\n",
              "      <td>Saline</td>\n",
              "      <td>S/C</td>\n",
              "      <td>t-SC-s</td>\n",
              "      <td>1</td>\n",
              "      <td>0.000956</td>\n",
              "    </tr>\n",
              "    <tr>\n",
              "      <th>1079</th>\n",
              "      <td>J3295_15</td>\n",
              "      <td>0.302626</td>\n",
              "      <td>0.461059</td>\n",
              "      <td>0.256564</td>\n",
              "      <td>2.092790</td>\n",
              "      <td>2.594348</td>\n",
              "      <td>0.251001</td>\n",
              "      <td>0.191811</td>\n",
              "      <td>2.361816</td>\n",
              "      <td>0.223632</td>\n",
              "      <td>...</td>\n",
              "      <td>0.335062</td>\n",
              "      <td>0.252995</td>\n",
              "      <td>0.365278</td>\n",
              "      <td>1.370999</td>\n",
              "      <td>Ts65Dn</td>\n",
              "      <td>Saline</td>\n",
              "      <td>S/C</td>\n",
              "      <td>t-SC-s</td>\n",
              "      <td>0</td>\n",
              "      <td>-0.012729</td>\n",
              "    </tr>\n",
              "  </tbody>\n",
              "</table>\n",
              "<p>1080 rows × 84 columns</p>\n",
              "</div>"
            ],
            "text/plain": [
              "       MouseID  DYRK1A_N   ITSN1_N    BDNF_N     NR1_N    NR2A_N    pAKT_N  \\\n",
              "0        309_1  0.503644  0.747193  0.430175  2.816329  5.990152  0.218830   \n",
              "1        309_2  0.514617  0.689064  0.411770  2.789514  5.685038  0.211636   \n",
              "2        309_3  0.509183  0.730247  0.418309  2.687201  5.622058  0.209011   \n",
              "3        309_4  0.442107  0.617076  0.358626  2.466947  4.979503  0.222886   \n",
              "4        309_5  0.434940  0.617430  0.358802  2.365785  4.718678  0.213106   \n",
              "...        ...       ...       ...       ...       ...       ...       ...   \n",
              "1075  J3295_11  0.254860  0.463591  0.254860  2.092082  2.600035  0.211736   \n",
              "1076  J3295_12  0.272198  0.474163  0.251638  2.161390  2.801492  0.251274   \n",
              "1077  J3295_13  0.228700  0.395179  0.234118  1.733184  2.220852  0.220665   \n",
              "1078  J3295_14  0.221242  0.412894  0.243974  1.876347  2.384088  0.208897   \n",
              "1079  J3295_15  0.302626  0.461059  0.256564  2.092790  2.594348  0.251001   \n",
              "\n",
              "       pBRAF_N  pCAMKII_N   pCREB_N  ...  H3AcK18_N    EGR1_N  H3MeK4_N  \\\n",
              "0     0.177565   2.373744  0.232224  ...   0.114783  0.131790  0.128186   \n",
              "1     0.172817   2.292150  0.226972  ...   0.111974  0.135103  0.131119   \n",
              "2     0.175722   2.283337  0.230247  ...   0.111883  0.133362  0.127431   \n",
              "3     0.176463   2.152301  0.207004  ...   0.130405  0.147444  0.146901   \n",
              "4     0.173627   2.134014  0.192158  ...   0.118481  0.140314  0.148380   \n",
              "...        ...        ...       ...  ...        ...       ...       ...   \n",
              "1075  0.171262   2.483740  0.207317  ...   0.318782  0.204660  0.328327   \n",
              "1076  0.182496   2.512737  0.216339  ...   0.325639  0.200415  0.293435   \n",
              "1077  0.161435   1.989723  0.185164  ...   0.321306  0.229193  0.355213   \n",
              "1078  0.173623   2.086028  0.192044  ...   0.335936  0.251317  0.365353   \n",
              "1079  0.191811   2.361816  0.223632  ...   0.335062  0.252995  0.365278   \n",
              "\n",
              "        CaNA_N  Genotype  Treatment  Behavior   class  Anomaly  Anomaly_Score  \n",
              "0     1.675652   Control  Memantine       C/S  c-CS-m        0      -0.015795  \n",
              "1     1.743610   Control  Memantine       C/S  c-CS-m        0      -0.016963  \n",
              "2     1.926427   Control  Memantine       C/S  c-CS-m        0      -0.016017  \n",
              "3     1.700563   Control  Memantine       C/S  c-CS-m        0      -0.029976  \n",
              "4     1.839730   Control  Memantine       C/S  c-CS-m        0      -0.031542  \n",
              "...        ...       ...        ...       ...     ...      ...            ...  \n",
              "1075  1.364823    Ts65Dn     Saline       S/C  t-SC-s        0      -0.014019  \n",
              "1076  1.364478    Ts65Dn     Saline       S/C  t-SC-s        0      -0.013914  \n",
              "1077  1.430825    Ts65Dn     Saline       S/C  t-SC-s        1       0.012883  \n",
              "1078  1.404031    Ts65Dn     Saline       S/C  t-SC-s        1       0.000956  \n",
              "1079  1.370999    Ts65Dn     Saline       S/C  t-SC-s        0      -0.012729  \n",
              "\n",
              "[1080 rows x 84 columns]"
            ]
          },
          "execution_count": 49,
          "metadata": {},
          "output_type": "execute_result"
        }
      ],
      "source": [
        "iforest_anomalies = assign_model(iforest)\n",
        "iforest_anomalies"
      ]
    },
    {
      "cell_type": "code",
      "execution_count": 50,
      "id": "0ec7fad6",
      "metadata": {
        "id": "0ec7fad6",
        "outputId": "cf159378-7097-47a6-d01a-155b6ec22cd4"
      },
      "outputs": [
        {
          "data": {
            "text/html": [],
            "text/plain": [
              "<IPython.core.display.HTML object>"
            ]
          },
          "metadata": {},
          "output_type": "display_data"
        },
        {
          "data": {
            "application/vnd.plotly.v1+json": {
              "config": {
                "plotlyServerURL": "https://plot.ly"
              },
              "data": [
                {
                  "customdata": [
                    [
                      "309_1"
                    ],
                    [
                      "309_2"
                    ],
                    [
                      "309_3"
                    ],
                    [
                      "309_4"
                    ],
                    [
                      "309_5"
                    ],
                    [
                      "309_6"
                    ],
                    [
                      "309_7"
                    ],
                    [
                      "309_8"
                    ],
                    [
                      "309_9"
                    ],
                    [
                      "309_10"
                    ],
                    [
                      "309_11"
                    ],
                    [
                      "309_12"
                    ],
                    [
                      "309_13"
                    ],
                    [
                      "309_14"
                    ],
                    [
                      "309_15"
                    ],
                    [
                      "311_1"
                    ],
                    [
                      "311_2"
                    ],
                    [
                      "311_3"
                    ],
                    [
                      "311_4"
                    ],
                    [
                      "311_5"
                    ],
                    [
                      "311_6"
                    ],
                    [
                      "311_7"
                    ],
                    [
                      "311_8"
                    ],
                    [
                      "311_9"
                    ],
                    [
                      "311_10"
                    ],
                    [
                      "311_11"
                    ],
                    [
                      "311_12"
                    ],
                    [
                      "311_13"
                    ],
                    [
                      "311_14"
                    ],
                    [
                      "311_15"
                    ],
                    [
                      "320_1"
                    ],
                    [
                      "320_2"
                    ],
                    [
                      "320_3"
                    ],
                    [
                      "320_4"
                    ],
                    [
                      "320_5"
                    ],
                    [
                      "320_6"
                    ],
                    [
                      "320_7"
                    ],
                    [
                      "320_8"
                    ],
                    [
                      "320_9"
                    ],
                    [
                      "320_10"
                    ],
                    [
                      "320_11"
                    ],
                    [
                      "320_12"
                    ],
                    [
                      "320_13"
                    ],
                    [
                      "320_14"
                    ],
                    [
                      "320_15"
                    ],
                    [
                      "321_1"
                    ],
                    [
                      "321_2"
                    ],
                    [
                      "321_3"
                    ],
                    [
                      "321_4"
                    ],
                    [
                      "321_5"
                    ],
                    [
                      "321_6"
                    ],
                    [
                      "321_7"
                    ],
                    [
                      "321_8"
                    ],
                    [
                      "321_9"
                    ],
                    [
                      "321_10"
                    ],
                    [
                      "321_11"
                    ],
                    [
                      "321_12"
                    ],
                    [
                      "321_13"
                    ],
                    [
                      "321_14"
                    ],
                    [
                      "321_15"
                    ],
                    [
                      "322_1"
                    ],
                    [
                      "322_2"
                    ],
                    [
                      "322_3"
                    ],
                    [
                      "322_4"
                    ],
                    [
                      "322_5"
                    ],
                    [
                      "322_6"
                    ],
                    [
                      "322_7"
                    ],
                    [
                      "322_8"
                    ],
                    [
                      "322_9"
                    ],
                    [
                      "322_10"
                    ],
                    [
                      "322_11"
                    ],
                    [
                      "322_12"
                    ],
                    [
                      "322_13"
                    ],
                    [
                      "322_14"
                    ],
                    [
                      "322_15"
                    ],
                    [
                      "3415_1"
                    ],
                    [
                      "3415_2"
                    ],
                    [
                      "3415_3"
                    ],
                    [
                      "3415_4"
                    ],
                    [
                      "3415_5"
                    ],
                    [
                      "3415_6"
                    ],
                    [
                      "3415_7"
                    ],
                    [
                      "3415_8"
                    ],
                    [
                      "3415_9"
                    ],
                    [
                      "3415_10"
                    ],
                    [
                      "3415_11"
                    ],
                    [
                      "3415_12"
                    ],
                    [
                      "3415_13"
                    ],
                    [
                      "3415_14"
                    ],
                    [
                      "3415_15"
                    ],
                    [
                      "3499_1"
                    ],
                    [
                      "3499_2"
                    ],
                    [
                      "3499_3"
                    ],
                    [
                      "3499_4"
                    ],
                    [
                      "3499_5"
                    ],
                    [
                      "3499_6"
                    ],
                    [
                      "3499_7"
                    ],
                    [
                      "3499_8"
                    ],
                    [
                      "3499_9"
                    ],
                    [
                      "3499_10"
                    ],
                    [
                      "3499_11"
                    ],
                    [
                      "3499_12"
                    ],
                    [
                      "3499_13"
                    ],
                    [
                      "3499_14"
                    ],
                    [
                      "3499_15"
                    ],
                    [
                      "3507_1"
                    ],
                    [
                      "3507_2"
                    ],
                    [
                      "3507_3"
                    ],
                    [
                      "3507_4"
                    ],
                    [
                      "3507_5"
                    ],
                    [
                      "3507_6"
                    ],
                    [
                      "3507_7"
                    ],
                    [
                      "3507_8"
                    ],
                    [
                      "3507_9"
                    ],
                    [
                      "3507_10"
                    ],
                    [
                      "3507_11"
                    ],
                    [
                      "3507_12"
                    ],
                    [
                      "3507_13"
                    ],
                    [
                      "3507_14"
                    ],
                    [
                      "3507_15"
                    ],
                    [
                      "3520_1"
                    ],
                    [
                      "3520_2"
                    ],
                    [
                      "3520_3"
                    ],
                    [
                      "3520_4"
                    ],
                    [
                      "3520_5"
                    ],
                    [
                      "3520_6"
                    ],
                    [
                      "3520_7"
                    ],
                    [
                      "3520_8"
                    ],
                    [
                      "3520_9"
                    ],
                    [
                      "3520_10"
                    ],
                    [
                      "3520_11"
                    ],
                    [
                      "3520_12"
                    ],
                    [
                      "3520_13"
                    ],
                    [
                      "3520_14"
                    ],
                    [
                      "3520_15"
                    ],
                    [
                      "3521_1"
                    ],
                    [
                      "3521_2"
                    ],
                    [
                      "3521_3"
                    ],
                    [
                      "3521_4"
                    ],
                    [
                      "3521_5"
                    ],
                    [
                      "3521_6"
                    ],
                    [
                      "3521_7"
                    ],
                    [
                      "3521_8"
                    ],
                    [
                      "3521_9"
                    ],
                    [
                      "3521_10"
                    ],
                    [
                      "3521_11"
                    ],
                    [
                      "3521_12"
                    ],
                    [
                      "3521_13"
                    ],
                    [
                      "3521_14"
                    ],
                    [
                      "3521_15"
                    ],
                    [
                      "294_1"
                    ],
                    [
                      "294_2"
                    ],
                    [
                      "294_3"
                    ],
                    [
                      "294_4"
                    ],
                    [
                      "294_5"
                    ],
                    [
                      "294_6"
                    ],
                    [
                      "294_7"
                    ],
                    [
                      "294_8"
                    ],
                    [
                      "294_9"
                    ],
                    [
                      "294_10"
                    ],
                    [
                      "294_11"
                    ],
                    [
                      "294_12"
                    ],
                    [
                      "294_13"
                    ],
                    [
                      "294_14"
                    ],
                    [
                      "294_15"
                    ],
                    [
                      "3412_1"
                    ],
                    [
                      "3412_2"
                    ],
                    [
                      "3412_3"
                    ],
                    [
                      "3412_4"
                    ],
                    [
                      "3412_5"
                    ],
                    [
                      "3412_6"
                    ],
                    [
                      "3412_7"
                    ],
                    [
                      "3412_8"
                    ],
                    [
                      "3412_9"
                    ],
                    [
                      "3412_10"
                    ],
                    [
                      "3412_11"
                    ],
                    [
                      "3412_12"
                    ],
                    [
                      "3412_13"
                    ],
                    [
                      "3412_14"
                    ],
                    [
                      "3412_15"
                    ],
                    [
                      "3413_1"
                    ],
                    [
                      "3413_2"
                    ],
                    [
                      "3413_3"
                    ],
                    [
                      "3413_4"
                    ],
                    [
                      "3413_5"
                    ],
                    [
                      "3413_6"
                    ],
                    [
                      "3413_7"
                    ],
                    [
                      "3413_8"
                    ],
                    [
                      "3413_9"
                    ],
                    [
                      "3413_10"
                    ],
                    [
                      "3413_11"
                    ],
                    [
                      "3413_12"
                    ],
                    [
                      "3413_13"
                    ],
                    [
                      "3413_14"
                    ],
                    [
                      "3413_15"
                    ],
                    [
                      "3419_1"
                    ],
                    [
                      "3419_2"
                    ],
                    [
                      "3419_3"
                    ],
                    [
                      "3419_4"
                    ],
                    [
                      "3419_5"
                    ],
                    [
                      "3419_6"
                    ],
                    [
                      "3419_7"
                    ],
                    [
                      "3419_8"
                    ],
                    [
                      "3419_9"
                    ],
                    [
                      "3419_10"
                    ],
                    [
                      "3419_11"
                    ],
                    [
                      "3419_12"
                    ],
                    [
                      "3419_13"
                    ],
                    [
                      "3419_14"
                    ],
                    [
                      "3419_15"
                    ],
                    [
                      "3420_1"
                    ],
                    [
                      "3420_2"
                    ],
                    [
                      "3420_3"
                    ],
                    [
                      "3420_4"
                    ],
                    [
                      "3420_5"
                    ],
                    [
                      "3420_6"
                    ],
                    [
                      "3420_7"
                    ],
                    [
                      "3420_8"
                    ],
                    [
                      "3420_9"
                    ],
                    [
                      "3420_10"
                    ],
                    [
                      "3420_11"
                    ],
                    [
                      "3420_12"
                    ],
                    [
                      "3420_13"
                    ],
                    [
                      "3420_14"
                    ],
                    [
                      "3420_15"
                    ],
                    [
                      "3500_1"
                    ],
                    [
                      "3500_2"
                    ],
                    [
                      "3500_3"
                    ],
                    [
                      "3500_4"
                    ],
                    [
                      "3500_5"
                    ],
                    [
                      "3500_6"
                    ],
                    [
                      "3500_7"
                    ],
                    [
                      "3500_8"
                    ],
                    [
                      "3500_9"
                    ],
                    [
                      "3500_10"
                    ],
                    [
                      "3500_11"
                    ],
                    [
                      "3500_12"
                    ],
                    [
                      "3500_13"
                    ],
                    [
                      "3500_14"
                    ],
                    [
                      "3500_15"
                    ],
                    [
                      "3503_1"
                    ],
                    [
                      "3503_2"
                    ],
                    [
                      "3503_3"
                    ],
                    [
                      "3503_4"
                    ],
                    [
                      "3503_5"
                    ],
                    [
                      "3503_6"
                    ],
                    [
                      "3503_7"
                    ],
                    [
                      "3503_8"
                    ],
                    [
                      "3503_9"
                    ],
                    [
                      "3503_10"
                    ],
                    [
                      "3503_11"
                    ],
                    [
                      "3503_12"
                    ],
                    [
                      "3503_13"
                    ],
                    [
                      "3503_14"
                    ],
                    [
                      "3503_15"
                    ],
                    [
                      "362_1"
                    ],
                    [
                      "362_2"
                    ],
                    [
                      "362_3"
                    ],
                    [
                      "362_4"
                    ],
                    [
                      "362_5"
                    ],
                    [
                      "362_6"
                    ],
                    [
                      "362_7"
                    ],
                    [
                      "362_8"
                    ],
                    [
                      "362_9"
                    ],
                    [
                      "362_10"
                    ],
                    [
                      "362_11"
                    ],
                    [
                      "362_12"
                    ],
                    [
                      "362_13"
                    ],
                    [
                      "362_14"
                    ],
                    [
                      "362_15"
                    ],
                    [
                      "364_1"
                    ],
                    [
                      "364_2"
                    ],
                    [
                      "364_3"
                    ],
                    [
                      "364_4"
                    ],
                    [
                      "364_5"
                    ],
                    [
                      "364_6"
                    ],
                    [
                      "364_7"
                    ],
                    [
                      "364_8"
                    ],
                    [
                      "364_9"
                    ],
                    [
                      "364_10"
                    ],
                    [
                      "364_11"
                    ],
                    [
                      "364_12"
                    ],
                    [
                      "364_13"
                    ],
                    [
                      "364_14"
                    ],
                    [
                      "364_15"
                    ],
                    [
                      "365_1"
                    ],
                    [
                      "365_2"
                    ],
                    [
                      "365_3"
                    ],
                    [
                      "365_4"
                    ],
                    [
                      "365_5"
                    ],
                    [
                      "365_6"
                    ],
                    [
                      "365_7"
                    ],
                    [
                      "365_8"
                    ],
                    [
                      "365_9"
                    ],
                    [
                      "365_10"
                    ],
                    [
                      "365_11"
                    ],
                    [
                      "365_12"
                    ],
                    [
                      "365_13"
                    ],
                    [
                      "365_14"
                    ],
                    [
                      "365_15"
                    ],
                    [
                      "3477_1"
                    ],
                    [
                      "3477_2"
                    ],
                    [
                      "3477_3"
                    ],
                    [
                      "3477_4"
                    ],
                    [
                      "3477_5"
                    ],
                    [
                      "3477_6"
                    ],
                    [
                      "3477_7"
                    ],
                    [
                      "3477_8"
                    ],
                    [
                      "3477_9"
                    ],
                    [
                      "3477_10"
                    ],
                    [
                      "3477_11"
                    ],
                    [
                      "3477_12"
                    ],
                    [
                      "3477_13"
                    ],
                    [
                      "3477_14"
                    ],
                    [
                      "3477_15"
                    ],
                    [
                      "3478_1"
                    ],
                    [
                      "3478_2"
                    ],
                    [
                      "3478_3"
                    ],
                    [
                      "3478_4"
                    ],
                    [
                      "3478_5"
                    ],
                    [
                      "3478_6"
                    ],
                    [
                      "3478_7"
                    ],
                    [
                      "3478_8"
                    ],
                    [
                      "3478_9"
                    ],
                    [
                      "3478_10"
                    ],
                    [
                      "3478_11"
                    ],
                    [
                      "3478_12"
                    ],
                    [
                      "3478_13"
                    ],
                    [
                      "3478_14"
                    ],
                    [
                      "3478_15"
                    ],
                    [
                      "3479_1"
                    ],
                    [
                      "3479_2"
                    ],
                    [
                      "3479_3"
                    ],
                    [
                      "3479_4"
                    ],
                    [
                      "3479_5"
                    ],
                    [
                      "3479_6"
                    ],
                    [
                      "3479_7"
                    ],
                    [
                      "3479_8"
                    ],
                    [
                      "3479_9"
                    ],
                    [
                      "3479_10"
                    ],
                    [
                      "3479_11"
                    ],
                    [
                      "3479_12"
                    ],
                    [
                      "3479_13"
                    ],
                    [
                      "3479_14"
                    ],
                    [
                      "3479_15"
                    ],
                    [
                      "3480_1"
                    ],
                    [
                      "3480_2"
                    ],
                    [
                      "3480_3"
                    ],
                    [
                      "3480_4"
                    ],
                    [
                      "3480_5"
                    ],
                    [
                      "3480_6"
                    ],
                    [
                      "3480_7"
                    ],
                    [
                      "3480_8"
                    ],
                    [
                      "3480_9"
                    ],
                    [
                      "3480_10"
                    ],
                    [
                      "3480_11"
                    ],
                    [
                      "3480_12"
                    ],
                    [
                      "3480_13"
                    ],
                    [
                      "3480_14"
                    ],
                    [
                      "3480_15"
                    ],
                    [
                      "3484_1"
                    ],
                    [
                      "3484_2"
                    ],
                    [
                      "3484_3"
                    ],
                    [
                      "3484_4"
                    ],
                    [
                      "3484_5"
                    ],
                    [
                      "3484_6"
                    ],
                    [
                      "3484_7"
                    ],
                    [
                      "3484_8"
                    ],
                    [
                      "3484_9"
                    ],
                    [
                      "3484_10"
                    ],
                    [
                      "3484_11"
                    ],
                    [
                      "3484_12"
                    ],
                    [
                      "3484_13"
                    ],
                    [
                      "3484_14"
                    ],
                    [
                      "3484_15"
                    ],
                    [
                      "3497_1"
                    ],
                    [
                      "3497_2"
                    ],
                    [
                      "3497_3"
                    ],
                    [
                      "3497_4"
                    ],
                    [
                      "3497_5"
                    ],
                    [
                      "3497_6"
                    ],
                    [
                      "3497_7"
                    ],
                    [
                      "3497_8"
                    ],
                    [
                      "3497_9"
                    ],
                    [
                      "3497_10"
                    ],
                    [
                      "3497_11"
                    ],
                    [
                      "3497_12"
                    ],
                    [
                      "3497_13"
                    ],
                    [
                      "3497_14"
                    ],
                    [
                      "3497_15"
                    ],
                    [
                      "50810A_1"
                    ],
                    [
                      "50810A_2"
                    ],
                    [
                      "50810A_3"
                    ],
                    [
                      "50810A_4"
                    ],
                    [
                      "50810A_5"
                    ],
                    [
                      "50810A_6"
                    ],
                    [
                      "50810A_7"
                    ],
                    [
                      "50810A_8"
                    ],
                    [
                      "50810A_9"
                    ],
                    [
                      "50810A_10"
                    ],
                    [
                      "50810A_11"
                    ],
                    [
                      "50810A_12"
                    ],
                    [
                      "50810A_13"
                    ],
                    [
                      "50810A_14"
                    ],
                    [
                      "50810A_15"
                    ],
                    [
                      "50810D_1"
                    ],
                    [
                      "50810D_2"
                    ],
                    [
                      "50810D_3"
                    ],
                    [
                      "50810D_4"
                    ],
                    [
                      "50810D_5"
                    ],
                    [
                      "50810D_6"
                    ],
                    [
                      "50810D_7"
                    ],
                    [
                      "50810D_8"
                    ],
                    [
                      "50810D_9"
                    ],
                    [
                      "50810D_10"
                    ],
                    [
                      "50810D_11"
                    ],
                    [
                      "50810D_12"
                    ],
                    [
                      "50810D_13"
                    ],
                    [
                      "50810D_14"
                    ],
                    [
                      "50810D_15"
                    ],
                    [
                      "50810F_1"
                    ],
                    [
                      "50810F_2"
                    ],
                    [
                      "50810F_3"
                    ],
                    [
                      "50810F_4"
                    ],
                    [
                      "50810F_5"
                    ],
                    [
                      "50810F_6"
                    ],
                    [
                      "50810F_7"
                    ],
                    [
                      "50810F_8"
                    ],
                    [
                      "50810F_9"
                    ],
                    [
                      "50810F_10"
                    ],
                    [
                      "50810F_11"
                    ],
                    [
                      "50810F_12"
                    ],
                    [
                      "50810F_13"
                    ],
                    [
                      "50810F_14"
                    ],
                    [
                      "50810F_15"
                    ],
                    [
                      "3422_1"
                    ],
                    [
                      "3422_2"
                    ],
                    [
                      "3422_3"
                    ],
                    [
                      "3422_4"
                    ],
                    [
                      "3422_5"
                    ],
                    [
                      "3422_6"
                    ],
                    [
                      "3422_7"
                    ],
                    [
                      "3422_8"
                    ],
                    [
                      "3422_9"
                    ],
                    [
                      "3422_10"
                    ],
                    [
                      "3422_11"
                    ],
                    [
                      "3422_12"
                    ],
                    [
                      "3422_13"
                    ],
                    [
                      "3422_14"
                    ],
                    [
                      "3422_15"
                    ],
                    [
                      "3423_1"
                    ],
                    [
                      "3423_2"
                    ],
                    [
                      "3423_3"
                    ],
                    [
                      "3423_4"
                    ],
                    [
                      "3423_5"
                    ],
                    [
                      "3423_6"
                    ],
                    [
                      "3423_7"
                    ],
                    [
                      "3423_8"
                    ],
                    [
                      "3423_9"
                    ],
                    [
                      "3423_10"
                    ],
                    [
                      "3423_11"
                    ],
                    [
                      "3423_12"
                    ],
                    [
                      "3423_13"
                    ],
                    [
                      "3423_14"
                    ],
                    [
                      "3423_15"
                    ],
                    [
                      "3424_1"
                    ],
                    [
                      "3424_2"
                    ],
                    [
                      "3424_3"
                    ],
                    [
                      "3424_4"
                    ],
                    [
                      "3424_5"
                    ],
                    [
                      "3424_6"
                    ],
                    [
                      "3424_7"
                    ],
                    [
                      "3424_8"
                    ],
                    [
                      "3424_9"
                    ],
                    [
                      "3424_10"
                    ],
                    [
                      "3424_11"
                    ],
                    [
                      "3424_12"
                    ],
                    [
                      "3424_13"
                    ],
                    [
                      "3424_14"
                    ],
                    [
                      "3424_15"
                    ],
                    [
                      "3481_1"
                    ],
                    [
                      "3481_2"
                    ],
                    [
                      "3481_3"
                    ],
                    [
                      "3481_4"
                    ],
                    [
                      "3481_5"
                    ],
                    [
                      "3481_6"
                    ],
                    [
                      "3481_7"
                    ],
                    [
                      "3481_8"
                    ],
                    [
                      "3481_9"
                    ],
                    [
                      "3481_10"
                    ],
                    [
                      "3481_11"
                    ],
                    [
                      "3481_12"
                    ],
                    [
                      "3481_13"
                    ],
                    [
                      "3481_14"
                    ],
                    [
                      "3481_15"
                    ],
                    [
                      "3488_1"
                    ],
                    [
                      "3488_2"
                    ],
                    [
                      "3488_3"
                    ],
                    [
                      "3488_4"
                    ],
                    [
                      "3488_5"
                    ],
                    [
                      "3488_6"
                    ],
                    [
                      "3488_7"
                    ],
                    [
                      "3488_8"
                    ],
                    [
                      "3488_9"
                    ],
                    [
                      "3488_10"
                    ],
                    [
                      "3488_11"
                    ],
                    [
                      "3488_12"
                    ],
                    [
                      "3488_13"
                    ],
                    [
                      "3488_14"
                    ],
                    [
                      "3488_15"
                    ],
                    [
                      "3489_1"
                    ],
                    [
                      "3489_2"
                    ],
                    [
                      "3489_3"
                    ],
                    [
                      "3489_4"
                    ],
                    [
                      "3489_5"
                    ],
                    [
                      "3489_6"
                    ],
                    [
                      "3489_7"
                    ],
                    [
                      "3489_8"
                    ],
                    [
                      "3489_9"
                    ],
                    [
                      "3489_10"
                    ],
                    [
                      "3489_11"
                    ],
                    [
                      "3489_12"
                    ],
                    [
                      "3489_13"
                    ],
                    [
                      "3489_14"
                    ],
                    [
                      "3489_15"
                    ],
                    [
                      "3490_1"
                    ],
                    [
                      "3490_2"
                    ],
                    [
                      "3490_3"
                    ],
                    [
                      "3490_4"
                    ],
                    [
                      "3490_5"
                    ],
                    [
                      "3490_6"
                    ],
                    [
                      "3490_7"
                    ],
                    [
                      "3490_8"
                    ],
                    [
                      "3490_9"
                    ],
                    [
                      "3490_10"
                    ],
                    [
                      "3490_11"
                    ],
                    [
                      "3490_12"
                    ],
                    [
                      "3490_13"
                    ],
                    [
                      "3490_14"
                    ],
                    [
                      "3490_15"
                    ],
                    [
                      "3516_1"
                    ],
                    [
                      "3516_2"
                    ],
                    [
                      "3516_3"
                    ],
                    [
                      "3516_4"
                    ],
                    [
                      "3516_5"
                    ],
                    [
                      "3516_6"
                    ],
                    [
                      "3516_7"
                    ],
                    [
                      "3516_8"
                    ],
                    [
                      "3516_9"
                    ],
                    [
                      "3516_10"
                    ],
                    [
                      "3516_11"
                    ],
                    [
                      "3516_12"
                    ],
                    [
                      "3516_13"
                    ],
                    [
                      "3516_14"
                    ],
                    [
                      "3516_15"
                    ],
                    [
                      "J2292_1"
                    ],
                    [
                      "J2292_2"
                    ],
                    [
                      "J2292_3"
                    ],
                    [
                      "J2292_4"
                    ],
                    [
                      "J2292_5"
                    ],
                    [
                      "J2292_6"
                    ],
                    [
                      "J2292_7"
                    ],
                    [
                      "J2292_8"
                    ],
                    [
                      "J2292_9"
                    ],
                    [
                      "J2292_10"
                    ],
                    [
                      "J2292_11"
                    ],
                    [
                      "J2292_12"
                    ],
                    [
                      "J2292_13"
                    ],
                    [
                      "J2292_14"
                    ],
                    [
                      "J2292_15"
                    ],
                    [
                      "3414_1"
                    ],
                    [
                      "3414_2"
                    ],
                    [
                      "3414_3"
                    ],
                    [
                      "3414_4"
                    ],
                    [
                      "3414_5"
                    ],
                    [
                      "3414_6"
                    ],
                    [
                      "3414_7"
                    ],
                    [
                      "3414_8"
                    ],
                    [
                      "3414_9"
                    ],
                    [
                      "3414_10"
                    ],
                    [
                      "3414_11"
                    ],
                    [
                      "3414_12"
                    ],
                    [
                      "3414_13"
                    ],
                    [
                      "3414_14"
                    ],
                    [
                      "3414_15"
                    ],
                    [
                      "3416_1"
                    ],
                    [
                      "3416_2"
                    ],
                    [
                      "3416_3"
                    ],
                    [
                      "3416_4"
                    ],
                    [
                      "3416_5"
                    ],
                    [
                      "3416_6"
                    ],
                    [
                      "3416_7"
                    ],
                    [
                      "3416_8"
                    ],
                    [
                      "3416_9"
                    ],
                    [
                      "3416_10"
                    ],
                    [
                      "3416_11"
                    ],
                    [
                      "3416_12"
                    ],
                    [
                      "3416_13"
                    ],
                    [
                      "3416_14"
                    ],
                    [
                      "3416_15"
                    ],
                    [
                      "3417_1"
                    ],
                    [
                      "3417_2"
                    ],
                    [
                      "3417_3"
                    ],
                    [
                      "3417_4"
                    ],
                    [
                      "3417_5"
                    ],
                    [
                      "3417_6"
                    ],
                    [
                      "3417_7"
                    ],
                    [
                      "3417_8"
                    ],
                    [
                      "3417_9"
                    ],
                    [
                      "3417_10"
                    ],
                    [
                      "3417_11"
                    ],
                    [
                      "3417_12"
                    ],
                    [
                      "3417_13"
                    ],
                    [
                      "3417_14"
                    ],
                    [
                      "3417_15"
                    ],
                    [
                      "3429_1"
                    ],
                    [
                      "3429_2"
                    ],
                    [
                      "3429_3"
                    ],
                    [
                      "3429_4"
                    ],
                    [
                      "3429_5"
                    ],
                    [
                      "3429_6"
                    ],
                    [
                      "3429_7"
                    ],
                    [
                      "3429_8"
                    ],
                    [
                      "3429_9"
                    ],
                    [
                      "3429_10"
                    ],
                    [
                      "3429_11"
                    ],
                    [
                      "3429_12"
                    ],
                    [
                      "3429_13"
                    ],
                    [
                      "3429_14"
                    ],
                    [
                      "3429_15"
                    ],
                    [
                      "3504_1"
                    ],
                    [
                      "3504_2"
                    ],
                    [
                      "3504_3"
                    ],
                    [
                      "3504_4"
                    ],
                    [
                      "3504_5"
                    ],
                    [
                      "3504_6"
                    ],
                    [
                      "3504_7"
                    ],
                    [
                      "3504_8"
                    ],
                    [
                      "3504_9"
                    ],
                    [
                      "3504_10"
                    ],
                    [
                      "3504_11"
                    ],
                    [
                      "3504_12"
                    ],
                    [
                      "3504_13"
                    ],
                    [
                      "3504_14"
                    ],
                    [
                      "3504_15"
                    ],
                    [
                      "3505_1"
                    ],
                    [
                      "3505_2"
                    ],
                    [
                      "3505_3"
                    ],
                    [
                      "3505_4"
                    ],
                    [
                      "3505_5"
                    ],
                    [
                      "3505_6"
                    ],
                    [
                      "3505_7"
                    ],
                    [
                      "3505_8"
                    ],
                    [
                      "3505_9"
                    ],
                    [
                      "3505_10"
                    ],
                    [
                      "3505_11"
                    ],
                    [
                      "3505_12"
                    ],
                    [
                      "3505_13"
                    ],
                    [
                      "3505_14"
                    ],
                    [
                      "3505_15"
                    ],
                    [
                      "3522_1"
                    ],
                    [
                      "3522_2"
                    ],
                    [
                      "3522_3"
                    ],
                    [
                      "3522_4"
                    ],
                    [
                      "3522_5"
                    ],
                    [
                      "3522_6"
                    ],
                    [
                      "3522_7"
                    ],
                    [
                      "3522_8"
                    ],
                    [
                      "3522_9"
                    ],
                    [
                      "3522_10"
                    ],
                    [
                      "3522_11"
                    ],
                    [
                      "3522_12"
                    ],
                    [
                      "3522_13"
                    ],
                    [
                      "3522_14"
                    ],
                    [
                      "3522_15"
                    ],
                    [
                      "361_1"
                    ],
                    [
                      "361_2"
                    ],
                    [
                      "361_3"
                    ],
                    [
                      "361_4"
                    ],
                    [
                      "361_5"
                    ],
                    [
                      "361_6"
                    ],
                    [
                      "361_7"
                    ],
                    [
                      "361_8"
                    ],
                    [
                      "361_9"
                    ],
                    [
                      "361_10"
                    ],
                    [
                      "361_11"
                    ],
                    [
                      "361_12"
                    ],
                    [
                      "361_13"
                    ],
                    [
                      "361_14"
                    ],
                    [
                      "361_15"
                    ],
                    [
                      "363_1"
                    ],
                    [
                      "363_2"
                    ],
                    [
                      "363_3"
                    ],
                    [
                      "363_4"
                    ],
                    [
                      "363_5"
                    ],
                    [
                      "363_6"
                    ],
                    [
                      "363_7"
                    ],
                    [
                      "363_8"
                    ],
                    [
                      "363_9"
                    ],
                    [
                      "363_10"
                    ],
                    [
                      "363_11"
                    ],
                    [
                      "363_12"
                    ],
                    [
                      "363_13"
                    ],
                    [
                      "363_14"
                    ],
                    [
                      "363_15"
                    ],
                    [
                      "293_1"
                    ],
                    [
                      "293_2"
                    ],
                    [
                      "293_3"
                    ],
                    [
                      "293_4"
                    ],
                    [
                      "293_5"
                    ],
                    [
                      "293_6"
                    ],
                    [
                      "293_7"
                    ],
                    [
                      "293_8"
                    ],
                    [
                      "293_9"
                    ],
                    [
                      "293_10"
                    ],
                    [
                      "293_11"
                    ],
                    [
                      "293_12"
                    ],
                    [
                      "293_13"
                    ],
                    [
                      "293_14"
                    ],
                    [
                      "293_15"
                    ],
                    [
                      "3411_1"
                    ],
                    [
                      "3411_2"
                    ],
                    [
                      "3411_3"
                    ],
                    [
                      "3411_4"
                    ],
                    [
                      "3411_5"
                    ],
                    [
                      "3411_6"
                    ],
                    [
                      "3411_7"
                    ],
                    [
                      "3411_8"
                    ],
                    [
                      "3411_9"
                    ],
                    [
                      "3411_10"
                    ],
                    [
                      "3411_11"
                    ],
                    [
                      "3411_12"
                    ],
                    [
                      "3411_13"
                    ],
                    [
                      "3411_14"
                    ],
                    [
                      "3411_15"
                    ],
                    [
                      "3418_1"
                    ],
                    [
                      "3418_2"
                    ],
                    [
                      "3418_3"
                    ],
                    [
                      "3418_4"
                    ],
                    [
                      "3418_5"
                    ],
                    [
                      "3418_6"
                    ],
                    [
                      "3418_7"
                    ],
                    [
                      "3418_8"
                    ],
                    [
                      "3418_9"
                    ],
                    [
                      "3418_10"
                    ],
                    [
                      "3418_11"
                    ],
                    [
                      "3418_12"
                    ],
                    [
                      "3418_13"
                    ],
                    [
                      "3418_14"
                    ],
                    [
                      "3418_15"
                    ],
                    [
                      "3501_1"
                    ],
                    [
                      "3501_2"
                    ],
                    [
                      "3501_3"
                    ],
                    [
                      "3501_4"
                    ],
                    [
                      "3501_5"
                    ],
                    [
                      "3501_6"
                    ],
                    [
                      "3501_7"
                    ],
                    [
                      "3501_8"
                    ],
                    [
                      "3501_9"
                    ],
                    [
                      "3501_10"
                    ],
                    [
                      "3501_11"
                    ],
                    [
                      "3501_12"
                    ],
                    [
                      "3501_13"
                    ],
                    [
                      "3501_14"
                    ],
                    [
                      "3501_15"
                    ],
                    [
                      "3502_1"
                    ],
                    [
                      "3502_2"
                    ],
                    [
                      "3502_3"
                    ],
                    [
                      "3502_4"
                    ],
                    [
                      "3502_5"
                    ],
                    [
                      "3502_6"
                    ],
                    [
                      "3502_7"
                    ],
                    [
                      "3502_8"
                    ],
                    [
                      "3502_9"
                    ],
                    [
                      "3502_10"
                    ],
                    [
                      "3502_11"
                    ],
                    [
                      "3502_12"
                    ],
                    [
                      "3502_13"
                    ],
                    [
                      "3502_14"
                    ],
                    [
                      "3502_15"
                    ],
                    [
                      "3530_1"
                    ],
                    [
                      "3530_2"
                    ],
                    [
                      "3530_3"
                    ],
                    [
                      "3530_4"
                    ],
                    [
                      "3530_5"
                    ],
                    [
                      "3530_6"
                    ],
                    [
                      "3530_7"
                    ],
                    [
                      "3530_8"
                    ],
                    [
                      "3530_9"
                    ],
                    [
                      "3530_10"
                    ],
                    [
                      "3530_11"
                    ],
                    [
                      "3530_12"
                    ],
                    [
                      "3530_13"
                    ],
                    [
                      "3530_14"
                    ],
                    [
                      "3530_15"
                    ],
                    [
                      "3534_1"
                    ],
                    [
                      "3534_2"
                    ],
                    [
                      "3534_3"
                    ],
                    [
                      "3534_4"
                    ],
                    [
                      "3534_5"
                    ],
                    [
                      "3534_6"
                    ],
                    [
                      "3534_7"
                    ],
                    [
                      "3534_8"
                    ],
                    [
                      "3534_9"
                    ],
                    [
                      "3534_10"
                    ],
                    [
                      "3534_11"
                    ],
                    [
                      "3534_12"
                    ],
                    [
                      "3534_13"
                    ],
                    [
                      "3534_14"
                    ],
                    [
                      "3534_15"
                    ],
                    [
                      "3605_1"
                    ],
                    [
                      "3605_2"
                    ],
                    [
                      "3605_3"
                    ],
                    [
                      "3605_4"
                    ],
                    [
                      "3605_5"
                    ],
                    [
                      "3605_6"
                    ],
                    [
                      "3605_7"
                    ],
                    [
                      "3605_8"
                    ],
                    [
                      "3605_9"
                    ],
                    [
                      "3605_10"
                    ],
                    [
                      "3605_11"
                    ],
                    [
                      "3605_12"
                    ],
                    [
                      "3605_13"
                    ],
                    [
                      "3605_14"
                    ],
                    [
                      "3605_15"
                    ],
                    [
                      "3606_1"
                    ],
                    [
                      "3606_2"
                    ],
                    [
                      "3606_3"
                    ],
                    [
                      "3606_4"
                    ],
                    [
                      "3606_5"
                    ],
                    [
                      "3606_6"
                    ],
                    [
                      "3606_7"
                    ],
                    [
                      "3606_8"
                    ],
                    [
                      "3606_9"
                    ],
                    [
                      "3606_10"
                    ],
                    [
                      "3606_11"
                    ],
                    [
                      "3606_12"
                    ],
                    [
                      "3606_13"
                    ],
                    [
                      "3606_14"
                    ],
                    [
                      "3606_15"
                    ],
                    [
                      "18899_1"
                    ],
                    [
                      "18899_2"
                    ],
                    [
                      "18899_3"
                    ],
                    [
                      "18899_4"
                    ],
                    [
                      "18899_5"
                    ],
                    [
                      "18899_6"
                    ],
                    [
                      "18899_7"
                    ],
                    [
                      "18899_8"
                    ],
                    [
                      "18899_9"
                    ],
                    [
                      "18899_10"
                    ],
                    [
                      "18899_11"
                    ],
                    [
                      "18899_12"
                    ],
                    [
                      "18899_13"
                    ],
                    [
                      "18899_14"
                    ],
                    [
                      "18899_15"
                    ],
                    [
                      "3476_1"
                    ],
                    [
                      "3476_2"
                    ],
                    [
                      "3476_3"
                    ],
                    [
                      "3476_4"
                    ],
                    [
                      "3476_5"
                    ],
                    [
                      "3476_6"
                    ],
                    [
                      "3476_7"
                    ],
                    [
                      "3476_8"
                    ],
                    [
                      "3476_9"
                    ],
                    [
                      "3476_10"
                    ],
                    [
                      "3476_11"
                    ],
                    [
                      "3476_12"
                    ],
                    [
                      "3476_13"
                    ],
                    [
                      "3476_14"
                    ],
                    [
                      "3476_15"
                    ],
                    [
                      "3483_1"
                    ],
                    [
                      "3483_2"
                    ],
                    [
                      "3483_3"
                    ],
                    [
                      "3483_4"
                    ],
                    [
                      "3483_5"
                    ],
                    [
                      "3483_6"
                    ],
                    [
                      "3483_7"
                    ],
                    [
                      "3483_8"
                    ],
                    [
                      "3483_9"
                    ],
                    [
                      "3483_10"
                    ],
                    [
                      "3483_11"
                    ],
                    [
                      "3483_12"
                    ],
                    [
                      "3483_13"
                    ],
                    [
                      "3483_14"
                    ],
                    [
                      "3483_15"
                    ],
                    [
                      "3498_1"
                    ],
                    [
                      "3498_2"
                    ],
                    [
                      "3498_3"
                    ],
                    [
                      "3498_4"
                    ],
                    [
                      "3498_5"
                    ],
                    [
                      "3498_6"
                    ],
                    [
                      "3498_7"
                    ],
                    [
                      "3498_8"
                    ],
                    [
                      "3498_9"
                    ],
                    [
                      "3498_10"
                    ],
                    [
                      "3498_11"
                    ],
                    [
                      "3498_12"
                    ],
                    [
                      "3498_13"
                    ],
                    [
                      "3498_14"
                    ],
                    [
                      "3498_15"
                    ],
                    [
                      "50810B_1"
                    ],
                    [
                      "50810B_2"
                    ],
                    [
                      "50810B_3"
                    ],
                    [
                      "50810B_4"
                    ],
                    [
                      "50810B_5"
                    ],
                    [
                      "50810B_6"
                    ],
                    [
                      "50810B_7"
                    ],
                    [
                      "50810B_8"
                    ],
                    [
                      "50810B_9"
                    ],
                    [
                      "50810B_10"
                    ],
                    [
                      "50810B_11"
                    ],
                    [
                      "50810B_12"
                    ],
                    [
                      "50810B_13"
                    ],
                    [
                      "50810B_14"
                    ],
                    [
                      "50810B_15"
                    ],
                    [
                      "50810C_1"
                    ],
                    [
                      "50810C_2"
                    ],
                    [
                      "50810C_3"
                    ],
                    [
                      "50810C_4"
                    ],
                    [
                      "50810C_5"
                    ],
                    [
                      "50810C_6"
                    ],
                    [
                      "50810C_7"
                    ],
                    [
                      "50810C_8"
                    ],
                    [
                      "50810C_9"
                    ],
                    [
                      "50810C_10"
                    ],
                    [
                      "50810C_11"
                    ],
                    [
                      "50810C_12"
                    ],
                    [
                      "50810C_13"
                    ],
                    [
                      "50810C_14"
                    ],
                    [
                      "50810C_15"
                    ],
                    [
                      "50810E_1"
                    ],
                    [
                      "50810E_2"
                    ],
                    [
                      "50810E_3"
                    ],
                    [
                      "50810E_4"
                    ],
                    [
                      "50810E_5"
                    ],
                    [
                      "50810E_6"
                    ],
                    [
                      "50810E_7"
                    ],
                    [
                      "50810E_8"
                    ],
                    [
                      "50810E_9"
                    ],
                    [
                      "50810E_10"
                    ],
                    [
                      "50810E_11"
                    ],
                    [
                      "50810E_12"
                    ],
                    [
                      "50810E_13"
                    ],
                    [
                      "50810E_14"
                    ],
                    [
                      "50810E_15"
                    ],
                    [
                      "3421_1"
                    ],
                    [
                      "3421_2"
                    ],
                    [
                      "3421_3"
                    ],
                    [
                      "3421_4"
                    ],
                    [
                      "3421_5"
                    ],
                    [
                      "3421_6"
                    ],
                    [
                      "3421_7"
                    ],
                    [
                      "3421_8"
                    ],
                    [
                      "3421_9"
                    ],
                    [
                      "3421_10"
                    ],
                    [
                      "3421_11"
                    ],
                    [
                      "3421_12"
                    ],
                    [
                      "3421_13"
                    ],
                    [
                      "3421_14"
                    ],
                    [
                      "3421_15"
                    ],
                    [
                      "3425_1"
                    ],
                    [
                      "3425_2"
                    ],
                    [
                      "3425_3"
                    ],
                    [
                      "3425_4"
                    ],
                    [
                      "3425_5"
                    ],
                    [
                      "3425_6"
                    ],
                    [
                      "3425_7"
                    ],
                    [
                      "3425_8"
                    ],
                    [
                      "3425_9"
                    ],
                    [
                      "3425_10"
                    ],
                    [
                      "3425_11"
                    ],
                    [
                      "3425_12"
                    ],
                    [
                      "3425_13"
                    ],
                    [
                      "3425_14"
                    ],
                    [
                      "3425_15"
                    ],
                    [
                      "3426_1"
                    ],
                    [
                      "3426_2"
                    ],
                    [
                      "3426_3"
                    ],
                    [
                      "3426_4"
                    ],
                    [
                      "3426_5"
                    ],
                    [
                      "3426_6"
                    ],
                    [
                      "3426_7"
                    ],
                    [
                      "3426_8"
                    ],
                    [
                      "3426_9"
                    ],
                    [
                      "3426_10"
                    ],
                    [
                      "3426_11"
                    ],
                    [
                      "3426_12"
                    ],
                    [
                      "3426_13"
                    ],
                    [
                      "3426_14"
                    ],
                    [
                      "3426_15"
                    ],
                    [
                      "3491_1"
                    ],
                    [
                      "3491_2"
                    ],
                    [
                      "3491_3"
                    ],
                    [
                      "3491_4"
                    ],
                    [
                      "3491_5"
                    ],
                    [
                      "3491_6"
                    ],
                    [
                      "3491_7"
                    ],
                    [
                      "3491_8"
                    ],
                    [
                      "3491_9"
                    ],
                    [
                      "3491_10"
                    ],
                    [
                      "3491_11"
                    ],
                    [
                      "3491_12"
                    ],
                    [
                      "3491_13"
                    ],
                    [
                      "3491_14"
                    ],
                    [
                      "3491_15"
                    ],
                    [
                      "3513_1"
                    ],
                    [
                      "3513_2"
                    ],
                    [
                      "3513_3"
                    ],
                    [
                      "3513_4"
                    ],
                    [
                      "3513_5"
                    ],
                    [
                      "3513_6"
                    ],
                    [
                      "3513_7"
                    ],
                    [
                      "3513_8"
                    ],
                    [
                      "3513_9"
                    ],
                    [
                      "3513_10"
                    ],
                    [
                      "3513_11"
                    ],
                    [
                      "3513_12"
                    ],
                    [
                      "3513_13"
                    ],
                    [
                      "3513_14"
                    ],
                    [
                      "3513_15"
                    ],
                    [
                      "3517_1"
                    ],
                    [
                      "3517_2"
                    ],
                    [
                      "3517_3"
                    ],
                    [
                      "3517_4"
                    ],
                    [
                      "3517_5"
                    ],
                    [
                      "3517_6"
                    ],
                    [
                      "3517_7"
                    ],
                    [
                      "3517_8"
                    ],
                    [
                      "3517_9"
                    ],
                    [
                      "3517_10"
                    ],
                    [
                      "3517_11"
                    ],
                    [
                      "3517_12"
                    ],
                    [
                      "3517_13"
                    ],
                    [
                      "3517_14"
                    ],
                    [
                      "3517_15"
                    ],
                    [
                      "3525_1"
                    ],
                    [
                      "3525_2"
                    ],
                    [
                      "3525_3"
                    ],
                    [
                      "3525_4"
                    ],
                    [
                      "3525_5"
                    ],
                    [
                      "3525_6"
                    ],
                    [
                      "3525_7"
                    ],
                    [
                      "3525_8"
                    ],
                    [
                      "3525_9"
                    ],
                    [
                      "3525_10"
                    ],
                    [
                      "3525_11"
                    ],
                    [
                      "3525_12"
                    ],
                    [
                      "3525_13"
                    ],
                    [
                      "3525_14"
                    ],
                    [
                      "3525_15"
                    ],
                    [
                      "J1291_1"
                    ],
                    [
                      "J1291_2"
                    ],
                    [
                      "J1291_3"
                    ],
                    [
                      "J1291_4"
                    ],
                    [
                      "J1291_5"
                    ],
                    [
                      "J1291_6"
                    ],
                    [
                      "J1291_7"
                    ],
                    [
                      "J1291_8"
                    ],
                    [
                      "J1291_9"
                    ],
                    [
                      "J1291_10"
                    ],
                    [
                      "J1291_11"
                    ],
                    [
                      "J1291_12"
                    ],
                    [
                      "J1291_13"
                    ],
                    [
                      "J1291_14"
                    ],
                    [
                      "J1291_15"
                    ],
                    [
                      "J3295_1"
                    ],
                    [
                      "J3295_2"
                    ],
                    [
                      "J3295_3"
                    ],
                    [
                      "J3295_4"
                    ],
                    [
                      "J3295_5"
                    ],
                    [
                      "J3295_6"
                    ],
                    [
                      "J3295_7"
                    ],
                    [
                      "J3295_8"
                    ],
                    [
                      "J3295_9"
                    ],
                    [
                      "J3295_10"
                    ],
                    [
                      "J3295_11"
                    ],
                    [
                      "J3295_12"
                    ],
                    [
                      "J3295_13"
                    ],
                    [
                      "J3295_14"
                    ],
                    [
                      "J3295_15"
                    ]
                  ],
                  "hovertemplate": "0=%{x}<br>1=%{y}<br>2=%{z}<br>Feature=%{customdata[0]}<br>Anomaly=%{marker.color}<extra></extra>",
                  "legendgroup": "",
                  "marker": {
                    "color": [
                      0,
                      0,
                      0,
                      0,
                      0,
                      0,
                      0,
                      0,
                      0,
                      0,
                      0,
                      0,
                      0,
                      0,
                      0,
                      0,
                      0,
                      0,
                      0,
                      0,
                      0,
                      0,
                      0,
                      0,
                      0,
                      1,
                      0,
                      0,
                      0,
                      0,
                      1,
                      1,
                      1,
                      0,
                      0,
                      0,
                      0,
                      0,
                      0,
                      0,
                      0,
                      0,
                      0,
                      0,
                      0,
                      0,
                      0,
                      1,
                      0,
                      0,
                      0,
                      0,
                      0,
                      0,
                      0,
                      0,
                      0,
                      0,
                      0,
                      0,
                      0,
                      0,
                      0,
                      0,
                      0,
                      0,
                      0,
                      0,
                      0,
                      0,
                      0,
                      0,
                      0,
                      0,
                      0,
                      0,
                      1,
                      0,
                      0,
                      0,
                      0,
                      0,
                      0,
                      0,
                      0,
                      0,
                      0,
                      1,
                      0,
                      0,
                      0,
                      0,
                      0,
                      0,
                      0,
                      0,
                      0,
                      0,
                      0,
                      0,
                      0,
                      0,
                      0,
                      0,
                      0,
                      0,
                      0,
                      0,
                      0,
                      0,
                      0,
                      0,
                      0,
                      0,
                      0,
                      0,
                      0,
                      0,
                      0,
                      0,
                      0,
                      0,
                      0,
                      0,
                      0,
                      0,
                      0,
                      0,
                      0,
                      0,
                      0,
                      0,
                      0,
                      0,
                      0,
                      0,
                      0,
                      0,
                      0,
                      0,
                      0,
                      0,
                      0,
                      0,
                      0,
                      0,
                      0,
                      0,
                      0,
                      0,
                      0,
                      0,
                      0,
                      0,
                      0,
                      0,
                      0,
                      0,
                      0,
                      0,
                      0,
                      0,
                      0,
                      0,
                      0,
                      0,
                      0,
                      0,
                      0,
                      0,
                      0,
                      0,
                      0,
                      0,
                      0,
                      0,
                      0,
                      0,
                      0,
                      1,
                      0,
                      0,
                      0,
                      0,
                      0,
                      0,
                      0,
                      0,
                      0,
                      0,
                      0,
                      0,
                      0,
                      0,
                      0,
                      0,
                      0,
                      0,
                      0,
                      0,
                      0,
                      0,
                      0,
                      0,
                      0,
                      0,
                      0,
                      0,
                      0,
                      0,
                      0,
                      0,
                      0,
                      0,
                      0,
                      0,
                      0,
                      0,
                      0,
                      0,
                      1,
                      0,
                      1,
                      0,
                      1,
                      0,
                      0,
                      0,
                      0,
                      0,
                      0,
                      0,
                      0,
                      0,
                      0,
                      0,
                      0,
                      0,
                      0,
                      0,
                      0,
                      0,
                      0,
                      0,
                      0,
                      0,
                      0,
                      0,
                      0,
                      0,
                      0,
                      0,
                      0,
                      0,
                      0,
                      0,
                      0,
                      0,
                      0,
                      0,
                      0,
                      0,
                      0,
                      0,
                      0,
                      0,
                      0,
                      0,
                      0,
                      0,
                      0,
                      0,
                      0,
                      0,
                      0,
                      0,
                      0,
                      0,
                      0,
                      0,
                      0,
                      0,
                      0,
                      0,
                      0,
                      0,
                      0,
                      0,
                      0,
                      0,
                      0,
                      0,
                      0,
                      0,
                      0,
                      0,
                      0,
                      0,
                      0,
                      0,
                      0,
                      0,
                      0,
                      0,
                      0,
                      0,
                      0,
                      0,
                      0,
                      0,
                      0,
                      0,
                      0,
                      0,
                      0,
                      0,
                      0,
                      0,
                      0,
                      0,
                      0,
                      0,
                      0,
                      0,
                      0,
                      0,
                      0,
                      0,
                      0,
                      0,
                      0,
                      0,
                      0,
                      0,
                      0,
                      0,
                      0,
                      0,
                      0,
                      0,
                      0,
                      0,
                      0,
                      0,
                      0,
                      0,
                      0,
                      0,
                      0,
                      0,
                      0,
                      0,
                      0,
                      0,
                      0,
                      0,
                      0,
                      0,
                      0,
                      0,
                      1,
                      1,
                      1,
                      0,
                      0,
                      1,
                      0,
                      0,
                      0,
                      1,
                      0,
                      0,
                      1,
                      1,
                      1,
                      1,
                      0,
                      0,
                      1,
                      0,
                      0,
                      0,
                      0,
                      0,
                      0,
                      0,
                      0,
                      0,
                      0,
                      0,
                      1,
                      1,
                      0,
                      0,
                      0,
                      0,
                      0,
                      0,
                      0,
                      0,
                      0,
                      0,
                      0,
                      0,
                      0,
                      0,
                      0,
                      0,
                      0,
                      0,
                      0,
                      0,
                      0,
                      0,
                      0,
                      0,
                      0,
                      0,
                      0,
                      0,
                      0,
                      0,
                      0,
                      0,
                      0,
                      0,
                      0,
                      0,
                      0,
                      0,
                      0,
                      1,
                      0,
                      0,
                      0,
                      0,
                      0,
                      0,
                      0,
                      0,
                      0,
                      0,
                      0,
                      0,
                      0,
                      0,
                      0,
                      0,
                      0,
                      0,
                      0,
                      0,
                      0,
                      0,
                      0,
                      0,
                      0,
                      0,
                      0,
                      0,
                      0,
                      0,
                      0,
                      0,
                      0,
                      0,
                      0,
                      0,
                      0,
                      0,
                      0,
                      0,
                      0,
                      0,
                      0,
                      0,
                      0,
                      0,
                      0,
                      0,
                      0,
                      0,
                      0,
                      0,
                      0,
                      0,
                      0,
                      0,
                      0,
                      0,
                      0,
                      0,
                      0,
                      0,
                      0,
                      0,
                      0,
                      0,
                      0,
                      0,
                      0,
                      0,
                      0,
                      0,
                      0,
                      0,
                      0,
                      0,
                      0,
                      0,
                      0,
                      0,
                      0,
                      0,
                      0,
                      0,
                      0,
                      0,
                      0,
                      0,
                      0,
                      0,
                      0,
                      0,
                      0,
                      0,
                      0,
                      0,
                      0,
                      0,
                      0,
                      0,
                      0,
                      0,
                      0,
                      0,
                      0,
                      0,
                      0,
                      0,
                      0,
                      0,
                      0,
                      0,
                      0,
                      0,
                      0,
                      0,
                      0,
                      0,
                      0,
                      0,
                      0,
                      0,
                      1,
                      0,
                      0,
                      0,
                      0,
                      0,
                      0,
                      0,
                      0,
                      0,
                      0,
                      0,
                      0,
                      0,
                      0,
                      0,
                      0,
                      0,
                      0,
                      0,
                      0,
                      0,
                      0,
                      0,
                      0,
                      0,
                      0,
                      0,
                      0,
                      0,
                      0,
                      0,
                      0,
                      0,
                      0,
                      0,
                      0,
                      0,
                      0,
                      0,
                      0,
                      0,
                      0,
                      0,
                      0,
                      0,
                      0,
                      0,
                      0,
                      0,
                      0,
                      0,
                      0,
                      0,
                      0,
                      0,
                      0,
                      0,
                      0,
                      0,
                      0,
                      0,
                      0,
                      0,
                      0,
                      0,
                      0,
                      0,
                      0,
                      0,
                      0,
                      0,
                      0,
                      0,
                      0,
                      0,
                      0,
                      0,
                      0,
                      0,
                      0,
                      0,
                      0,
                      0,
                      0,
                      0,
                      0,
                      0,
                      0,
                      0,
                      0,
                      1,
                      1,
                      0,
                      0,
                      0,
                      0,
                      0,
                      0,
                      0,
                      0,
                      0,
                      0,
                      0,
                      0,
                      0,
                      0,
                      0,
                      0,
                      0,
                      0,
                      0,
                      0,
                      0,
                      0,
                      0,
                      0,
                      0,
                      0,
                      0,
                      0,
                      0,
                      0,
                      0,
                      0,
                      0,
                      0,
                      0,
                      0,
                      0,
                      0,
                      0,
                      0,
                      0,
                      0,
                      0,
                      0,
                      0,
                      0,
                      0,
                      0,
                      0,
                      0,
                      0,
                      0,
                      0,
                      0,
                      0,
                      0,
                      0,
                      0,
                      0,
                      0,
                      0,
                      0,
                      0,
                      0,
                      0,
                      0,
                      0,
                      0,
                      0,
                      0,
                      0,
                      0,
                      0,
                      0,
                      0,
                      0,
                      0,
                      0,
                      0,
                      0,
                      0,
                      0,
                      0,
                      0,
                      0,
                      0,
                      0,
                      0,
                      0,
                      0,
                      0,
                      0,
                      0,
                      0,
                      0,
                      0,
                      0,
                      0,
                      0,
                      0,
                      1,
                      0,
                      0,
                      1,
                      1,
                      1,
                      0,
                      1,
                      1,
                      0,
                      0,
                      0,
                      0,
                      0,
                      0,
                      0,
                      0,
                      0,
                      0,
                      0,
                      0,
                      0,
                      0,
                      0,
                      0,
                      0,
                      0,
                      0,
                      0,
                      0,
                      0,
                      0,
                      1,
                      0,
                      0,
                      0,
                      0,
                      0,
                      0,
                      0,
                      0,
                      0,
                      0,
                      0,
                      0,
                      0,
                      0,
                      0,
                      0,
                      0,
                      0,
                      0,
                      0,
                      0,
                      0,
                      0,
                      0,
                      0,
                      0,
                      0,
                      0,
                      0,
                      0,
                      0,
                      0,
                      0,
                      0,
                      0,
                      0,
                      0,
                      0,
                      0,
                      0,
                      0,
                      0,
                      0,
                      1,
                      0,
                      0,
                      0,
                      0,
                      0,
                      0,
                      0,
                      0,
                      0,
                      0,
                      0,
                      0,
                      0,
                      0,
                      0,
                      0,
                      0,
                      0,
                      0,
                      0,
                      0,
                      0,
                      0,
                      0,
                      0,
                      0,
                      0,
                      0,
                      1,
                      0,
                      0,
                      0,
                      0,
                      0,
                      0,
                      0,
                      0,
                      0,
                      0,
                      0,
                      0,
                      0,
                      0,
                      0,
                      0,
                      0,
                      0,
                      0,
                      1,
                      0,
                      0,
                      0,
                      0,
                      0,
                      0,
                      0,
                      0,
                      0,
                      0,
                      0,
                      0,
                      0,
                      0,
                      0,
                      0,
                      0,
                      0,
                      0,
                      0,
                      0,
                      0,
                      0,
                      0,
                      0,
                      0,
                      0,
                      0,
                      0,
                      0,
                      0,
                      0,
                      0,
                      0,
                      0,
                      0,
                      0,
                      0,
                      0,
                      0,
                      0,
                      0,
                      0,
                      1,
                      0,
                      0,
                      0,
                      0,
                      0,
                      0,
                      0,
                      0,
                      0,
                      0,
                      0,
                      0,
                      0,
                      0,
                      0,
                      0,
                      0,
                      0,
                      0,
                      0,
                      0,
                      0,
                      0,
                      0,
                      0,
                      0,
                      0,
                      0,
                      0,
                      0,
                      0,
                      0,
                      0,
                      0,
                      0,
                      0,
                      0,
                      0,
                      0,
                      0,
                      1,
                      1,
                      0,
                      0,
                      0,
                      0,
                      0,
                      0,
                      0,
                      0,
                      0,
                      0,
                      0,
                      0,
                      0,
                      0,
                      0,
                      0,
                      0,
                      0,
                      0,
                      0,
                      0,
                      0,
                      0,
                      0,
                      0,
                      0,
                      0,
                      0,
                      0,
                      0,
                      0,
                      0,
                      0,
                      0,
                      0,
                      0,
                      0,
                      0,
                      0,
                      0,
                      0,
                      0,
                      0,
                      0,
                      0,
                      0,
                      0,
                      0,
                      0,
                      0,
                      0,
                      0,
                      0,
                      0,
                      0,
                      0,
                      0,
                      0,
                      0,
                      0,
                      0,
                      0,
                      0,
                      0,
                      0,
                      0,
                      0,
                      1,
                      0,
                      0,
                      1,
                      0,
                      0,
                      0,
                      0,
                      0,
                      1,
                      1,
                      1,
                      0,
                      0,
                      1,
                      0,
                      1,
                      1,
                      0,
                      0,
                      1,
                      0,
                      1,
                      1,
                      0,
                      0,
                      0,
                      0,
                      0,
                      0,
                      0,
                      0,
                      0,
                      0,
                      0,
                      0,
                      0,
                      0,
                      0,
                      0,
                      0,
                      0,
                      0,
                      0,
                      0,
                      0,
                      0,
                      0,
                      1,
                      0,
                      0,
                      1,
                      1,
                      0
                    ],
                    "coloraxis": "coloraxis",
                    "opacity": 0.7,
                    "symbol": "circle"
                  },
                  "mode": "markers",
                  "name": "",
                  "scene": "scene",
                  "showlegend": false,
                  "type": "scatter3d",
                  "x": [
                    -1.4293282,
                    -1.2190174,
                    -1.1810147,
                    1.2702553,
                    1.5003518,
                    1.4394954,
                    2.0776534,
                    2.4164555,
                    3.0067554,
                    3.95587,
                    3.9072266,
                    4.1876755,
                    4.4368296,
                    4.4434457,
                    4.554148,
                    -1.819991,
                    -1.0868282,
                    -1.053256,
                    -0.29518843,
                    1.463686,
                    0.9673301,
                    0.7247596,
                    1.2311058,
                    1.8858703,
                    2.7338543,
                    1.3594584,
                    3.2856102,
                    4.008255,
                    3.9452322,
                    4.0394173,
                    -3.7629776,
                    -3.8752084,
                    -3.906118,
                    -2.68321,
                    -3.0337293,
                    -3.4550765,
                    -1.3844886,
                    -1.9918245,
                    -2.7371886,
                    -1.2145334,
                    -1.5876067,
                    -2.238723,
                    -0.2628949,
                    -0.62743014,
                    -1.1878477,
                    -3.81481,
                    -3.8861456,
                    -4.1909895,
                    -2.8201036,
                    -3.0903428,
                    -3.4564621,
                    -1.6379213,
                    -2.1075811,
                    -2.692646,
                    0.42718884,
                    0.44885904,
                    0.2606857,
                    1.0935891,
                    1.0008699,
                    1.0245183,
                    -1.3510195,
                    -1.6051339,
                    -1.6895998,
                    -0.9151066,
                    -0.7481582,
                    -1.0765983,
                    0.5060961,
                    0.44487607,
                    0.34569514,
                    1.3133343,
                    1.334127,
                    1.1061288,
                    1.7515206,
                    1.6865351,
                    1.7166153,
                    1.6074892,
                    1.5400593,
                    1.4382643,
                    3.316091,
                    3.2429016,
                    3.3108504,
                    4.6216645,
                    4.753083,
                    4.5094543,
                    6.3246794,
                    6.305929,
                    6.2868705,
                    6.336017,
                    6.348112,
                    6.3716745,
                    2.7604668,
                    2.6303368,
                    2.623738,
                    4.397865,
                    4.298972,
                    4.2736783,
                    5.743477,
                    5.7946143,
                    5.446506,
                    6.1617146,
                    6.1566625,
                    6.107152,
                    6.3697953,
                    6.3880916,
                    6.3965364,
                    -0.77261645,
                    -0.69319624,
                    -1.164559,
                    0.8347622,
                    0.52278835,
                    0.17967507,
                    1.9196006,
                    1.2553115,
                    1.3883971,
                    3.6569304,
                    3.6063368,
                    2.9421544,
                    3.7611146,
                    3.8622568,
                    3.7829573,
                    2.5491934,
                    2.3085413,
                    2.2902377,
                    3.2966506,
                    3.6401758,
                    3.5359216,
                    4.451911,
                    4.7105784,
                    5.0409284,
                    5.7168174,
                    5.5853233,
                    5.8589473,
                    6.0690317,
                    5.8908772,
                    6.1171417,
                    2.063764,
                    1.9359218,
                    2.174826,
                    4.7579603,
                    4.7129188,
                    4.6558466,
                    5.4547668,
                    5.432104,
                    5.3233886,
                    6.0499687,
                    5.996841,
                    6.109052,
                    6.4901595,
                    6.4648447,
                    6.5996766,
                    1.931612,
                    1.512151,
                    2.174461,
                    0.86549014,
                    0.25654888,
                    0.5373398,
                    -0.29069707,
                    -0.03691642,
                    -0.39030328,
                    -1.1783297,
                    -0.8544571,
                    -0.91627777,
                    -1.8243998,
                    -1.54339,
                    -1.5083983,
                    2.5870054,
                    2.837813,
                    2.8745272,
                    1.9326974,
                    2.024488,
                    1.2327464,
                    1.3331898,
                    1.4390628,
                    1.4397299,
                    0.6201193,
                    0.78033775,
                    0.7254657,
                    0.27676883,
                    0.26943198,
                    0.46316472,
                    1.5470551,
                    1.2603698,
                    1.2007263,
                    -1.1889441,
                    -1.259901,
                    -1.2494346,
                    0.15534852,
                    0.08086299,
                    0.09563687,
                    -0.281583,
                    -0.31769753,
                    -0.060859486,
                    -0.36443934,
                    -0.35212666,
                    -0.25740814,
                    1.4479908,
                    1.4842838,
                    1.0945214,
                    -0.6201381,
                    -0.7110527,
                    -1.0553584,
                    -1.339766,
                    -1.5311499,
                    -1.475652,
                    -1.8791794,
                    -2.1603198,
                    -2.0904057,
                    -2.2383673,
                    -2.3464932,
                    -2.3278756,
                    0.2238367,
                    0.07779985,
                    -0.53832716,
                    -0.572265,
                    -0.58579385,
                    -1.6622329,
                    -1.7673987,
                    -2.0015662,
                    -2.0900004,
                    -1.8160375,
                    -1.8850535,
                    -2.0001707,
                    -2.3243527,
                    -2.5630777,
                    -2.433382,
                    3.4596994,
                    2.9763308,
                    3.0242915,
                    2.2718997,
                    1.6177735,
                    1.5063292,
                    1.6724937,
                    0.53077614,
                    0.9319993,
                    0.19686069,
                    -0.5337305,
                    -0.5396546,
                    -0.42552748,
                    -0.76052755,
                    -0.74270946,
                    3.5431428,
                    3.491323,
                    3.2783556,
                    3.439479,
                    2.0101502,
                    1.9866276,
                    1.6582227,
                    1.5025333,
                    1.4497191,
                    1.1064217,
                    1.1050252,
                    0.9791446,
                    0.86291623,
                    0.65107614,
                    0.8120997,
                    0.8191042,
                    0.8266522,
                    0.73071605,
                    0.2734623,
                    0.30435666,
                    0.25792423,
                    0.15757927,
                    0.12038677,
                    0.20096453,
                    0.17759825,
                    0.05643443,
                    0.025105692,
                    0.49736333,
                    0.18470259,
                    0.06390479,
                    1.9009246,
                    1.9850562,
                    2.585537,
                    0.8550992,
                    1.1007113,
                    1.6863128,
                    -0.29999974,
                    0.15875071,
                    -0.62382126,
                    -0.959792,
                    -0.22905098,
                    -1.2867968,
                    -1.4350262,
                    -1.5750481,
                    -1.4575025,
                    1.8427222,
                    1.9316996,
                    1.8602918,
                    0.9960935,
                    0.84296274,
                    0.49016893,
                    -0.646302,
                    -0.03830886,
                    0.22220959,
                    -1.8695524,
                    -1.6198115,
                    -1.5922812,
                    -1.9504039,
                    -1.8882785,
                    -1.9480559,
                    -2.5407724,
                    -2.532198,
                    -2.4340956,
                    -2.034172,
                    -2.041866,
                    -2.0992112,
                    -2.0102086,
                    -1.9269414,
                    -1.8922191,
                    -2.1383386,
                    -2.0818045,
                    -1.9949467,
                    -2.2437575,
                    -2.2139654,
                    -2.19786,
                    -4.0546074,
                    -3.9919753,
                    -3.7981627,
                    -5.0538526,
                    -4.821213,
                    -4.4829288,
                    -5.4718647,
                    -5.0894513,
                    -4.6890826,
                    -6.8468037,
                    -6.973665,
                    -6.6054854,
                    -7.551564,
                    -7.300888,
                    -7.2410445,
                    -4.616919,
                    -4.596637,
                    -4.440432,
                    -5.260254,
                    -5.042737,
                    -4.7802324,
                    -5.2030973,
                    -5.253434,
                    -5.2228827,
                    -5.186548,
                    -4.933102,
                    -4.993776,
                    -4.751559,
                    -4.6130886,
                    -4.571126,
                    -4.719571,
                    -4.6739607,
                    -4.6890297,
                    -5.2744527,
                    -5.298811,
                    -5.206433,
                    -5.974087,
                    -6.011688,
                    -5.881613,
                    -7.0212784,
                    -6.898762,
                    -6.9566245,
                    -8.301867,
                    -8.420745,
                    -8.393056,
                    -8.4062605,
                    -8.231849,
                    -8.245062,
                    -8.423769,
                    -8.4078865,
                    -8.253476,
                    -8.372812,
                    -8.391477,
                    -8.404087,
                    -8.154701,
                    -8.315018,
                    -8.32241,
                    -8.20976,
                    -7.424401,
                    -8.053964,
                    -4.2418866,
                    -4.1634464,
                    -4.149583,
                    -4.170062,
                    -4.3262615,
                    -4.1309633,
                    -4.136253,
                    -5.998993,
                    -4.2644415,
                    -4.985683,
                    -6.626468,
                    -5.3472266,
                    -5.467404,
                    -6.2326326,
                    -5.651785,
                    -7.786243,
                    -7.78874,
                    -7.804289,
                    -7.3072777,
                    -7.5172253,
                    -7.845758,
                    -7.6186275,
                    -7.9233966,
                    -7.9076743,
                    -8.590589,
                    -9.023712,
                    -9.14547,
                    -8.975107,
                    -9.535314,
                    -9.418461,
                    -5.932183,
                    -5.979118,
                    -5.994946,
                    -6.5564346,
                    -6.819846,
                    -6.6424766,
                    -7.274859,
                    -7.4352913,
                    -7.685108,
                    -8.330007,
                    -8.750598,
                    -9.055062,
                    -8.960237,
                    -9.123713,
                    -9.359157,
                    -3.0225892,
                    -3.014406,
                    -3.04882,
                    -3.0231316,
                    -3.0453277,
                    -3.134452,
                    -3.2373705,
                    -3.394609,
                    -3.3364787,
                    -3.2772608,
                    -3.3615174,
                    -3.339501,
                    -4.458226,
                    -4.4082727,
                    -4.5449677,
                    1.6962622,
                    1.6841642,
                    1.8110852,
                    0.9924382,
                    1.1609838,
                    1.3197545,
                    0.19376607,
                    0.28306964,
                    0.34942552,
                    -0.5433566,
                    -0.5114333,
                    -0.412418,
                    -1.2298567,
                    -1.2281224,
                    -1.0739734,
                    5.9239736,
                    5.78593,
                    5.8205366,
                    5.261945,
                    5.216063,
                    5.244892,
                    4.0364513,
                    3.7135897,
                    3.7798538,
                    3.0728018,
                    2.8804984,
                    2.813985,
                    2.2427604,
                    2.596248,
                    2.5908222,
                    3.252598,
                    3.5337222,
                    3.5619843,
                    -0.30824998,
                    2.7838192,
                    2.9028609,
                    1.0596677,
                    1.3672328,
                    1.2387322,
                    0.7201636,
                    0.9221169,
                    0.990277,
                    0.043636747,
                    0.13221407,
                    0.20668617,
                    4.3187613,
                    4.4581223,
                    4.4727097,
                    3.7120945,
                    3.5866926,
                    3.802123,
                    2.2009282,
                    2.0605655,
                    2.2851493,
                    1.1286883,
                    1.8273721,
                    1.7061325,
                    0.20031501,
                    -0.13841854,
                    0.46863356,
                    3.2540991,
                    3.2574031,
                    3.2570746,
                    1.9065208,
                    0.025390148,
                    0.11029492,
                    1.9973989,
                    -1.0097187,
                    -0.77824533,
                    -1.5637071,
                    -1.2325732,
                    -0.9349866,
                    -1.5519116,
                    -1.4387211,
                    -1.3098487,
                    4.7772293,
                    5.013426,
                    4.6519012,
                    3.6695342,
                    3.460078,
                    2.4490538,
                    3.2351518,
                    2.6963954,
                    2.3503568,
                    2.4152622,
                    2.402448,
                    2.2804897,
                    1.7386527,
                    1.6139127,
                    0.8218454,
                    6.0524235,
                    6.177132,
                    6.3652477,
                    5.003484,
                    4.9597,
                    5.5149875,
                    4.183822,
                    4.3191705,
                    4.4173627,
                    0.49461746,
                    0.53213215,
                    2.6166341,
                    0.0337227,
                    0.17781039,
                    1.5429653,
                    1.6891966,
                    1.645712,
                    1.5691239,
                    1.368426,
                    1.0898409,
                    1.0052608,
                    0.6286891,
                    0.5620649,
                    0.08025717,
                    0.2513714,
                    -0.008775236,
                    -0.39287785,
                    -0.7543714,
                    -0.79727787,
                    -0.87688565,
                    1.0274463,
                    1.0725762,
                    1.026931,
                    0.6711525,
                    0.6540065,
                    0.6784671,
                    0.45721552,
                    0.34413218,
                    -0.4284671,
                    0.107691206,
                    0.10280431,
                    -0.07551978,
                    -0.049804658,
                    -0.057730023,
                    -0.056859724,
                    -4.402346,
                    -4.44855,
                    -4.3361106,
                    -3.4930124,
                    -3.7633946,
                    -3.5272572,
                    -3.0793753,
                    -3.276911,
                    -2.9158936,
                    -2.6286645,
                    -2.6134756,
                    -2.706341,
                    -2.386928,
                    -2.4429903,
                    -2.3504064,
                    -3.1550336,
                    -3.2573326,
                    -3.3238008,
                    -2.399945,
                    -2.4410954,
                    -2.32155,
                    -1.7169489,
                    -1.6907578,
                    -1.8139613,
                    -2.2321641,
                    -2.4359593,
                    -2.1435878,
                    -1.5954782,
                    -2.4514604,
                    -2.2559967,
                    -6.78204,
                    -6.8460784,
                    -6.899575,
                    -6.3847785,
                    -6.5635977,
                    -6.7652993,
                    -5.5362577,
                    -6.166701,
                    -6.3718004,
                    -5.3411527,
                    -5.861824,
                    -6.165448,
                    -5.29175,
                    -5.7164564,
                    -5.84117,
                    -6.525402,
                    -6.5351505,
                    -6.5299735,
                    -6.5172396,
                    -6.5145416,
                    -6.507955,
                    -5.951685,
                    -5.8626842,
                    -5.975422,
                    -5.744168,
                    -5.6818075,
                    -5.6650023,
                    -5.1745186,
                    -5.3235593,
                    -5.1370535,
                    -4.79598,
                    -4.813719,
                    -4.771704,
                    -4.2123218,
                    -4.1601415,
                    -4.1391516,
                    -3.7604656,
                    -3.682661,
                    -3.4697292,
                    -3.556972,
                    -3.5929189,
                    -3.5179708,
                    -3.6304288,
                    -3.6410885,
                    -3.6637876,
                    -4.1278534,
                    -4.125012,
                    -4.1194096,
                    -3.8180454,
                    -3.7988603,
                    -3.9313252,
                    -3.5084186,
                    -3.195111,
                    -2.8343387,
                    -2.5558617,
                    -2.4680655,
                    -2.0665169,
                    -2.2976983,
                    -2.1617656,
                    -2.0812004,
                    6.2861614,
                    6.3114824,
                    6.312157,
                    6.7718396,
                    6.8578167,
                    6.992204,
                    7.138966,
                    7.3213315,
                    7.403243,
                    7.331246,
                    7.708798,
                    7.566331,
                    7.528483,
                    7.785457,
                    7.614563,
                    -0.15623258,
                    -0.15812087,
                    -0.16146395,
                    0.30658564,
                    0.19998163,
                    0.17879081,
                    0.52650076,
                    0.5013452,
                    0.5237396,
                    0.790267,
                    0.75587887,
                    0.7369937,
                    0.80817914,
                    0.8121015,
                    0.8131527,
                    5.49703,
                    5.495727,
                    5.362531,
                    5.955963,
                    6.002066,
                    6.05391,
                    6.0466733,
                    6.2911367,
                    6.2302833,
                    6.7381835,
                    6.6809793,
                    6.3279624,
                    6.824037,
                    6.7698436,
                    6.605527,
                    11.543635,
                    12.239103,
                    12.416794,
                    12.757923,
                    12.626036,
                    13.067525,
                    13.301472,
                    13.946229,
                    13.868966,
                    14.266411,
                    14.535451,
                    14.675825,
                    14.889156,
                    15.087319,
                    14.985558,
                    10.903429,
                    11.038059,
                    11.666789,
                    12.390531,
                    11.984743,
                    12.9126625,
                    12.927098,
                    13.122905,
                    13.391703,
                    14.415386,
                    14.327594,
                    14.39026,
                    14.778108,
                    14.671911,
                    14.741625,
                    14.678053,
                    14.830841,
                    15.258713,
                    15.180265,
                    15.530405,
                    15.728756,
                    16.200138,
                    16.082144,
                    16.555902,
                    17.067753,
                    16.89263,
                    17.179193,
                    17.394062,
                    17.380339,
                    17.344543,
                    9.80868,
                    9.700351,
                    9.471041,
                    10.475718,
                    10.170009,
                    9.719217,
                    11.173151,
                    11.392468,
                    10.665608,
                    13.5307255,
                    13.5676,
                    13.418203,
                    14.20976,
                    14.187897,
                    14.279683,
                    12.073867,
                    11.363533,
                    10.81241,
                    12.668889,
                    12.569225,
                    11.44458,
                    13.606373,
                    13.504073,
                    13.242694,
                    14.77801,
                    14.472781,
                    14.606466,
                    14.819032,
                    14.773358,
                    14.590045,
                    9.82821,
                    9.859559,
                    9.4892,
                    10.735989,
                    10.740499,
                    11.087214,
                    11.455667,
                    11.469841,
                    11.933579,
                    13.612441,
                    13.537084,
                    13.486797,
                    14.624133,
                    14.48338,
                    14.059692,
                    10.755568,
                    10.084878,
                    10.012684,
                    12.464246,
                    11.867342,
                    10.908587,
                    13.650195,
                    12.649345,
                    12.871241,
                    15.048872,
                    14.686372,
                    14.3898325,
                    15.183559,
                    15.01795,
                    15.287748,
                    10.181344,
                    10.090735,
                    10.099293,
                    12.417588,
                    10.84103,
                    10.764613,
                    13.392407,
                    13.061232,
                    12.990261,
                    14.832226,
                    14.2837515,
                    14.291037,
                    15.350183,
                    15.431137,
                    14.863564,
                    10.96116,
                    11.05921,
                    10.927852,
                    11.743365,
                    12.292238,
                    11.789876,
                    13.145701,
                    13.465183,
                    13.10563,
                    14.762835,
                    14.460265,
                    14.7532425,
                    15.29832,
                    15.170983,
                    15.240457,
                    -12.179996,
                    -12.123085,
                    -12.090571,
                    -12.350483,
                    -12.228599,
                    -12.229943,
                    -12.411915,
                    -12.361887,
                    -12.340246,
                    -12.470354,
                    -12.421983,
                    -12.439167,
                    -12.299829,
                    -12.286557,
                    -12.291277,
                    -5.010138,
                    -4.9898715,
                    -4.894176,
                    -6.238733,
                    -6.2247276,
                    -6.0079665,
                    -6.324661,
                    -6.160581,
                    -6.3732815,
                    -6.903157,
                    -6.9521055,
                    -7.428544,
                    -7.487682,
                    -7.3488517,
                    -7.703708,
                    -9.442566,
                    -9.527258,
                    -9.5406275,
                    -10.307181,
                    -10.312606,
                    -10.243525,
                    -10.648455,
                    -10.683285,
                    -10.646716,
                    -11.054283,
                    -11.053235,
                    -11.053226,
                    -11.115632,
                    -11.124398,
                    -11.124427,
                    -11.070621,
                    -11.008149,
                    -11.005931,
                    -11.338502,
                    -11.062728,
                    -11.107333,
                    -11.44347,
                    -11.342571,
                    -11.283779,
                    -11.890901,
                    -11.713697,
                    -11.611265,
                    -12.011567,
                    -11.805708,
                    -12.142088,
                    -12.135147,
                    -12.115666,
                    -12.125303,
                    -12.548151,
                    -12.583606,
                    -12.562668,
                    -12.919387,
                    -12.923524,
                    -12.832509,
                    -13.816269,
                    -13.766337,
                    -13.749497,
                    -13.30169,
                    -13.298196,
                    -13.300648,
                    -10.975868,
                    -10.987371,
                    -10.997097,
                    -10.996699,
                    -11.097419,
                    -12.425158,
                    -11.453486,
                    -11.482914,
                    -11.411889,
                    -12.014467,
                    -11.850493,
                    -12.068611,
                    -12.53568,
                    -12.5051365,
                    -12.4417095,
                    -10.413767,
                    -10.491725,
                    -10.393197,
                    -10.831925,
                    -10.800882,
                    -10.918591,
                    -11.426757,
                    -11.362621,
                    -11.404683,
                    -11.529879,
                    -11.360814,
                    -11.341493,
                    -11.976342,
                    -11.986499,
                    -11.9543295,
                    -0.94221765,
                    -0.9415276,
                    -0.51215875,
                    -2.6452124,
                    -2.354542,
                    -1.8329571,
                    -5.173399,
                    -4.180854,
                    -3.5414896,
                    -5.835125,
                    -5.6870375,
                    -4.632047,
                    -6.3056192,
                    -6.227565,
                    -5.121885,
                    0.37726128,
                    -0.36232853,
                    -0.6206881,
                    -1.7969018,
                    -2.74405,
                    -2.674324,
                    -3.7334118,
                    -5.1710753,
                    -5.0350275,
                    -5.564501,
                    -6.096675,
                    -6.0045314,
                    -6.753527,
                    -6.825425,
                    -6.8462462,
                    1.8838499,
                    1.6901839,
                    1.7825965,
                    1.0681549,
                    0.008707707,
                    0.4682911,
                    -0.7560295,
                    -1.9922668,
                    -1.3903347,
                    -2.766536,
                    -3.1809442,
                    -2.897491,
                    -0.7954578,
                    -0.78751165,
                    -0.7853579,
                    2.7927248,
                    2.7480314,
                    2.8136942,
                    2.045438,
                    1.702824,
                    1.4916502,
                    0.39458823,
                    0.089296795,
                    -0.23962024,
                    0.30457833,
                    0.00093272165,
                    -0.034723904,
                    -0.6904304,
                    -0.73665005,
                    -1.0997128,
                    4.006901,
                    4.1257,
                    4.002865,
                    2.7965925,
                    2.5719135,
                    1.4989744,
                    1.726227,
                    1.3765055,
                    0.7522121,
                    0.103555,
                    -0.88207746,
                    -0.6877364,
                    -0.83653307,
                    -0.91360486,
                    -1.4847922,
                    4.227744,
                    3.8503168,
                    3.6638055,
                    2.3601108,
                    1.3068259,
                    1.5267944,
                    1.7211992,
                    0.5151513,
                    0.36339906,
                    0.6927813,
                    -0.39657357,
                    -1.2061726,
                    -1.2983333,
                    -1.8471996,
                    -1.9441285,
                    4.222075,
                    4.526818,
                    4.7779284,
                    3.5250304,
                    3.8475592,
                    4.324369,
                    2.1449308,
                    3.0080953,
                    2.910148,
                    1.935903,
                    1.9318862,
                    2.1342013,
                    1.0949248,
                    1.3271103,
                    1.4580204,
                    -0.4357267,
                    -0.12068482,
                    -0.3022538,
                    -1.6023383,
                    -1.9812106,
                    -1.2755685,
                    -2.7149754,
                    -2.4121213,
                    -2.4572515,
                    -3.3819537,
                    -3.5163624,
                    -3.2583647,
                    -4.4197154,
                    -4.3820953,
                    -3.929999,
                    1.4853231,
                    1.4901572,
                    1.7394807,
                    0.3415997,
                    0.236037,
                    0.5817617,
                    -1.925289,
                    -1.3128114,
                    -1.7277076,
                    -4.9633713,
                    -3.9543414,
                    -3.5564659,
                    -5.5965095,
                    -5.166219,
                    -4.1346006
                  ],
                  "y": [
                    14.480765,
                    14.559368,
                    14.569379,
                    14.664137,
                    14.696416,
                    14.707297,
                    14.593743,
                    14.606024,
                    14.572673,
                    14.4770775,
                    14.488354,
                    14.458566,
                    14.457143,
                    14.450716,
                    14.452795,
                    13.570795,
                    13.701653,
                    13.751985,
                    13.841617,
                    14.248239,
                    14.205435,
                    13.887525,
                    14.046033,
                    14.208998,
                    14.277129,
                    13.863668,
                    14.5302725,
                    14.326337,
                    14.343652,
                    14.37341,
                    13.990149,
                    13.876682,
                    13.809744,
                    14.716669,
                    14.523653,
                    14.23349,
                    15.764775,
                    15.223408,
                    14.787548,
                    15.751698,
                    15.542248,
                    15.144658,
                    15.834498,
                    15.542657,
                    15.297736,
                    14.684363,
                    14.702268,
                    14.51588,
                    15.568151,
                    15.3201885,
                    15.162646,
                    16.380022,
                    15.989644,
                    15.667242,
                    16.611492,
                    16.661615,
                    16.571438,
                    16.889606,
                    16.856468,
                    16.82643,
                    18.164537,
                    18.017227,
                    17.919802,
                    18.494953,
                    18.530602,
                    18.427246,
                    18.696466,
                    18.700542,
                    18.699257,
                    18.705717,
                    18.679014,
                    18.641209,
                    18.672523,
                    18.700924,
                    18.658854,
                    6.9578276,
                    6.9325824,
                    6.8272877,
                    7.636538,
                    7.547377,
                    7.570809,
                    8.5475855,
                    8.791349,
                    8.412678,
                    11.083493,
                    11.078395,
                    10.913086,
                    13.65147,
                    13.635906,
                    13.591999,
                    9.011267,
                    8.818294,
                    8.733493,
                    9.926987,
                    9.738809,
                    9.669491,
                    11.688505,
                    11.717309,
                    11.13553,
                    12.521588,
                    12.473015,
                    12.176607,
                    13.352388,
                    13.330959,
                    13.3604555,
                    16.626892,
                    16.644617,
                    16.512651,
                    16.716356,
                    16.652689,
                    16.652168,
                    16.698492,
                    16.720808,
                    16.755455,
                    16.330072,
                    16.377474,
                    16.556404,
                    16.211758,
                    16.112373,
                    16.146868,
                    7.0236897,
                    7.0050726,
                    6.9978023,
                    7.673062,
                    7.958094,
                    7.860599,
                    8.778943,
                    8.961478,
                    9.287239,
                    10.187255,
                    9.990748,
                    10.240296,
                    10.667465,
                    10.475501,
                    10.779424,
                    6.2923226,
                    6.2839127,
                    6.301363,
                    5.8140907,
                    5.810284,
                    5.9696937,
                    6.255781,
                    6.261867,
                    6.1801147,
                    6.8817,
                    6.7123656,
                    6.645649,
                    7.2671304,
                    7.2805796,
                    7.6116433,
                    -12.074443,
                    -12.219635,
                    -12.048323,
                    -12.496152,
                    -12.873559,
                    -12.845177,
                    -12.675856,
                    -12.967145,
                    -13.702535,
                    -12.564479,
                    -13.100215,
                    -13.030015,
                    -13.614543,
                    -12.681456,
                    -13.028773,
                    -13.606863,
                    -13.299463,
                    -13.240042,
                    -14.470774,
                    -14.378875,
                    -15.879304,
                    -15.351408,
                    -15.12168,
                    -15.095965,
                    -16.383894,
                    -16.15024,
                    -16.243946,
                    -16.89517,
                    -16.929066,
                    -16.655907,
                    -11.827576,
                    -11.80918,
                    -11.790775,
                    -14.759537,
                    -14.80816,
                    -14.838712,
                    -19.576025,
                    -19.550352,
                    -19.586092,
                    -19.115337,
                    -19.10117,
                    -19.343805,
                    -18.902382,
                    -18.956886,
                    -18.976807,
                    -14.298402,
                    -14.225969,
                    -14.494281,
                    -16.193138,
                    -16.201273,
                    -16.778175,
                    -17.006725,
                    -17.505238,
                    -17.379412,
                    -17.224842,
                    -17.382736,
                    -17.939222,
                    -17.711044,
                    -18.050829,
                    -18.05482,
                    -15.649693,
                    -15.774106,
                    -16.359892,
                    -16.83573,
                    -16.825672,
                    -18.598007,
                    -18.419033,
                    -18.70157,
                    -18.797031,
                    -18.116802,
                    -18.15625,
                    -18.35727,
                    -18.535435,
                    -18.785433,
                    -18.637163,
                    -12.705637,
                    -12.921322,
                    -12.877944,
                    -13.798603,
                    -14.387415,
                    -14.477649,
                    -14.579182,
                    -15.885854,
                    -15.227025,
                    -17.160822,
                    -17.782316,
                    -17.91908,
                    -18.144081,
                    -18.300571,
                    -18.264132,
                    -13.131656,
                    -12.977177,
                    -13.010743,
                    -13.486862,
                    -15.645932,
                    -15.446218,
                    -16.562273,
                    -16.676178,
                    -16.762236,
                    -17.315956,
                    -17.207415,
                    -17.304445,
                    -18.02966,
                    -18.133778,
                    -17.89338,
                    -13.191003,
                    -13.198374,
                    -13.357424,
                    -14.826568,
                    -14.784414,
                    -14.972938,
                    -16.01624,
                    -16.22308,
                    -15.730894,
                    -16.503727,
                    -16.872896,
                    -17.10112,
                    -16.762295,
                    -17.311028,
                    -17.611216,
                    -11.376874,
                    -11.365966,
                    -11.145196,
                    -12.148397,
                    -11.990709,
                    -11.666027,
                    -13.1842165,
                    -12.826667,
                    -13.462801,
                    -13.625145,
                    -12.587322,
                    -13.580699,
                    -14.14009,
                    -14.253116,
                    -11.4124,
                    -10.834162,
                    -10.701387,
                    -10.716299,
                    -11.675908,
                    -11.85204,
                    -12.219401,
                    -13.435584,
                    -12.68209,
                    -12.514756,
                    -16.028841,
                    -14.966616,
                    -15.075036,
                    -15.940282,
                    -14.885786,
                    -15.58392,
                    5.6770654,
                    5.7162747,
                    5.72222,
                    5.281,
                    5.291871,
                    5.4652705,
                    4.6041636,
                    4.6978073,
                    4.9852786,
                    4.2685313,
                    4.363852,
                    4.528262,
                    4.001619,
                    4.0602565,
                    4.064678,
                    6.049527,
                    6.0574064,
                    6.0527883,
                    5.886765,
                    5.9351206,
                    6.0061445,
                    5.384977,
                    5.5480404,
                    5.615175,
                    5.025605,
                    5.10967,
                    5.0801377,
                    5.022548,
                    5.0416007,
                    5.040859,
                    6.053145,
                    6.0526576,
                    6.2152615,
                    5.168111,
                    5.2511897,
                    5.280966,
                    4.6631575,
                    4.6869683,
                    4.6614656,
                    3.9193807,
                    3.8683424,
                    3.925638,
                    3.5630262,
                    3.4907331,
                    3.460138,
                    7.4782248,
                    7.522688,
                    7.567592,
                    7.096395,
                    7.0916257,
                    7.1531506,
                    6.751561,
                    6.7488832,
                    6.8151455,
                    6.4506154,
                    6.404418,
                    6.389324,
                    6.5946956,
                    6.7159963,
                    6.6631966,
                    10.790915,
                    10.554788,
                    10.705843,
                    10.058907,
                    9.937543,
                    9.883922,
                    9.415911,
                    9.2740965,
                    9.089857,
                    9.896744,
                    9.459044,
                    9.4283905,
                    11.06116,
                    10.736381,
                    10.917916,
                    12.057915,
                    12.075624,
                    12.145805,
                    12.08996,
                    12.0243635,
                    12.096598,
                    12.048994,
                    12.497005,
                    12.010068,
                    12.220662,
                    12.644601,
                    12.330039,
                    12.382619,
                    12.557331,
                    12.422749,
                    4.8806643,
                    4.8812327,
                    4.8767567,
                    5.0481114,
                    4.9827437,
                    4.889861,
                    4.867177,
                    4.8444233,
                    4.8407702,
                    4.917157,
                    5.028313,
                    5.0493937,
                    4.7396483,
                    5.1575794,
                    4.9428883,
                    5.3623953,
                    5.352403,
                    5.3438396,
                    4.935683,
                    4.848564,
                    4.875549,
                    4.864411,
                    4.891505,
                    4.918213,
                    5.4433966,
                    5.618962,
                    5.675607,
                    5.7483063,
                    5.909914,
                    5.8285875,
                    10.161325,
                    10.156597,
                    10.165762,
                    10.111345,
                    10.117698,
                    10.172199,
                    10.248468,
                    10.279408,
                    10.263942,
                    10.503382,
                    10.516338,
                    10.536461,
                    10.509089,
                    10.49082,
                    10.505885,
                    -2.720905,
                    -2.7422805,
                    -2.7132585,
                    -2.6586328,
                    -2.6929488,
                    -2.7153687,
                    -2.4775028,
                    -2.4671333,
                    -2.501986,
                    -2.2383761,
                    -2.2564838,
                    -2.3121383,
                    -2.1058884,
                    -2.1736493,
                    -2.226637,
                    -1.7194242,
                    -1.7509745,
                    -1.8012118,
                    -1.8100959,
                    -1.8226504,
                    -1.8632435,
                    -1.814667,
                    -1.8265625,
                    -1.8159183,
                    -1.550991,
                    -1.4893893,
                    -1.5564535,
                    -1.5171942,
                    -1.5564611,
                    -1.5545526,
                    -0.34119436,
                    -0.8590811,
                    -1.049174,
                    -1.1623102,
                    -0.50688744,
                    -0.56982756,
                    0.18786624,
                    0.31147882,
                    0.35904706,
                    0.75658756,
                    0.7787765,
                    0.8611495,
                    0.910118,
                    1.0543162,
                    0.83527845,
                    -0.4857643,
                    -0.9336852,
                    -1.2300963,
                    -0.846861,
                    -0.9267006,
                    -0.9205109,
                    -0.2670526,
                    -0.3292637,
                    -0.4512462,
                    -0.252817,
                    -0.3775554,
                    -0.4125661,
                    -0.20808485,
                    -0.4707695,
                    -0.18071957,
                    1.1127512,
                    0.93126756,
                    0.864597,
                    3.78672,
                    -0.47876006,
                    -0.50853837,
                    3.5743697,
                    -0.57438475,
                    -0.7313674,
                    -0.7279316,
                    -1.128596,
                    -1.0456132,
                    -1.4416445,
                    -1.5131837,
                    -1.5523269,
                    0.40309462,
                    0.1598425,
                    0.5960582,
                    0.6638831,
                    0.6603825,
                    3.0111437,
                    0.7477399,
                    0.84729594,
                    3.0451207,
                    0.94169253,
                    0.9164254,
                    1.6651752,
                    0.9722796,
                    1.0379441,
                    0.54719275,
                    -0.61209196,
                    -0.8206513,
                    -0.9425089,
                    -0.10163678,
                    -0.059680045,
                    -0.49256974,
                    -0.13138357,
                    -0.10732651,
                    -0.13690118,
                    -0.7336792,
                    -0.69960654,
                    -0.20600413,
                    -1.0119067,
                    -0.8791858,
                    -0.3364762,
                    -3.901918,
                    -3.9049895,
                    -3.9023013,
                    -3.9242587,
                    -3.882296,
                    -3.875367,
                    -3.7383127,
                    -3.6686568,
                    -3.421101,
                    -3.821339,
                    -3.629485,
                    -3.4028566,
                    -3.2685542,
                    -3.2408109,
                    -3.2516112,
                    -4.9910192,
                    -4.9777217,
                    -4.982626,
                    -5.0839195,
                    -5.110426,
                    -5.0595527,
                    -5.192103,
                    -5.089638,
                    -5.0627465,
                    -5.087303,
                    -5.0771675,
                    -5.0921993,
                    -5.0776258,
                    -5.081066,
                    -5.073136,
                    9.781242,
                    10.000499,
                    9.956208,
                    9.056918,
                    8.890881,
                    8.840192,
                    8.425316,
                    8.405387,
                    8.217225,
                    7.459059,
                    7.647219,
                    7.600474,
                    6.87769,
                    6.6325865,
                    6.7038493,
                    9.882538,
                    9.764673,
                    9.80533,
                    9.102487,
                    9.244092,
                    9.086478,
                    7.7513022,
                    7.759418,
                    8.227187,
                    5.9356484,
                    5.659355,
                    6.123439,
                    7.0123587,
                    5.5443807,
                    5.845105,
                    6.681037,
                    6.8457613,
                    6.9900317,
                    6.1068244,
                    6.3092756,
                    6.6375403,
                    5.6025333,
                    5.795884,
                    5.9686346,
                    5.155195,
                    5.5232077,
                    5.3702292,
                    4.8050923,
                    5.054699,
                    4.9901643,
                    7.283195,
                    7.242511,
                    7.2645364,
                    6.7651105,
                    6.7683706,
                    6.6602073,
                    4.972205,
                    4.8626475,
                    5.0518985,
                    4.3314114,
                    4.286384,
                    4.43982,
                    3.9381034,
                    3.9932437,
                    4.02253,
                    8.630854,
                    8.557367,
                    8.427842,
                    7.6027656,
                    7.375806,
                    7.3562903,
                    6.852531,
                    6.4447703,
                    6.13876,
                    5.947954,
                    5.793532,
                    5.4789505,
                    4.9540057,
                    4.8111763,
                    4.7577934,
                    10.868305,
                    10.823098,
                    10.754835,
                    9.574492,
                    9.453127,
                    8.819372,
                    9.20936,
                    8.898019,
                    8.502172,
                    8.039244,
                    8.130992,
                    7.640547,
                    7.521758,
                    7.7407403,
                    7.591171,
                    1.1855524,
                    1.2634755,
                    1.2732464,
                    2.502578,
                    2.8132317,
                    2.8695362,
                    3.0949633,
                    3.3085787,
                    3.5740862,
                    2.8996415,
                    3.6071115,
                    3.5758424,
                    3.5309293,
                    4.366306,
                    4.0883675,
                    6.6412635,
                    6.6378665,
                    6.639105,
                    6.7613907,
                    6.711923,
                    6.6997466,
                    6.903574,
                    6.889746,
                    6.9175053,
                    7.2089615,
                    7.1591573,
                    7.1162806,
                    7.266268,
                    7.240394,
                    7.248407,
                    3.8175554,
                    3.8820004,
                    3.84904,
                    4.66542,
                    4.335466,
                    4.8320613,
                    4.6535125,
                    4.812657,
                    4.8175373,
                    5.660393,
                    5.5453315,
                    5.477744,
                    6.0448885,
                    5.8029737,
                    5.8461947,
                    -2.8395517,
                    -3.6084392,
                    -3.804574,
                    -3.8677711,
                    -3.9158168,
                    -4.245474,
                    -4.30012,
                    -4.714415,
                    -4.66961,
                    -4.823568,
                    -5.0024934,
                    -5.0710692,
                    -5.0224943,
                    -5.162995,
                    -5.159824,
                    -1.2344049,
                    -1.288577,
                    -1.4895283,
                    -1.6242968,
                    -1.5222399,
                    -2.0272489,
                    -1.7077569,
                    -1.944242,
                    -2.2600894,
                    -2.8818731,
                    -2.9497058,
                    -3.171992,
                    -3.0906563,
                    -3.100415,
                    -3.2459264,
                    -0.43397522,
                    -0.6471941,
                    -1.1924977,
                    -1.0162036,
                    -1.308827,
                    -1.55083,
                    -1.9112713,
                    -1.7483711,
                    -2.1698365,
                    -2.7624547,
                    -2.5880916,
                    -2.8014498,
                    -2.8064938,
                    -2.7970228,
                    -2.784819,
                    -1.6409243,
                    -1.4296364,
                    -1.0109892,
                    -2.1042082,
                    -1.9499637,
                    -1.287297,
                    -2.4708083,
                    -2.5625174,
                    -2.0146623,
                    -3.2967823,
                    -3.367164,
                    -3.266641,
                    -3.8029869,
                    -3.7735236,
                    -3.7254255,
                    -0.98538,
                    -0.79374015,
                    -0.5842487,
                    -1.0394608,
                    -0.9672501,
                    -0.6786469,
                    -1.4685425,
                    -1.1905352,
                    -0.94496965,
                    -1.5365572,
                    -1.2116305,
                    -1.0317854,
                    -1.9583089,
                    -1.7972499,
                    -1.4563397,
                    -3.8562243,
                    -3.8374443,
                    -3.6953855,
                    -4.451401,
                    -4.3818116,
                    -4.6461334,
                    -4.9510517,
                    -4.9167643,
                    -5.204139,
                    -6.110158,
                    -6.054401,
                    -6.058558,
                    -7.0386987,
                    -6.5137205,
                    -6.241972,
                    -3.7727177,
                    -3.4013553,
                    -3.3542328,
                    -5.1014724,
                    -4.6555824,
                    -3.8614678,
                    -5.88959,
                    -5.216315,
                    -5.28886,
                    -6.735932,
                    -6.5608854,
                    -6.1638627,
                    -6.629016,
                    -6.27968,
                    -6.6615486,
                    -3.5275993,
                    -3.4070923,
                    -3.4012203,
                    -4.693055,
                    -3.9478512,
                    -3.882869,
                    -5.0947056,
                    -4.7873287,
                    -4.7706294,
                    -6.043339,
                    -5.364844,
                    -5.355373,
                    -6.489149,
                    -6.540016,
                    -5.533169,
                    -1.9055792,
                    -1.8928769,
                    -1.8481883,
                    -5.237351,
                    -5.671247,
                    -5.2782183,
                    -6.0942163,
                    -6.3228145,
                    -6.139426,
                    -6.817569,
                    -6.7242823,
                    -6.853496,
                    -6.9859214,
                    -6.927094,
                    -6.9768066,
                    1.7706704,
                    1.8703778,
                    1.9241288,
                    0.9575447,
                    1.3569999,
                    1.4106452,
                    0.6340656,
                    0.8094256,
                    0.92006415,
                    0.47800562,
                    0.4219783,
                    0.4372058,
                    0.22508903,
                    0.28930882,
                    0.11533311,
                    -2.035698,
                    -2.0140495,
                    -1.9272773,
                    -3.177971,
                    -3.1446579,
                    -2.9772782,
                    -3.299936,
                    -3.1420307,
                    -3.2756195,
                    -3.6967738,
                    -3.7311714,
                    -3.9804132,
                    -4.0234027,
                    -3.9518056,
                    -4.129679,
                    -1.5296503,
                    -1.4991025,
                    -1.4915154,
                    -3.0027652,
                    -2.9514594,
                    -2.7960122,
                    -3.1385329,
                    -3.1672804,
                    -3.0513835,
                    -3.6920578,
                    -3.6904025,
                    -3.6885576,
                    -3.7168522,
                    -3.7254024,
                    -3.7143238,
                    4.3019824,
                    4.4006057,
                    4.426742,
                    3.7241533,
                    4.078332,
                    3.9703412,
                    3.2678885,
                    3.3942468,
                    3.603735,
                    2.3471305,
                    2.6510258,
                    2.9192722,
                    2.2122214,
                    2.5737627,
                    2.202736,
                    3.7406626,
                    3.7571754,
                    3.7674682,
                    3.2939017,
                    3.26413,
                    3.287377,
                    2.9513493,
                    2.9632623,
                    3.03049,
                    1.9875239,
                    1.9462126,
                    1.9817591,
                    1.6823925,
                    1.6750158,
                    1.6494101,
                    2.0724375,
                    2.1855824,
                    2.1510434,
                    0.9204316,
                    1.1834451,
                    -1.0657736,
                    -0.10482942,
                    -0.10963475,
                    0.07389606,
                    -1.0149684,
                    -0.6188066,
                    -0.76938003,
                    -1.636157,
                    -1.6047463,
                    -1.1872914,
                    0.9006554,
                    0.8747804,
                    1.0468662,
                    -0.7736699,
                    -0.72887516,
                    -0.60790634,
                    -1.7575568,
                    -1.344405,
                    -1.3939282,
                    -1.1878738,
                    -0.8491989,
                    -0.69691384,
                    -1.9456917,
                    -1.9726557,
                    -1.7955449,
                    -7.057417,
                    -7.0472183,
                    -6.92145,
                    -7.4675565,
                    -7.3872,
                    -7.264211,
                    -8.39885,
                    -7.8441176,
                    -7.640801,
                    -8.619864,
                    -8.311531,
                    -7.9449563,
                    -8.555667,
                    -8.2364855,
                    -8.014331,
                    -5.2676754,
                    -5.6144705,
                    -5.703348,
                    -6.01945,
                    -6.4690146,
                    -6.5001,
                    -6.862214,
                    -7.5608664,
                    -7.578788,
                    -7.566585,
                    -7.8937364,
                    -8.073977,
                    -7.9446797,
                    -8.122114,
                    -8.312533,
                    -4.73009,
                    -4.8362927,
                    -4.7728257,
                    -4.883866,
                    -5.220456,
                    -5.053068,
                    -5.5495577,
                    -5.951473,
                    -5.6326265,
                    -6.360278,
                    -6.5709248,
                    -6.371795,
                    -5.1639104,
                    -5.1555705,
                    -5.105931,
                    -2.7105992,
                    -2.6840994,
                    -2.6776223,
                    -2.6547437,
                    -2.714702,
                    -2.7000437,
                    -2.9711444,
                    -3.1197696,
                    -3.1765602,
                    -3.1040864,
                    -3.1772854,
                    -3.3498316,
                    -3.4347475,
                    -3.4830112,
                    -4.120976,
                    -3.5881534,
                    -3.5666313,
                    -3.5922801,
                    -3.852699,
                    -3.907942,
                    -4.531471,
                    -4.3964095,
                    -4.5282254,
                    -4.7783055,
                    -5.0494924,
                    -5.3476954,
                    -5.2640963,
                    -5.519936,
                    -5.481449,
                    -5.918218,
                    -3.9305558,
                    -4.1391044,
                    -4.1496015,
                    -4.312653,
                    -4.75603,
                    -4.661673,
                    -4.5657415,
                    -5.1110063,
                    -5.155329,
                    -5.0774274,
                    -5.609977,
                    -6.0195193,
                    -6.247284,
                    -6.6181917,
                    -6.6791472,
                    -2.921332,
                    -2.827195,
                    -2.6190658,
                    -2.7493126,
                    -2.694685,
                    -2.560601,
                    -2.7410395,
                    -2.5717227,
                    -2.4927256,
                    -2.5793128,
                    -2.5835218,
                    -2.4882822,
                    -2.6101978,
                    -2.535223,
                    -2.4483662,
                    -7.284257,
                    -7.1135626,
                    -7.194113,
                    -7.8688397,
                    -7.930872,
                    -7.680762,
                    -8.289465,
                    -8.217458,
                    -8.210658,
                    -8.497306,
                    -8.526977,
                    -8.344996,
                    -8.673547,
                    -8.765768,
                    -8.590278,
                    -5.9072666,
                    -5.924921,
                    -5.733188,
                    -6.6125197,
                    -6.581917,
                    -6.4496565,
                    -7.759073,
                    -7.5003357,
                    -7.5576053,
                    -8.888711,
                    -8.89137,
                    -8.808267,
                    -8.997815,
                    -9.023039,
                    -8.973338
                  ],
                  "z": [
                    1.0111965,
                    0.97116655,
                    1.0010114,
                    0.67520046,
                    0.644082,
                    0.64469796,
                    0.5146924,
                    0.5026394,
                    0.4434403,
                    0.1699088,
                    0.2181744,
                    0.21292163,
                    -0.007165242,
                    0.05836482,
                    0.06048136,
                    -0.50672996,
                    -0.8294077,
                    -0.8277096,
                    -1.289168,
                    -1.7415011,
                    -1.6144415,
                    -1.7579043,
                    -1.8364855,
                    -1.9182756,
                    -2.1491964,
                    -2.0495791,
                    -2.1618214,
                    -2.3743923,
                    -2.3620632,
                    -2.3598692,
                    1.0798194,
                    1.0930305,
                    1.1029932,
                    0.08369278,
                    0.17842023,
                    0.17674735,
                    -0.91445714,
                    -0.67859817,
                    -0.49099758,
                    -1.437692,
                    -1.380304,
                    -1.107593,
                    -1.8537831,
                    -1.800583,
                    -1.7298577,
                    0.8081314,
                    0.77117395,
                    0.57406515,
                    0.13353518,
                    0.13943028,
                    -0.0029930226,
                    -0.9075258,
                    -0.7861277,
                    -0.6454272,
                    -2.1600575,
                    -2.1834233,
                    -2.1076052,
                    -2.2574124,
                    -2.257677,
                    -2.195865,
                    -2.2175338,
                    -2.0441241,
                    -1.9654825,
                    -2.663252,
                    -2.747531,
                    -2.558716,
                    -3.3110268,
                    -3.2937112,
                    -3.262714,
                    -3.574119,
                    -3.5356624,
                    -3.4601717,
                    -3.6892316,
                    -3.6966972,
                    -3.6690998,
                    0.24424727,
                    0.17585489,
                    0.17216016,
                    0.26257202,
                    0.280471,
                    0.28626654,
                    0.36557576,
                    0.4488758,
                    0.445197,
                    0.6076798,
                    0.60141104,
                    0.5729407,
                    -0.40969035,
                    -0.38179162,
                    -0.33967522,
                    0.7810164,
                    0.74032533,
                    0.75105065,
                    0.77877426,
                    0.7463542,
                    0.76008433,
                    1.0764755,
                    1.1208731,
                    1.0210397,
                    0.88771677,
                    0.87963897,
                    0.9407693,
                    0.7562317,
                    0.7631551,
                    0.77360547,
                    -0.22658855,
                    -0.28921998,
                    -0.17772572,
                    -0.68644065,
                    -0.66058135,
                    -0.5208664,
                    -1.4825363,
                    -1.1675346,
                    -1.4006304,
                    -2.120276,
                    -2.130717,
                    -2.0223281,
                    -2.1503878,
                    -2.1403964,
                    -2.1276965,
                    1.1554682,
                    1.1058545,
                    1.0562245,
                    1.348814,
                    1.3368639,
                    1.3763303,
                    1.5710919,
                    1.495704,
                    1.6722852,
                    1.7118733,
                    1.7648685,
                    1.7309824,
                    1.8947645,
                    2.0401092,
                    1.8693727,
                    0.24823593,
                    0.21319385,
                    0.20536087,
                    0.85270053,
                    0.8433841,
                    0.8089645,
                    0.9211831,
                    0.90885824,
                    0.89132977,
                    0.9315265,
                    0.9447768,
                    0.9671624,
                    0.96666014,
                    0.97265947,
                    0.974235,
                    -0.93211704,
                    -1.0263587,
                    -0.83278054,
                    -1.2948239,
                    -1.5701026,
                    -1.3659425,
                    -1.62125,
                    -1.7627019,
                    -1.9320531,
                    -1.8588043,
                    -2.0029924,
                    -1.9608539,
                    -2.9018567,
                    -1.9478204,
                    -2.125154,
                    1.6509302,
                    1.5799887,
                    1.6017753,
                    1.5976944,
                    1.6483487,
                    2.4345112,
                    1.5241498,
                    1.4122509,
                    1.374427,
                    1.281016,
                    1.347333,
                    1.3704334,
                    1.1653473,
                    1.1753964,
                    1.33592,
                    0.07742992,
                    0.08035625,
                    0.112529084,
                    -0.40520018,
                    -0.41847694,
                    -0.40026197,
                    -4.828136,
                    -4.904244,
                    -4.8372097,
                    -6.2295656,
                    -6.305217,
                    -5.4337955,
                    -7.284135,
                    -6.915361,
                    -6.3683114,
                    -2.3385487,
                    -2.3114874,
                    -2.663441,
                    -3.2827992,
                    -3.3173137,
                    -3.8749106,
                    -3.8463287,
                    -4.222,
                    -4.2541842,
                    -3.9807515,
                    -4.084567,
                    -4.9583826,
                    -4.758011,
                    -5.1875606,
                    -5.2198052,
                    -1.0301526,
                    -1.0569516,
                    -1.4227812,
                    -1.2793162,
                    -1.4391247,
                    -3.3103209,
                    -2.4532468,
                    -3.2441857,
                    -3.5876186,
                    -1.3309945,
                    -1.286292,
                    -2.1152678,
                    -1.433736,
                    -1.8875508,
                    -1.5594565,
                    1.2150602,
                    0.62412477,
                    0.73758537,
                    0.12525111,
                    -0.12617113,
                    -0.034797978,
                    -0.27744707,
                    -0.8641629,
                    -0.50783336,
                    -1.3457389,
                    -2.2246084,
                    -2.4637513,
                    -2.536701,
                    -2.9043956,
                    -2.953041,
                    -0.9164405,
                    -0.7456008,
                    -0.6996319,
                    -1.2057687,
                    -2.3776197,
                    -2.1644363,
                    -3.4822395,
                    -3.6713822,
                    -3.7707176,
                    -5.131404,
                    -4.904955,
                    -5.2219076,
                    -7.291294,
                    -7.524132,
                    -7.1690044,
                    -5.1660676,
                    -5.1606703,
                    -5.3023663,
                    -6.286216,
                    -6.2699294,
                    -6.3567734,
                    -6.9261527,
                    -7.010453,
                    -6.710662,
                    -7.4055643,
                    -7.4279513,
                    -7.484701,
                    -8.235138,
                    -7.909249,
                    -7.893659,
                    -2.2116866,
                    -2.0917323,
                    -1.6788341,
                    -2.9018471,
                    -2.6448553,
                    -2.0165062,
                    -3.7157166,
                    -3.249207,
                    -3.984932,
                    -4.0369406,
                    -3.2054331,
                    -3.9765358,
                    -4.4576135,
                    -4.452303,
                    -2.581267,
                    -3.1358829,
                    -3.1383414,
                    -3.1513333,
                    -3.9578803,
                    -4.124429,
                    -4.5929112,
                    -5.1547637,
                    -4.732063,
                    -4.5618267,
                    -6.210891,
                    -5.687897,
                    -5.806358,
                    -6.1420927,
                    -5.6204977,
                    -5.9839067,
                    -1.7686968,
                    -1.6167779,
                    -1.5371015,
                    -2.5846114,
                    -2.545695,
                    -2.0387244,
                    -4.244551,
                    -3.9210699,
                    -3.1692932,
                    -4.911523,
                    -4.6787868,
                    -4.278862,
                    -5.384606,
                    -5.2418704,
                    -5.225736,
                    -1.5107472,
                    -1.398278,
                    -1.2950696,
                    -3.395116,
                    -3.145997,
                    -2.7920566,
                    -4.7946854,
                    -4.2943807,
                    -3.9567852,
                    -7.7858176,
                    -7.888311,
                    -7.53014,
                    -7.6618104,
                    -7.5688243,
                    -7.5780697,
                    -4.3726916,
                    -4.4054937,
                    -3.980098,
                    -5.4847207,
                    -5.3007693,
                    -5.020052,
                    -6.9591956,
                    -7.0272355,
                    -7.020203,
                    -6.229102,
                    -6.1258526,
                    -6.1783285,
                    -6.5454016,
                    -6.413724,
                    -6.3899794,
                    -3.1653671,
                    -3.082926,
                    -3.154014,
                    -4.6435113,
                    -4.7457066,
                    -4.5906053,
                    -5.9711323,
                    -6.0144544,
                    -5.892416,
                    -7.044718,
                    -6.985084,
                    -7.0660243,
                    -7.8548503,
                    -8.014161,
                    -7.943484,
                    2.663421,
                    2.6980507,
                    2.6401486,
                    3.1685739,
                    3.1984441,
                    3.243378,
                    3.7777135,
                    3.8992743,
                    4.0632505,
                    3.7528145,
                    3.8961687,
                    3.895202,
                    3.0316765,
                    2.6906474,
                    3.012857,
                    -0.27127022,
                    -2.342857,
                    -0.8916103,
                    -0.7974324,
                    -2.921216,
                    -1.3813953,
                    -1.9165249,
                    -4.868319,
                    -2.7431688,
                    -3.9031546,
                    -5.3254833,
                    -4.3242536,
                    -4.419565,
                    -5.039241,
                    -4.5848703,
                    -1.3861271,
                    -1.5110532,
                    -1.5682356,
                    -2.44848,
                    -2.6335573,
                    -3.2024934,
                    -3.9761965,
                    -4.2177052,
                    -4.0530987,
                    -6.0385027,
                    -6.3309083,
                    -6.390315,
                    -7.0545893,
                    -7.112454,
                    -7.1202374,
                    -1.8802168,
                    -1.8999677,
                    -1.930891,
                    -3.861227,
                    -4.1835346,
                    -3.9967637,
                    -5.4286675,
                    -5.592527,
                    -5.8243046,
                    -6.927823,
                    -7.1662173,
                    -7.174838,
                    -7.7715106,
                    -7.7583427,
                    -7.788326,
                    -5.5056376,
                    -5.479258,
                    -5.6703935,
                    -5.984307,
                    -5.927111,
                    -6.2640805,
                    -6.635293,
                    -6.965304,
                    -6.867186,
                    -8.217311,
                    -8.313276,
                    -8.416605,
                    -8.3199625,
                    -8.240491,
                    -8.368412,
                    -9.478688,
                    -9.457645,
                    -9.333386,
                    -10.571716,
                    -10.258604,
                    -9.952125,
                    -11.797835,
                    -11.654512,
                    -11.603753,
                    -13.049076,
                    -12.9889965,
                    -12.804946,
                    -14.194325,
                    -14.168328,
                    -13.850563,
                    -7.3571906,
                    -7.3758545,
                    -7.2899647,
                    -7.8136783,
                    -7.8175545,
                    -7.64583,
                    -8.978801,
                    -9.334545,
                    -9.131672,
                    -10.72988,
                    -11.482871,
                    -11.342325,
                    -12.1837,
                    -11.732999,
                    -11.824476,
                    -9.706385,
                    -8.68259,
                    -8.349214,
                    -16.69301,
                    -10.650963,
                    -10.152757,
                    -13.446229,
                    -12.62872,
                    -12.733924,
                    -13.896176,
                    -13.502746,
                    -13.230361,
                    -14.681986,
                    -14.440652,
                    -14.501586,
                    -8.431424,
                    -7.8908553,
                    -7.475311,
                    -9.597831,
                    -9.674856,
                    -9.104838,
                    -12.20534,
                    -12.33902,
                    -11.573876,
                    -13.996336,
                    -12.875241,
                    -12.796163,
                    -14.675491,
                    -15.209198,
                    -14.208702,
                    -9.453333,
                    -9.468203,
                    -9.403208,
                    -12.921961,
                    -11.936765,
                    -11.964893,
                    -12.932653,
                    -13.370454,
                    -13.698781,
                    -14.401676,
                    -14.862709,
                    -14.561292,
                    -15.354406,
                    -15.452683,
                    -15.465924,
                    -8.844367,
                    -8.489069,
                    -8.908386,
                    -11.490394,
                    -11.907084,
                    -12.779973,
                    -12.318271,
                    -13.141855,
                    -12.864024,
                    -13.582635,
                    -13.516636,
                    -13.619231,
                    -14.144794,
                    -14.320825,
                    -15.231718,
                    -8.435473,
                    -8.161908,
                    -7.9704185,
                    -9.847253,
                    -9.83829,
                    -8.968173,
                    -11.860917,
                    -11.150206,
                    -10.664221,
                    -16.116125,
                    -16.055231,
                    -13.754859,
                    -16.428009,
                    -16.230858,
                    -15.00665,
                    -14.631131,
                    -14.693297,
                    -14.814321,
                    -15.109634,
                    -15.474381,
                    -15.589221,
                    -15.943266,
                    -16.005783,
                    -16.471018,
                    -16.371292,
                    -16.546406,
                    -16.839615,
                    -17.021835,
                    -17.058044,
                    -17.152721,
                    -4.8080716,
                    -4.7234206,
                    -4.8149414,
                    -5.5440426,
                    -5.6409206,
                    -5.528209,
                    -6.4664087,
                    -6.1219196,
                    -5.903114,
                    -6.8157043,
                    -6.6747813,
                    -6.5454006,
                    -7.263926,
                    -7.1810393,
                    -7.2251906,
                    6.7459264,
                    6.2290764,
                    5.9338827,
                    8.651328,
                    8.347849,
                    7.731204,
                    9.250881,
                    8.670162,
                    8.592329,
                    10.257305,
                    9.381418,
                    8.9523535,
                    10.771116,
                    10.5721855,
                    10.29099,
                    7.025811,
                    6.9402514,
                    6.4522157,
                    8.150514,
                    7.632813,
                    7.8130054,
                    9.532333,
                    9.387015,
                    8.892561,
                    11.785198,
                    12.144169,
                    11.606231,
                    10.161738,
                    12.304476,
                    11.994911,
                    11.565451,
                    11.296075,
                    11.147342,
                    12.330226,
                    12.07608,
                    11.680294,
                    13.196603,
                    12.652302,
                    12.48661,
                    13.186589,
                    12.852391,
                    12.885536,
                    13.2556925,
                    13.2465105,
                    13.083246,
                    8.813193,
                    8.879264,
                    8.844853,
                    9.618247,
                    9.702721,
                    9.808579,
                    11.063742,
                    11.216487,
                    11.053174,
                    11.411425,
                    11.632783,
                    11.458333,
                    12.330742,
                    12.068394,
                    12.340031,
                    7.329288,
                    7.4813647,
                    7.7038374,
                    8.685542,
                    9.038771,
                    9.115851,
                    9.769698,
                    10.297175,
                    10.832772,
                    10.8370075,
                    11.047011,
                    11.565374,
                    12.163756,
                    12.440834,
                    12.574038,
                    4.095807,
                    4.1660314,
                    4.269523,
                    5.363495,
                    5.608286,
                    6.0388317,
                    5.6949368,
                    6.3046327,
                    7.069858,
                    7.2682424,
                    7.3232026,
                    8.353159,
                    8.03525,
                    7.878744,
                    8.209682,
                    5.5753756,
                    5.6249843,
                    5.6315885,
                    6.503357,
                    6.6230583,
                    6.623357,
                    6.7856035,
                    6.706753,
                    6.6752877,
                    7.324865,
                    7.3267593,
                    7.364634,
                    7.4694614,
                    7.488993,
                    7.45181,
                    2.8203928,
                    2.8095343,
                    2.8129606,
                    3.8540866,
                    3.573944,
                    3.5122778,
                    4.6272573,
                    4.5500164,
                    4.6719785,
                    6.1234264,
                    5.869816,
                    5.681465,
                    6.4273543,
                    6.2931013,
                    6.3287873,
                    7.2812037,
                    7.3003073,
                    7.2879424,
                    7.653902,
                    7.679038,
                    7.4953003,
                    8.239833,
                    8.100639,
                    8.106649,
                    8.208844,
                    8.133253,
                    8.212972,
                    8.434049,
                    8.40307,
                    8.44814,
                    -1.1055409,
                    -1.5774808,
                    -1.676046,
                    -1.7333026,
                    -1.7268746,
                    -2.025767,
                    -2.0545886,
                    -2.6530738,
                    -2.5539706,
                    -2.8491828,
                    -3.0771542,
                    -3.1669405,
                    -3.3523035,
                    -3.4663112,
                    -3.390576,
                    -1.6709545,
                    -1.8020275,
                    -2.2385652,
                    -2.5785267,
                    -2.310748,
                    -3.1762352,
                    -2.8036582,
                    -3.1030128,
                    -3.4653683,
                    -4.0993505,
                    -4.0955253,
                    -4.1610622,
                    -4.333213,
                    -4.2753205,
                    -4.326027,
                    -2.0408378,
                    -2.192735,
                    -2.6032283,
                    -2.3887074,
                    -2.796416,
                    -3.1235352,
                    -3.6291778,
                    -3.4377046,
                    -3.9662821,
                    -4.5474863,
                    -4.3588557,
                    -4.626355,
                    -4.7601595,
                    -4.745716,
                    -4.72232,
                    1.5039593,
                    1.3691617,
                    1.1218482,
                    1.4450579,
                    1.5355579,
                    1.2575294,
                    1.2654468,
                    1.176048,
                    1.383645,
                    0.6071808,
                    0.5961178,
                    0.6952251,
                    0.34982458,
                    0.40144065,
                    0.42022514,
                    -0.12299542,
                    0.10243343,
                    0.23322268,
                    -0.31562716,
                    -0.26564425,
                    0.07013073,
                    -0.4033848,
                    -0.45129928,
                    -0.43166015,
                    -0.61896104,
                    -0.62713814,
                    -0.8456815,
                    -0.29168043,
                    -0.33726877,
                    -0.30698112,
                    4.381566,
                    4.303205,
                    4.4075394,
                    4.4899793,
                    4.232973,
                    4.3791337,
                    4.50415,
                    4.351828,
                    4.3322334,
                    3.9577274,
                    3.9335022,
                    4.0388026,
                    3.7781274,
                    3.4641888,
                    3.6237514,
                    3.7614722,
                    3.6065974,
                    3.6929772,
                    2.8310804,
                    3.0054865,
                    3.0632102,
                    2.59304,
                    2.942093,
                    2.657978,
                    2.2156065,
                    2.1375046,
                    2.2179146,
                    2.180103,
                    2.4716623,
                    2.0555322,
                    2.3112016,
                    2.4900072,
                    2.4026158,
                    2.1244411,
                    2.3307903,
                    2.4021394,
                    1.7750083,
                    1.9351186,
                    2.0274432,
                    1.4113442,
                    1.6944293,
                    1.7187566,
                    0.67969245,
                    0.50243026,
                    1.2560915,
                    2.8920226,
                    2.844595,
                    2.8237267,
                    1.3689007,
                    1.0349704,
                    1.3084034,
                    0.79558134,
                    0.5079844,
                    0.6928381,
                    -0.19047132,
                    0.0071201287,
                    -0.25721526,
                    -0.8781422,
                    -0.64774054,
                    -0.79442394,
                    2.8866684,
                    2.6579967,
                    2.526152,
                    4.1157,
                    3.3587594,
                    3.3106277,
                    4.801556,
                    4.4146643,
                    4.09467,
                    5.7080035,
                    5.432358,
                    5.3084145,
                    5.962656,
                    5.804563,
                    5.851202,
                    2.2509327,
                    2.2397816,
                    2.1985042,
                    2.8207936,
                    2.8000147,
                    2.7051218,
                    2.8949697,
                    2.7971256,
                    2.8628676,
                    3.1484544,
                    3.1763628,
                    3.3882601,
                    3.4125564,
                    3.3537962,
                    3.5198674,
                    1.289161,
                    1.3036901,
                    1.298378,
                    3.2911623,
                    3.2301962,
                    3.010496,
                    3.7558968,
                    3.8302612,
                    3.6089578,
                    5.2570863,
                    5.256368,
                    5.2551746,
                    5.447768,
                    5.4816976,
                    5.46685,
                    4.533333,
                    4.416845,
                    4.331135,
                    5.3661003,
                    5.01558,
                    5.0974703,
                    5.8415923,
                    5.7757545,
                    5.3800635,
                    6.609024,
                    6.338424,
                    6.0775204,
                    6.761519,
                    6.438522,
                    6.727577,
                    2.1143346,
                    2.0548687,
                    2.071237,
                    3.2361524,
                    3.2912347,
                    3.281256,
                    4.427408,
                    4.418172,
                    4.300636,
                    6.874028,
                    6.941218,
                    6.836244,
                    7.3456974,
                    7.37343,
                    7.4232693,
                    -0.17323096,
                    -0.20045307,
                    -0.17988007,
                    0.1345291,
                    0.06779382,
                    -0.05538025,
                    0.6320805,
                    0.5129415,
                    0.5806031,
                    1.2322658,
                    1.0649159,
                    1.5974532,
                    1.6887084,
                    1.6047387,
                    1.1405574,
                    0.067566775,
                    0.113559976,
                    0.010783764,
                    1.3172978,
                    1.3677155,
                    1.4942865,
                    2.4575946,
                    2.2788274,
                    2.3829195,
                    2.8561141,
                    2.6061165,
                    2.6868484,
                    2.924734,
                    2.792512,
                    2.7098773,
                    12.467836,
                    12.446399,
                    12.2975645,
                    12.567008,
                    12.51522,
                    12.473404,
                    13.047718,
                    12.796737,
                    12.6807575,
                    13.196794,
                    13.445747,
                    13.037654,
                    13.546227,
                    13.622978,
                    13.296456,
                    10.718926,
                    10.973088,
                    10.907294,
                    11.1673,
                    11.493882,
                    11.359959,
                    11.718489,
                    12.1979685,
                    12.054913,
                    12.45477,
                    12.669159,
                    12.470695,
                    13.182312,
                    13.191274,
                    13.129032,
                    9.660216,
                    9.7792015,
                    9.698053,
                    9.814191,
                    9.982081,
                    9.973548,
                    9.856611,
                    10.39216,
                    10.210274,
                    10.470107,
                    10.611683,
                    10.511759,
                    9.779314,
                    9.8183155,
                    9.8583145,
                    6.507662,
                    6.516427,
                    6.527584,
                    6.0585756,
                    6.151102,
                    6.181495,
                    6.0884013,
                    6.3771734,
                    6.6453385,
                    5.309159,
                    5.6235533,
                    5.774269,
                    5.8023715,
                    5.9434423,
                    6.3558745,
                    4.360094,
                    4.332364,
                    4.4809914,
                    4.9275494,
                    4.997711,
                    5.809203,
                    5.2716584,
                    5.4901114,
                    5.94608,
                    5.976277,
                    6.656108,
                    6.5558167,
                    6.364232,
                    6.493321,
                    6.684391,
                    3.00008,
                    3.3068357,
                    3.463279,
                    3.6496031,
                    4.312506,
                    4.257782,
                    3.711445,
                    4.659668,
                    4.8082857,
                    4.095548,
                    5.2003136,
                    5.8892083,
                    5.639156,
                    6.1144304,
                    6.1967483,
                    3.7587404,
                    3.4435349,
                    3.2213702,
                    3.380925,
                    3.2097285,
                    3.0058393,
                    3.7747228,
                    3.2593236,
                    3.2211306,
                    3.6963384,
                    3.5388792,
                    3.3101048,
                    4.025098,
                    3.7767303,
                    3.5401397,
                    10.015547,
                    9.969732,
                    9.9531555,
                    9.946707,
                    10.103997,
                    9.909551,
                    10.090303,
                    10.067246,
                    9.921363,
                    10.353968,
                    10.364699,
                    10.275243,
                    10.680505,
                    10.554283,
                    10.354514,
                    10.558131,
                    10.583646,
                    10.45507,
                    10.994796,
                    10.827612,
                    10.795326,
                    11.237929,
                    11.125111,
                    11.104489,
                    11.927481,
                    11.627073,
                    11.564099,
                    12.195513,
                    11.941684,
                    11.659158
                  ]
                }
              ],
              "layout": {
                "coloraxis": {
                  "colorbar": {
                    "title": {
                      "text": "Anomaly"
                    }
                  },
                  "colorscale": [
                    [
                      0,
                      "#440154"
                    ],
                    [
                      0.1111111111111111,
                      "#482878"
                    ],
                    [
                      0.2222222222222222,
                      "#3e4989"
                    ],
                    [
                      0.3333333333333333,
                      "#31688e"
                    ],
                    [
                      0.4444444444444444,
                      "#26828e"
                    ],
                    [
                      0.5555555555555556,
                      "#1f9e89"
                    ],
                    [
                      0.6666666666666666,
                      "#35b779"
                    ],
                    [
                      0.7777777777777778,
                      "#6ece58"
                    ],
                    [
                      0.8888888888888888,
                      "#b5de2b"
                    ],
                    [
                      1,
                      "#fde725"
                    ]
                  ]
                },
                "height": 800,
                "legend": {
                  "tracegroupgap": 0
                },
                "scene": {
                  "domain": {
                    "x": [
                      0,
                      1
                    ],
                    "y": [
                      0,
                      1
                    ]
                  },
                  "xaxis": {
                    "title": {
                      "text": "0"
                    }
                  },
                  "yaxis": {
                    "title": {
                      "text": "1"
                    }
                  },
                  "zaxis": {
                    "title": {
                      "text": "2"
                    }
                  }
                },
                "template": {
                  "data": {
                    "scatter": [
                      {
                        "type": "scatter"
                      }
                    ]
                  }
                },
                "title": {
                  "text": "3d TSNE Plot for Outliers"
                },
                "width": 900
              }
            }
          },
          "metadata": {},
          "output_type": "display_data"
        }
      ],
      "source": [
        "# tsne plot anomalies\n",
        "plot_model(iforest, plot = 'tsne')"
      ]
    },
    {
      "cell_type": "code",
      "execution_count": 51,
      "id": "c75f07a8",
      "metadata": {
        "colab": {
          "referenced_widgets": [
            "9404175a4d9b485db9c968fd33da83d2"
          ]
        },
        "id": "c75f07a8",
        "outputId": "e68a2623-c741-498a-c567-4b9a4cd6a379"
      },
      "outputs": [
        {
          "data": {
            "application/vnd.jupyter.widget-view+json": {
              "model_id": "65e1f24a59be4a968c5e9ba0875222ef",
              "version_major": 2,
              "version_minor": 0
            },
            "text/plain": [
              "interactive(children=(ToggleButtons(description='Plot Type:', icons=('',), options=(('Pipeline Plot', 'pipelin…"
            ]
          },
          "metadata": {},
          "output_type": "display_data"
        }
      ],
      "source": [
        "evaluate_model(iforest)"
      ]
    },
    {
      "cell_type": "code",
      "execution_count": 52,
      "id": "87c1a007",
      "metadata": {
        "id": "87c1a007",
        "outputId": "e5ed28c3-f1a5-43df-ca52-d6c0bb53b3d7"
      },
      "outputs": [
        {
          "data": {
            "text/html": [
              "<div>\n",
              "<style scoped>\n",
              "    .dataframe tbody tr th:only-of-type {\n",
              "        vertical-align: middle;\n",
              "    }\n",
              "\n",
              "    .dataframe tbody tr th {\n",
              "        vertical-align: top;\n",
              "    }\n",
              "\n",
              "    .dataframe thead th {\n",
              "        text-align: right;\n",
              "    }\n",
              "</style>\n",
              "<table border=\"1\" class=\"dataframe\">\n",
              "  <thead>\n",
              "    <tr style=\"text-align: right;\">\n",
              "      <th></th>\n",
              "      <th>MouseID_309_1</th>\n",
              "      <th>MouseID_309_2</th>\n",
              "      <th>MouseID_309_3</th>\n",
              "      <th>MouseID_309_4</th>\n",
              "      <th>MouseID_309_5</th>\n",
              "      <th>MouseID_309_6</th>\n",
              "      <th>MouseID_309_7</th>\n",
              "      <th>MouseID_309_8</th>\n",
              "      <th>MouseID_309_9</th>\n",
              "      <th>MouseID_309_10</th>\n",
              "      <th>...</th>\n",
              "      <th>class_c-CS-m</th>\n",
              "      <th>class_c-SC-m</th>\n",
              "      <th>class_c-CS-s</th>\n",
              "      <th>class_c-SC-s</th>\n",
              "      <th>class_t-CS-m</th>\n",
              "      <th>class_t-SC-m</th>\n",
              "      <th>class_t-CS-s</th>\n",
              "      <th>class_t-SC-s</th>\n",
              "      <th>Anomaly</th>\n",
              "      <th>Anomaly_Score</th>\n",
              "    </tr>\n",
              "  </thead>\n",
              "  <tbody>\n",
              "    <tr>\n",
              "      <th>0</th>\n",
              "      <td>1.0</td>\n",
              "      <td>0.0</td>\n",
              "      <td>0.0</td>\n",
              "      <td>0.0</td>\n",
              "      <td>0.0</td>\n",
              "      <td>0.0</td>\n",
              "      <td>0.0</td>\n",
              "      <td>0.0</td>\n",
              "      <td>0.0</td>\n",
              "      <td>0.0</td>\n",
              "      <td>...</td>\n",
              "      <td>1.0</td>\n",
              "      <td>0.0</td>\n",
              "      <td>0.0</td>\n",
              "      <td>0.0</td>\n",
              "      <td>0.0</td>\n",
              "      <td>0.0</td>\n",
              "      <td>0.0</td>\n",
              "      <td>0.0</td>\n",
              "      <td>0</td>\n",
              "      <td>-0.015795</td>\n",
              "    </tr>\n",
              "    <tr>\n",
              "      <th>1</th>\n",
              "      <td>0.0</td>\n",
              "      <td>1.0</td>\n",
              "      <td>0.0</td>\n",
              "      <td>0.0</td>\n",
              "      <td>0.0</td>\n",
              "      <td>0.0</td>\n",
              "      <td>0.0</td>\n",
              "      <td>0.0</td>\n",
              "      <td>0.0</td>\n",
              "      <td>0.0</td>\n",
              "      <td>...</td>\n",
              "      <td>1.0</td>\n",
              "      <td>0.0</td>\n",
              "      <td>0.0</td>\n",
              "      <td>0.0</td>\n",
              "      <td>0.0</td>\n",
              "      <td>0.0</td>\n",
              "      <td>0.0</td>\n",
              "      <td>0.0</td>\n",
              "      <td>0</td>\n",
              "      <td>-0.016963</td>\n",
              "    </tr>\n",
              "    <tr>\n",
              "      <th>2</th>\n",
              "      <td>0.0</td>\n",
              "      <td>0.0</td>\n",
              "      <td>1.0</td>\n",
              "      <td>0.0</td>\n",
              "      <td>0.0</td>\n",
              "      <td>0.0</td>\n",
              "      <td>0.0</td>\n",
              "      <td>0.0</td>\n",
              "      <td>0.0</td>\n",
              "      <td>0.0</td>\n",
              "      <td>...</td>\n",
              "      <td>1.0</td>\n",
              "      <td>0.0</td>\n",
              "      <td>0.0</td>\n",
              "      <td>0.0</td>\n",
              "      <td>0.0</td>\n",
              "      <td>0.0</td>\n",
              "      <td>0.0</td>\n",
              "      <td>0.0</td>\n",
              "      <td>0</td>\n",
              "      <td>-0.016017</td>\n",
              "    </tr>\n",
              "    <tr>\n",
              "      <th>3</th>\n",
              "      <td>0.0</td>\n",
              "      <td>0.0</td>\n",
              "      <td>0.0</td>\n",
              "      <td>1.0</td>\n",
              "      <td>0.0</td>\n",
              "      <td>0.0</td>\n",
              "      <td>0.0</td>\n",
              "      <td>0.0</td>\n",
              "      <td>0.0</td>\n",
              "      <td>0.0</td>\n",
              "      <td>...</td>\n",
              "      <td>1.0</td>\n",
              "      <td>0.0</td>\n",
              "      <td>0.0</td>\n",
              "      <td>0.0</td>\n",
              "      <td>0.0</td>\n",
              "      <td>0.0</td>\n",
              "      <td>0.0</td>\n",
              "      <td>0.0</td>\n",
              "      <td>0</td>\n",
              "      <td>-0.029976</td>\n",
              "    </tr>\n",
              "    <tr>\n",
              "      <th>4</th>\n",
              "      <td>0.0</td>\n",
              "      <td>0.0</td>\n",
              "      <td>0.0</td>\n",
              "      <td>0.0</td>\n",
              "      <td>1.0</td>\n",
              "      <td>0.0</td>\n",
              "      <td>0.0</td>\n",
              "      <td>0.0</td>\n",
              "      <td>0.0</td>\n",
              "      <td>0.0</td>\n",
              "      <td>...</td>\n",
              "      <td>1.0</td>\n",
              "      <td>0.0</td>\n",
              "      <td>0.0</td>\n",
              "      <td>0.0</td>\n",
              "      <td>0.0</td>\n",
              "      <td>0.0</td>\n",
              "      <td>0.0</td>\n",
              "      <td>0.0</td>\n",
              "      <td>0</td>\n",
              "      <td>-0.031542</td>\n",
              "    </tr>\n",
              "    <tr>\n",
              "      <th>...</th>\n",
              "      <td>...</td>\n",
              "      <td>...</td>\n",
              "      <td>...</td>\n",
              "      <td>...</td>\n",
              "      <td>...</td>\n",
              "      <td>...</td>\n",
              "      <td>...</td>\n",
              "      <td>...</td>\n",
              "      <td>...</td>\n",
              "      <td>...</td>\n",
              "      <td>...</td>\n",
              "      <td>...</td>\n",
              "      <td>...</td>\n",
              "      <td>...</td>\n",
              "      <td>...</td>\n",
              "      <td>...</td>\n",
              "      <td>...</td>\n",
              "      <td>...</td>\n",
              "      <td>...</td>\n",
              "      <td>...</td>\n",
              "      <td>...</td>\n",
              "    </tr>\n",
              "    <tr>\n",
              "      <th>1075</th>\n",
              "      <td>0.0</td>\n",
              "      <td>0.0</td>\n",
              "      <td>0.0</td>\n",
              "      <td>0.0</td>\n",
              "      <td>0.0</td>\n",
              "      <td>0.0</td>\n",
              "      <td>0.0</td>\n",
              "      <td>0.0</td>\n",
              "      <td>0.0</td>\n",
              "      <td>0.0</td>\n",
              "      <td>...</td>\n",
              "      <td>0.0</td>\n",
              "      <td>0.0</td>\n",
              "      <td>0.0</td>\n",
              "      <td>0.0</td>\n",
              "      <td>0.0</td>\n",
              "      <td>0.0</td>\n",
              "      <td>0.0</td>\n",
              "      <td>1.0</td>\n",
              "      <td>0</td>\n",
              "      <td>-0.014019</td>\n",
              "    </tr>\n",
              "    <tr>\n",
              "      <th>1076</th>\n",
              "      <td>0.0</td>\n",
              "      <td>0.0</td>\n",
              "      <td>0.0</td>\n",
              "      <td>0.0</td>\n",
              "      <td>0.0</td>\n",
              "      <td>0.0</td>\n",
              "      <td>0.0</td>\n",
              "      <td>0.0</td>\n",
              "      <td>0.0</td>\n",
              "      <td>0.0</td>\n",
              "      <td>...</td>\n",
              "      <td>0.0</td>\n",
              "      <td>0.0</td>\n",
              "      <td>0.0</td>\n",
              "      <td>0.0</td>\n",
              "      <td>0.0</td>\n",
              "      <td>0.0</td>\n",
              "      <td>0.0</td>\n",
              "      <td>1.0</td>\n",
              "      <td>0</td>\n",
              "      <td>-0.013914</td>\n",
              "    </tr>\n",
              "    <tr>\n",
              "      <th>1077</th>\n",
              "      <td>0.0</td>\n",
              "      <td>0.0</td>\n",
              "      <td>0.0</td>\n",
              "      <td>0.0</td>\n",
              "      <td>0.0</td>\n",
              "      <td>0.0</td>\n",
              "      <td>0.0</td>\n",
              "      <td>0.0</td>\n",
              "      <td>0.0</td>\n",
              "      <td>0.0</td>\n",
              "      <td>...</td>\n",
              "      <td>0.0</td>\n",
              "      <td>0.0</td>\n",
              "      <td>0.0</td>\n",
              "      <td>0.0</td>\n",
              "      <td>0.0</td>\n",
              "      <td>0.0</td>\n",
              "      <td>0.0</td>\n",
              "      <td>1.0</td>\n",
              "      <td>1</td>\n",
              "      <td>0.012883</td>\n",
              "    </tr>\n",
              "    <tr>\n",
              "      <th>1078</th>\n",
              "      <td>0.0</td>\n",
              "      <td>0.0</td>\n",
              "      <td>0.0</td>\n",
              "      <td>0.0</td>\n",
              "      <td>0.0</td>\n",
              "      <td>0.0</td>\n",
              "      <td>0.0</td>\n",
              "      <td>0.0</td>\n",
              "      <td>0.0</td>\n",
              "      <td>0.0</td>\n",
              "      <td>...</td>\n",
              "      <td>0.0</td>\n",
              "      <td>0.0</td>\n",
              "      <td>0.0</td>\n",
              "      <td>0.0</td>\n",
              "      <td>0.0</td>\n",
              "      <td>0.0</td>\n",
              "      <td>0.0</td>\n",
              "      <td>1.0</td>\n",
              "      <td>1</td>\n",
              "      <td>0.000956</td>\n",
              "    </tr>\n",
              "    <tr>\n",
              "      <th>1079</th>\n",
              "      <td>0.0</td>\n",
              "      <td>0.0</td>\n",
              "      <td>0.0</td>\n",
              "      <td>0.0</td>\n",
              "      <td>0.0</td>\n",
              "      <td>0.0</td>\n",
              "      <td>0.0</td>\n",
              "      <td>0.0</td>\n",
              "      <td>0.0</td>\n",
              "      <td>0.0</td>\n",
              "      <td>...</td>\n",
              "      <td>0.0</td>\n",
              "      <td>0.0</td>\n",
              "      <td>0.0</td>\n",
              "      <td>0.0</td>\n",
              "      <td>0.0</td>\n",
              "      <td>0.0</td>\n",
              "      <td>0.0</td>\n",
              "      <td>1.0</td>\n",
              "      <td>0</td>\n",
              "      <td>-0.012729</td>\n",
              "    </tr>\n",
              "  </tbody>\n",
              "</table>\n",
              "<p>1080 rows × 1170 columns</p>\n",
              "</div>"
            ],
            "text/plain": [
              "      MouseID_309_1  MouseID_309_2  MouseID_309_3  MouseID_309_4  \\\n",
              "0               1.0            0.0            0.0            0.0   \n",
              "1               0.0            1.0            0.0            0.0   \n",
              "2               0.0            0.0            1.0            0.0   \n",
              "3               0.0            0.0            0.0            1.0   \n",
              "4               0.0            0.0            0.0            0.0   \n",
              "...             ...            ...            ...            ...   \n",
              "1075            0.0            0.0            0.0            0.0   \n",
              "1076            0.0            0.0            0.0            0.0   \n",
              "1077            0.0            0.0            0.0            0.0   \n",
              "1078            0.0            0.0            0.0            0.0   \n",
              "1079            0.0            0.0            0.0            0.0   \n",
              "\n",
              "      MouseID_309_5  MouseID_309_6  MouseID_309_7  MouseID_309_8  \\\n",
              "0               0.0            0.0            0.0            0.0   \n",
              "1               0.0            0.0            0.0            0.0   \n",
              "2               0.0            0.0            0.0            0.0   \n",
              "3               0.0            0.0            0.0            0.0   \n",
              "4               1.0            0.0            0.0            0.0   \n",
              "...             ...            ...            ...            ...   \n",
              "1075            0.0            0.0            0.0            0.0   \n",
              "1076            0.0            0.0            0.0            0.0   \n",
              "1077            0.0            0.0            0.0            0.0   \n",
              "1078            0.0            0.0            0.0            0.0   \n",
              "1079            0.0            0.0            0.0            0.0   \n",
              "\n",
              "      MouseID_309_9  MouseID_309_10  ...  class_c-CS-m  class_c-SC-m  \\\n",
              "0               0.0             0.0  ...           1.0           0.0   \n",
              "1               0.0             0.0  ...           1.0           0.0   \n",
              "2               0.0             0.0  ...           1.0           0.0   \n",
              "3               0.0             0.0  ...           1.0           0.0   \n",
              "4               0.0             0.0  ...           1.0           0.0   \n",
              "...             ...             ...  ...           ...           ...   \n",
              "1075            0.0             0.0  ...           0.0           0.0   \n",
              "1076            0.0             0.0  ...           0.0           0.0   \n",
              "1077            0.0             0.0  ...           0.0           0.0   \n",
              "1078            0.0             0.0  ...           0.0           0.0   \n",
              "1079            0.0             0.0  ...           0.0           0.0   \n",
              "\n",
              "      class_c-CS-s  class_c-SC-s  class_t-CS-m  class_t-SC-m  class_t-CS-s  \\\n",
              "0              0.0           0.0           0.0           0.0           0.0   \n",
              "1              0.0           0.0           0.0           0.0           0.0   \n",
              "2              0.0           0.0           0.0           0.0           0.0   \n",
              "3              0.0           0.0           0.0           0.0           0.0   \n",
              "4              0.0           0.0           0.0           0.0           0.0   \n",
              "...            ...           ...           ...           ...           ...   \n",
              "1075           0.0           0.0           0.0           0.0           0.0   \n",
              "1076           0.0           0.0           0.0           0.0           0.0   \n",
              "1077           0.0           0.0           0.0           0.0           0.0   \n",
              "1078           0.0           0.0           0.0           0.0           0.0   \n",
              "1079           0.0           0.0           0.0           0.0           0.0   \n",
              "\n",
              "      class_t-SC-s  Anomaly  Anomaly_Score  \n",
              "0              0.0        0      -0.015795  \n",
              "1              0.0        0      -0.016963  \n",
              "2              0.0        0      -0.016017  \n",
              "3              0.0        0      -0.029976  \n",
              "4              0.0        0      -0.031542  \n",
              "...            ...      ...            ...  \n",
              "1075           1.0        0      -0.014019  \n",
              "1076           1.0        0      -0.013914  \n",
              "1077           1.0        1       0.012883  \n",
              "1078           1.0        1       0.000956  \n",
              "1079           1.0        0      -0.012729  \n",
              "\n",
              "[1080 rows x 1170 columns]"
            ]
          },
          "execution_count": 52,
          "metadata": {},
          "output_type": "execute_result"
        }
      ],
      "source": [
        "# predict on test set\n",
        "iforest_pred = predict_model(iforest, data=data)\n",
        "iforest_pred"
      ]
    },
    {
      "cell_type": "code",
      "execution_count": 53,
      "id": "4181de41",
      "metadata": {
        "id": "4181de41",
        "outputId": "1dbb47a5-7ea1-495f-976b-d56131edde78"
      },
      "outputs": [
        {
          "name": "stdout",
          "output_type": "stream",
          "text": [
            "Transformation Pipeline and Model Successfully Saved\n"
          ]
        },
        {
          "data": {
            "text/plain": [
              "(Pipeline(memory=Memory(location=None),\n",
              "          steps=[('numerical_imputer',\n",
              "                  TransformerWrapper(include=['DYRK1A_N', 'ITSN1_N', 'BDNF_N',\n",
              "                                              'NR1_N', 'NR2A_N', 'pAKT_N',\n",
              "                                              'pBRAF_N', 'pCAMKII_N', 'pCREB_N',\n",
              "                                              'pELK_N', 'pERK_N', 'pJNK_N',\n",
              "                                              'PKCA_N', 'pMEK_N', 'pNR1_N',\n",
              "                                              'pNR2A_N', 'pNR2B_N', 'pPKCAB_N',\n",
              "                                              'pRSK_N', 'AKT_N', 'BRAF_N',\n",
              "                                              'CAMKII_N', 'CREB_N', 'ELK_N',\n",
              "                                              'ERK_N', 'GSK3B_N', 'JNK_N',\n",
              "                                              'ME...\n",
              " dtype: int64}]))),\n",
              "                 ('onehot_encoding',\n",
              "                  TransformerWrapper(include=['MouseID', 'class'],\n",
              "                                     transformer=OneHotEncoder(cols=['MouseID',\n",
              "                                                                     'class'],\n",
              "                                                               handle_missing='return_nan',\n",
              "                                                               use_cat_names=True))),\n",
              "                 ('trained_model',\n",
              "                  IForest(behaviour='new', bootstrap=False, contamination=0.05,\n",
              "     max_features=1.0, max_samples='auto', n_estimators=100, n_jobs=-1,\n",
              "     random_state=123, verbose=0))]),\n",
              " 'iforest_pipeline.pkl')"
            ]
          },
          "execution_count": 53,
          "metadata": {},
          "output_type": "execute_result"
        }
      ],
      "source": [
        "# save pipeline\n",
        "save_model(iforest, 'iforest_pipeline')"
      ]
    },
    {
      "cell_type": "code",
      "execution_count": 54,
      "id": "40ed5152",
      "metadata": {
        "id": "40ed5152",
        "outputId": "e33d7fe1-8dac-4b0c-83a4-1eda6dd185e6"
      },
      "outputs": [
        {
          "name": "stdout",
          "output_type": "stream",
          "text": [
            "Transformation Pipeline and Model Successfully Loaded\n"
          ]
        },
        {
          "data": {
            "text/html": [
              "<style>#sk-container-id-3 {\n",
              "  /* Definition of color scheme common for light and dark mode */\n",
              "  --sklearn-color-text: black;\n",
              "  --sklearn-color-line: gray;\n",
              "  /* Definition of color scheme for unfitted estimators */\n",
              "  --sklearn-color-unfitted-level-0: #fff5e6;\n",
              "  --sklearn-color-unfitted-level-1: #f6e4d2;\n",
              "  --sklearn-color-unfitted-level-2: #ffe0b3;\n",
              "  --sklearn-color-unfitted-level-3: chocolate;\n",
              "  /* Definition of color scheme for fitted estimators */\n",
              "  --sklearn-color-fitted-level-0: #f0f8ff;\n",
              "  --sklearn-color-fitted-level-1: #d4ebff;\n",
              "  --sklearn-color-fitted-level-2: #b3dbfd;\n",
              "  --sklearn-color-fitted-level-3: cornflowerblue;\n",
              "\n",
              "  /* Specific color for light theme */\n",
              "  --sklearn-color-text-on-default-background: var(--sg-text-color, var(--theme-code-foreground, var(--jp-content-font-color1, black)));\n",
              "  --sklearn-color-background: var(--sg-background-color, var(--theme-background, var(--jp-layout-color0, white)));\n",
              "  --sklearn-color-border-box: var(--sg-text-color, var(--theme-code-foreground, var(--jp-content-font-color1, black)));\n",
              "  --sklearn-color-icon: #696969;\n",
              "\n",
              "  @media (prefers-color-scheme: dark) {\n",
              "    /* Redefinition of color scheme for dark theme */\n",
              "    --sklearn-color-text-on-default-background: var(--sg-text-color, var(--theme-code-foreground, var(--jp-content-font-color1, white)));\n",
              "    --sklearn-color-background: var(--sg-background-color, var(--theme-background, var(--jp-layout-color0, #111)));\n",
              "    --sklearn-color-border-box: var(--sg-text-color, var(--theme-code-foreground, var(--jp-content-font-color1, white)));\n",
              "    --sklearn-color-icon: #878787;\n",
              "  }\n",
              "}\n",
              "\n",
              "#sk-container-id-3 {\n",
              "  color: var(--sklearn-color-text);\n",
              "}\n",
              "\n",
              "#sk-container-id-3 pre {\n",
              "  padding: 0;\n",
              "}\n",
              "\n",
              "#sk-container-id-3 input.sk-hidden--visually {\n",
              "  border: 0;\n",
              "  clip: rect(1px 1px 1px 1px);\n",
              "  clip: rect(1px, 1px, 1px, 1px);\n",
              "  height: 1px;\n",
              "  margin: -1px;\n",
              "  overflow: hidden;\n",
              "  padding: 0;\n",
              "  position: absolute;\n",
              "  width: 1px;\n",
              "}\n",
              "\n",
              "#sk-container-id-3 div.sk-dashed-wrapped {\n",
              "  border: 1px dashed var(--sklearn-color-line);\n",
              "  margin: 0 0.4em 0.5em 0.4em;\n",
              "  box-sizing: border-box;\n",
              "  padding-bottom: 0.4em;\n",
              "  background-color: var(--sklearn-color-background);\n",
              "}\n",
              "\n",
              "#sk-container-id-3 div.sk-container {\n",
              "  /* jupyter's `normalize.less` sets `[hidden] { display: none; }`\n",
              "     but bootstrap.min.css set `[hidden] { display: none !important; }`\n",
              "     so we also need the `!important` here to be able to override the\n",
              "     default hidden behavior on the sphinx rendered scikit-learn.org.\n",
              "     See: https://github.com/scikit-learn/scikit-learn/issues/21755 */\n",
              "  display: inline-block !important;\n",
              "  position: relative;\n",
              "}\n",
              "\n",
              "#sk-container-id-3 div.sk-text-repr-fallback {\n",
              "  display: none;\n",
              "}\n",
              "\n",
              "div.sk-parallel-item,\n",
              "div.sk-serial,\n",
              "div.sk-item {\n",
              "  /* draw centered vertical line to link estimators */\n",
              "  background-image: linear-gradient(var(--sklearn-color-text-on-default-background), var(--sklearn-color-text-on-default-background));\n",
              "  background-size: 2px 100%;\n",
              "  background-repeat: no-repeat;\n",
              "  background-position: center center;\n",
              "}\n",
              "\n",
              "/* Parallel-specific style estimator block */\n",
              "\n",
              "#sk-container-id-3 div.sk-parallel-item::after {\n",
              "  content: \"\";\n",
              "  width: 100%;\n",
              "  border-bottom: 2px solid var(--sklearn-color-text-on-default-background);\n",
              "  flex-grow: 1;\n",
              "}\n",
              "\n",
              "#sk-container-id-3 div.sk-parallel {\n",
              "  display: flex;\n",
              "  align-items: stretch;\n",
              "  justify-content: center;\n",
              "  background-color: var(--sklearn-color-background);\n",
              "  position: relative;\n",
              "}\n",
              "\n",
              "#sk-container-id-3 div.sk-parallel-item {\n",
              "  display: flex;\n",
              "  flex-direction: column;\n",
              "}\n",
              "\n",
              "#sk-container-id-3 div.sk-parallel-item:first-child::after {\n",
              "  align-self: flex-end;\n",
              "  width: 50%;\n",
              "}\n",
              "\n",
              "#sk-container-id-3 div.sk-parallel-item:last-child::after {\n",
              "  align-self: flex-start;\n",
              "  width: 50%;\n",
              "}\n",
              "\n",
              "#sk-container-id-3 div.sk-parallel-item:only-child::after {\n",
              "  width: 0;\n",
              "}\n",
              "\n",
              "/* Serial-specific style estimator block */\n",
              "\n",
              "#sk-container-id-3 div.sk-serial {\n",
              "  display: flex;\n",
              "  flex-direction: column;\n",
              "  align-items: center;\n",
              "  background-color: var(--sklearn-color-background);\n",
              "  padding-right: 1em;\n",
              "  padding-left: 1em;\n",
              "}\n",
              "\n",
              "\n",
              "/* Toggleable style: style used for estimator/Pipeline/ColumnTransformer box that is\n",
              "clickable and can be expanded/collapsed.\n",
              "- Pipeline and ColumnTransformer use this feature and define the default style\n",
              "- Estimators will overwrite some part of the style using the `sk-estimator` class\n",
              "*/\n",
              "\n",
              "/* Pipeline and ColumnTransformer style (default) */\n",
              "\n",
              "#sk-container-id-3 div.sk-toggleable {\n",
              "  /* Default theme specific background. It is overwritten whether we have a\n",
              "  specific estimator or a Pipeline/ColumnTransformer */\n",
              "  background-color: var(--sklearn-color-background);\n",
              "}\n",
              "\n",
              "/* Toggleable label */\n",
              "#sk-container-id-3 label.sk-toggleable__label {\n",
              "  cursor: pointer;\n",
              "  display: block;\n",
              "  width: 100%;\n",
              "  margin-bottom: 0;\n",
              "  padding: 0.5em;\n",
              "  box-sizing: border-box;\n",
              "  text-align: center;\n",
              "}\n",
              "\n",
              "#sk-container-id-3 label.sk-toggleable__label-arrow:before {\n",
              "  /* Arrow on the left of the label */\n",
              "  content: \"▸\";\n",
              "  float: left;\n",
              "  margin-right: 0.25em;\n",
              "  color: var(--sklearn-color-icon);\n",
              "}\n",
              "\n",
              "#sk-container-id-3 label.sk-toggleable__label-arrow:hover:before {\n",
              "  color: var(--sklearn-color-text);\n",
              "}\n",
              "\n",
              "/* Toggleable content - dropdown */\n",
              "\n",
              "#sk-container-id-3 div.sk-toggleable__content {\n",
              "  max-height: 0;\n",
              "  max-width: 0;\n",
              "  overflow: hidden;\n",
              "  text-align: left;\n",
              "  /* unfitted */\n",
              "  background-color: var(--sklearn-color-unfitted-level-0);\n",
              "}\n",
              "\n",
              "#sk-container-id-3 div.sk-toggleable__content.fitted {\n",
              "  /* fitted */\n",
              "  background-color: var(--sklearn-color-fitted-level-0);\n",
              "}\n",
              "\n",
              "#sk-container-id-3 div.sk-toggleable__content pre {\n",
              "  margin: 0.2em;\n",
              "  border-radius: 0.25em;\n",
              "  color: var(--sklearn-color-text);\n",
              "  /* unfitted */\n",
              "  background-color: var(--sklearn-color-unfitted-level-0);\n",
              "}\n",
              "\n",
              "#sk-container-id-3 div.sk-toggleable__content.fitted pre {\n",
              "  /* unfitted */\n",
              "  background-color: var(--sklearn-color-fitted-level-0);\n",
              "}\n",
              "\n",
              "#sk-container-id-3 input.sk-toggleable__control:checked~div.sk-toggleable__content {\n",
              "  /* Expand drop-down */\n",
              "  max-height: 200px;\n",
              "  max-width: 100%;\n",
              "  overflow: auto;\n",
              "}\n",
              "\n",
              "#sk-container-id-3 input.sk-toggleable__control:checked~label.sk-toggleable__label-arrow:before {\n",
              "  content: \"▾\";\n",
              "}\n",
              "\n",
              "/* Pipeline/ColumnTransformer-specific style */\n",
              "\n",
              "#sk-container-id-3 div.sk-label input.sk-toggleable__control:checked~label.sk-toggleable__label {\n",
              "  color: var(--sklearn-color-text);\n",
              "  background-color: var(--sklearn-color-unfitted-level-2);\n",
              "}\n",
              "\n",
              "#sk-container-id-3 div.sk-label.fitted input.sk-toggleable__control:checked~label.sk-toggleable__label {\n",
              "  background-color: var(--sklearn-color-fitted-level-2);\n",
              "}\n",
              "\n",
              "/* Estimator-specific style */\n",
              "\n",
              "/* Colorize estimator box */\n",
              "#sk-container-id-3 div.sk-estimator input.sk-toggleable__control:checked~label.sk-toggleable__label {\n",
              "  /* unfitted */\n",
              "  background-color: var(--sklearn-color-unfitted-level-2);\n",
              "}\n",
              "\n",
              "#sk-container-id-3 div.sk-estimator.fitted input.sk-toggleable__control:checked~label.sk-toggleable__label {\n",
              "  /* fitted */\n",
              "  background-color: var(--sklearn-color-fitted-level-2);\n",
              "}\n",
              "\n",
              "#sk-container-id-3 div.sk-label label.sk-toggleable__label,\n",
              "#sk-container-id-3 div.sk-label label {\n",
              "  /* The background is the default theme color */\n",
              "  color: var(--sklearn-color-text-on-default-background);\n",
              "}\n",
              "\n",
              "/* On hover, darken the color of the background */\n",
              "#sk-container-id-3 div.sk-label:hover label.sk-toggleable__label {\n",
              "  color: var(--sklearn-color-text);\n",
              "  background-color: var(--sklearn-color-unfitted-level-2);\n",
              "}\n",
              "\n",
              "/* Label box, darken color on hover, fitted */\n",
              "#sk-container-id-3 div.sk-label.fitted:hover label.sk-toggleable__label.fitted {\n",
              "  color: var(--sklearn-color-text);\n",
              "  background-color: var(--sklearn-color-fitted-level-2);\n",
              "}\n",
              "\n",
              "/* Estimator label */\n",
              "\n",
              "#sk-container-id-3 div.sk-label label {\n",
              "  font-family: monospace;\n",
              "  font-weight: bold;\n",
              "  display: inline-block;\n",
              "  line-height: 1.2em;\n",
              "}\n",
              "\n",
              "#sk-container-id-3 div.sk-label-container {\n",
              "  text-align: center;\n",
              "}\n",
              "\n",
              "/* Estimator-specific */\n",
              "#sk-container-id-3 div.sk-estimator {\n",
              "  font-family: monospace;\n",
              "  border: 1px dotted var(--sklearn-color-border-box);\n",
              "  border-radius: 0.25em;\n",
              "  box-sizing: border-box;\n",
              "  margin-bottom: 0.5em;\n",
              "  /* unfitted */\n",
              "  background-color: var(--sklearn-color-unfitted-level-0);\n",
              "}\n",
              "\n",
              "#sk-container-id-3 div.sk-estimator.fitted {\n",
              "  /* fitted */\n",
              "  background-color: var(--sklearn-color-fitted-level-0);\n",
              "}\n",
              "\n",
              "/* on hover */\n",
              "#sk-container-id-3 div.sk-estimator:hover {\n",
              "  /* unfitted */\n",
              "  background-color: var(--sklearn-color-unfitted-level-2);\n",
              "}\n",
              "\n",
              "#sk-container-id-3 div.sk-estimator.fitted:hover {\n",
              "  /* fitted */\n",
              "  background-color: var(--sklearn-color-fitted-level-2);\n",
              "}\n",
              "\n",
              "/* Specification for estimator info (e.g. \"i\" and \"?\") */\n",
              "\n",
              "/* Common style for \"i\" and \"?\" */\n",
              "\n",
              ".sk-estimator-doc-link,\n",
              "a:link.sk-estimator-doc-link,\n",
              "a:visited.sk-estimator-doc-link {\n",
              "  float: right;\n",
              "  font-size: smaller;\n",
              "  line-height: 1em;\n",
              "  font-family: monospace;\n",
              "  background-color: var(--sklearn-color-background);\n",
              "  border-radius: 1em;\n",
              "  height: 1em;\n",
              "  width: 1em;\n",
              "  text-decoration: none !important;\n",
              "  margin-left: 1ex;\n",
              "  /* unfitted */\n",
              "  border: var(--sklearn-color-unfitted-level-1) 1pt solid;\n",
              "  color: var(--sklearn-color-unfitted-level-1);\n",
              "}\n",
              "\n",
              ".sk-estimator-doc-link.fitted,\n",
              "a:link.sk-estimator-doc-link.fitted,\n",
              "a:visited.sk-estimator-doc-link.fitted {\n",
              "  /* fitted */\n",
              "  border: var(--sklearn-color-fitted-level-1) 1pt solid;\n",
              "  color: var(--sklearn-color-fitted-level-1);\n",
              "}\n",
              "\n",
              "/* On hover */\n",
              "div.sk-estimator:hover .sk-estimator-doc-link:hover,\n",
              ".sk-estimator-doc-link:hover,\n",
              "div.sk-label-container:hover .sk-estimator-doc-link:hover,\n",
              ".sk-estimator-doc-link:hover {\n",
              "  /* unfitted */\n",
              "  background-color: var(--sklearn-color-unfitted-level-3);\n",
              "  color: var(--sklearn-color-background);\n",
              "  text-decoration: none;\n",
              "}\n",
              "\n",
              "div.sk-estimator.fitted:hover .sk-estimator-doc-link.fitted:hover,\n",
              ".sk-estimator-doc-link.fitted:hover,\n",
              "div.sk-label-container:hover .sk-estimator-doc-link.fitted:hover,\n",
              ".sk-estimator-doc-link.fitted:hover {\n",
              "  /* fitted */\n",
              "  background-color: var(--sklearn-color-fitted-level-3);\n",
              "  color: var(--sklearn-color-background);\n",
              "  text-decoration: none;\n",
              "}\n",
              "\n",
              "/* Span, style for the box shown on hovering the info icon */\n",
              ".sk-estimator-doc-link span {\n",
              "  display: none;\n",
              "  z-index: 9999;\n",
              "  position: relative;\n",
              "  font-weight: normal;\n",
              "  right: .2ex;\n",
              "  padding: .5ex;\n",
              "  margin: .5ex;\n",
              "  width: min-content;\n",
              "  min-width: 20ex;\n",
              "  max-width: 50ex;\n",
              "  color: var(--sklearn-color-text);\n",
              "  box-shadow: 2pt 2pt 4pt #999;\n",
              "  /* unfitted */\n",
              "  background: var(--sklearn-color-unfitted-level-0);\n",
              "  border: .5pt solid var(--sklearn-color-unfitted-level-3);\n",
              "}\n",
              "\n",
              ".sk-estimator-doc-link.fitted span {\n",
              "  /* fitted */\n",
              "  background: var(--sklearn-color-fitted-level-0);\n",
              "  border: var(--sklearn-color-fitted-level-3);\n",
              "}\n",
              "\n",
              ".sk-estimator-doc-link:hover span {\n",
              "  display: block;\n",
              "}\n",
              "\n",
              "/* \"?\"-specific style due to the `<a>` HTML tag */\n",
              "\n",
              "#sk-container-id-3 a.estimator_doc_link {\n",
              "  float: right;\n",
              "  font-size: 1rem;\n",
              "  line-height: 1em;\n",
              "  font-family: monospace;\n",
              "  background-color: var(--sklearn-color-background);\n",
              "  border-radius: 1rem;\n",
              "  height: 1rem;\n",
              "  width: 1rem;\n",
              "  text-decoration: none;\n",
              "  /* unfitted */\n",
              "  color: var(--sklearn-color-unfitted-level-1);\n",
              "  border: var(--sklearn-color-unfitted-level-1) 1pt solid;\n",
              "}\n",
              "\n",
              "#sk-container-id-3 a.estimator_doc_link.fitted {\n",
              "  /* fitted */\n",
              "  border: var(--sklearn-color-fitted-level-1) 1pt solid;\n",
              "  color: var(--sklearn-color-fitted-level-1);\n",
              "}\n",
              "\n",
              "/* On hover */\n",
              "#sk-container-id-3 a.estimator_doc_link:hover {\n",
              "  /* unfitted */\n",
              "  background-color: var(--sklearn-color-unfitted-level-3);\n",
              "  color: var(--sklearn-color-background);\n",
              "  text-decoration: none;\n",
              "}\n",
              "\n",
              "#sk-container-id-3 a.estimator_doc_link.fitted:hover {\n",
              "  /* fitted */\n",
              "  background-color: var(--sklearn-color-fitted-level-3);\n",
              "}\n",
              "</style><div id=\"sk-container-id-3\" class=\"sk-top-container\"><div class=\"sk-text-repr-fallback\"><pre>Pipeline(memory=FastMemory(location=/var/folders/rx/lm_kfng95w9_1rxj88cthphm0000gq/T/joblib),\n",
              "         steps=[(&#x27;numerical_imputer&#x27;,\n",
              "                 TransformerWrapper(include=[&#x27;DYRK1A_N&#x27;, &#x27;ITSN1_N&#x27;, &#x27;BDNF_N&#x27;,\n",
              "                                             &#x27;NR1_N&#x27;, &#x27;NR2A_N&#x27;, &#x27;pAKT_N&#x27;,\n",
              "                                             &#x27;pBRAF_N&#x27;, &#x27;pCAMKII_N&#x27;, &#x27;pCREB_N&#x27;,\n",
              "                                             &#x27;pELK_N&#x27;, &#x27;pERK_N&#x27;, &#x27;pJNK_N&#x27;,\n",
              "                                             &#x27;PKCA_N&#x27;, &#x27;pMEK_N&#x27;, &#x27;pNR1_N&#x27;,\n",
              "                                             &#x27;pNR2A_N&#x27;, &#x27;pNR2B_N&#x27;, &#x27;pPKCAB_N&#x27;,\n",
              "                                             &#x27;pRSK_N&#x27;, &#x27;AKT_N&#x27;, &#x27;BRAF_N&#x27;,\n",
              "                                             &#x27;C...\n",
              "dtype: int64}]))),\n",
              "                (&#x27;onehot_encoding&#x27;,\n",
              "                 TransformerWrapper(include=[&#x27;MouseID&#x27;, &#x27;class&#x27;],\n",
              "                                    transformer=OneHotEncoder(cols=[&#x27;MouseID&#x27;,\n",
              "                                                                    &#x27;class&#x27;],\n",
              "                                                              handle_missing=&#x27;return_nan&#x27;,\n",
              "                                                              use_cat_names=True))),\n",
              "                (&#x27;trained_model&#x27;,\n",
              "                 IForest(behaviour=&#x27;new&#x27;, bootstrap=False, contamination=0.05,\n",
              "    max_features=1.0, max_samples=&#x27;auto&#x27;, n_estimators=100, n_jobs=-1,\n",
              "    random_state=123, verbose=0))])</pre><b>In a Jupyter environment, please rerun this cell to show the HTML representation or trust the notebook. <br />On GitHub, the HTML representation is unable to render, please try loading this page with nbviewer.org.</b></div><div class=\"sk-container\" hidden><div class=\"sk-item sk-dashed-wrapped\"><div class=\"sk-label-container\"><div class=\"sk-label fitted sk-toggleable\"><input class=\"sk-toggleable__control sk-hidden--visually\" id=\"sk-estimator-id-29\" type=\"checkbox\" ><label for=\"sk-estimator-id-29\" class=\"sk-toggleable__label fitted sk-toggleable__label-arrow fitted\">&nbsp;Pipeline<span class=\"sk-estimator-doc-link fitted\">i<span>Fitted</span></span></label><div class=\"sk-toggleable__content fitted\"><pre>Pipeline(memory=FastMemory(location=/var/folders/rx/lm_kfng95w9_1rxj88cthphm0000gq/T/joblib),\n",
              "         steps=[(&#x27;numerical_imputer&#x27;,\n",
              "                 TransformerWrapper(include=[&#x27;DYRK1A_N&#x27;, &#x27;ITSN1_N&#x27;, &#x27;BDNF_N&#x27;,\n",
              "                                             &#x27;NR1_N&#x27;, &#x27;NR2A_N&#x27;, &#x27;pAKT_N&#x27;,\n",
              "                                             &#x27;pBRAF_N&#x27;, &#x27;pCAMKII_N&#x27;, &#x27;pCREB_N&#x27;,\n",
              "                                             &#x27;pELK_N&#x27;, &#x27;pERK_N&#x27;, &#x27;pJNK_N&#x27;,\n",
              "                                             &#x27;PKCA_N&#x27;, &#x27;pMEK_N&#x27;, &#x27;pNR1_N&#x27;,\n",
              "                                             &#x27;pNR2A_N&#x27;, &#x27;pNR2B_N&#x27;, &#x27;pPKCAB_N&#x27;,\n",
              "                                             &#x27;pRSK_N&#x27;, &#x27;AKT_N&#x27;, &#x27;BRAF_N&#x27;,\n",
              "                                             &#x27;C...\n",
              "dtype: int64}]))),\n",
              "                (&#x27;onehot_encoding&#x27;,\n",
              "                 TransformerWrapper(include=[&#x27;MouseID&#x27;, &#x27;class&#x27;],\n",
              "                                    transformer=OneHotEncoder(cols=[&#x27;MouseID&#x27;,\n",
              "                                                                    &#x27;class&#x27;],\n",
              "                                                              handle_missing=&#x27;return_nan&#x27;,\n",
              "                                                              use_cat_names=True))),\n",
              "                (&#x27;trained_model&#x27;,\n",
              "                 IForest(behaviour=&#x27;new&#x27;, bootstrap=False, contamination=0.05,\n",
              "    max_features=1.0, max_samples=&#x27;auto&#x27;, n_estimators=100, n_jobs=-1,\n",
              "    random_state=123, verbose=0))])</pre></div> </div></div><div class=\"sk-serial\"><div class=\"sk-item sk-dashed-wrapped\"><div class=\"sk-label-container\"><div class=\"sk-label fitted sk-toggleable\"><input class=\"sk-toggleable__control sk-hidden--visually\" id=\"sk-estimator-id-30\" type=\"checkbox\" ><label for=\"sk-estimator-id-30\" class=\"sk-toggleable__label fitted sk-toggleable__label-arrow fitted\">numerical_imputer: TransformerWrapper</label><div class=\"sk-toggleable__content fitted\"><pre>TransformerWrapper(include=[&#x27;DYRK1A_N&#x27;, &#x27;ITSN1_N&#x27;, &#x27;BDNF_N&#x27;, &#x27;NR1_N&#x27;, &#x27;NR2A_N&#x27;,\n",
              "                            &#x27;pAKT_N&#x27;, &#x27;pBRAF_N&#x27;, &#x27;pCAMKII_N&#x27;, &#x27;pCREB_N&#x27;,\n",
              "                            &#x27;pELK_N&#x27;, &#x27;pERK_N&#x27;, &#x27;pJNK_N&#x27;, &#x27;PKCA_N&#x27;, &#x27;pMEK_N&#x27;,\n",
              "                            &#x27;pNR1_N&#x27;, &#x27;pNR2A_N&#x27;, &#x27;pNR2B_N&#x27;, &#x27;pPKCAB_N&#x27;,\n",
              "                            &#x27;pRSK_N&#x27;, &#x27;AKT_N&#x27;, &#x27;BRAF_N&#x27;, &#x27;CAMKII_N&#x27;, &#x27;CREB_N&#x27;,\n",
              "                            &#x27;ELK_N&#x27;, &#x27;ERK_N&#x27;, &#x27;GSK3B_N&#x27;, &#x27;JNK_N&#x27;, &#x27;MEK_N&#x27;,\n",
              "                            &#x27;TRKA_N&#x27;, &#x27;RSK_N&#x27;, ...],\n",
              "                   transformer=SimpleImputer())</pre></div> </div></div><div class=\"sk-parallel\"><div class=\"sk-parallel-item\"><div class=\"sk-item\"><div class=\"sk-label-container\"><div class=\"sk-label fitted sk-toggleable\"><input class=\"sk-toggleable__control sk-hidden--visually\" id=\"sk-estimator-id-31\" type=\"checkbox\" ><label for=\"sk-estimator-id-31\" class=\"sk-toggleable__label fitted sk-toggleable__label-arrow fitted\">transformer: SimpleImputer</label><div class=\"sk-toggleable__content fitted\"><pre>SimpleImputer()</pre></div> </div></div><div class=\"sk-serial\"><div class=\"sk-item\"><div class=\"sk-estimator fitted sk-toggleable\"><input class=\"sk-toggleable__control sk-hidden--visually\" id=\"sk-estimator-id-32\" type=\"checkbox\" ><label for=\"sk-estimator-id-32\" class=\"sk-toggleable__label fitted sk-toggleable__label-arrow fitted\">&nbsp;SimpleImputer<a class=\"sk-estimator-doc-link fitted\" rel=\"noreferrer\" target=\"_blank\" href=\"https://scikit-learn.org/1.4/modules/generated/sklearn.impute.SimpleImputer.html\">?<span>Documentation for SimpleImputer</span></a></label><div class=\"sk-toggleable__content fitted\"><pre>SimpleImputer()</pre></div> </div></div></div></div></div></div></div><div class=\"sk-item sk-dashed-wrapped\"><div class=\"sk-label-container\"><div class=\"sk-label fitted sk-toggleable\"><input class=\"sk-toggleable__control sk-hidden--visually\" id=\"sk-estimator-id-33\" type=\"checkbox\" ><label for=\"sk-estimator-id-33\" class=\"sk-toggleable__label fitted sk-toggleable__label-arrow fitted\">categorical_imputer: TransformerWrapper</label><div class=\"sk-toggleable__content fitted\"><pre>TransformerWrapper(include=[&#x27;MouseID&#x27;, &#x27;Genotype&#x27;, &#x27;Treatment&#x27;, &#x27;Behavior&#x27;,\n",
              "                            &#x27;class&#x27;],\n",
              "                   transformer=SimpleImputer(strategy=&#x27;most_frequent&#x27;))</pre></div> </div></div><div class=\"sk-parallel\"><div class=\"sk-parallel-item\"><div class=\"sk-item\"><div class=\"sk-label-container\"><div class=\"sk-label fitted sk-toggleable\"><input class=\"sk-toggleable__control sk-hidden--visually\" id=\"sk-estimator-id-34\" type=\"checkbox\" ><label for=\"sk-estimator-id-34\" class=\"sk-toggleable__label fitted sk-toggleable__label-arrow fitted\">transformer: SimpleImputer</label><div class=\"sk-toggleable__content fitted\"><pre>SimpleImputer(strategy=&#x27;most_frequent&#x27;)</pre></div> </div></div><div class=\"sk-serial\"><div class=\"sk-item\"><div class=\"sk-estimator fitted sk-toggleable\"><input class=\"sk-toggleable__control sk-hidden--visually\" id=\"sk-estimator-id-35\" type=\"checkbox\" ><label for=\"sk-estimator-id-35\" class=\"sk-toggleable__label fitted sk-toggleable__label-arrow fitted\">&nbsp;SimpleImputer<a class=\"sk-estimator-doc-link fitted\" rel=\"noreferrer\" target=\"_blank\" href=\"https://scikit-learn.org/1.4/modules/generated/sklearn.impute.SimpleImputer.html\">?<span>Documentation for SimpleImputer</span></a></label><div class=\"sk-toggleable__content fitted\"><pre>SimpleImputer(strategy=&#x27;most_frequent&#x27;)</pre></div> </div></div></div></div></div></div></div><div class=\"sk-item sk-dashed-wrapped\"><div class=\"sk-label-container\"><div class=\"sk-label fitted sk-toggleable\"><input class=\"sk-toggleable__control sk-hidden--visually\" id=\"sk-estimator-id-36\" type=\"checkbox\" ><label for=\"sk-estimator-id-36\" class=\"sk-toggleable__label fitted sk-toggleable__label-arrow fitted\">ordinal_encoding: TransformerWrapper</label><div class=\"sk-toggleable__content fitted\"><pre>TransformerWrapper(include=[&#x27;Genotype&#x27;, &#x27;Treatment&#x27;, &#x27;Behavior&#x27;],\n",
              "                   transformer=OrdinalEncoder(cols=[&#x27;Genotype&#x27;, &#x27;Treatment&#x27;,\n",
              "                                                    &#x27;Behavior&#x27;],\n",
              "                                              handle_missing=&#x27;return_nan&#x27;,\n",
              "                                              mapping=[{&#x27;col&#x27;: &#x27;Genotype&#x27;,\n",
              "                                                        &#x27;data_type&#x27;: dtype(&#x27;O&#x27;),\n",
              "                                                        &#x27;mapping&#x27;: Control    0\n",
              "Ts65Dn     1\n",
              "NaN       -1\n",
              "dtype: int64},\n",
              "                                                       {&#x27;col&#x27;: &#x27;Treatment&#x27;,\n",
              "                                                        &#x27;data_type&#x27;: dtype(&#x27;O&#x27;),\n",
              "                                                        &#x27;mapping&#x27;: Memantine    0\n",
              "Saline       1\n",
              "NaN         -1\n",
              "dtype: int64},\n",
              "                                                       {&#x27;col&#x27;: &#x27;Behavior&#x27;,\n",
              "                                                        &#x27;data_type&#x27;: dtype(&#x27;O&#x27;),\n",
              "                                                        &#x27;mapping&#x27;: C/S    0\n",
              "S/C    1\n",
              "NaN   -1\n",
              "dtype: int64}]))</pre></div> </div></div><div class=\"sk-parallel\"><div class=\"sk-parallel-item\"><div class=\"sk-item\"><div class=\"sk-label-container\"><div class=\"sk-label fitted sk-toggleable\"><input class=\"sk-toggleable__control sk-hidden--visually\" id=\"sk-estimator-id-37\" type=\"checkbox\" ><label for=\"sk-estimator-id-37\" class=\"sk-toggleable__label fitted sk-toggleable__label-arrow fitted\">transformer: OrdinalEncoder</label><div class=\"sk-toggleable__content fitted\"><pre>OrdinalEncoder(cols=[&#x27;Genotype&#x27;, &#x27;Treatment&#x27;, &#x27;Behavior&#x27;],\n",
              "               handle_missing=&#x27;return_nan&#x27;,\n",
              "               mapping=[{&#x27;col&#x27;: &#x27;Genotype&#x27;, &#x27;data_type&#x27;: dtype(&#x27;O&#x27;),\n",
              "                         &#x27;mapping&#x27;: Control    0\n",
              "Ts65Dn     1\n",
              "NaN       -1\n",
              "dtype: int64},\n",
              "                        {&#x27;col&#x27;: &#x27;Treatment&#x27;, &#x27;data_type&#x27;: dtype(&#x27;O&#x27;),\n",
              "                         &#x27;mapping&#x27;: Memantine    0\n",
              "Saline       1\n",
              "NaN         -1\n",
              "dtype: int64},\n",
              "                        {&#x27;col&#x27;: &#x27;Behavior&#x27;, &#x27;data_type&#x27;: dtype(&#x27;O&#x27;),\n",
              "                         &#x27;mapping&#x27;: C/S    0\n",
              "S/C    1\n",
              "NaN   -1\n",
              "dtype: int64}])</pre></div> </div></div><div class=\"sk-serial\"><div class=\"sk-item\"><div class=\"sk-estimator fitted sk-toggleable\"><input class=\"sk-toggleable__control sk-hidden--visually\" id=\"sk-estimator-id-38\" type=\"checkbox\" ><label for=\"sk-estimator-id-38\" class=\"sk-toggleable__label fitted sk-toggleable__label-arrow fitted\">OrdinalEncoder</label><div class=\"sk-toggleable__content fitted\"><pre>OrdinalEncoder(cols=[&#x27;Genotype&#x27;, &#x27;Treatment&#x27;, &#x27;Behavior&#x27;],\n",
              "               handle_missing=&#x27;return_nan&#x27;,\n",
              "               mapping=[{&#x27;col&#x27;: &#x27;Genotype&#x27;, &#x27;data_type&#x27;: dtype(&#x27;O&#x27;),\n",
              "                         &#x27;mapping&#x27;: Control    0\n",
              "Ts65Dn     1\n",
              "NaN       -1\n",
              "dtype: int64},\n",
              "                        {&#x27;col&#x27;: &#x27;Treatment&#x27;, &#x27;data_type&#x27;: dtype(&#x27;O&#x27;),\n",
              "                         &#x27;mapping&#x27;: Memantine    0\n",
              "Saline       1\n",
              "NaN         -1\n",
              "dtype: int64},\n",
              "                        {&#x27;col&#x27;: &#x27;Behavior&#x27;, &#x27;data_type&#x27;: dtype(&#x27;O&#x27;),\n",
              "                         &#x27;mapping&#x27;: C/S    0\n",
              "S/C    1\n",
              "NaN   -1\n",
              "dtype: int64}])</pre></div> </div></div></div></div></div></div></div><div class=\"sk-item sk-dashed-wrapped\"><div class=\"sk-label-container\"><div class=\"sk-label fitted sk-toggleable\"><input class=\"sk-toggleable__control sk-hidden--visually\" id=\"sk-estimator-id-39\" type=\"checkbox\" ><label for=\"sk-estimator-id-39\" class=\"sk-toggleable__label fitted sk-toggleable__label-arrow fitted\">onehot_encoding: TransformerWrapper</label><div class=\"sk-toggleable__content fitted\"><pre>TransformerWrapper(include=[&#x27;MouseID&#x27;, &#x27;class&#x27;],\n",
              "                   transformer=OneHotEncoder(cols=[&#x27;MouseID&#x27;, &#x27;class&#x27;],\n",
              "                                             handle_missing=&#x27;return_nan&#x27;,\n",
              "                                             use_cat_names=True))</pre></div> </div></div><div class=\"sk-parallel\"><div class=\"sk-parallel-item\"><div class=\"sk-item\"><div class=\"sk-label-container\"><div class=\"sk-label fitted sk-toggleable\"><input class=\"sk-toggleable__control sk-hidden--visually\" id=\"sk-estimator-id-40\" type=\"checkbox\" ><label for=\"sk-estimator-id-40\" class=\"sk-toggleable__label fitted sk-toggleable__label-arrow fitted\">transformer: OneHotEncoder</label><div class=\"sk-toggleable__content fitted\"><pre>OneHotEncoder(cols=[&#x27;MouseID&#x27;, &#x27;class&#x27;], handle_missing=&#x27;return_nan&#x27;,\n",
              "              use_cat_names=True)</pre></div> </div></div><div class=\"sk-serial\"><div class=\"sk-item\"><div class=\"sk-estimator fitted sk-toggleable\"><input class=\"sk-toggleable__control sk-hidden--visually\" id=\"sk-estimator-id-41\" type=\"checkbox\" ><label for=\"sk-estimator-id-41\" class=\"sk-toggleable__label fitted sk-toggleable__label-arrow fitted\">OneHotEncoder</label><div class=\"sk-toggleable__content fitted\"><pre>OneHotEncoder(cols=[&#x27;MouseID&#x27;, &#x27;class&#x27;], handle_missing=&#x27;return_nan&#x27;,\n",
              "              use_cat_names=True)</pre></div> </div></div></div></div></div></div></div><div class=\"sk-item\"><div class=\"sk-estimator fitted sk-toggleable\"><input class=\"sk-toggleable__control sk-hidden--visually\" id=\"sk-estimator-id-42\" type=\"checkbox\" ><label for=\"sk-estimator-id-42\" class=\"sk-toggleable__label fitted sk-toggleable__label-arrow fitted\">IForest</label><div class=\"sk-toggleable__content fitted\"><pre>IForest(behaviour=&#x27;new&#x27;, bootstrap=False, contamination=0.05,\n",
              "    max_features=1.0, max_samples=&#x27;auto&#x27;, n_estimators=100, n_jobs=-1,\n",
              "    random_state=123, verbose=0)</pre></div> </div></div></div></div></div></div>"
            ],
            "text/plain": [
              "Pipeline(memory=FastMemory(location=/var/folders/rx/lm_kfng95w9_1rxj88cthphm0000gq/T/joblib),\n",
              "         steps=[('numerical_imputer',\n",
              "                 TransformerWrapper(include=['DYRK1A_N', 'ITSN1_N', 'BDNF_N',\n",
              "                                             'NR1_N', 'NR2A_N', 'pAKT_N',\n",
              "                                             'pBRAF_N', 'pCAMKII_N', 'pCREB_N',\n",
              "                                             'pELK_N', 'pERK_N', 'pJNK_N',\n",
              "                                             'PKCA_N', 'pMEK_N', 'pNR1_N',\n",
              "                                             'pNR2A_N', 'pNR2B_N', 'pPKCAB_N',\n",
              "                                             'pRSK_N', 'AKT_N', 'BRAF_N',\n",
              "                                             'C...\n",
              "dtype: int64}]))),\n",
              "                ('onehot_encoding',\n",
              "                 TransformerWrapper(include=['MouseID', 'class'],\n",
              "                                    transformer=OneHotEncoder(cols=['MouseID',\n",
              "                                                                    'class'],\n",
              "                                                              handle_missing='return_nan',\n",
              "                                                              use_cat_names=True))),\n",
              "                ('trained_model',\n",
              "                 IForest(behaviour='new', bootstrap=False, contamination=0.05,\n",
              "    max_features=1.0, max_samples='auto', n_estimators=100, n_jobs=-1,\n",
              "    random_state=123, verbose=0))])"
            ]
          },
          "execution_count": 54,
          "metadata": {},
          "output_type": "execute_result"
        }
      ],
      "source": [
        "# load pipeline\n",
        "loaded_iforest_pipeline = load_model('iforest_pipeline')\n",
        "loaded_iforest_pipeline"
      ]
    },
    {
      "cell_type": "code",
      "execution_count": 55,
      "id": "24e503be",
      "metadata": {
        "id": "24e503be",
        "outputId": "10121a7b-dccb-4c85-bc66-68613594e96c"
      },
      "outputs": [
        {
          "data": {
            "text/html": [
              "<style type=\"text/css\">\n",
              "#T_f60ef_row6_col1 {\n",
              "  background-color: lightgreen;\n",
              "}\n",
              "</style>\n",
              "<table id=\"T_f60ef\">\n",
              "  <thead>\n",
              "    <tr>\n",
              "      <th class=\"blank level0\" >&nbsp;</th>\n",
              "      <th id=\"T_f60ef_level0_col0\" class=\"col_heading level0 col0\" >Description</th>\n",
              "      <th id=\"T_f60ef_level0_col1\" class=\"col_heading level0 col1\" >Value</th>\n",
              "    </tr>\n",
              "  </thead>\n",
              "  <tbody>\n",
              "    <tr>\n",
              "      <th id=\"T_f60ef_level0_row0\" class=\"row_heading level0 row0\" >0</th>\n",
              "      <td id=\"T_f60ef_row0_col0\" class=\"data row0 col0\" >Session id</td>\n",
              "      <td id=\"T_f60ef_row0_col1\" class=\"data row0 col1\" >123</td>\n",
              "    </tr>\n",
              "    <tr>\n",
              "      <th id=\"T_f60ef_level0_row1\" class=\"row_heading level0 row1\" >1</th>\n",
              "      <td id=\"T_f60ef_row1_col0\" class=\"data row1 col0\" >Original data shape</td>\n",
              "      <td id=\"T_f60ef_row1_col1\" class=\"data row1 col1\" >(1080, 82)</td>\n",
              "    </tr>\n",
              "    <tr>\n",
              "      <th id=\"T_f60ef_level0_row2\" class=\"row_heading level0 row2\" >2</th>\n",
              "      <td id=\"T_f60ef_row2_col0\" class=\"data row2 col0\" >Transformed data shape</td>\n",
              "      <td id=\"T_f60ef_row2_col1\" class=\"data row2 col1\" >(1080, 1168)</td>\n",
              "    </tr>\n",
              "    <tr>\n",
              "      <th id=\"T_f60ef_level0_row3\" class=\"row_heading level0 row3\" >3</th>\n",
              "      <td id=\"T_f60ef_row3_col0\" class=\"data row3 col0\" >Numeric features</td>\n",
              "      <td id=\"T_f60ef_row3_col1\" class=\"data row3 col1\" >77</td>\n",
              "    </tr>\n",
              "    <tr>\n",
              "      <th id=\"T_f60ef_level0_row4\" class=\"row_heading level0 row4\" >4</th>\n",
              "      <td id=\"T_f60ef_row4_col0\" class=\"data row4 col0\" >Categorical features</td>\n",
              "      <td id=\"T_f60ef_row4_col1\" class=\"data row4 col1\" >5</td>\n",
              "    </tr>\n",
              "    <tr>\n",
              "      <th id=\"T_f60ef_level0_row5\" class=\"row_heading level0 row5\" >5</th>\n",
              "      <td id=\"T_f60ef_row5_col0\" class=\"data row5 col0\" >Rows with missing values</td>\n",
              "      <td id=\"T_f60ef_row5_col1\" class=\"data row5 col1\" >48.9%</td>\n",
              "    </tr>\n",
              "    <tr>\n",
              "      <th id=\"T_f60ef_level0_row6\" class=\"row_heading level0 row6\" >6</th>\n",
              "      <td id=\"T_f60ef_row6_col0\" class=\"data row6 col0\" >Preprocess</td>\n",
              "      <td id=\"T_f60ef_row6_col1\" class=\"data row6 col1\" >True</td>\n",
              "    </tr>\n",
              "    <tr>\n",
              "      <th id=\"T_f60ef_level0_row7\" class=\"row_heading level0 row7\" >7</th>\n",
              "      <td id=\"T_f60ef_row7_col0\" class=\"data row7 col0\" >Imputation type</td>\n",
              "      <td id=\"T_f60ef_row7_col1\" class=\"data row7 col1\" >simple</td>\n",
              "    </tr>\n",
              "    <tr>\n",
              "      <th id=\"T_f60ef_level0_row8\" class=\"row_heading level0 row8\" >8</th>\n",
              "      <td id=\"T_f60ef_row8_col0\" class=\"data row8 col0\" >Numeric imputation</td>\n",
              "      <td id=\"T_f60ef_row8_col1\" class=\"data row8 col1\" >mean</td>\n",
              "    </tr>\n",
              "    <tr>\n",
              "      <th id=\"T_f60ef_level0_row9\" class=\"row_heading level0 row9\" >9</th>\n",
              "      <td id=\"T_f60ef_row9_col0\" class=\"data row9 col0\" >Categorical imputation</td>\n",
              "      <td id=\"T_f60ef_row9_col1\" class=\"data row9 col1\" >mode</td>\n",
              "    </tr>\n",
              "    <tr>\n",
              "      <th id=\"T_f60ef_level0_row10\" class=\"row_heading level0 row10\" >10</th>\n",
              "      <td id=\"T_f60ef_row10_col0\" class=\"data row10 col0\" >Maximum one-hot encoding</td>\n",
              "      <td id=\"T_f60ef_row10_col1\" class=\"data row10 col1\" >-1</td>\n",
              "    </tr>\n",
              "    <tr>\n",
              "      <th id=\"T_f60ef_level0_row11\" class=\"row_heading level0 row11\" >11</th>\n",
              "      <td id=\"T_f60ef_row11_col0\" class=\"data row11 col0\" >Encoding method</td>\n",
              "      <td id=\"T_f60ef_row11_col1\" class=\"data row11 col1\" >None</td>\n",
              "    </tr>\n",
              "    <tr>\n",
              "      <th id=\"T_f60ef_level0_row12\" class=\"row_heading level0 row12\" >12</th>\n",
              "      <td id=\"T_f60ef_row12_col0\" class=\"data row12 col0\" >CPU Jobs</td>\n",
              "      <td id=\"T_f60ef_row12_col1\" class=\"data row12 col1\" >-1</td>\n",
              "    </tr>\n",
              "    <tr>\n",
              "      <th id=\"T_f60ef_level0_row13\" class=\"row_heading level0 row13\" >13</th>\n",
              "      <td id=\"T_f60ef_row13_col0\" class=\"data row13 col0\" >Use GPU</td>\n",
              "      <td id=\"T_f60ef_row13_col1\" class=\"data row13 col1\" >False</td>\n",
              "    </tr>\n",
              "    <tr>\n",
              "      <th id=\"T_f60ef_level0_row14\" class=\"row_heading level0 row14\" >14</th>\n",
              "      <td id=\"T_f60ef_row14_col0\" class=\"data row14 col0\" >Log Experiment</td>\n",
              "      <td id=\"T_f60ef_row14_col1\" class=\"data row14 col1\" >False</td>\n",
              "    </tr>\n",
              "    <tr>\n",
              "      <th id=\"T_f60ef_level0_row15\" class=\"row_heading level0 row15\" >15</th>\n",
              "      <td id=\"T_f60ef_row15_col0\" class=\"data row15 col0\" >Experiment Name</td>\n",
              "      <td id=\"T_f60ef_row15_col1\" class=\"data row15 col1\" >anomaly-default-name</td>\n",
              "    </tr>\n",
              "    <tr>\n",
              "      <th id=\"T_f60ef_level0_row16\" class=\"row_heading level0 row16\" >16</th>\n",
              "      <td id=\"T_f60ef_row16_col0\" class=\"data row16 col0\" >USI</td>\n",
              "      <td id=\"T_f60ef_row16_col1\" class=\"data row16 col1\" >f122</td>\n",
              "    </tr>\n",
              "  </tbody>\n",
              "</table>\n"
            ],
            "text/plain": [
              "<pandas.io.formats.style.Styler at 0x335d29ba0>"
            ]
          },
          "metadata": {},
          "output_type": "display_data"
        }
      ],
      "source": [
        "s = setup(data, session_id = 123)"
      ]
    },
    {
      "cell_type": "code",
      "execution_count": 56,
      "id": "76128b08",
      "metadata": {
        "id": "76128b08",
        "outputId": "fa3d852a-7e4e-4709-b2b1-4a464db7ccea"
      },
      "outputs": [
        {
          "data": {
            "text/plain": [
              "{'USI',\n",
              " 'X',\n",
              " 'X_train',\n",
              " 'X_train_transformed',\n",
              " 'X_transformed',\n",
              " '_available_plots',\n",
              " '_ml_usecase',\n",
              " 'data',\n",
              " 'dataset',\n",
              " 'dataset_transformed',\n",
              " 'exp_id',\n",
              " 'exp_name_log',\n",
              " 'gpu_n_jobs_param',\n",
              " 'gpu_param',\n",
              " 'html_param',\n",
              " 'idx',\n",
              " 'is_multiclass',\n",
              " 'log_plots_param',\n",
              " 'logging_param',\n",
              " 'memory',\n",
              " 'n_jobs_param',\n",
              " 'pipeline',\n",
              " 'seed',\n",
              " 'train',\n",
              " 'train_transformed',\n",
              " 'variable_and_property_keys',\n",
              " 'variables'}"
            ]
          },
          "execution_count": 56,
          "metadata": {},
          "output_type": "execute_result"
        }
      ],
      "source": [
        "# check all available config\n",
        "get_config()"
      ]
    },
    {
      "cell_type": "code",
      "execution_count": 57,
      "id": "dbc43292",
      "metadata": {
        "id": "dbc43292",
        "outputId": "e79d6c41-4374-4a9e-a123-72d161669e23"
      },
      "outputs": [
        {
          "data": {
            "text/html": [
              "<div>\n",
              "<style scoped>\n",
              "    .dataframe tbody tr th:only-of-type {\n",
              "        vertical-align: middle;\n",
              "    }\n",
              "\n",
              "    .dataframe tbody tr th {\n",
              "        vertical-align: top;\n",
              "    }\n",
              "\n",
              "    .dataframe thead th {\n",
              "        text-align: right;\n",
              "    }\n",
              "</style>\n",
              "<table border=\"1\" class=\"dataframe\">\n",
              "  <thead>\n",
              "    <tr style=\"text-align: right;\">\n",
              "      <th></th>\n",
              "      <th>MouseID_309_1</th>\n",
              "      <th>MouseID_309_2</th>\n",
              "      <th>MouseID_309_3</th>\n",
              "      <th>MouseID_309_4</th>\n",
              "      <th>MouseID_309_5</th>\n",
              "      <th>MouseID_309_6</th>\n",
              "      <th>MouseID_309_7</th>\n",
              "      <th>MouseID_309_8</th>\n",
              "      <th>MouseID_309_9</th>\n",
              "      <th>MouseID_309_10</th>\n",
              "      <th>...</th>\n",
              "      <th>Treatment</th>\n",
              "      <th>Behavior</th>\n",
              "      <th>class_c-CS-m</th>\n",
              "      <th>class_c-SC-m</th>\n",
              "      <th>class_c-CS-s</th>\n",
              "      <th>class_c-SC-s</th>\n",
              "      <th>class_t-CS-m</th>\n",
              "      <th>class_t-SC-m</th>\n",
              "      <th>class_t-CS-s</th>\n",
              "      <th>class_t-SC-s</th>\n",
              "    </tr>\n",
              "  </thead>\n",
              "  <tbody>\n",
              "    <tr>\n",
              "      <th>0</th>\n",
              "      <td>1.0</td>\n",
              "      <td>0.0</td>\n",
              "      <td>0.0</td>\n",
              "      <td>0.0</td>\n",
              "      <td>0.0</td>\n",
              "      <td>0.0</td>\n",
              "      <td>0.0</td>\n",
              "      <td>0.0</td>\n",
              "      <td>0.0</td>\n",
              "      <td>0.0</td>\n",
              "      <td>...</td>\n",
              "      <td>0.0</td>\n",
              "      <td>0.0</td>\n",
              "      <td>1.0</td>\n",
              "      <td>0.0</td>\n",
              "      <td>0.0</td>\n",
              "      <td>0.0</td>\n",
              "      <td>0.0</td>\n",
              "      <td>0.0</td>\n",
              "      <td>0.0</td>\n",
              "      <td>0.0</td>\n",
              "    </tr>\n",
              "    <tr>\n",
              "      <th>1</th>\n",
              "      <td>0.0</td>\n",
              "      <td>1.0</td>\n",
              "      <td>0.0</td>\n",
              "      <td>0.0</td>\n",
              "      <td>0.0</td>\n",
              "      <td>0.0</td>\n",
              "      <td>0.0</td>\n",
              "      <td>0.0</td>\n",
              "      <td>0.0</td>\n",
              "      <td>0.0</td>\n",
              "      <td>...</td>\n",
              "      <td>0.0</td>\n",
              "      <td>0.0</td>\n",
              "      <td>1.0</td>\n",
              "      <td>0.0</td>\n",
              "      <td>0.0</td>\n",
              "      <td>0.0</td>\n",
              "      <td>0.0</td>\n",
              "      <td>0.0</td>\n",
              "      <td>0.0</td>\n",
              "      <td>0.0</td>\n",
              "    </tr>\n",
              "    <tr>\n",
              "      <th>2</th>\n",
              "      <td>0.0</td>\n",
              "      <td>0.0</td>\n",
              "      <td>1.0</td>\n",
              "      <td>0.0</td>\n",
              "      <td>0.0</td>\n",
              "      <td>0.0</td>\n",
              "      <td>0.0</td>\n",
              "      <td>0.0</td>\n",
              "      <td>0.0</td>\n",
              "      <td>0.0</td>\n",
              "      <td>...</td>\n",
              "      <td>0.0</td>\n",
              "      <td>0.0</td>\n",
              "      <td>1.0</td>\n",
              "      <td>0.0</td>\n",
              "      <td>0.0</td>\n",
              "      <td>0.0</td>\n",
              "      <td>0.0</td>\n",
              "      <td>0.0</td>\n",
              "      <td>0.0</td>\n",
              "      <td>0.0</td>\n",
              "    </tr>\n",
              "    <tr>\n",
              "      <th>3</th>\n",
              "      <td>0.0</td>\n",
              "      <td>0.0</td>\n",
              "      <td>0.0</td>\n",
              "      <td>1.0</td>\n",
              "      <td>0.0</td>\n",
              "      <td>0.0</td>\n",
              "      <td>0.0</td>\n",
              "      <td>0.0</td>\n",
              "      <td>0.0</td>\n",
              "      <td>0.0</td>\n",
              "      <td>...</td>\n",
              "      <td>0.0</td>\n",
              "      <td>0.0</td>\n",
              "      <td>1.0</td>\n",
              "      <td>0.0</td>\n",
              "      <td>0.0</td>\n",
              "      <td>0.0</td>\n",
              "      <td>0.0</td>\n",
              "      <td>0.0</td>\n",
              "      <td>0.0</td>\n",
              "      <td>0.0</td>\n",
              "    </tr>\n",
              "    <tr>\n",
              "      <th>4</th>\n",
              "      <td>0.0</td>\n",
              "      <td>0.0</td>\n",
              "      <td>0.0</td>\n",
              "      <td>0.0</td>\n",
              "      <td>1.0</td>\n",
              "      <td>0.0</td>\n",
              "      <td>0.0</td>\n",
              "      <td>0.0</td>\n",
              "      <td>0.0</td>\n",
              "      <td>0.0</td>\n",
              "      <td>...</td>\n",
              "      <td>0.0</td>\n",
              "      <td>0.0</td>\n",
              "      <td>1.0</td>\n",
              "      <td>0.0</td>\n",
              "      <td>0.0</td>\n",
              "      <td>0.0</td>\n",
              "      <td>0.0</td>\n",
              "      <td>0.0</td>\n",
              "      <td>0.0</td>\n",
              "      <td>0.0</td>\n",
              "    </tr>\n",
              "    <tr>\n",
              "      <th>...</th>\n",
              "      <td>...</td>\n",
              "      <td>...</td>\n",
              "      <td>...</td>\n",
              "      <td>...</td>\n",
              "      <td>...</td>\n",
              "      <td>...</td>\n",
              "      <td>...</td>\n",
              "      <td>...</td>\n",
              "      <td>...</td>\n",
              "      <td>...</td>\n",
              "      <td>...</td>\n",
              "      <td>...</td>\n",
              "      <td>...</td>\n",
              "      <td>...</td>\n",
              "      <td>...</td>\n",
              "      <td>...</td>\n",
              "      <td>...</td>\n",
              "      <td>...</td>\n",
              "      <td>...</td>\n",
              "      <td>...</td>\n",
              "      <td>...</td>\n",
              "    </tr>\n",
              "    <tr>\n",
              "      <th>1075</th>\n",
              "      <td>0.0</td>\n",
              "      <td>0.0</td>\n",
              "      <td>0.0</td>\n",
              "      <td>0.0</td>\n",
              "      <td>0.0</td>\n",
              "      <td>0.0</td>\n",
              "      <td>0.0</td>\n",
              "      <td>0.0</td>\n",
              "      <td>0.0</td>\n",
              "      <td>0.0</td>\n",
              "      <td>...</td>\n",
              "      <td>1.0</td>\n",
              "      <td>1.0</td>\n",
              "      <td>0.0</td>\n",
              "      <td>0.0</td>\n",
              "      <td>0.0</td>\n",
              "      <td>0.0</td>\n",
              "      <td>0.0</td>\n",
              "      <td>0.0</td>\n",
              "      <td>0.0</td>\n",
              "      <td>1.0</td>\n",
              "    </tr>\n",
              "    <tr>\n",
              "      <th>1076</th>\n",
              "      <td>0.0</td>\n",
              "      <td>0.0</td>\n",
              "      <td>0.0</td>\n",
              "      <td>0.0</td>\n",
              "      <td>0.0</td>\n",
              "      <td>0.0</td>\n",
              "      <td>0.0</td>\n",
              "      <td>0.0</td>\n",
              "      <td>0.0</td>\n",
              "      <td>0.0</td>\n",
              "      <td>...</td>\n",
              "      <td>1.0</td>\n",
              "      <td>1.0</td>\n",
              "      <td>0.0</td>\n",
              "      <td>0.0</td>\n",
              "      <td>0.0</td>\n",
              "      <td>0.0</td>\n",
              "      <td>0.0</td>\n",
              "      <td>0.0</td>\n",
              "      <td>0.0</td>\n",
              "      <td>1.0</td>\n",
              "    </tr>\n",
              "    <tr>\n",
              "      <th>1077</th>\n",
              "      <td>0.0</td>\n",
              "      <td>0.0</td>\n",
              "      <td>0.0</td>\n",
              "      <td>0.0</td>\n",
              "      <td>0.0</td>\n",
              "      <td>0.0</td>\n",
              "      <td>0.0</td>\n",
              "      <td>0.0</td>\n",
              "      <td>0.0</td>\n",
              "      <td>0.0</td>\n",
              "      <td>...</td>\n",
              "      <td>1.0</td>\n",
              "      <td>1.0</td>\n",
              "      <td>0.0</td>\n",
              "      <td>0.0</td>\n",
              "      <td>0.0</td>\n",
              "      <td>0.0</td>\n",
              "      <td>0.0</td>\n",
              "      <td>0.0</td>\n",
              "      <td>0.0</td>\n",
              "      <td>1.0</td>\n",
              "    </tr>\n",
              "    <tr>\n",
              "      <th>1078</th>\n",
              "      <td>0.0</td>\n",
              "      <td>0.0</td>\n",
              "      <td>0.0</td>\n",
              "      <td>0.0</td>\n",
              "      <td>0.0</td>\n",
              "      <td>0.0</td>\n",
              "      <td>0.0</td>\n",
              "      <td>0.0</td>\n",
              "      <td>0.0</td>\n",
              "      <td>0.0</td>\n",
              "      <td>...</td>\n",
              "      <td>1.0</td>\n",
              "      <td>1.0</td>\n",
              "      <td>0.0</td>\n",
              "      <td>0.0</td>\n",
              "      <td>0.0</td>\n",
              "      <td>0.0</td>\n",
              "      <td>0.0</td>\n",
              "      <td>0.0</td>\n",
              "      <td>0.0</td>\n",
              "      <td>1.0</td>\n",
              "    </tr>\n",
              "    <tr>\n",
              "      <th>1079</th>\n",
              "      <td>0.0</td>\n",
              "      <td>0.0</td>\n",
              "      <td>0.0</td>\n",
              "      <td>0.0</td>\n",
              "      <td>0.0</td>\n",
              "      <td>0.0</td>\n",
              "      <td>0.0</td>\n",
              "      <td>0.0</td>\n",
              "      <td>0.0</td>\n",
              "      <td>0.0</td>\n",
              "      <td>...</td>\n",
              "      <td>1.0</td>\n",
              "      <td>1.0</td>\n",
              "      <td>0.0</td>\n",
              "      <td>0.0</td>\n",
              "      <td>0.0</td>\n",
              "      <td>0.0</td>\n",
              "      <td>0.0</td>\n",
              "      <td>0.0</td>\n",
              "      <td>0.0</td>\n",
              "      <td>1.0</td>\n",
              "    </tr>\n",
              "  </tbody>\n",
              "</table>\n",
              "<p>1080 rows × 1168 columns</p>\n",
              "</div>"
            ],
            "text/plain": [
              "      MouseID_309_1  MouseID_309_2  MouseID_309_3  MouseID_309_4  \\\n",
              "0               1.0            0.0            0.0            0.0   \n",
              "1               0.0            1.0            0.0            0.0   \n",
              "2               0.0            0.0            1.0            0.0   \n",
              "3               0.0            0.0            0.0            1.0   \n",
              "4               0.0            0.0            0.0            0.0   \n",
              "...             ...            ...            ...            ...   \n",
              "1075            0.0            0.0            0.0            0.0   \n",
              "1076            0.0            0.0            0.0            0.0   \n",
              "1077            0.0            0.0            0.0            0.0   \n",
              "1078            0.0            0.0            0.0            0.0   \n",
              "1079            0.0            0.0            0.0            0.0   \n",
              "\n",
              "      MouseID_309_5  MouseID_309_6  MouseID_309_7  MouseID_309_8  \\\n",
              "0               0.0            0.0            0.0            0.0   \n",
              "1               0.0            0.0            0.0            0.0   \n",
              "2               0.0            0.0            0.0            0.0   \n",
              "3               0.0            0.0            0.0            0.0   \n",
              "4               1.0            0.0            0.0            0.0   \n",
              "...             ...            ...            ...            ...   \n",
              "1075            0.0            0.0            0.0            0.0   \n",
              "1076            0.0            0.0            0.0            0.0   \n",
              "1077            0.0            0.0            0.0            0.0   \n",
              "1078            0.0            0.0            0.0            0.0   \n",
              "1079            0.0            0.0            0.0            0.0   \n",
              "\n",
              "      MouseID_309_9  MouseID_309_10  ...  Treatment  Behavior  class_c-CS-m  \\\n",
              "0               0.0             0.0  ...        0.0       0.0           1.0   \n",
              "1               0.0             0.0  ...        0.0       0.0           1.0   \n",
              "2               0.0             0.0  ...        0.0       0.0           1.0   \n",
              "3               0.0             0.0  ...        0.0       0.0           1.0   \n",
              "4               0.0             0.0  ...        0.0       0.0           1.0   \n",
              "...             ...             ...  ...        ...       ...           ...   \n",
              "1075            0.0             0.0  ...        1.0       1.0           0.0   \n",
              "1076            0.0             0.0  ...        1.0       1.0           0.0   \n",
              "1077            0.0             0.0  ...        1.0       1.0           0.0   \n",
              "1078            0.0             0.0  ...        1.0       1.0           0.0   \n",
              "1079            0.0             0.0  ...        1.0       1.0           0.0   \n",
              "\n",
              "      class_c-SC-m  class_c-CS-s  class_c-SC-s  class_t-CS-m  class_t-SC-m  \\\n",
              "0              0.0           0.0           0.0           0.0           0.0   \n",
              "1              0.0           0.0           0.0           0.0           0.0   \n",
              "2              0.0           0.0           0.0           0.0           0.0   \n",
              "3              0.0           0.0           0.0           0.0           0.0   \n",
              "4              0.0           0.0           0.0           0.0           0.0   \n",
              "...            ...           ...           ...           ...           ...   \n",
              "1075           0.0           0.0           0.0           0.0           0.0   \n",
              "1076           0.0           0.0           0.0           0.0           0.0   \n",
              "1077           0.0           0.0           0.0           0.0           0.0   \n",
              "1078           0.0           0.0           0.0           0.0           0.0   \n",
              "1079           0.0           0.0           0.0           0.0           0.0   \n",
              "\n",
              "      class_t-CS-s  class_t-SC-s  \n",
              "0              0.0           0.0  \n",
              "1              0.0           0.0  \n",
              "2              0.0           0.0  \n",
              "3              0.0           0.0  \n",
              "4              0.0           0.0  \n",
              "...            ...           ...  \n",
              "1075           0.0           1.0  \n",
              "1076           0.0           1.0  \n",
              "1077           0.0           1.0  \n",
              "1078           0.0           1.0  \n",
              "1079           0.0           1.0  \n",
              "\n",
              "[1080 rows x 1168 columns]"
            ]
          },
          "execution_count": 57,
          "metadata": {},
          "output_type": "execute_result"
        }
      ],
      "source": [
        "# lets access X_train_transformed\n",
        "get_config('X_train_transformed')"
      ]
    },
    {
      "cell_type": "code",
      "execution_count": 58,
      "id": "ef9cd061",
      "metadata": {
        "id": "ef9cd061",
        "outputId": "3674a831-7cb2-4b42-ac90-13de525a16c9"
      },
      "outputs": [
        {
          "name": "stdout",
          "output_type": "stream",
          "text": [
            "The current seed is: 123\n",
            "The new seed is: 786\n"
          ]
        }
      ],
      "source": [
        "# another example: let's access seed\n",
        "print(\"The current seed is: {}\".format(get_config('seed')))\n",
        "\n",
        "# now lets change it using set_config\n",
        "set_config('seed', 786)\n",
        "print(\"The new seed is: {}\".format(get_config('seed')))"
      ]
    },
    {
      "cell_type": "code",
      "execution_count": 59,
      "id": "34ae0fce",
      "metadata": {
        "id": "34ae0fce",
        "outputId": "1e44ba21-c0df-46e6-a40b-c2de81a88738"
      },
      "outputs": [
        {
          "data": {
            "text/html": [
              "<style type=\"text/css\">\n",
              "#T_9813b_row6_col1 {\n",
              "  background-color: lightgreen;\n",
              "}\n",
              "</style>\n",
              "<table id=\"T_9813b\">\n",
              "  <thead>\n",
              "    <tr>\n",
              "      <th class=\"blank level0\" >&nbsp;</th>\n",
              "      <th id=\"T_9813b_level0_col0\" class=\"col_heading level0 col0\" >Description</th>\n",
              "      <th id=\"T_9813b_level0_col1\" class=\"col_heading level0 col1\" >Value</th>\n",
              "    </tr>\n",
              "  </thead>\n",
              "  <tbody>\n",
              "    <tr>\n",
              "      <th id=\"T_9813b_level0_row0\" class=\"row_heading level0 row0\" >0</th>\n",
              "      <td id=\"T_9813b_row0_col0\" class=\"data row0 col0\" >Session id</td>\n",
              "      <td id=\"T_9813b_row0_col1\" class=\"data row0 col1\" >123</td>\n",
              "    </tr>\n",
              "    <tr>\n",
              "      <th id=\"T_9813b_level0_row1\" class=\"row_heading level0 row1\" >1</th>\n",
              "      <td id=\"T_9813b_row1_col0\" class=\"data row1 col0\" >Original data shape</td>\n",
              "      <td id=\"T_9813b_row1_col1\" class=\"data row1 col1\" >(1080, 82)</td>\n",
              "    </tr>\n",
              "    <tr>\n",
              "      <th id=\"T_9813b_level0_row2\" class=\"row_heading level0 row2\" >2</th>\n",
              "      <td id=\"T_9813b_row2_col0\" class=\"data row2 col0\" >Transformed data shape</td>\n",
              "      <td id=\"T_9813b_row2_col1\" class=\"data row2 col1\" >(1080, 1168)</td>\n",
              "    </tr>\n",
              "    <tr>\n",
              "      <th id=\"T_9813b_level0_row3\" class=\"row_heading level0 row3\" >3</th>\n",
              "      <td id=\"T_9813b_row3_col0\" class=\"data row3 col0\" >Numeric features</td>\n",
              "      <td id=\"T_9813b_row3_col1\" class=\"data row3 col1\" >77</td>\n",
              "    </tr>\n",
              "    <tr>\n",
              "      <th id=\"T_9813b_level0_row4\" class=\"row_heading level0 row4\" >4</th>\n",
              "      <td id=\"T_9813b_row4_col0\" class=\"data row4 col0\" >Categorical features</td>\n",
              "      <td id=\"T_9813b_row4_col1\" class=\"data row4 col1\" >5</td>\n",
              "    </tr>\n",
              "    <tr>\n",
              "      <th id=\"T_9813b_level0_row5\" class=\"row_heading level0 row5\" >5</th>\n",
              "      <td id=\"T_9813b_row5_col0\" class=\"data row5 col0\" >Rows with missing values</td>\n",
              "      <td id=\"T_9813b_row5_col1\" class=\"data row5 col1\" >48.9%</td>\n",
              "    </tr>\n",
              "    <tr>\n",
              "      <th id=\"T_9813b_level0_row6\" class=\"row_heading level0 row6\" >6</th>\n",
              "      <td id=\"T_9813b_row6_col0\" class=\"data row6 col0\" >Preprocess</td>\n",
              "      <td id=\"T_9813b_row6_col1\" class=\"data row6 col1\" >True</td>\n",
              "    </tr>\n",
              "    <tr>\n",
              "      <th id=\"T_9813b_level0_row7\" class=\"row_heading level0 row7\" >7</th>\n",
              "      <td id=\"T_9813b_row7_col0\" class=\"data row7 col0\" >Imputation type</td>\n",
              "      <td id=\"T_9813b_row7_col1\" class=\"data row7 col1\" >simple</td>\n",
              "    </tr>\n",
              "    <tr>\n",
              "      <th id=\"T_9813b_level0_row8\" class=\"row_heading level0 row8\" >8</th>\n",
              "      <td id=\"T_9813b_row8_col0\" class=\"data row8 col0\" >Numeric imputation</td>\n",
              "      <td id=\"T_9813b_row8_col1\" class=\"data row8 col1\" >mean</td>\n",
              "    </tr>\n",
              "    <tr>\n",
              "      <th id=\"T_9813b_level0_row9\" class=\"row_heading level0 row9\" >9</th>\n",
              "      <td id=\"T_9813b_row9_col0\" class=\"data row9 col0\" >Categorical imputation</td>\n",
              "      <td id=\"T_9813b_row9_col1\" class=\"data row9 col1\" >mode</td>\n",
              "    </tr>\n",
              "    <tr>\n",
              "      <th id=\"T_9813b_level0_row10\" class=\"row_heading level0 row10\" >10</th>\n",
              "      <td id=\"T_9813b_row10_col0\" class=\"data row10 col0\" >Maximum one-hot encoding</td>\n",
              "      <td id=\"T_9813b_row10_col1\" class=\"data row10 col1\" >-1</td>\n",
              "    </tr>\n",
              "    <tr>\n",
              "      <th id=\"T_9813b_level0_row11\" class=\"row_heading level0 row11\" >11</th>\n",
              "      <td id=\"T_9813b_row11_col0\" class=\"data row11 col0\" >Encoding method</td>\n",
              "      <td id=\"T_9813b_row11_col1\" class=\"data row11 col1\" >None</td>\n",
              "    </tr>\n",
              "    <tr>\n",
              "      <th id=\"T_9813b_level0_row12\" class=\"row_heading level0 row12\" >12</th>\n",
              "      <td id=\"T_9813b_row12_col0\" class=\"data row12 col0\" >CPU Jobs</td>\n",
              "      <td id=\"T_9813b_row12_col1\" class=\"data row12 col1\" >-1</td>\n",
              "    </tr>\n",
              "    <tr>\n",
              "      <th id=\"T_9813b_level0_row13\" class=\"row_heading level0 row13\" >13</th>\n",
              "      <td id=\"T_9813b_row13_col0\" class=\"data row13 col0\" >Use GPU</td>\n",
              "      <td id=\"T_9813b_row13_col1\" class=\"data row13 col1\" >False</td>\n",
              "    </tr>\n",
              "    <tr>\n",
              "      <th id=\"T_9813b_level0_row14\" class=\"row_heading level0 row14\" >14</th>\n",
              "      <td id=\"T_9813b_row14_col0\" class=\"data row14 col0\" >Log Experiment</td>\n",
              "      <td id=\"T_9813b_row14_col1\" class=\"data row14 col1\" >False</td>\n",
              "    </tr>\n",
              "    <tr>\n",
              "      <th id=\"T_9813b_level0_row15\" class=\"row_heading level0 row15\" >15</th>\n",
              "      <td id=\"T_9813b_row15_col0\" class=\"data row15 col0\" >Experiment Name</td>\n",
              "      <td id=\"T_9813b_row15_col1\" class=\"data row15 col1\" >anomaly-default-name</td>\n",
              "    </tr>\n",
              "    <tr>\n",
              "      <th id=\"T_9813b_level0_row16\" class=\"row_heading level0 row16\" >16</th>\n",
              "      <td id=\"T_9813b_row16_col0\" class=\"data row16 col0\" >USI</td>\n",
              "      <td id=\"T_9813b_row16_col1\" class=\"data row16 col1\" >fa19</td>\n",
              "    </tr>\n",
              "  </tbody>\n",
              "</table>\n"
            ],
            "text/plain": [
              "<pandas.io.formats.style.Styler at 0x3532f53c0>"
            ]
          },
          "metadata": {},
          "output_type": "display_data"
        }
      ],
      "source": [
        "# init setup with bin_numeric_feature\n",
        "\n",
        "s = setup(data, session_id = 123,\n",
        "          bin_numeric_features=['pCFOS_N'])"
      ]
    },
    {
      "cell_type": "code",
      "execution_count": 60,
      "id": "04204ae7",
      "metadata": {
        "id": "04204ae7",
        "outputId": "6b023a88-f4c7-49ef-93fb-b397f75217a0"
      },
      "outputs": [
        {
          "data": {
            "text/plain": [
              "<Axes: >"
            ]
          },
          "execution_count": 60,
          "metadata": {},
          "output_type": "execute_result"
        },
        {
          "data": {
            "image/png": "[encoded data removed]",
            "text/plain": [
              "<Figure size 800x550 with 1 Axes>"
            ]
          },
          "metadata": {},
          "output_type": "display_data"
        }
      ],
      "source": [
        "# lets check the X_train_transformed to see effect of params passed\n",
        "get_config('X_train_transformed')['pCFOS_N'].hist()"
      ]
    },
    {
      "cell_type": "code",
      "execution_count": 61,
      "id": "68cc1c63",
      "metadata": {
        "id": "68cc1c63",
        "outputId": "00610562-1d5c-4e79-d229-864dc118263f"
      },
      "outputs": [
        {
          "data": {
            "text/plain": [
              "<Axes: >"
            ]
          },
          "execution_count": 61,
          "metadata": {},
          "output_type": "execute_result"
        },
        {
          "data": {
            "image/png": "[encoded data removed]",
            "text/plain": [
              "<Figure size 800x550 with 1 Axes>"
            ]
          },
          "metadata": {},
          "output_type": "display_data"
        }
      ],
      "source": [
        "get_config('X_train')['pCFOS_N'].hist()"
      ]
    },
    {
      "cell_type": "code",
      "execution_count": 62,
      "id": "837cebfa",
      "metadata": {
        "id": "837cebfa",
        "outputId": "bc447f82-f2fe-4d1d-a79f-863b44c9fcc7"
      },
      "outputs": [
        {
          "data": {
            "text/html": [
              "<div>\n",
              "<style scoped>\n",
              "    .dataframe tbody tr th:only-of-type {\n",
              "        vertical-align: middle;\n",
              "    }\n",
              "\n",
              "    .dataframe tbody tr th {\n",
              "        vertical-align: top;\n",
              "    }\n",
              "\n",
              "    .dataframe thead th {\n",
              "        text-align: right;\n",
              "    }\n",
              "</style>\n",
              "<table border=\"1\" class=\"dataframe\">\n",
              "  <thead>\n",
              "    <tr style=\"text-align: right;\">\n",
              "      <th></th>\n",
              "      <th>Name</th>\n",
              "      <th>Reference</th>\n",
              "    </tr>\n",
              "    <tr>\n",
              "      <th>ID</th>\n",
              "      <th></th>\n",
              "      <th></th>\n",
              "    </tr>\n",
              "  </thead>\n",
              "  <tbody>\n",
              "    <tr>\n",
              "      <th>abod</th>\n",
              "      <td>Angle-base Outlier Detection</td>\n",
              "      <td>pyod.models.abod.ABOD</td>\n",
              "    </tr>\n",
              "    <tr>\n",
              "      <th>cluster</th>\n",
              "      <td>Clustering-Based Local Outlier</td>\n",
              "      <td>pycaret.internal.patches.pyod.CBLOFForceToDouble</td>\n",
              "    </tr>\n",
              "    <tr>\n",
              "      <th>cof</th>\n",
              "      <td>Connectivity-Based Local Outlier</td>\n",
              "      <td>pyod.models.cof.COF</td>\n",
              "    </tr>\n",
              "    <tr>\n",
              "      <th>iforest</th>\n",
              "      <td>Isolation Forest</td>\n",
              "      <td>pyod.models.iforest.IForest</td>\n",
              "    </tr>\n",
              "    <tr>\n",
              "      <th>histogram</th>\n",
              "      <td>Histogram-based Outlier Detection</td>\n",
              "      <td>pyod.models.hbos.HBOS</td>\n",
              "    </tr>\n",
              "    <tr>\n",
              "      <th>knn</th>\n",
              "      <td>K-Nearest Neighbors Detector</td>\n",
              "      <td>pyod.models.knn.KNN</td>\n",
              "    </tr>\n",
              "    <tr>\n",
              "      <th>lof</th>\n",
              "      <td>Local Outlier Factor</td>\n",
              "      <td>pyod.models.lof.LOF</td>\n",
              "    </tr>\n",
              "    <tr>\n",
              "      <th>svm</th>\n",
              "      <td>One-class SVM detector</td>\n",
              "      <td>pyod.models.ocsvm.OCSVM</td>\n",
              "    </tr>\n",
              "    <tr>\n",
              "      <th>pca</th>\n",
              "      <td>Principal Component Analysis</td>\n",
              "      <td>pyod.models.pca.PCA</td>\n",
              "    </tr>\n",
              "    <tr>\n",
              "      <th>mcd</th>\n",
              "      <td>Minimum Covariance Determinant</td>\n",
              "      <td>pyod.models.mcd.MCD</td>\n",
              "    </tr>\n",
              "    <tr>\n",
              "      <th>sod</th>\n",
              "      <td>Subspace Outlier Detection</td>\n",
              "      <td>pyod.models.sod.SOD</td>\n",
              "    </tr>\n",
              "    <tr>\n",
              "      <th>sos</th>\n",
              "      <td>Stochastic Outlier Selection</td>\n",
              "      <td>pyod.models.sos.SOS</td>\n",
              "    </tr>\n",
              "  </tbody>\n",
              "</table>\n",
              "</div>"
            ],
            "text/plain": [
              "                                        Name  \\\n",
              "ID                                             \n",
              "abod            Angle-base Outlier Detection   \n",
              "cluster       Clustering-Based Local Outlier   \n",
              "cof         Connectivity-Based Local Outlier   \n",
              "iforest                     Isolation Forest   \n",
              "histogram  Histogram-based Outlier Detection   \n",
              "knn             K-Nearest Neighbors Detector   \n",
              "lof                     Local Outlier Factor   \n",
              "svm                   One-class SVM detector   \n",
              "pca             Principal Component Analysis   \n",
              "mcd           Minimum Covariance Determinant   \n",
              "sod               Subspace Outlier Detection   \n",
              "sos             Stochastic Outlier Selection   \n",
              "\n",
              "                                                  Reference  \n",
              "ID                                                           \n",
              "abod                                  pyod.models.abod.ABOD  \n",
              "cluster    pycaret.internal.patches.pyod.CBLOFForceToDouble  \n",
              "cof                                     pyod.models.cof.COF  \n",
              "iforest                         pyod.models.iforest.IForest  \n",
              "histogram                             pyod.models.hbos.HBOS  \n",
              "knn                                     pyod.models.knn.KNN  \n",
              "lof                                     pyod.models.lof.LOF  \n",
              "svm                                 pyod.models.ocsvm.OCSVM  \n",
              "pca                                     pyod.models.pca.PCA  \n",
              "mcd                                     pyod.models.mcd.MCD  \n",
              "sod                                     pyod.models.sod.SOD  \n",
              "sos                                     pyod.models.sos.SOS  "
            ]
          },
          "execution_count": 62,
          "metadata": {},
          "output_type": "execute_result"
        }
      ],
      "source": [
        "# check all the available models\n",
        "models()"
      ]
    },
    {
      "cell_type": "code",
      "execution_count": 63,
      "id": "16641cab",
      "metadata": {
        "colab": {
          "referenced_widgets": [
            ""
          ]
        },
        "id": "16641cab",
        "outputId": "2dd2577f-56fa-45ad-f1ba-5f9725792825"
      },
      "outputs": [
        {
          "data": {
            "text/html": [],
            "text/plain": [
              "<IPython.core.display.HTML object>"
            ]
          },
          "metadata": {},
          "output_type": "display_data"
        },
        {
          "data": {
            "text/html": [],
            "text/plain": [
              "<IPython.core.display.HTML object>"
            ]
          },
          "metadata": {},
          "output_type": "display_data"
        },
        {
          "data": {
            "text/html": [],
            "text/plain": [
              "<IPython.core.display.HTML object>"
            ]
          },
          "metadata": {},
          "output_type": "display_data"
        }
      ],
      "source": [
        "# train iforest model\n",
        "iforest = create_model('iforest')"
      ]
    },
    {
      "cell_type": "code",
      "execution_count": 64,
      "id": "2a59af82",
      "metadata": {
        "id": "2a59af82",
        "outputId": "ce7f492c-0a12-4280-e2d2-ec2a7f5fbf90"
      },
      "outputs": [
        {
          "data": {
            "text/plain": [
              "IForest(behaviour='new', bootstrap=False, contamination=0.05,\n",
              "    max_features=1.0, max_samples='auto', n_estimators=100, n_jobs=-1,\n",
              "    random_state=123, verbose=0)"
            ]
          },
          "execution_count": 64,
          "metadata": {},
          "output_type": "execute_result"
        }
      ],
      "source": [
        "iforest"
      ]
    },
    {
      "cell_type": "code",
      "execution_count": 65,
      "id": "148a74c4",
      "metadata": {
        "colab": {
          "referenced_widgets": [
            ""
          ]
        },
        "id": "148a74c4",
        "outputId": "51efea5e-73e2-4d8f-ea31-95a6921828f1"
      },
      "outputs": [
        {
          "data": {
            "text/html": [],
            "text/plain": [
              "<IPython.core.display.HTML object>"
            ]
          },
          "metadata": {},
          "output_type": "display_data"
        },
        {
          "data": {
            "text/html": [],
            "text/plain": [
              "<IPython.core.display.HTML object>"
            ]
          },
          "metadata": {},
          "output_type": "display_data"
        },
        {
          "data": {
            "text/html": [],
            "text/plain": [
              "<IPython.core.display.HTML object>"
            ]
          },
          "metadata": {},
          "output_type": "display_data"
        },
        {
          "data": {
            "text/plain": [
              "IForest(behaviour='new', bootstrap=False, contamination=0.05,\n",
              "    max_features=1.0, max_samples='auto', n_estimators=100, n_jobs=-1,\n",
              "    random_state=123, verbose=0)"
            ]
          },
          "execution_count": 65,
          "metadata": {},
          "output_type": "execute_result"
        }
      ],
      "source": [
        "# train iforest with specific model parameter\n",
        "create_model('iforest', contamination = 0.1)"
      ]
    },
    {
      "cell_type": "code",
      "execution_count": 66,
      "id": "b831ba7d",
      "metadata": {
        "id": "b831ba7d",
        "outputId": "77920994-1944-4767-878a-ed2f339b0c08"
      },
      "outputs": [
        {
          "data": {
            "text/html": [
              "<div>\n",
              "<style scoped>\n",
              "    .dataframe tbody tr th:only-of-type {\n",
              "        vertical-align: middle;\n",
              "    }\n",
              "\n",
              "    .dataframe tbody tr th {\n",
              "        vertical-align: top;\n",
              "    }\n",
              "\n",
              "    .dataframe thead th {\n",
              "        text-align: right;\n",
              "    }\n",
              "</style>\n",
              "<table border=\"1\" class=\"dataframe\">\n",
              "  <thead>\n",
              "    <tr style=\"text-align: right;\">\n",
              "      <th></th>\n",
              "      <th>MouseID</th>\n",
              "      <th>DYRK1A_N</th>\n",
              "      <th>ITSN1_N</th>\n",
              "      <th>BDNF_N</th>\n",
              "      <th>NR1_N</th>\n",
              "      <th>NR2A_N</th>\n",
              "      <th>pAKT_N</th>\n",
              "      <th>pBRAF_N</th>\n",
              "      <th>pCAMKII_N</th>\n",
              "      <th>pCREB_N</th>\n",
              "      <th>...</th>\n",
              "      <th>H3AcK18_N</th>\n",
              "      <th>EGR1_N</th>\n",
              "      <th>H3MeK4_N</th>\n",
              "      <th>CaNA_N</th>\n",
              "      <th>Genotype</th>\n",
              "      <th>Treatment</th>\n",
              "      <th>Behavior</th>\n",
              "      <th>class</th>\n",
              "      <th>Anomaly</th>\n",
              "      <th>Anomaly_Score</th>\n",
              "    </tr>\n",
              "  </thead>\n",
              "  <tbody>\n",
              "    <tr>\n",
              "      <th>0</th>\n",
              "      <td>309_1</td>\n",
              "      <td>0.503644</td>\n",
              "      <td>0.747193</td>\n",
              "      <td>0.430175</td>\n",
              "      <td>2.816329</td>\n",
              "      <td>5.990152</td>\n",
              "      <td>0.218830</td>\n",
              "      <td>0.177565</td>\n",
              "      <td>2.373744</td>\n",
              "      <td>0.232224</td>\n",
              "      <td>...</td>\n",
              "      <td>0.114783</td>\n",
              "      <td>0.131790</td>\n",
              "      <td>0.128186</td>\n",
              "      <td>1.675652</td>\n",
              "      <td>Control</td>\n",
              "      <td>Memantine</td>\n",
              "      <td>C/S</td>\n",
              "      <td>c-CS-m</td>\n",
              "      <td>0</td>\n",
              "      <td>-0.017026</td>\n",
              "    </tr>\n",
              "    <tr>\n",
              "      <th>1</th>\n",
              "      <td>309_2</td>\n",
              "      <td>0.514617</td>\n",
              "      <td>0.689064</td>\n",
              "      <td>0.411770</td>\n",
              "      <td>2.789514</td>\n",
              "      <td>5.685038</td>\n",
              "      <td>0.211636</td>\n",
              "      <td>0.172817</td>\n",
              "      <td>2.292150</td>\n",
              "      <td>0.226972</td>\n",
              "      <td>...</td>\n",
              "      <td>0.111974</td>\n",
              "      <td>0.135103</td>\n",
              "      <td>0.131119</td>\n",
              "      <td>1.743610</td>\n",
              "      <td>Control</td>\n",
              "      <td>Memantine</td>\n",
              "      <td>C/S</td>\n",
              "      <td>c-CS-m</td>\n",
              "      <td>0</td>\n",
              "      <td>-0.016855</td>\n",
              "    </tr>\n",
              "    <tr>\n",
              "      <th>2</th>\n",
              "      <td>309_3</td>\n",
              "      <td>0.509183</td>\n",
              "      <td>0.730247</td>\n",
              "      <td>0.418309</td>\n",
              "      <td>2.687201</td>\n",
              "      <td>5.622058</td>\n",
              "      <td>0.209011</td>\n",
              "      <td>0.175722</td>\n",
              "      <td>2.283337</td>\n",
              "      <td>0.230247</td>\n",
              "      <td>...</td>\n",
              "      <td>0.111883</td>\n",
              "      <td>0.133362</td>\n",
              "      <td>0.127431</td>\n",
              "      <td>1.926427</td>\n",
              "      <td>Control</td>\n",
              "      <td>Memantine</td>\n",
              "      <td>C/S</td>\n",
              "      <td>c-CS-m</td>\n",
              "      <td>0</td>\n",
              "      <td>-0.017334</td>\n",
              "    </tr>\n",
              "    <tr>\n",
              "      <th>3</th>\n",
              "      <td>309_4</td>\n",
              "      <td>0.442107</td>\n",
              "      <td>0.617076</td>\n",
              "      <td>0.358626</td>\n",
              "      <td>2.466947</td>\n",
              "      <td>4.979503</td>\n",
              "      <td>0.222886</td>\n",
              "      <td>0.176463</td>\n",
              "      <td>2.152301</td>\n",
              "      <td>0.207004</td>\n",
              "      <td>...</td>\n",
              "      <td>0.130405</td>\n",
              "      <td>0.147444</td>\n",
              "      <td>0.146901</td>\n",
              "      <td>1.700563</td>\n",
              "      <td>Control</td>\n",
              "      <td>Memantine</td>\n",
              "      <td>C/S</td>\n",
              "      <td>c-CS-m</td>\n",
              "      <td>0</td>\n",
              "      <td>-0.030236</td>\n",
              "    </tr>\n",
              "    <tr>\n",
              "      <th>4</th>\n",
              "      <td>309_5</td>\n",
              "      <td>0.434940</td>\n",
              "      <td>0.617430</td>\n",
              "      <td>0.358802</td>\n",
              "      <td>2.365785</td>\n",
              "      <td>4.718678</td>\n",
              "      <td>0.213106</td>\n",
              "      <td>0.173627</td>\n",
              "      <td>2.134014</td>\n",
              "      <td>0.192158</td>\n",
              "      <td>...</td>\n",
              "      <td>0.118481</td>\n",
              "      <td>0.140314</td>\n",
              "      <td>0.148380</td>\n",
              "      <td>1.839730</td>\n",
              "      <td>Control</td>\n",
              "      <td>Memantine</td>\n",
              "      <td>C/S</td>\n",
              "      <td>c-CS-m</td>\n",
              "      <td>0</td>\n",
              "      <td>-0.032110</td>\n",
              "    </tr>\n",
              "    <tr>\n",
              "      <th>...</th>\n",
              "      <td>...</td>\n",
              "      <td>...</td>\n",
              "      <td>...</td>\n",
              "      <td>...</td>\n",
              "      <td>...</td>\n",
              "      <td>...</td>\n",
              "      <td>...</td>\n",
              "      <td>...</td>\n",
              "      <td>...</td>\n",
              "      <td>...</td>\n",
              "      <td>...</td>\n",
              "      <td>...</td>\n",
              "      <td>...</td>\n",
              "      <td>...</td>\n",
              "      <td>...</td>\n",
              "      <td>...</td>\n",
              "      <td>...</td>\n",
              "      <td>...</td>\n",
              "      <td>...</td>\n",
              "      <td>...</td>\n",
              "      <td>...</td>\n",
              "    </tr>\n",
              "    <tr>\n",
              "      <th>1075</th>\n",
              "      <td>J3295_11</td>\n",
              "      <td>0.254860</td>\n",
              "      <td>0.463591</td>\n",
              "      <td>0.254860</td>\n",
              "      <td>2.092082</td>\n",
              "      <td>2.600035</td>\n",
              "      <td>0.211736</td>\n",
              "      <td>0.171262</td>\n",
              "      <td>2.483740</td>\n",
              "      <td>0.207317</td>\n",
              "      <td>...</td>\n",
              "      <td>0.318782</td>\n",
              "      <td>0.204660</td>\n",
              "      <td>0.328327</td>\n",
              "      <td>1.364823</td>\n",
              "      <td>Ts65Dn</td>\n",
              "      <td>Saline</td>\n",
              "      <td>S/C</td>\n",
              "      <td>t-SC-s</td>\n",
              "      <td>0</td>\n",
              "      <td>-0.017536</td>\n",
              "    </tr>\n",
              "    <tr>\n",
              "      <th>1076</th>\n",
              "      <td>J3295_12</td>\n",
              "      <td>0.272198</td>\n",
              "      <td>0.474163</td>\n",
              "      <td>0.251638</td>\n",
              "      <td>2.161390</td>\n",
              "      <td>2.801492</td>\n",
              "      <td>0.251274</td>\n",
              "      <td>0.182496</td>\n",
              "      <td>2.512737</td>\n",
              "      <td>0.216339</td>\n",
              "      <td>...</td>\n",
              "      <td>0.325639</td>\n",
              "      <td>0.200415</td>\n",
              "      <td>0.293435</td>\n",
              "      <td>1.364478</td>\n",
              "      <td>Ts65Dn</td>\n",
              "      <td>Saline</td>\n",
              "      <td>S/C</td>\n",
              "      <td>t-SC-s</td>\n",
              "      <td>0</td>\n",
              "      <td>-0.016750</td>\n",
              "    </tr>\n",
              "    <tr>\n",
              "      <th>1077</th>\n",
              "      <td>J3295_13</td>\n",
              "      <td>0.228700</td>\n",
              "      <td>0.395179</td>\n",
              "      <td>0.234118</td>\n",
              "      <td>1.733184</td>\n",
              "      <td>2.220852</td>\n",
              "      <td>0.220665</td>\n",
              "      <td>0.161435</td>\n",
              "      <td>1.989723</td>\n",
              "      <td>0.185164</td>\n",
              "      <td>...</td>\n",
              "      <td>0.321306</td>\n",
              "      <td>0.229193</td>\n",
              "      <td>0.355213</td>\n",
              "      <td>1.430825</td>\n",
              "      <td>Ts65Dn</td>\n",
              "      <td>Saline</td>\n",
              "      <td>S/C</td>\n",
              "      <td>t-SC-s</td>\n",
              "      <td>1</td>\n",
              "      <td>0.006638</td>\n",
              "    </tr>\n",
              "    <tr>\n",
              "      <th>1078</th>\n",
              "      <td>J3295_14</td>\n",
              "      <td>0.221242</td>\n",
              "      <td>0.412894</td>\n",
              "      <td>0.243974</td>\n",
              "      <td>1.876347</td>\n",
              "      <td>2.384088</td>\n",
              "      <td>0.208897</td>\n",
              "      <td>0.173623</td>\n",
              "      <td>2.086028</td>\n",
              "      <td>0.192044</td>\n",
              "      <td>...</td>\n",
              "      <td>0.335936</td>\n",
              "      <td>0.251317</td>\n",
              "      <td>0.365353</td>\n",
              "      <td>1.404031</td>\n",
              "      <td>Ts65Dn</td>\n",
              "      <td>Saline</td>\n",
              "      <td>S/C</td>\n",
              "      <td>t-SC-s</td>\n",
              "      <td>0</td>\n",
              "      <td>-0.003664</td>\n",
              "    </tr>\n",
              "    <tr>\n",
              "      <th>1079</th>\n",
              "      <td>J3295_15</td>\n",
              "      <td>0.302626</td>\n",
              "      <td>0.461059</td>\n",
              "      <td>0.256564</td>\n",
              "      <td>2.092790</td>\n",
              "      <td>2.594348</td>\n",
              "      <td>0.251001</td>\n",
              "      <td>0.191811</td>\n",
              "      <td>2.361816</td>\n",
              "      <td>0.223632</td>\n",
              "      <td>...</td>\n",
              "      <td>0.335062</td>\n",
              "      <td>0.252995</td>\n",
              "      <td>0.365278</td>\n",
              "      <td>1.370999</td>\n",
              "      <td>Ts65Dn</td>\n",
              "      <td>Saline</td>\n",
              "      <td>S/C</td>\n",
              "      <td>t-SC-s</td>\n",
              "      <td>0</td>\n",
              "      <td>-0.016296</td>\n",
              "    </tr>\n",
              "  </tbody>\n",
              "</table>\n",
              "<p>1080 rows × 84 columns</p>\n",
              "</div>"
            ],
            "text/plain": [
              "       MouseID  DYRK1A_N   ITSN1_N    BDNF_N     NR1_N    NR2A_N    pAKT_N  \\\n",
              "0        309_1  0.503644  0.747193  0.430175  2.816329  5.990152  0.218830   \n",
              "1        309_2  0.514617  0.689064  0.411770  2.789514  5.685038  0.211636   \n",
              "2        309_3  0.509183  0.730247  0.418309  2.687201  5.622058  0.209011   \n",
              "3        309_4  0.442107  0.617076  0.358626  2.466947  4.979503  0.222886   \n",
              "4        309_5  0.434940  0.617430  0.358802  2.365785  4.718678  0.213106   \n",
              "...        ...       ...       ...       ...       ...       ...       ...   \n",
              "1075  J3295_11  0.254860  0.463591  0.254860  2.092082  2.600035  0.211736   \n",
              "1076  J3295_12  0.272198  0.474163  0.251638  2.161390  2.801492  0.251274   \n",
              "1077  J3295_13  0.228700  0.395179  0.234118  1.733184  2.220852  0.220665   \n",
              "1078  J3295_14  0.221242  0.412894  0.243974  1.876347  2.384088  0.208897   \n",
              "1079  J3295_15  0.302626  0.461059  0.256564  2.092790  2.594348  0.251001   \n",
              "\n",
              "       pBRAF_N  pCAMKII_N   pCREB_N  ...  H3AcK18_N    EGR1_N  H3MeK4_N  \\\n",
              "0     0.177565   2.373744  0.232224  ...   0.114783  0.131790  0.128186   \n",
              "1     0.172817   2.292150  0.226972  ...   0.111974  0.135103  0.131119   \n",
              "2     0.175722   2.283337  0.230247  ...   0.111883  0.133362  0.127431   \n",
              "3     0.176463   2.152301  0.207004  ...   0.130405  0.147444  0.146901   \n",
              "4     0.173627   2.134014  0.192158  ...   0.118481  0.140314  0.148380   \n",
              "...        ...        ...       ...  ...        ...       ...       ...   \n",
              "1075  0.171262   2.483740  0.207317  ...   0.318782  0.204660  0.328327   \n",
              "1076  0.182496   2.512737  0.216339  ...   0.325639  0.200415  0.293435   \n",
              "1077  0.161435   1.989723  0.185164  ...   0.321306  0.229193  0.355213   \n",
              "1078  0.173623   2.086028  0.192044  ...   0.335936  0.251317  0.365353   \n",
              "1079  0.191811   2.361816  0.223632  ...   0.335062  0.252995  0.365278   \n",
              "\n",
              "        CaNA_N  Genotype  Treatment  Behavior   class  Anomaly  Anomaly_Score  \n",
              "0     1.675652   Control  Memantine       C/S  c-CS-m        0      -0.017026  \n",
              "1     1.743610   Control  Memantine       C/S  c-CS-m        0      -0.016855  \n",
              "2     1.926427   Control  Memantine       C/S  c-CS-m        0      -0.017334  \n",
              "3     1.700563   Control  Memantine       C/S  c-CS-m        0      -0.030236  \n",
              "4     1.839730   Control  Memantine       C/S  c-CS-m        0      -0.032110  \n",
              "...        ...       ...        ...       ...     ...      ...            ...  \n",
              "1075  1.364823    Ts65Dn     Saline       S/C  t-SC-s        0      -0.017536  \n",
              "1076  1.364478    Ts65Dn     Saline       S/C  t-SC-s        0      -0.016750  \n",
              "1077  1.430825    Ts65Dn     Saline       S/C  t-SC-s        1       0.006638  \n",
              "1078  1.404031    Ts65Dn     Saline       S/C  t-SC-s        0      -0.003664  \n",
              "1079  1.370999    Ts65Dn     Saline       S/C  t-SC-s        0      -0.016296  \n",
              "\n",
              "[1080 rows x 84 columns]"
            ]
          },
          "execution_count": 66,
          "metadata": {},
          "output_type": "execute_result"
        }
      ],
      "source": [
        "iforest_results = assign_model(iforest)\n",
        "iforest_results"
      ]
    },
    {
      "cell_type": "code",
      "execution_count": 67,
      "id": "952b6f24",
      "metadata": {
        "id": "952b6f24",
        "outputId": "5d5af81b-3dad-431c-a29a-bf3ae72dc931"
      },
      "outputs": [
        {
          "data": {
            "text/html": [],
            "text/plain": [
              "<IPython.core.display.HTML object>"
            ]
          },
          "metadata": {},
          "output_type": "display_data"
        },
        {
          "data": {
            "application/vnd.plotly.v1+json": {
              "config": {
                "plotlyServerURL": "https://plot.ly"
              },
              "data": [
                {
                  "customdata": [
                    [
                      "309_1"
                    ],
                    [
                      "309_2"
                    ],
                    [
                      "309_3"
                    ],
                    [
                      "309_4"
                    ],
                    [
                      "309_5"
                    ],
                    [
                      "309_6"
                    ],
                    [
                      "309_7"
                    ],
                    [
                      "309_8"
                    ],
                    [
                      "309_9"
                    ],
                    [
                      "309_10"
                    ],
                    [
                      "309_11"
                    ],
                    [
                      "309_12"
                    ],
                    [
                      "309_13"
                    ],
                    [
                      "309_14"
                    ],
                    [
                      "309_15"
                    ],
                    [
                      "311_1"
                    ],
                    [
                      "311_2"
                    ],
                    [
                      "311_3"
                    ],
                    [
                      "311_4"
                    ],
                    [
                      "311_5"
                    ],
                    [
                      "311_6"
                    ],
                    [
                      "311_7"
                    ],
                    [
                      "311_8"
                    ],
                    [
                      "311_9"
                    ],
                    [
                      "311_10"
                    ],
                    [
                      "311_11"
                    ],
                    [
                      "311_12"
                    ],
                    [
                      "311_13"
                    ],
                    [
                      "311_14"
                    ],
                    [
                      "311_15"
                    ],
                    [
                      "320_1"
                    ],
                    [
                      "320_2"
                    ],
                    [
                      "320_3"
                    ],
                    [
                      "320_4"
                    ],
                    [
                      "320_5"
                    ],
                    [
                      "320_6"
                    ],
                    [
                      "320_7"
                    ],
                    [
                      "320_8"
                    ],
                    [
                      "320_9"
                    ],
                    [
                      "320_10"
                    ],
                    [
                      "320_11"
                    ],
                    [
                      "320_12"
                    ],
                    [
                      "320_13"
                    ],
                    [
                      "320_14"
                    ],
                    [
                      "320_15"
                    ],
                    [
                      "321_1"
                    ],
                    [
                      "321_2"
                    ],
                    [
                      "321_3"
                    ],
                    [
                      "321_4"
                    ],
                    [
                      "321_5"
                    ],
                    [
                      "321_6"
                    ],
                    [
                      "321_7"
                    ],
                    [
                      "321_8"
                    ],
                    [
                      "321_9"
                    ],
                    [
                      "321_10"
                    ],
                    [
                      "321_11"
                    ],
                    [
                      "321_12"
                    ],
                    [
                      "321_13"
                    ],
                    [
                      "321_14"
                    ],
                    [
                      "321_15"
                    ],
                    [
                      "322_1"
                    ],
                    [
                      "322_2"
                    ],
                    [
                      "322_3"
                    ],
                    [
                      "322_4"
                    ],
                    [
                      "322_5"
                    ],
                    [
                      "322_6"
                    ],
                    [
                      "322_7"
                    ],
                    [
                      "322_8"
                    ],
                    [
                      "322_9"
                    ],
                    [
                      "322_10"
                    ],
                    [
                      "322_11"
                    ],
                    [
                      "322_12"
                    ],
                    [
                      "322_13"
                    ],
                    [
                      "322_14"
                    ],
                    [
                      "322_15"
                    ],
                    [
                      "3415_1"
                    ],
                    [
                      "3415_2"
                    ],
                    [
                      "3415_3"
                    ],
                    [
                      "3415_4"
                    ],
                    [
                      "3415_5"
                    ],
                    [
                      "3415_6"
                    ],
                    [
                      "3415_7"
                    ],
                    [
                      "3415_8"
                    ],
                    [
                      "3415_9"
                    ],
                    [
                      "3415_10"
                    ],
                    [
                      "3415_11"
                    ],
                    [
                      "3415_12"
                    ],
                    [
                      "3415_13"
                    ],
                    [
                      "3415_14"
                    ],
                    [
                      "3415_15"
                    ],
                    [
                      "3499_1"
                    ],
                    [
                      "3499_2"
                    ],
                    [
                      "3499_3"
                    ],
                    [
                      "3499_4"
                    ],
                    [
                      "3499_5"
                    ],
                    [
                      "3499_6"
                    ],
                    [
                      "3499_7"
                    ],
                    [
                      "3499_8"
                    ],
                    [
                      "3499_9"
                    ],
                    [
                      "3499_10"
                    ],
                    [
                      "3499_11"
                    ],
                    [
                      "3499_12"
                    ],
                    [
                      "3499_13"
                    ],
                    [
                      "3499_14"
                    ],
                    [
                      "3499_15"
                    ],
                    [
                      "3507_1"
                    ],
                    [
                      "3507_2"
                    ],
                    [
                      "3507_3"
                    ],
                    [
                      "3507_4"
                    ],
                    [
                      "3507_5"
                    ],
                    [
                      "3507_6"
                    ],
                    [
                      "3507_7"
                    ],
                    [
                      "3507_8"
                    ],
                    [
                      "3507_9"
                    ],
                    [
                      "3507_10"
                    ],
                    [
                      "3507_11"
                    ],
                    [
                      "3507_12"
                    ],
                    [
                      "3507_13"
                    ],
                    [
                      "3507_14"
                    ],
                    [
                      "3507_15"
                    ],
                    [
                      "3520_1"
                    ],
                    [
                      "3520_2"
                    ],
                    [
                      "3520_3"
                    ],
                    [
                      "3520_4"
                    ],
                    [
                      "3520_5"
                    ],
                    [
                      "3520_6"
                    ],
                    [
                      "3520_7"
                    ],
                    [
                      "3520_8"
                    ],
                    [
                      "3520_9"
                    ],
                    [
                      "3520_10"
                    ],
                    [
                      "3520_11"
                    ],
                    [
                      "3520_12"
                    ],
                    [
                      "3520_13"
                    ],
                    [
                      "3520_14"
                    ],
                    [
                      "3520_15"
                    ],
                    [
                      "3521_1"
                    ],
                    [
                      "3521_2"
                    ],
                    [
                      "3521_3"
                    ],
                    [
                      "3521_4"
                    ],
                    [
                      "3521_5"
                    ],
                    [
                      "3521_6"
                    ],
                    [
                      "3521_7"
                    ],
                    [
                      "3521_8"
                    ],
                    [
                      "3521_9"
                    ],
                    [
                      "3521_10"
                    ],
                    [
                      "3521_11"
                    ],
                    [
                      "3521_12"
                    ],
                    [
                      "3521_13"
                    ],
                    [
                      "3521_14"
                    ],
                    [
                      "3521_15"
                    ],
                    [
                      "294_1"
                    ],
                    [
                      "294_2"
                    ],
                    [
                      "294_3"
                    ],
                    [
                      "294_4"
                    ],
                    [
                      "294_5"
                    ],
                    [
                      "294_6"
                    ],
                    [
                      "294_7"
                    ],
                    [
                      "294_8"
                    ],
                    [
                      "294_9"
                    ],
                    [
                      "294_10"
                    ],
                    [
                      "294_11"
                    ],
                    [
                      "294_12"
                    ],
                    [
                      "294_13"
                    ],
                    [
                      "294_14"
                    ],
                    [
                      "294_15"
                    ],
                    [
                      "3412_1"
                    ],
                    [
                      "3412_2"
                    ],
                    [
                      "3412_3"
                    ],
                    [
                      "3412_4"
                    ],
                    [
                      "3412_5"
                    ],
                    [
                      "3412_6"
                    ],
                    [
                      "3412_7"
                    ],
                    [
                      "3412_8"
                    ],
                    [
                      "3412_9"
                    ],
                    [
                      "3412_10"
                    ],
                    [
                      "3412_11"
                    ],
                    [
                      "3412_12"
                    ],
                    [
                      "3412_13"
                    ],
                    [
                      "3412_14"
                    ],
                    [
                      "3412_15"
                    ],
                    [
                      "3413_1"
                    ],
                    [
                      "3413_2"
                    ],
                    [
                      "3413_3"
                    ],
                    [
                      "3413_4"
                    ],
                    [
                      "3413_5"
                    ],
                    [
                      "3413_6"
                    ],
                    [
                      "3413_7"
                    ],
                    [
                      "3413_8"
                    ],
                    [
                      "3413_9"
                    ],
                    [
                      "3413_10"
                    ],
                    [
                      "3413_11"
                    ],
                    [
                      "3413_12"
                    ],
                    [
                      "3413_13"
                    ],
                    [
                      "3413_14"
                    ],
                    [
                      "3413_15"
                    ],
                    [
                      "3419_1"
                    ],
                    [
                      "3419_2"
                    ],
                    [
                      "3419_3"
                    ],
                    [
                      "3419_4"
                    ],
                    [
                      "3419_5"
                    ],
                    [
                      "3419_6"
                    ],
                    [
                      "3419_7"
                    ],
                    [
                      "3419_8"
                    ],
                    [
                      "3419_9"
                    ],
                    [
                      "3419_10"
                    ],
                    [
                      "3419_11"
                    ],
                    [
                      "3419_12"
                    ],
                    [
                      "3419_13"
                    ],
                    [
                      "3419_14"
                    ],
                    [
                      "3419_15"
                    ],
                    [
                      "3420_1"
                    ],
                    [
                      "3420_2"
                    ],
                    [
                      "3420_3"
                    ],
                    [
                      "3420_4"
                    ],
                    [
                      "3420_5"
                    ],
                    [
                      "3420_6"
                    ],
                    [
                      "3420_7"
                    ],
                    [
                      "3420_8"
                    ],
                    [
                      "3420_9"
                    ],
                    [
                      "3420_10"
                    ],
                    [
                      "3420_11"
                    ],
                    [
                      "3420_12"
                    ],
                    [
                      "3420_13"
                    ],
                    [
                      "3420_14"
                    ],
                    [
                      "3420_15"
                    ],
                    [
                      "3500_1"
                    ],
                    [
                      "3500_2"
                    ],
                    [
                      "3500_3"
                    ],
                    [
                      "3500_4"
                    ],
                    [
                      "3500_5"
                    ],
                    [
                      "3500_6"
                    ],
                    [
                      "3500_7"
                    ],
                    [
                      "3500_8"
                    ],
                    [
                      "3500_9"
                    ],
                    [
                      "3500_10"
                    ],
                    [
                      "3500_11"
                    ],
                    [
                      "3500_12"
                    ],
                    [
                      "3500_13"
                    ],
                    [
                      "3500_14"
                    ],
                    [
                      "3500_15"
                    ],
                    [
                      "3503_1"
                    ],
                    [
                      "3503_2"
                    ],
                    [
                      "3503_3"
                    ],
                    [
                      "3503_4"
                    ],
                    [
                      "3503_5"
                    ],
                    [
                      "3503_6"
                    ],
                    [
                      "3503_7"
                    ],
                    [
                      "3503_8"
                    ],
                    [
                      "3503_9"
                    ],
                    [
                      "3503_10"
                    ],
                    [
                      "3503_11"
                    ],
                    [
                      "3503_12"
                    ],
                    [
                      "3503_13"
                    ],
                    [
                      "3503_14"
                    ],
                    [
                      "3503_15"
                    ],
                    [
                      "362_1"
                    ],
                    [
                      "362_2"
                    ],
                    [
                      "362_3"
                    ],
                    [
                      "362_4"
                    ],
                    [
                      "362_5"
                    ],
                    [
                      "362_6"
                    ],
                    [
                      "362_7"
                    ],
                    [
                      "362_8"
                    ],
                    [
                      "362_9"
                    ],
                    [
                      "362_10"
                    ],
                    [
                      "362_11"
                    ],
                    [
                      "362_12"
                    ],
                    [
                      "362_13"
                    ],
                    [
                      "362_14"
                    ],
                    [
                      "362_15"
                    ],
                    [
                      "364_1"
                    ],
                    [
                      "364_2"
                    ],
                    [
                      "364_3"
                    ],
                    [
                      "364_4"
                    ],
                    [
                      "364_5"
                    ],
                    [
                      "364_6"
                    ],
                    [
                      "364_7"
                    ],
                    [
                      "364_8"
                    ],
                    [
                      "364_9"
                    ],
                    [
                      "364_10"
                    ],
                    [
                      "364_11"
                    ],
                    [
                      "364_12"
                    ],
                    [
                      "364_13"
                    ],
                    [
                      "364_14"
                    ],
                    [
                      "364_15"
                    ],
                    [
                      "365_1"
                    ],
                    [
                      "365_2"
                    ],
                    [
                      "365_3"
                    ],
                    [
                      "365_4"
                    ],
                    [
                      "365_5"
                    ],
                    [
                      "365_6"
                    ],
                    [
                      "365_7"
                    ],
                    [
                      "365_8"
                    ],
                    [
                      "365_9"
                    ],
                    [
                      "365_10"
                    ],
                    [
                      "365_11"
                    ],
                    [
                      "365_12"
                    ],
                    [
                      "365_13"
                    ],
                    [
                      "365_14"
                    ],
                    [
                      "365_15"
                    ],
                    [
                      "3477_1"
                    ],
                    [
                      "3477_2"
                    ],
                    [
                      "3477_3"
                    ],
                    [
                      "3477_4"
                    ],
                    [
                      "3477_5"
                    ],
                    [
                      "3477_6"
                    ],
                    [
                      "3477_7"
                    ],
                    [
                      "3477_8"
                    ],
                    [
                      "3477_9"
                    ],
                    [
                      "3477_10"
                    ],
                    [
                      "3477_11"
                    ],
                    [
                      "3477_12"
                    ],
                    [
                      "3477_13"
                    ],
                    [
                      "3477_14"
                    ],
                    [
                      "3477_15"
                    ],
                    [
                      "3478_1"
                    ],
                    [
                      "3478_2"
                    ],
                    [
                      "3478_3"
                    ],
                    [
                      "3478_4"
                    ],
                    [
                      "3478_5"
                    ],
                    [
                      "3478_6"
                    ],
                    [
                      "3478_7"
                    ],
                    [
                      "3478_8"
                    ],
                    [
                      "3478_9"
                    ],
                    [
                      "3478_10"
                    ],
                    [
                      "3478_11"
                    ],
                    [
                      "3478_12"
                    ],
                    [
                      "3478_13"
                    ],
                    [
                      "3478_14"
                    ],
                    [
                      "3478_15"
                    ],
                    [
                      "3479_1"
                    ],
                    [
                      "3479_2"
                    ],
                    [
                      "3479_3"
                    ],
                    [
                      "3479_4"
                    ],
                    [
                      "3479_5"
                    ],
                    [
                      "3479_6"
                    ],
                    [
                      "3479_7"
                    ],
                    [
                      "3479_8"
                    ],
                    [
                      "3479_9"
                    ],
                    [
                      "3479_10"
                    ],
                    [
                      "3479_11"
                    ],
                    [
                      "3479_12"
                    ],
                    [
                      "3479_13"
                    ],
                    [
                      "3479_14"
                    ],
                    [
                      "3479_15"
                    ],
                    [
                      "3480_1"
                    ],
                    [
                      "3480_2"
                    ],
                    [
                      "3480_3"
                    ],
                    [
                      "3480_4"
                    ],
                    [
                      "3480_5"
                    ],
                    [
                      "3480_6"
                    ],
                    [
                      "3480_7"
                    ],
                    [
                      "3480_8"
                    ],
                    [
                      "3480_9"
                    ],
                    [
                      "3480_10"
                    ],
                    [
                      "3480_11"
                    ],
                    [
                      "3480_12"
                    ],
                    [
                      "3480_13"
                    ],
                    [
                      "3480_14"
                    ],
                    [
                      "3480_15"
                    ],
                    [
                      "3484_1"
                    ],
                    [
                      "3484_2"
                    ],
                    [
                      "3484_3"
                    ],
                    [
                      "3484_4"
                    ],
                    [
                      "3484_5"
                    ],
                    [
                      "3484_6"
                    ],
                    [
                      "3484_7"
                    ],
                    [
                      "3484_8"
                    ],
                    [
                      "3484_9"
                    ],
                    [
                      "3484_10"
                    ],
                    [
                      "3484_11"
                    ],
                    [
                      "3484_12"
                    ],
                    [
                      "3484_13"
                    ],
                    [
                      "3484_14"
                    ],
                    [
                      "3484_15"
                    ],
                    [
                      "3497_1"
                    ],
                    [
                      "3497_2"
                    ],
                    [
                      "3497_3"
                    ],
                    [
                      "3497_4"
                    ],
                    [
                      "3497_5"
                    ],
                    [
                      "3497_6"
                    ],
                    [
                      "3497_7"
                    ],
                    [
                      "3497_8"
                    ],
                    [
                      "3497_9"
                    ],
                    [
                      "3497_10"
                    ],
                    [
                      "3497_11"
                    ],
                    [
                      "3497_12"
                    ],
                    [
                      "3497_13"
                    ],
                    [
                      "3497_14"
                    ],
                    [
                      "3497_15"
                    ],
                    [
                      "50810A_1"
                    ],
                    [
                      "50810A_2"
                    ],
                    [
                      "50810A_3"
                    ],
                    [
                      "50810A_4"
                    ],
                    [
                      "50810A_5"
                    ],
                    [
                      "50810A_6"
                    ],
                    [
                      "50810A_7"
                    ],
                    [
                      "50810A_8"
                    ],
                    [
                      "50810A_9"
                    ],
                    [
                      "50810A_10"
                    ],
                    [
                      "50810A_11"
                    ],
                    [
                      "50810A_12"
                    ],
                    [
                      "50810A_13"
                    ],
                    [
                      "50810A_14"
                    ],
                    [
                      "50810A_15"
                    ],
                    [
                      "50810D_1"
                    ],
                    [
                      "50810D_2"
                    ],
                    [
                      "50810D_3"
                    ],
                    [
                      "50810D_4"
                    ],
                    [
                      "50810D_5"
                    ],
                    [
                      "50810D_6"
                    ],
                    [
                      "50810D_7"
                    ],
                    [
                      "50810D_8"
                    ],
                    [
                      "50810D_9"
                    ],
                    [
                      "50810D_10"
                    ],
                    [
                      "50810D_11"
                    ],
                    [
                      "50810D_12"
                    ],
                    [
                      "50810D_13"
                    ],
                    [
                      "50810D_14"
                    ],
                    [
                      "50810D_15"
                    ],
                    [
                      "50810F_1"
                    ],
                    [
                      "50810F_2"
                    ],
                    [
                      "50810F_3"
                    ],
                    [
                      "50810F_4"
                    ],
                    [
                      "50810F_5"
                    ],
                    [
                      "50810F_6"
                    ],
                    [
                      "50810F_7"
                    ],
                    [
                      "50810F_8"
                    ],
                    [
                      "50810F_9"
                    ],
                    [
                      "50810F_10"
                    ],
                    [
                      "50810F_11"
                    ],
                    [
                      "50810F_12"
                    ],
                    [
                      "50810F_13"
                    ],
                    [
                      "50810F_14"
                    ],
                    [
                      "50810F_15"
                    ],
                    [
                      "3422_1"
                    ],
                    [
                      "3422_2"
                    ],
                    [
                      "3422_3"
                    ],
                    [
                      "3422_4"
                    ],
                    [
                      "3422_5"
                    ],
                    [
                      "3422_6"
                    ],
                    [
                      "3422_7"
                    ],
                    [
                      "3422_8"
                    ],
                    [
                      "3422_9"
                    ],
                    [
                      "3422_10"
                    ],
                    [
                      "3422_11"
                    ],
                    [
                      "3422_12"
                    ],
                    [
                      "3422_13"
                    ],
                    [
                      "3422_14"
                    ],
                    [
                      "3422_15"
                    ],
                    [
                      "3423_1"
                    ],
                    [
                      "3423_2"
                    ],
                    [
                      "3423_3"
                    ],
                    [
                      "3423_4"
                    ],
                    [
                      "3423_5"
                    ],
                    [
                      "3423_6"
                    ],
                    [
                      "3423_7"
                    ],
                    [
                      "3423_8"
                    ],
                    [
                      "3423_9"
                    ],
                    [
                      "3423_10"
                    ],
                    [
                      "3423_11"
                    ],
                    [
                      "3423_12"
                    ],
                    [
                      "3423_13"
                    ],
                    [
                      "3423_14"
                    ],
                    [
                      "3423_15"
                    ],
                    [
                      "3424_1"
                    ],
                    [
                      "3424_2"
                    ],
                    [
                      "3424_3"
                    ],
                    [
                      "3424_4"
                    ],
                    [
                      "3424_5"
                    ],
                    [
                      "3424_6"
                    ],
                    [
                      "3424_7"
                    ],
                    [
                      "3424_8"
                    ],
                    [
                      "3424_9"
                    ],
                    [
                      "3424_10"
                    ],
                    [
                      "3424_11"
                    ],
                    [
                      "3424_12"
                    ],
                    [
                      "3424_13"
                    ],
                    [
                      "3424_14"
                    ],
                    [
                      "3424_15"
                    ],
                    [
                      "3481_1"
                    ],
                    [
                      "3481_2"
                    ],
                    [
                      "3481_3"
                    ],
                    [
                      "3481_4"
                    ],
                    [
                      "3481_5"
                    ],
                    [
                      "3481_6"
                    ],
                    [
                      "3481_7"
                    ],
                    [
                      "3481_8"
                    ],
                    [
                      "3481_9"
                    ],
                    [
                      "3481_10"
                    ],
                    [
                      "3481_11"
                    ],
                    [
                      "3481_12"
                    ],
                    [
                      "3481_13"
                    ],
                    [
                      "3481_14"
                    ],
                    [
                      "3481_15"
                    ],
                    [
                      "3488_1"
                    ],
                    [
                      "3488_2"
                    ],
                    [
                      "3488_3"
                    ],
                    [
                      "3488_4"
                    ],
                    [
                      "3488_5"
                    ],
                    [
                      "3488_6"
                    ],
                    [
                      "3488_7"
                    ],
                    [
                      "3488_8"
                    ],
                    [
                      "3488_9"
                    ],
                    [
                      "3488_10"
                    ],
                    [
                      "3488_11"
                    ],
                    [
                      "3488_12"
                    ],
                    [
                      "3488_13"
                    ],
                    [
                      "3488_14"
                    ],
                    [
                      "3488_15"
                    ],
                    [
                      "3489_1"
                    ],
                    [
                      "3489_2"
                    ],
                    [
                      "3489_3"
                    ],
                    [
                      "3489_4"
                    ],
                    [
                      "3489_5"
                    ],
                    [
                      "3489_6"
                    ],
                    [
                      "3489_7"
                    ],
                    [
                      "3489_8"
                    ],
                    [
                      "3489_9"
                    ],
                    [
                      "3489_10"
                    ],
                    [
                      "3489_11"
                    ],
                    [
                      "3489_12"
                    ],
                    [
                      "3489_13"
                    ],
                    [
                      "3489_14"
                    ],
                    [
                      "3489_15"
                    ],
                    [
                      "3490_1"
                    ],
                    [
                      "3490_2"
                    ],
                    [
                      "3490_3"
                    ],
                    [
                      "3490_4"
                    ],
                    [
                      "3490_5"
                    ],
                    [
                      "3490_6"
                    ],
                    [
                      "3490_7"
                    ],
                    [
                      "3490_8"
                    ],
                    [
                      "3490_9"
                    ],
                    [
                      "3490_10"
                    ],
                    [
                      "3490_11"
                    ],
                    [
                      "3490_12"
                    ],
                    [
                      "3490_13"
                    ],
                    [
                      "3490_14"
                    ],
                    [
                      "3490_15"
                    ],
                    [
                      "3516_1"
                    ],
                    [
                      "3516_2"
                    ],
                    [
                      "3516_3"
                    ],
                    [
                      "3516_4"
                    ],
                    [
                      "3516_5"
                    ],
                    [
                      "3516_6"
                    ],
                    [
                      "3516_7"
                    ],
                    [
                      "3516_8"
                    ],
                    [
                      "3516_9"
                    ],
                    [
                      "3516_10"
                    ],
                    [
                      "3516_11"
                    ],
                    [
                      "3516_12"
                    ],
                    [
                      "3516_13"
                    ],
                    [
                      "3516_14"
                    ],
                    [
                      "3516_15"
                    ],
                    [
                      "J2292_1"
                    ],
                    [
                      "J2292_2"
                    ],
                    [
                      "J2292_3"
                    ],
                    [
                      "J2292_4"
                    ],
                    [
                      "J2292_5"
                    ],
                    [
                      "J2292_6"
                    ],
                    [
                      "J2292_7"
                    ],
                    [
                      "J2292_8"
                    ],
                    [
                      "J2292_9"
                    ],
                    [
                      "J2292_10"
                    ],
                    [
                      "J2292_11"
                    ],
                    [
                      "J2292_12"
                    ],
                    [
                      "J2292_13"
                    ],
                    [
                      "J2292_14"
                    ],
                    [
                      "J2292_15"
                    ],
                    [
                      "3414_1"
                    ],
                    [
                      "3414_2"
                    ],
                    [
                      "3414_3"
                    ],
                    [
                      "3414_4"
                    ],
                    [
                      "3414_5"
                    ],
                    [
                      "3414_6"
                    ],
                    [
                      "3414_7"
                    ],
                    [
                      "3414_8"
                    ],
                    [
                      "3414_9"
                    ],
                    [
                      "3414_10"
                    ],
                    [
                      "3414_11"
                    ],
                    [
                      "3414_12"
                    ],
                    [
                      "3414_13"
                    ],
                    [
                      "3414_14"
                    ],
                    [
                      "3414_15"
                    ],
                    [
                      "3416_1"
                    ],
                    [
                      "3416_2"
                    ],
                    [
                      "3416_3"
                    ],
                    [
                      "3416_4"
                    ],
                    [
                      "3416_5"
                    ],
                    [
                      "3416_6"
                    ],
                    [
                      "3416_7"
                    ],
                    [
                      "3416_8"
                    ],
                    [
                      "3416_9"
                    ],
                    [
                      "3416_10"
                    ],
                    [
                      "3416_11"
                    ],
                    [
                      "3416_12"
                    ],
                    [
                      "3416_13"
                    ],
                    [
                      "3416_14"
                    ],
                    [
                      "3416_15"
                    ],
                    [
                      "3417_1"
                    ],
                    [
                      "3417_2"
                    ],
                    [
                      "3417_3"
                    ],
                    [
                      "3417_4"
                    ],
                    [
                      "3417_5"
                    ],
                    [
                      "3417_6"
                    ],
                    [
                      "3417_7"
                    ],
                    [
                      "3417_8"
                    ],
                    [
                      "3417_9"
                    ],
                    [
                      "3417_10"
                    ],
                    [
                      "3417_11"
                    ],
                    [
                      "3417_12"
                    ],
                    [
                      "3417_13"
                    ],
                    [
                      "3417_14"
                    ],
                    [
                      "3417_15"
                    ],
                    [
                      "3429_1"
                    ],
                    [
                      "3429_2"
                    ],
                    [
                      "3429_3"
                    ],
                    [
                      "3429_4"
                    ],
                    [
                      "3429_5"
                    ],
                    [
                      "3429_6"
                    ],
                    [
                      "3429_7"
                    ],
                    [
                      "3429_8"
                    ],
                    [
                      "3429_9"
                    ],
                    [
                      "3429_10"
                    ],
                    [
                      "3429_11"
                    ],
                    [
                      "3429_12"
                    ],
                    [
                      "3429_13"
                    ],
                    [
                      "3429_14"
                    ],
                    [
                      "3429_15"
                    ],
                    [
                      "3504_1"
                    ],
                    [
                      "3504_2"
                    ],
                    [
                      "3504_3"
                    ],
                    [
                      "3504_4"
                    ],
                    [
                      "3504_5"
                    ],
                    [
                      "3504_6"
                    ],
                    [
                      "3504_7"
                    ],
                    [
                      "3504_8"
                    ],
                    [
                      "3504_9"
                    ],
                    [
                      "3504_10"
                    ],
                    [
                      "3504_11"
                    ],
                    [
                      "3504_12"
                    ],
                    [
                      "3504_13"
                    ],
                    [
                      "3504_14"
                    ],
                    [
                      "3504_15"
                    ],
                    [
                      "3505_1"
                    ],
                    [
                      "3505_2"
                    ],
                    [
                      "3505_3"
                    ],
                    [
                      "3505_4"
                    ],
                    [
                      "3505_5"
                    ],
                    [
                      "3505_6"
                    ],
                    [
                      "3505_7"
                    ],
                    [
                      "3505_8"
                    ],
                    [
                      "3505_9"
                    ],
                    [
                      "3505_10"
                    ],
                    [
                      "3505_11"
                    ],
                    [
                      "3505_12"
                    ],
                    [
                      "3505_13"
                    ],
                    [
                      "3505_14"
                    ],
                    [
                      "3505_15"
                    ],
                    [
                      "3522_1"
                    ],
                    [
                      "3522_2"
                    ],
                    [
                      "3522_3"
                    ],
                    [
                      "3522_4"
                    ],
                    [
                      "3522_5"
                    ],
                    [
                      "3522_6"
                    ],
                    [
                      "3522_7"
                    ],
                    [
                      "3522_8"
                    ],
                    [
                      "3522_9"
                    ],
                    [
                      "3522_10"
                    ],
                    [
                      "3522_11"
                    ],
                    [
                      "3522_12"
                    ],
                    [
                      "3522_13"
                    ],
                    [
                      "3522_14"
                    ],
                    [
                      "3522_15"
                    ],
                    [
                      "361_1"
                    ],
                    [
                      "361_2"
                    ],
                    [
                      "361_3"
                    ],
                    [
                      "361_4"
                    ],
                    [
                      "361_5"
                    ],
                    [
                      "361_6"
                    ],
                    [
                      "361_7"
                    ],
                    [
                      "361_8"
                    ],
                    [
                      "361_9"
                    ],
                    [
                      "361_10"
                    ],
                    [
                      "361_11"
                    ],
                    [
                      "361_12"
                    ],
                    [
                      "361_13"
                    ],
                    [
                      "361_14"
                    ],
                    [
                      "361_15"
                    ],
                    [
                      "363_1"
                    ],
                    [
                      "363_2"
                    ],
                    [
                      "363_3"
                    ],
                    [
                      "363_4"
                    ],
                    [
                      "363_5"
                    ],
                    [
                      "363_6"
                    ],
                    [
                      "363_7"
                    ],
                    [
                      "363_8"
                    ],
                    [
                      "363_9"
                    ],
                    [
                      "363_10"
                    ],
                    [
                      "363_11"
                    ],
                    [
                      "363_12"
                    ],
                    [
                      "363_13"
                    ],
                    [
                      "363_14"
                    ],
                    [
                      "363_15"
                    ],
                    [
                      "293_1"
                    ],
                    [
                      "293_2"
                    ],
                    [
                      "293_3"
                    ],
                    [
                      "293_4"
                    ],
                    [
                      "293_5"
                    ],
                    [
                      "293_6"
                    ],
                    [
                      "293_7"
                    ],
                    [
                      "293_8"
                    ],
                    [
                      "293_9"
                    ],
                    [
                      "293_10"
                    ],
                    [
                      "293_11"
                    ],
                    [
                      "293_12"
                    ],
                    [
                      "293_13"
                    ],
                    [
                      "293_14"
                    ],
                    [
                      "293_15"
                    ],
                    [
                      "3411_1"
                    ],
                    [
                      "3411_2"
                    ],
                    [
                      "3411_3"
                    ],
                    [
                      "3411_4"
                    ],
                    [
                      "3411_5"
                    ],
                    [
                      "3411_6"
                    ],
                    [
                      "3411_7"
                    ],
                    [
                      "3411_8"
                    ],
                    [
                      "3411_9"
                    ],
                    [
                      "3411_10"
                    ],
                    [
                      "3411_11"
                    ],
                    [
                      "3411_12"
                    ],
                    [
                      "3411_13"
                    ],
                    [
                      "3411_14"
                    ],
                    [
                      "3411_15"
                    ],
                    [
                      "3418_1"
                    ],
                    [
                      "3418_2"
                    ],
                    [
                      "3418_3"
                    ],
                    [
                      "3418_4"
                    ],
                    [
                      "3418_5"
                    ],
                    [
                      "3418_6"
                    ],
                    [
                      "3418_7"
                    ],
                    [
                      "3418_8"
                    ],
                    [
                      "3418_9"
                    ],
                    [
                      "3418_10"
                    ],
                    [
                      "3418_11"
                    ],
                    [
                      "3418_12"
                    ],
                    [
                      "3418_13"
                    ],
                    [
                      "3418_14"
                    ],
                    [
                      "3418_15"
                    ],
                    [
                      "3501_1"
                    ],
                    [
                      "3501_2"
                    ],
                    [
                      "3501_3"
                    ],
                    [
                      "3501_4"
                    ],
                    [
                      "3501_5"
                    ],
                    [
                      "3501_6"
                    ],
                    [
                      "3501_7"
                    ],
                    [
                      "3501_8"
                    ],
                    [
                      "3501_9"
                    ],
                    [
                      "3501_10"
                    ],
                    [
                      "3501_11"
                    ],
                    [
                      "3501_12"
                    ],
                    [
                      "3501_13"
                    ],
                    [
                      "3501_14"
                    ],
                    [
                      "3501_15"
                    ],
                    [
                      "3502_1"
                    ],
                    [
                      "3502_2"
                    ],
                    [
                      "3502_3"
                    ],
                    [
                      "3502_4"
                    ],
                    [
                      "3502_5"
                    ],
                    [
                      "3502_6"
                    ],
                    [
                      "3502_7"
                    ],
                    [
                      "3502_8"
                    ],
                    [
                      "3502_9"
                    ],
                    [
                      "3502_10"
                    ],
                    [
                      "3502_11"
                    ],
                    [
                      "3502_12"
                    ],
                    [
                      "3502_13"
                    ],
                    [
                      "3502_14"
                    ],
                    [
                      "3502_15"
                    ],
                    [
                      "3530_1"
                    ],
                    [
                      "3530_2"
                    ],
                    [
                      "3530_3"
                    ],
                    [
                      "3530_4"
                    ],
                    [
                      "3530_5"
                    ],
                    [
                      "3530_6"
                    ],
                    [
                      "3530_7"
                    ],
                    [
                      "3530_8"
                    ],
                    [
                      "3530_9"
                    ],
                    [
                      "3530_10"
                    ],
                    [
                      "3530_11"
                    ],
                    [
                      "3530_12"
                    ],
                    [
                      "3530_13"
                    ],
                    [
                      "3530_14"
                    ],
                    [
                      "3530_15"
                    ],
                    [
                      "3534_1"
                    ],
                    [
                      "3534_2"
                    ],
                    [
                      "3534_3"
                    ],
                    [
                      "3534_4"
                    ],
                    [
                      "3534_5"
                    ],
                    [
                      "3534_6"
                    ],
                    [
                      "3534_7"
                    ],
                    [
                      "3534_8"
                    ],
                    [
                      "3534_9"
                    ],
                    [
                      "3534_10"
                    ],
                    [
                      "3534_11"
                    ],
                    [
                      "3534_12"
                    ],
                    [
                      "3534_13"
                    ],
                    [
                      "3534_14"
                    ],
                    [
                      "3534_15"
                    ],
                    [
                      "3605_1"
                    ],
                    [
                      "3605_2"
                    ],
                    [
                      "3605_3"
                    ],
                    [
                      "3605_4"
                    ],
                    [
                      "3605_5"
                    ],
                    [
                      "3605_6"
                    ],
                    [
                      "3605_7"
                    ],
                    [
                      "3605_8"
                    ],
                    [
                      "3605_9"
                    ],
                    [
                      "3605_10"
                    ],
                    [
                      "3605_11"
                    ],
                    [
                      "3605_12"
                    ],
                    [
                      "3605_13"
                    ],
                    [
                      "3605_14"
                    ],
                    [
                      "3605_15"
                    ],
                    [
                      "3606_1"
                    ],
                    [
                      "3606_2"
                    ],
                    [
                      "3606_3"
                    ],
                    [
                      "3606_4"
                    ],
                    [
                      "3606_5"
                    ],
                    [
                      "3606_6"
                    ],
                    [
                      "3606_7"
                    ],
                    [
                      "3606_8"
                    ],
                    [
                      "3606_9"
                    ],
                    [
                      "3606_10"
                    ],
                    [
                      "3606_11"
                    ],
                    [
                      "3606_12"
                    ],
                    [
                      "3606_13"
                    ],
                    [
                      "3606_14"
                    ],
                    [
                      "3606_15"
                    ],
                    [
                      "18899_1"
                    ],
                    [
                      "18899_2"
                    ],
                    [
                      "18899_3"
                    ],
                    [
                      "18899_4"
                    ],
                    [
                      "18899_5"
                    ],
                    [
                      "18899_6"
                    ],
                    [
                      "18899_7"
                    ],
                    [
                      "18899_8"
                    ],
                    [
                      "18899_9"
                    ],
                    [
                      "18899_10"
                    ],
                    [
                      "18899_11"
                    ],
                    [
                      "18899_12"
                    ],
                    [
                      "18899_13"
                    ],
                    [
                      "18899_14"
                    ],
                    [
                      "18899_15"
                    ],
                    [
                      "3476_1"
                    ],
                    [
                      "3476_2"
                    ],
                    [
                      "3476_3"
                    ],
                    [
                      "3476_4"
                    ],
                    [
                      "3476_5"
                    ],
                    [
                      "3476_6"
                    ],
                    [
                      "3476_7"
                    ],
                    [
                      "3476_8"
                    ],
                    [
                      "3476_9"
                    ],
                    [
                      "3476_10"
                    ],
                    [
                      "3476_11"
                    ],
                    [
                      "3476_12"
                    ],
                    [
                      "3476_13"
                    ],
                    [
                      "3476_14"
                    ],
                    [
                      "3476_15"
                    ],
                    [
                      "3483_1"
                    ],
                    [
                      "3483_2"
                    ],
                    [
                      "3483_3"
                    ],
                    [
                      "3483_4"
                    ],
                    [
                      "3483_5"
                    ],
                    [
                      "3483_6"
                    ],
                    [
                      "3483_7"
                    ],
                    [
                      "3483_8"
                    ],
                    [
                      "3483_9"
                    ],
                    [
                      "3483_10"
                    ],
                    [
                      "3483_11"
                    ],
                    [
                      "3483_12"
                    ],
                    [
                      "3483_13"
                    ],
                    [
                      "3483_14"
                    ],
                    [
                      "3483_15"
                    ],
                    [
                      "3498_1"
                    ],
                    [
                      "3498_2"
                    ],
                    [
                      "3498_3"
                    ],
                    [
                      "3498_4"
                    ],
                    [
                      "3498_5"
                    ],
                    [
                      "3498_6"
                    ],
                    [
                      "3498_7"
                    ],
                    [
                      "3498_8"
                    ],
                    [
                      "3498_9"
                    ],
                    [
                      "3498_10"
                    ],
                    [
                      "3498_11"
                    ],
                    [
                      "3498_12"
                    ],
                    [
                      "3498_13"
                    ],
                    [
                      "3498_14"
                    ],
                    [
                      "3498_15"
                    ],
                    [
                      "50810B_1"
                    ],
                    [
                      "50810B_2"
                    ],
                    [
                      "50810B_3"
                    ],
                    [
                      "50810B_4"
                    ],
                    [
                      "50810B_5"
                    ],
                    [
                      "50810B_6"
                    ],
                    [
                      "50810B_7"
                    ],
                    [
                      "50810B_8"
                    ],
                    [
                      "50810B_9"
                    ],
                    [
                      "50810B_10"
                    ],
                    [
                      "50810B_11"
                    ],
                    [
                      "50810B_12"
                    ],
                    [
                      "50810B_13"
                    ],
                    [
                      "50810B_14"
                    ],
                    [
                      "50810B_15"
                    ],
                    [
                      "50810C_1"
                    ],
                    [
                      "50810C_2"
                    ],
                    [
                      "50810C_3"
                    ],
                    [
                      "50810C_4"
                    ],
                    [
                      "50810C_5"
                    ],
                    [
                      "50810C_6"
                    ],
                    [
                      "50810C_7"
                    ],
                    [
                      "50810C_8"
                    ],
                    [
                      "50810C_9"
                    ],
                    [
                      "50810C_10"
                    ],
                    [
                      "50810C_11"
                    ],
                    [
                      "50810C_12"
                    ],
                    [
                      "50810C_13"
                    ],
                    [
                      "50810C_14"
                    ],
                    [
                      "50810C_15"
                    ],
                    [
                      "50810E_1"
                    ],
                    [
                      "50810E_2"
                    ],
                    [
                      "50810E_3"
                    ],
                    [
                      "50810E_4"
                    ],
                    [
                      "50810E_5"
                    ],
                    [
                      "50810E_6"
                    ],
                    [
                      "50810E_7"
                    ],
                    [
                      "50810E_8"
                    ],
                    [
                      "50810E_9"
                    ],
                    [
                      "50810E_10"
                    ],
                    [
                      "50810E_11"
                    ],
                    [
                      "50810E_12"
                    ],
                    [
                      "50810E_13"
                    ],
                    [
                      "50810E_14"
                    ],
                    [
                      "50810E_15"
                    ],
                    [
                      "3421_1"
                    ],
                    [
                      "3421_2"
                    ],
                    [
                      "3421_3"
                    ],
                    [
                      "3421_4"
                    ],
                    [
                      "3421_5"
                    ],
                    [
                      "3421_6"
                    ],
                    [
                      "3421_7"
                    ],
                    [
                      "3421_8"
                    ],
                    [
                      "3421_9"
                    ],
                    [
                      "3421_10"
                    ],
                    [
                      "3421_11"
                    ],
                    [
                      "3421_12"
                    ],
                    [
                      "3421_13"
                    ],
                    [
                      "3421_14"
                    ],
                    [
                      "3421_15"
                    ],
                    [
                      "3425_1"
                    ],
                    [
                      "3425_2"
                    ],
                    [
                      "3425_3"
                    ],
                    [
                      "3425_4"
                    ],
                    [
                      "3425_5"
                    ],
                    [
                      "3425_6"
                    ],
                    [
                      "3425_7"
                    ],
                    [
                      "3425_8"
                    ],
                    [
                      "3425_9"
                    ],
                    [
                      "3425_10"
                    ],
                    [
                      "3425_11"
                    ],
                    [
                      "3425_12"
                    ],
                    [
                      "3425_13"
                    ],
                    [
                      "3425_14"
                    ],
                    [
                      "3425_15"
                    ],
                    [
                      "3426_1"
                    ],
                    [
                      "3426_2"
                    ],
                    [
                      "3426_3"
                    ],
                    [
                      "3426_4"
                    ],
                    [
                      "3426_5"
                    ],
                    [
                      "3426_6"
                    ],
                    [
                      "3426_7"
                    ],
                    [
                      "3426_8"
                    ],
                    [
                      "3426_9"
                    ],
                    [
                      "3426_10"
                    ],
                    [
                      "3426_11"
                    ],
                    [
                      "3426_12"
                    ],
                    [
                      "3426_13"
                    ],
                    [
                      "3426_14"
                    ],
                    [
                      "3426_15"
                    ],
                    [
                      "3491_1"
                    ],
                    [
                      "3491_2"
                    ],
                    [
                      "3491_3"
                    ],
                    [
                      "3491_4"
                    ],
                    [
                      "3491_5"
                    ],
                    [
                      "3491_6"
                    ],
                    [
                      "3491_7"
                    ],
                    [
                      "3491_8"
                    ],
                    [
                      "3491_9"
                    ],
                    [
                      "3491_10"
                    ],
                    [
                      "3491_11"
                    ],
                    [
                      "3491_12"
                    ],
                    [
                      "3491_13"
                    ],
                    [
                      "3491_14"
                    ],
                    [
                      "3491_15"
                    ],
                    [
                      "3513_1"
                    ],
                    [
                      "3513_2"
                    ],
                    [
                      "3513_3"
                    ],
                    [
                      "3513_4"
                    ],
                    [
                      "3513_5"
                    ],
                    [
                      "3513_6"
                    ],
                    [
                      "3513_7"
                    ],
                    [
                      "3513_8"
                    ],
                    [
                      "3513_9"
                    ],
                    [
                      "3513_10"
                    ],
                    [
                      "3513_11"
                    ],
                    [
                      "3513_12"
                    ],
                    [
                      "3513_13"
                    ],
                    [
                      "3513_14"
                    ],
                    [
                      "3513_15"
                    ],
                    [
                      "3517_1"
                    ],
                    [
                      "3517_2"
                    ],
                    [
                      "3517_3"
                    ],
                    [
                      "3517_4"
                    ],
                    [
                      "3517_5"
                    ],
                    [
                      "3517_6"
                    ],
                    [
                      "3517_7"
                    ],
                    [
                      "3517_8"
                    ],
                    [
                      "3517_9"
                    ],
                    [
                      "3517_10"
                    ],
                    [
                      "3517_11"
                    ],
                    [
                      "3517_12"
                    ],
                    [
                      "3517_13"
                    ],
                    [
                      "3517_14"
                    ],
                    [
                      "3517_15"
                    ],
                    [
                      "3525_1"
                    ],
                    [
                      "3525_2"
                    ],
                    [
                      "3525_3"
                    ],
                    [
                      "3525_4"
                    ],
                    [
                      "3525_5"
                    ],
                    [
                      "3525_6"
                    ],
                    [
                      "3525_7"
                    ],
                    [
                      "3525_8"
                    ],
                    [
                      "3525_9"
                    ],
                    [
                      "3525_10"
                    ],
                    [
                      "3525_11"
                    ],
                    [
                      "3525_12"
                    ],
                    [
                      "3525_13"
                    ],
                    [
                      "3525_14"
                    ],
                    [
                      "3525_15"
                    ],
                    [
                      "J1291_1"
                    ],
                    [
                      "J1291_2"
                    ],
                    [
                      "J1291_3"
                    ],
                    [
                      "J1291_4"
                    ],
                    [
                      "J1291_5"
                    ],
                    [
                      "J1291_6"
                    ],
                    [
                      "J1291_7"
                    ],
                    [
                      "J1291_8"
                    ],
                    [
                      "J1291_9"
                    ],
                    [
                      "J1291_10"
                    ],
                    [
                      "J1291_11"
                    ],
                    [
                      "J1291_12"
                    ],
                    [
                      "J1291_13"
                    ],
                    [
                      "J1291_14"
                    ],
                    [
                      "J1291_15"
                    ],
                    [
                      "J3295_1"
                    ],
                    [
                      "J3295_2"
                    ],
                    [
                      "J3295_3"
                    ],
                    [
                      "J3295_4"
                    ],
                    [
                      "J3295_5"
                    ],
                    [
                      "J3295_6"
                    ],
                    [
                      "J3295_7"
                    ],
                    [
                      "J3295_8"
                    ],
                    [
                      "J3295_9"
                    ],
                    [
                      "J3295_10"
                    ],
                    [
                      "J3295_11"
                    ],
                    [
                      "J3295_12"
                    ],
                    [
                      "J3295_13"
                    ],
                    [
                      "J3295_14"
                    ],
                    [
                      "J3295_15"
                    ]
                  ],
                  "hovertemplate": "0=%{x}<br>1=%{y}<br>2=%{z}<br>Feature=%{customdata[0]}<br>Anomaly=%{marker.color}<extra></extra>",
                  "legendgroup": "",
                  "marker": {
                    "color": [
                      0,
                      0,
                      0,
                      0,
                      0,
                      0,
                      0,
                      0,
                      0,
                      0,
                      0,
                      0,
                      0,
                      0,
                      0,
                      0,
                      0,
                      0,
                      0,
                      0,
                      0,
                      0,
                      0,
                      0,
                      0,
                      1,
                      0,
                      0,
                      0,
                      0,
                      1,
                      1,
                      1,
                      0,
                      0,
                      0,
                      0,
                      0,
                      0,
                      0,
                      0,
                      0,
                      0,
                      0,
                      0,
                      0,
                      0,
                      1,
                      0,
                      0,
                      0,
                      0,
                      0,
                      0,
                      0,
                      0,
                      0,
                      0,
                      0,
                      0,
                      0,
                      0,
                      0,
                      0,
                      0,
                      0,
                      0,
                      0,
                      0,
                      0,
                      0,
                      0,
                      0,
                      0,
                      0,
                      0,
                      1,
                      0,
                      0,
                      0,
                      0,
                      0,
                      0,
                      0,
                      0,
                      0,
                      0,
                      1,
                      0,
                      0,
                      0,
                      0,
                      0,
                      0,
                      0,
                      0,
                      0,
                      0,
                      0,
                      0,
                      0,
                      0,
                      0,
                      0,
                      0,
                      0,
                      0,
                      0,
                      0,
                      0,
                      0,
                      0,
                      0,
                      0,
                      0,
                      0,
                      0,
                      0,
                      0,
                      0,
                      0,
                      0,
                      0,
                      0,
                      0,
                      0,
                      0,
                      0,
                      0,
                      0,
                      0,
                      0,
                      0,
                      0,
                      0,
                      0,
                      0,
                      0,
                      0,
                      0,
                      0,
                      0,
                      0,
                      0,
                      0,
                      0,
                      0,
                      0,
                      0,
                      0,
                      0,
                      0,
                      0,
                      0,
                      0,
                      0,
                      0,
                      0,
                      0,
                      0,
                      0,
                      0,
                      0,
                      0,
                      0,
                      0,
                      0,
                      0,
                      0,
                      0,
                      0,
                      0,
                      0,
                      0,
                      0,
                      0,
                      0,
                      0,
                      0,
                      1,
                      0,
                      0,
                      0,
                      0,
                      0,
                      0,
                      0,
                      0,
                      0,
                      0,
                      0,
                      0,
                      0,
                      0,
                      0,
                      0,
                      0,
                      0,
                      0,
                      0,
                      0,
                      0,
                      0,
                      0,
                      0,
                      0,
                      0,
                      0,
                      0,
                      0,
                      0,
                      0,
                      0,
                      0,
                      0,
                      0,
                      0,
                      0,
                      0,
                      0,
                      1,
                      0,
                      1,
                      0,
                      1,
                      0,
                      0,
                      0,
                      0,
                      0,
                      0,
                      0,
                      0,
                      0,
                      0,
                      0,
                      0,
                      0,
                      0,
                      0,
                      0,
                      0,
                      0,
                      0,
                      0,
                      0,
                      0,
                      0,
                      0,
                      0,
                      0,
                      0,
                      0,
                      0,
                      0,
                      0,
                      0,
                      0,
                      0,
                      0,
                      0,
                      0,
                      0,
                      0,
                      0,
                      0,
                      0,
                      0,
                      0,
                      0,
                      0,
                      0,
                      0,
                      0,
                      0,
                      0,
                      0,
                      0,
                      0,
                      0,
                      0,
                      0,
                      0,
                      0,
                      0,
                      0,
                      0,
                      0,
                      0,
                      0,
                      0,
                      0,
                      0,
                      0,
                      0,
                      0,
                      0,
                      0,
                      0,
                      0,
                      0,
                      0,
                      0,
                      0,
                      0,
                      0,
                      0,
                      0,
                      0,
                      0,
                      0,
                      0,
                      0,
                      0,
                      0,
                      0,
                      0,
                      0,
                      0,
                      0,
                      0,
                      0,
                      0,
                      0,
                      0,
                      0,
                      0,
                      0,
                      0,
                      0,
                      0,
                      0,
                      0,
                      0,
                      0,
                      0,
                      0,
                      0,
                      0,
                      0,
                      0,
                      0,
                      0,
                      0,
                      0,
                      0,
                      0,
                      0,
                      0,
                      0,
                      0,
                      0,
                      0,
                      0,
                      0,
                      0,
                      0,
                      0,
                      0,
                      0,
                      1,
                      1,
                      1,
                      0,
                      1,
                      1,
                      0,
                      0,
                      0,
                      1,
                      0,
                      0,
                      1,
                      1,
                      1,
                      1,
                      0,
                      0,
                      1,
                      0,
                      0,
                      0,
                      0,
                      0,
                      0,
                      0,
                      0,
                      0,
                      0,
                      0,
                      1,
                      1,
                      0,
                      0,
                      0,
                      0,
                      0,
                      0,
                      0,
                      0,
                      0,
                      0,
                      0,
                      0,
                      0,
                      0,
                      0,
                      0,
                      0,
                      0,
                      0,
                      0,
                      0,
                      0,
                      0,
                      0,
                      0,
                      0,
                      0,
                      0,
                      0,
                      0,
                      0,
                      0,
                      0,
                      0,
                      0,
                      0,
                      0,
                      0,
                      0,
                      1,
                      0,
                      0,
                      0,
                      0,
                      0,
                      0,
                      0,
                      0,
                      0,
                      0,
                      0,
                      0,
                      0,
                      0,
                      0,
                      0,
                      0,
                      0,
                      0,
                      0,
                      0,
                      0,
                      0,
                      0,
                      0,
                      0,
                      0,
                      0,
                      0,
                      0,
                      0,
                      0,
                      0,
                      0,
                      0,
                      0,
                      0,
                      0,
                      0,
                      0,
                      0,
                      0,
                      0,
                      0,
                      0,
                      0,
                      0,
                      0,
                      0,
                      0,
                      0,
                      0,
                      0,
                      0,
                      0,
                      0,
                      0,
                      0,
                      0,
                      0,
                      0,
                      0,
                      0,
                      0,
                      0,
                      0,
                      0,
                      0,
                      0,
                      0,
                      0,
                      0,
                      0,
                      0,
                      0,
                      0,
                      0,
                      0,
                      0,
                      0,
                      0,
                      0,
                      0,
                      0,
                      0,
                      0,
                      0,
                      0,
                      0,
                      0,
                      0,
                      0,
                      0,
                      0,
                      0,
                      0,
                      0,
                      0,
                      0,
                      0,
                      0,
                      0,
                      0,
                      0,
                      0,
                      0,
                      0,
                      0,
                      0,
                      0,
                      0,
                      0,
                      0,
                      0,
                      0,
                      0,
                      0,
                      0,
                      0,
                      0,
                      0,
                      0,
                      1,
                      0,
                      0,
                      0,
                      0,
                      0,
                      0,
                      0,
                      0,
                      0,
                      0,
                      0,
                      0,
                      0,
                      0,
                      0,
                      0,
                      0,
                      0,
                      0,
                      0,
                      0,
                      0,
                      0,
                      0,
                      0,
                      0,
                      0,
                      0,
                      0,
                      0,
                      0,
                      0,
                      0,
                      0,
                      0,
                      0,
                      0,
                      0,
                      0,
                      0,
                      0,
                      0,
                      0,
                      0,
                      0,
                      0,
                      0,
                      0,
                      0,
                      0,
                      0,
                      0,
                      0,
                      0,
                      0,
                      0,
                      0,
                      0,
                      0,
                      0,
                      0,
                      0,
                      0,
                      0,
                      0,
                      0,
                      0,
                      0,
                      0,
                      0,
                      0,
                      0,
                      0,
                      0,
                      0,
                      0,
                      0,
                      0,
                      0,
                      0,
                      0,
                      0,
                      0,
                      0,
                      0,
                      0,
                      0,
                      0,
                      0,
                      0,
                      1,
                      1,
                      0,
                      0,
                      0,
                      0,
                      0,
                      0,
                      0,
                      0,
                      0,
                      0,
                      0,
                      0,
                      0,
                      0,
                      0,
                      0,
                      0,
                      0,
                      0,
                      0,
                      0,
                      0,
                      0,
                      0,
                      0,
                      0,
                      0,
                      0,
                      0,
                      0,
                      0,
                      0,
                      0,
                      0,
                      0,
                      0,
                      0,
                      0,
                      0,
                      0,
                      0,
                      0,
                      0,
                      0,
                      0,
                      0,
                      0,
                      0,
                      0,
                      0,
                      0,
                      0,
                      0,
                      0,
                      0,
                      0,
                      0,
                      0,
                      0,
                      0,
                      0,
                      0,
                      0,
                      0,
                      0,
                      0,
                      0,
                      0,
                      0,
                      0,
                      0,
                      0,
                      0,
                      0,
                      0,
                      0,
                      0,
                      0,
                      0,
                      0,
                      0,
                      0,
                      0,
                      0,
                      0,
                      0,
                      0,
                      0,
                      0,
                      0,
                      0,
                      0,
                      0,
                      0,
                      0,
                      1,
                      0,
                      0,
                      0,
                      0,
                      1,
                      0,
                      0,
                      1,
                      1,
                      1,
                      0,
                      1,
                      1,
                      0,
                      0,
                      0,
                      0,
                      0,
                      0,
                      0,
                      0,
                      0,
                      0,
                      0,
                      0,
                      0,
                      0,
                      1,
                      0,
                      0,
                      0,
                      0,
                      0,
                      0,
                      0,
                      0,
                      1,
                      0,
                      0,
                      0,
                      0,
                      0,
                      0,
                      0,
                      0,
                      0,
                      0,
                      0,
                      0,
                      0,
                      0,
                      0,
                      0,
                      0,
                      0,
                      0,
                      0,
                      0,
                      0,
                      0,
                      0,
                      0,
                      0,
                      0,
                      0,
                      0,
                      0,
                      0,
                      0,
                      0,
                      0,
                      0,
                      0,
                      0,
                      0,
                      0,
                      0,
                      0,
                      0,
                      0,
                      1,
                      0,
                      0,
                      0,
                      0,
                      0,
                      0,
                      0,
                      0,
                      0,
                      0,
                      0,
                      0,
                      0,
                      0,
                      0,
                      0,
                      0,
                      0,
                      0,
                      0,
                      0,
                      0,
                      0,
                      0,
                      0,
                      0,
                      0,
                      0,
                      0,
                      0,
                      0,
                      0,
                      0,
                      0,
                      0,
                      0,
                      0,
                      0,
                      0,
                      0,
                      0,
                      0,
                      0,
                      0,
                      0,
                      0,
                      0,
                      0,
                      0,
                      0,
                      0,
                      0,
                      0,
                      0,
                      0,
                      0,
                      0,
                      0,
                      0,
                      0,
                      0,
                      0,
                      0,
                      0,
                      0,
                      0,
                      0,
                      0,
                      0,
                      0,
                      0,
                      0,
                      0,
                      0,
                      0,
                      0,
                      0,
                      0,
                      0,
                      0,
                      0,
                      0,
                      0,
                      0,
                      0,
                      0,
                      0,
                      0,
                      0,
                      0,
                      0,
                      0,
                      1,
                      0,
                      0,
                      0,
                      0,
                      0,
                      0,
                      0,
                      0,
                      0,
                      0,
                      0,
                      0,
                      0,
                      0,
                      0,
                      0,
                      0,
                      0,
                      0,
                      0,
                      0,
                      0,
                      0,
                      0,
                      0,
                      0,
                      0,
                      0,
                      0,
                      0,
                      0,
                      0,
                      0,
                      0,
                      0,
                      0,
                      0,
                      0,
                      0,
                      0,
                      1,
                      1,
                      0,
                      0,
                      0,
                      0,
                      0,
                      0,
                      0,
                      0,
                      0,
                      0,
                      0,
                      0,
                      0,
                      0,
                      0,
                      0,
                      0,
                      0,
                      0,
                      0,
                      0,
                      0,
                      0,
                      0,
                      0,
                      0,
                      0,
                      0,
                      0,
                      0,
                      0,
                      0,
                      0,
                      0,
                      0,
                      0,
                      0,
                      0,
                      0,
                      0,
                      0,
                      0,
                      0,
                      0,
                      0,
                      0,
                      0,
                      0,
                      0,
                      0,
                      0,
                      0,
                      0,
                      0,
                      0,
                      0,
                      0,
                      0,
                      0,
                      0,
                      0,
                      0,
                      0,
                      0,
                      0,
                      0,
                      0,
                      1,
                      0,
                      0,
                      1,
                      0,
                      0,
                      0,
                      0,
                      0,
                      1,
                      1,
                      1,
                      0,
                      0,
                      1,
                      0,
                      1,
                      1,
                      1,
                      0,
                      1,
                      0,
                      1,
                      1,
                      0,
                      0,
                      0,
                      0,
                      0,
                      0,
                      0,
                      0,
                      0,
                      0,
                      0,
                      0,
                      0,
                      0,
                      0,
                      0,
                      0,
                      0,
                      0,
                      0,
                      0,
                      0,
                      0,
                      0,
                      0,
                      0,
                      0,
                      1,
                      0,
                      0
                    ],
                    "coloraxis": "coloraxis",
                    "opacity": 0.7,
                    "symbol": "circle"
                  },
                  "mode": "markers",
                  "name": "",
                  "scene": "scene",
                  "showlegend": false,
                  "type": "scatter3d",
                  "x": [
                    1.5562003,
                    1.6506183,
                    1.6639398,
                    1.8844525,
                    1.902886,
                    1.9092668,
                    1.7732759,
                    1.7448766,
                    1.6494602,
                    1.4374604,
                    1.1771302,
                    1.151316,
                    1.0075922,
                    1.0411792,
                    1.004876,
                    0.34202036,
                    0.4525338,
                    0.50939304,
                    0.51932055,
                    0.7552922,
                    0.7807697,
                    0.3726847,
                    0.48526037,
                    0.5733244,
                    0.36173093,
                    0.17309003,
                    0.48325136,
                    0.08071162,
                    0.11329891,
                    0.10764326,
                    0.64864117,
                    0.45540038,
                    0.35934725,
                    1.5211369,
                    1.2526745,
                    0.8876286,
                    2.5415833,
                    1.9940681,
                    1.5172029,
                    2.5891325,
                    2.361949,
                    1.9114934,
                    3.4876232,
                    2.3428059,
                    2.0751965,
                    1.3715143,
                    1.3684587,
                    1.0455577,
                    2.3651311,
                    2.0968633,
                    1.8479449,
                    3.1833231,
                    2.8264182,
                    2.4762502,
                    3.4501781,
                    3.4982765,
                    3.3425593,
                    3.6197855,
                    3.5870733,
                    3.4699316,
                    4.583582,
                    4.469233,
                    4.3763742,
                    4.8303075,
                    4.8957186,
                    4.781513,
                    4.903707,
                    4.8372006,
                    4.9218006,
                    4.6626153,
                    4.622737,
                    4.6977644,
                    4.5075397,
                    4.6908703,
                    4.5148425,
                    8.066414,
                    7.998117,
                    8.0703535,
                    7.116728,
                    7.385397,
                    7.1349864,
                    5.876477,
                    5.9369974,
                    6.238798,
                    3.1162848,
                    3.1205668,
                    3.0020452,
                    1.4351122,
                    0.70077133,
                    0.7139227,
                    6.1949944,
                    6.422685,
                    6.5049357,
                    4.826366,
                    5.0399933,
                    5.114591,
                    3.078119,
                    3.029888,
                    3.576526,
                    2.3281064,
                    2.3553941,
                    2.5572488,
                    1.8023909,
                    0.69332,
                    0.6883398,
                    3.2215385,
                    3.2474458,
                    3.16547,
                    2.7559521,
                    2.7330472,
                    3.313573,
                    2.8799825,
                    2.9672284,
                    3.5673015,
                    2.1787264,
                    2.6290586,
                    2.8719935,
                    2.5447617,
                    2.652424,
                    2.5116982,
                    7.9329686,
                    8.005584,
                    8.023454,
                    7.1744523,
                    6.8182735,
                    6.9378753,
                    5.981069,
                    5.771148,
                    5.5173445,
                    3.6842918,
                    3.410396,
                    3.2743857,
                    3.11871,
                    3.2068722,
                    3.0599039,
                    8.797594,
                    8.850806,
                    8.794878,
                    8.361797,
                    8.391716,
                    8.263628,
                    7.6267757,
                    7.677899,
                    7.818771,
                    6.8638697,
                    7.0376887,
                    7.051239,
                    6.331782,
                    6.32687,
                    5.991198,
                    -1.7124248,
                    -1.7606314,
                    -1.6434356,
                    -1.829869,
                    -1.825944,
                    -1.7487215,
                    1.2277809,
                    -1.8499035,
                    -1.7321839,
                    1.4174331,
                    -1.9328772,
                    -1.9258972,
                    1.461831,
                    2.991525,
                    1.5025166,
                    1.3532988,
                    0.17834374,
                    1.0507092,
                    1.9913945,
                    1.9370809,
                    3.4257517,
                    2.5424633,
                    2.2776413,
                    2.279147,
                    2.9756904,
                    2.872216,
                    2.9080586,
                    3.8505268,
                    3.19249,
                    3.793659,
                    1.2353572,
                    1.378814,
                    1.3948605,
                    1.6595005,
                    1.7125422,
                    1.7489161,
                    -2.262465,
                    -2.1502416,
                    -2.1983495,
                    -1.2798034,
                    -1.2258404,
                    0.10799404,
                    0.1358664,
                    0.09530634,
                    0.120534085,
                    -3.9913092,
                    -4.02165,
                    -4.0985756,
                    -3.7446802,
                    -3.7693512,
                    -3.5316558,
                    -3.4097512,
                    -0.93505514,
                    -3.191898,
                    1.1500378,
                    -0.6877883,
                    0.8912885,
                    -0.4946221,
                    0.8620385,
                    -0.30308715,
                    -2.8947544,
                    -2.9763687,
                    -2.899119,
                    -1.2557484,
                    -2.8490763,
                    -2.610406,
                    -1.1643761,
                    -1.1434375,
                    -1.1390923,
                    4.149411,
                    5.124874,
                    5.0547476,
                    5.301589,
                    5.3620687,
                    5.3327127,
                    -0.3499225,
                    -0.5805139,
                    -0.5387609,
                    0.91275823,
                    -0.6508202,
                    1.3393217,
                    1.2415173,
                    1.9684569,
                    -0.7270896,
                    2.2232585,
                    3.5244422,
                    3.4556,
                    3.452059,
                    1.5109856,
                    3.415528,
                    -0.3138642,
                    -0.29981336,
                    -1.014424,
                    -0.22654031,
                    0.7210877,
                    -0.9687508,
                    2.8194015,
                    2.829113,
                    1.3013715,
                    1.0496933,
                    2.6594608,
                    0.9759828,
                    1.7208501,
                    1.5796065,
                    1.7292175,
                    -3.118718,
                    -3.1053143,
                    -3.023611,
                    -2.5107784,
                    -2.5461998,
                    -2.4376724,
                    -1.887366,
                    -1.7718852,
                    -2.0457873,
                    -1.5524304,
                    -0.033909928,
                    0.025638532,
                    -0.1277609,
                    1.0713748,
                    0.16896668,
                    -4.706964,
                    -4.5945344,
                    -4.4305763,
                    -4.68119,
                    -4.591694,
                    -4.387395,
                    -4.5425973,
                    -4.5395727,
                    -4.489502,
                    -2.3848531,
                    -4.3240714,
                    -4.49798,
                    1.2962097,
                    -4.4030557,
                    -2.9910204,
                    -5.502931,
                    -5.591825,
                    -5.493111,
                    -5.4477572,
                    -5.405019,
                    -5.404499,
                    -2.563451,
                    -5.1046095,
                    -5.1387944,
                    3.1520112,
                    3.5724728,
                    3.521052,
                    3.2360725,
                    3.768708,
                    3.46678,
                    3.773263,
                    3.8518815,
                    3.9872277,
                    3.9568617,
                    3.9674795,
                    4.1295004,
                    3.3617058,
                    3.5804105,
                    3.9090328,
                    2.9813526,
                    3.1127872,
                    3.3673215,
                    2.7144613,
                    2.2672842,
                    2.7996252,
                    2.575379,
                    2.2675543,
                    2.4167585,
                    0.99753094,
                    0.76434046,
                    1.1241415,
                    -0.45884904,
                    0.008908633,
                    0.38810375,
                    -2.066049,
                    -2.1662593,
                    -2.0489464,
                    -2.5591109,
                    -2.4055636,
                    -2.3656535,
                    0.50708336,
                    0.49665165,
                    0.6959111,
                    -0.5815575,
                    -0.21747938,
                    0.025568323,
                    -1.3926404,
                    -1.1487948,
                    -1.3847953,
                    -0.6322109,
                    -0.6962056,
                    -0.5784567,
                    -0.6196841,
                    -0.58056015,
                    -0.56080115,
                    1.0661964,
                    1.1293272,
                    1.1666209,
                    0.46680078,
                    0.4219299,
                    0.5772743,
                    -0.5453792,
                    -0.6018094,
                    -0.40276203,
                    -1.7801839,
                    -1.6609302,
                    -1.7320569,
                    -2.8174365,
                    -2.8890293,
                    -2.8933296,
                    -4.5913177,
                    -4.4550347,
                    -4.4701004,
                    -4.7174263,
                    -4.720428,
                    -4.672623,
                    -4.934043,
                    -4.9834294,
                    -5.043254,
                    -5.014178,
                    -5.0903144,
                    -5.039389,
                    -4.748794,
                    -3.9591584,
                    -4.8288465,
                    -1.194916,
                    -1.5731761,
                    -1.2205493,
                    -1.2451738,
                    -1.7059237,
                    -1.3341168,
                    -1.4861549,
                    -2.802161,
                    -1.6714054,
                    -2.4581568,
                    -2.8989682,
                    -2.6126492,
                    -2.8861525,
                    -3.0896294,
                    -2.7482576,
                    -1.5439279,
                    -1.582882,
                    -1.6611582,
                    -1.4848734,
                    -1.7171545,
                    -2.097582,
                    -2.0117643,
                    -2.4561937,
                    -2.6809118,
                    -3.5602436,
                    -3.803447,
                    -3.9022489,
                    -3.9419289,
                    -4.310022,
                    -4.2766204,
                    0.116196744,
                    0.06203691,
                    0.031136947,
                    -1.1263309,
                    -1.4203792,
                    -1.2480894,
                    -2.5585315,
                    -2.6497707,
                    -2.7946794,
                    -3.1790252,
                    -3.5402477,
                    -3.611924,
                    -3.728333,
                    -3.7990808,
                    -4.0481486,
                    3.8292072,
                    3.8281877,
                    3.788398,
                    3.950598,
                    3.8612838,
                    3.8157127,
                    3.7775578,
                    3.7510066,
                    3.7729833,
                    3.3325324,
                    3.31424,
                    3.4504337,
                    2.463178,
                    2.468355,
                    2.4490185,
                    -3.238296,
                    -2.5022378,
                    -2.4876988,
                    -3.412643,
                    -2.4328198,
                    -3.3071747,
                    -2.2708676,
                    -3.4591537,
                    -2.2701201,
                    -2.208647,
                    -1.2368871,
                    -1.1926193,
                    -2.445338,
                    -1.7558094,
                    -1.625047,
                    -2.5382295,
                    -2.6457703,
                    -2.632077,
                    -2.9828553,
                    -3.0413132,
                    -3.0108137,
                    -3.3375473,
                    -3.469007,
                    -3.4777923,
                    -4.3039064,
                    -4.659422,
                    -4.7121577,
                    -4.7715573,
                    -3.3627188,
                    -4.760675,
                    -4.339807,
                    -4.156901,
                    -4.0797977,
                    -4.4253387,
                    -4.5037465,
                    -4.4544363,
                    -4.476129,
                    -3.082468,
                    -3.0963225,
                    0.10223209,
                    0.20070817,
                    0.22061525,
                    0.07556586,
                    0.18282783,
                    0.15478124,
                    -2.940272,
                    -2.9643495,
                    -3.0091999,
                    -1.1519005,
                    -3.185114,
                    -3.1613028,
                    -2.761641,
                    -2.7662568,
                    -1.0799191,
                    -0.8819232,
                    -0.93142456,
                    -0.94744354,
                    -0.55556065,
                    -0.7574307,
                    -0.5023887,
                    -2.3197522,
                    -2.3968995,
                    -2.4260929,
                    -1.7811949,
                    -3.1467228,
                    -1.762481,
                    -2.0263093,
                    -2.1046488,
                    -3.2863007,
                    -3.03454,
                    -2.391217,
                    -3.289136,
                    -3.0805914,
                    -1.8933784,
                    -2.481482,
                    -4.571265,
                    -4.3737364,
                    -4.659908,
                    -3.7117243,
                    -3.8257608,
                    -2.4928226,
                    -3.90894,
                    -4.026391,
                    -2.4663014,
                    -4.058467,
                    -4.0396724,
                    -2.803977,
                    -4.1376624,
                    -0.63325506,
                    -4.198225,
                    -1.5356051,
                    -1.5626227,
                    -1.4788376,
                    -1.9658369,
                    -1.9919602,
                    -1.8210263,
                    -2.4032533,
                    -2.365937,
                    -3.4741037,
                    -1.2993872,
                    -0.45335495,
                    0.50371295,
                    -0.95442927,
                    -1.4389266,
                    0.08183088,
                    -5.4205885,
                    -5.425877,
                    -5.4215937,
                    -5.4406734,
                    -5.343046,
                    -4.9493546,
                    -5.1010413,
                    -5.0496016,
                    -4.894476,
                    -4.5933337,
                    -4.4373164,
                    -3.5274744,
                    -3.3939292,
                    -3.3770607,
                    -3.395383,
                    -3.0730145,
                    -3.0282805,
                    -3.0784457,
                    -3.0608878,
                    -3.034016,
                    -3.0663104,
                    -3.3869207,
                    -3.1158042,
                    -3.6686692,
                    -3.0749938,
                    -3.0830712,
                    -3.1871133,
                    -2.7847724,
                    -2.7939546,
                    -3.0604594,
                    -1.4318327,
                    -1.2832633,
                    -1.2012137,
                    -1.4097599,
                    -1.565718,
                    -1.3205916,
                    -1.440703,
                    -1.3773868,
                    -1.2245629,
                    -1.6470376,
                    -1.2868022,
                    -1.1231537,
                    -1.6763725,
                    -1.6835299,
                    -1.5073334,
                    0.56936264,
                    0.38480538,
                    0.39109996,
                    0.4396243,
                    0.59156096,
                    0.55119437,
                    0.11191112,
                    0.08410013,
                    0.32800847,
                    -2.720299,
                    -2.9343739,
                    -2.810966,
                    -2.5636306,
                    -3.2130816,
                    -2.7723286,
                    -5.4657073,
                    -5.4057646,
                    -5.5764956,
                    -5.4607058,
                    -5.494049,
                    -5.5091825,
                    -5.1412306,
                    -5.4008527,
                    -5.752179,
                    -5.097747,
                    -5.469302,
                    -5.506755,
                    -5.034236,
                    -5.421144,
                    -5.3027306,
                    -4.2374415,
                    -4.2828264,
                    -4.2603054,
                    -4.572205,
                    -4.588299,
                    -4.652054,
                    -4.6621866,
                    -4.89098,
                    -4.896656,
                    -4.919846,
                    -5.3383265,
                    -5.3568277,
                    -4.665129,
                    -5.1117964,
                    -5.3087087,
                    -1.2387592,
                    -2.2285113,
                    -2.2796724,
                    -2.3660123,
                    -2.4488547,
                    -2.455235,
                    -1.5070863,
                    -2.5324235,
                    -2.5836422,
                    -1.9418614,
                    -2.7435122,
                    -3.3163152,
                    -3.2833776,
                    -3.7221231,
                    -3.7847219,
                    -0.10513714,
                    -0.11007032,
                    -0.11598922,
                    -0.09791338,
                    -0.13669883,
                    -0.5418793,
                    0.008701941,
                    0.027917895,
                    -0.12134009,
                    -0.0034951533,
                    -0.16062117,
                    -0.42345014,
                    -0.3489502,
                    0.014025426,
                    -0.23601212,
                    7.7746587,
                    7.688736,
                    7.677062,
                    6.3780236,
                    6.0689473,
                    5.572557,
                    5.8151455,
                    5.6892824,
                    5.569185,
                    4.5566072,
                    4.231867,
                    4.2681875,
                    4.26642,
                    3.8065994,
                    4.0207777,
                    6.1562233,
                    6.168626,
                    6.1638026,
                    5.271552,
                    5.5239887,
                    5.5785704,
                    4.680103,
                    4.732079,
                    4.649383,
                    2.8331194,
                    2.9524903,
                    3.0527012,
                    2.6650236,
                    2.3562338,
                    2.3459299,
                    5.7359605,
                    5.698122,
                    5.664719,
                    4.6558795,
                    5.0191026,
                    4.61623,
                    4.588744,
                    4.4878283,
                    4.2468276,
                    3.4856937,
                    3.570431,
                    3.7453353,
                    3.0736916,
                    3.128787,
                    3.2696457,
                    13.761737,
                    14.188587,
                    14.289695,
                    14.12577,
                    14.269466,
                    14.392542,
                    14.220149,
                    14.383695,
                    14.312768,
                    14.298913,
                    14.376201,
                    14.356584,
                    13.851828,
                    13.880821,
                    14.355346,
                    14.357457,
                    14.300217,
                    14.008643,
                    13.593566,
                    13.814283,
                    13.359236,
                    12.960764,
                    12.88321,
                    13.045398,
                    11.921565,
                    12.520558,
                    11.925076,
                    11.481134,
                    11.764301,
                    11.720288,
                    11.511664,
                    11.424839,
                    11.118766,
                    11.511887,
                    10.895925,
                    10.636869,
                    10.754739,
                    10.800256,
                    9.692687,
                    10.190744,
                    10.449889,
                    10.108074,
                    10.001353,
                    10.158453,
                    10.1784935,
                    11.931362,
                    11.969473,
                    12.0645075,
                    12.04874,
                    11.931587,
                    11.977171,
                    12.261018,
                    12.340672,
                    10.479524,
                    11.0848675,
                    11.04432,
                    11.119736,
                    10.758525,
                    9.940652,
                    9.935365,
                    12.694047,
                    12.636872,
                    12.593248,
                    12.652416,
                    12.637271,
                    12.651544,
                    11.770981,
                    12.47883,
                    11.8092785,
                    12.278509,
                    11.449806,
                    11.343776,
                    11.169576,
                    11.413527,
                    11.414059,
                    11.301148,
                    11.308165,
                    11.2916565,
                    10.08642,
                    10.008264,
                    11.332708,
                    11.315045,
                    10.002205,
                    10.00083,
                    8.405532,
                    8.43279,
                    8.3697,
                    7.9452705,
                    8.310693,
                    8.467907,
                    11.657601,
                    11.563441,
                    11.568979,
                    11.807221,
                    11.768595,
                    11.683093,
                    11.831458,
                    11.753879,
                    11.780563,
                    11.832589,
                    10.660074,
                    11.8183975,
                    10.784339,
                    10.763718,
                    10.795308,
                    9.53489,
                    9.624438,
                    9.601654,
                    9.677457,
                    9.5689,
                    9.595362,
                    9.806576,
                    9.723478,
                    9.736389,
                    9.640441,
                    9.831784,
                    9.83637,
                    9.555424,
                    9.004771,
                    9.163036,
                    9.544124,
                    9.548649,
                    9.584781,
                    9.549958,
                    9.693579,
                    9.55315,
                    11.559969,
                    10.004751,
                    9.910911,
                    10.173771,
                    10.133706,
                    10.143146,
                    10.104394,
                    9.773036,
                    9.776453,
                    -10.231337,
                    -10.232575,
                    -10.26115,
                    -10.053602,
                    -10.149997,
                    -10.1977215,
                    -9.949858,
                    -10.070693,
                    -10.114038,
                    -9.899538,
                    -9.894034,
                    -10.162859,
                    -10.039704,
                    -10.057993,
                    -10.069123,
                    0.039756507,
                    0.053445183,
                    0.19154994,
                    -1.2736391,
                    -1.8941785,
                    -1.0936768,
                    -1.9715375,
                    -1.2175457,
                    -1.2821132,
                    -3.3661325,
                    -3.405011,
                    -3.7553885,
                    -4.008332,
                    -3.7050326,
                    -4.004534,
                    -6.1149054,
                    -6.214396,
                    -6.22905,
                    -6.478235,
                    -6.506006,
                    -6.515002,
                    -6.3079853,
                    -6.6886287,
                    -6.6871758,
                    -6.484964,
                    -6.82392,
                    -6.8354855,
                    -6.8711987,
                    -7.3673053,
                    -7.2293706,
                    -9.913955,
                    -9.845902,
                    -9.831023,
                    -10.2437525,
                    -9.920991,
                    -9.868061,
                    -10.25764,
                    -10.089685,
                    -9.852663,
                    -10.344291,
                    -10.330865,
                    -9.97755,
                    -10.248368,
                    -10.140173,
                    -10.203673,
                    -10.323148,
                    -10.3136635,
                    -10.3222685,
                    -10.501778,
                    -10.51131,
                    -10.443444,
                    -10.521592,
                    -10.600487,
                    -10.596269,
                    -10.141361,
                    -9.9097395,
                    -9.658812,
                    -9.842452,
                    -9.835848,
                    -9.64154,
                    -7.9003563,
                    -7.929385,
                    -7.938379,
                    -7.686618,
                    -7.7607217,
                    -8.336345,
                    -7.9906535,
                    -7.977986,
                    -7.997992,
                    -8.312084,
                    -8.239729,
                    -8.488671,
                    -8.420454,
                    -8.531636,
                    -8.471054,
                    -6.900958,
                    -7.2619004,
                    -7.1741395,
                    -7.6193466,
                    -7.680369,
                    -7.734097,
                    -8.02896,
                    -8.088914,
                    -8.079045,
                    -8.8545265,
                    -9.012596,
                    -9.129733,
                    -8.480545,
                    -8.453927,
                    -8.518059,
                    -5.101941,
                    -5.088048,
                    -3.4370637,
                    -6.318141,
                    -6.0618725,
                    -5.6780887,
                    -8.468361,
                    -7.606893,
                    -6.248372,
                    -9.812639,
                    -8.827273,
                    -8.050282,
                    -10.005301,
                    -9.953389,
                    -9.491527,
                    -3.185917,
                    -3.9346557,
                    -3.8716288,
                    -4.773389,
                    -5.5880284,
                    -5.5705876,
                    -6.458592,
                    -8.910035,
                    -8.882629,
                    -8.149675,
                    -9.35079,
                    -9.34913,
                    -9.005154,
                    -9.801422,
                    -10.427835,
                    -0.30692682,
                    -0.5577975,
                    -0.42809784,
                    -1.069628,
                    -1.9602516,
                    -1.5975784,
                    -2.507318,
                    -3.4995198,
                    -3.0275016,
                    -4.0520844,
                    -6.1331854,
                    -4.1253877,
                    -2.5424795,
                    -3.3732533,
                    -2.5263417,
                    1.3725063,
                    1.3698269,
                    1.5427289,
                    1.1308358,
                    0.85214907,
                    0.72998154,
                    0.08656035,
                    -0.14004052,
                    -1.1755973,
                    -1.3526132,
                    -1.622641,
                    -1.7244581,
                    -2.1517975,
                    -2.2394202,
                    -2.88851,
                    1.9397135,
                    2.0250194,
                    1.8982038,
                    0.9627578,
                    0.7573743,
                    -0.4698514,
                    -0.090430304,
                    -0.46192685,
                    -1.1307026,
                    -1.5786219,
                    -3.3500772,
                    -2.1472495,
                    -3.2990398,
                    -3.87852,
                    -3.94454,
                    1.7194436,
                    1.3494022,
                    1.1901886,
                    0.30065238,
                    -0.3096541,
                    -0.5675144,
                    -0.24305706,
                    -1.6390963,
                    -1.8108566,
                    -1.5111612,
                    -2.6456168,
                    -3.5333984,
                    -3.5861557,
                    -4.5596495,
                    -4.4851756,
                    2.6751885,
                    3.4319975,
                    3.3555644,
                    3.1528788,
                    3.3136163,
                    3.2696018,
                    1.5151784,
                    2.9525244,
                    2.9290612,
                    2.264061,
                    1.5586042,
                    1.7961189,
                    0.8988185,
                    1.1564164,
                    1.3728987,
                    -4.4208674,
                    -4.1038494,
                    -4.263449,
                    -5.5002165,
                    -5.7973175,
                    -5.1615276,
                    -6.622274,
                    -6.32571,
                    -6.321289,
                    -7.1702266,
                    -7.2240267,
                    -6.930418,
                    -7.9617915,
                    -8.013836,
                    -7.630098,
                    -1.4008561,
                    -1.415288,
                    -1.069389,
                    -2.5894597,
                    -2.629906,
                    -2.3173497,
                    -5.6931176,
                    -3.6349118,
                    -3.8930614,
                    -10.110835,
                    -10.043829,
                    -10.030184,
                    -9.908374,
                    -10.176275,
                    -10.051256
                  ],
                  "y": [
                    15.287764,
                    15.114728,
                    15.086729,
                    12.806898,
                    12.546461,
                    12.616757,
                    11.962636,
                    11.687763,
                    11.248184,
                    10.420087,
                    9.833406,
                    9.648723,
                    9.571624,
                    9.54425,
                    9.470827,
                    16.024897,
                    15.248668,
                    15.216091,
                    14.3972645,
                    12.602379,
                    13.154878,
                    13.380897,
                    12.854702,
                    12.165472,
                    11.425564,
                    12.669681,
                    10.908282,
                    10.276475,
                    10.337665,
                    10.238911,
                    18.180977,
                    18.322811,
                    18.35201,
                    16.928167,
                    17.28529,
                    17.65149,
                    15.485374,
                    16.085382,
                    16.808264,
                    15.121969,
                    15.46663,
                    16.129835,
                    14.214077,
                    14.491841,
                    14.985781,
                    18.286343,
                    18.368364,
                    18.536112,
                    17.218607,
                    17.458084,
                    17.718185,
                    15.681984,
                    16.18134,
                    16.77855,
                    13.52443,
                    13.50144,
                    13.683808,
                    12.792039,
                    12.886197,
                    12.871088,
                    14.856967,
                    15.188688,
                    15.315858,
                    14.299853,
                    13.646899,
                    14.48902,
                    12.940983,
                    12.376259,
                    13.050876,
                    11.605509,
                    11.594733,
                    11.812062,
                    11.223169,
                    10.9212,
                    11.25557,
                    8.712964,
                    9.019536,
                    9.094798,
                    7.965856,
                    8.438708,
                    7.9654856,
                    6.7561336,
                    7.283557,
                    7.379221,
                    7.120421,
                    7.127601,
                    6.892236,
                    7.918661,
                    7.6148095,
                    7.5770726,
                    8.168659,
                    8.250813,
                    8.223325,
                    7.2073193,
                    7.236082,
                    7.2394266,
                    7.178399,
                    7.1764994,
                    7.0735426,
                    7.40409,
                    7.39804,
                    7.323492,
                    7.5858574,
                    7.115516,
                    7.109668,
                    14.70322,
                    14.642422,
                    14.918544,
                    12.907152,
                    13.165668,
                    14.028417,
                    12.147297,
                    12.628953,
                    13.133179,
                    10.527186,
                    10.260334,
                    10.564674,
                    10.171081,
                    9.84211,
                    10.154478,
                    7.658584,
                    7.8684163,
                    7.8556213,
                    7.1903753,
                    7.0155187,
                    7.0476494,
                    6.630914,
                    6.526036,
                    6.364104,
                    6.261494,
                    5.9399557,
                    6.026197,
                    6.023788,
                    5.938645,
                    6.0580435,
                    8.089769,
                    8.13258,
                    8.053296,
                    5.370522,
                    5.3990355,
                    5.5225296,
                    4.8938565,
                    4.9088387,
                    4.949007,
                    4.6754074,
                    4.5870166,
                    4.3847594,
                    4.380127,
                    4.4284134,
                    4.4730372,
                    -16.54168,
                    -16.469625,
                    -16.492086,
                    -16.42571,
                    -16.47719,
                    -16.458498,
                    -16.609154,
                    -16.272081,
                    -16.423819,
                    -16.755869,
                    -16.166342,
                    -16.15241,
                    -16.526983,
                    -16.934702,
                    -16.687735,
                    -16.740347,
                    -16.882235,
                    -16.738216,
                    -16.682056,
                    -16.763882,
                    -17.321165,
                    -16.740625,
                    -16.634321,
                    -16.54354,
                    -16.472551,
                    -16.528244,
                    -16.55625,
                    -16.36095,
                    -16.464851,
                    -16.489065,
                    -14.663199,
                    -14.5534,
                    -14.479027,
                    -14.23209,
                    -14.182099,
                    -14.203163,
                    -16.627127,
                    -16.665804,
                    -16.710627,
                    -16.149773,
                    -16.145527,
                    -15.722757,
                    -15.176497,
                    -15.331108,
                    -15.486778,
                    -18.977552,
                    -18.932003,
                    -18.901419,
                    -18.724876,
                    -18.672132,
                    -18.567657,
                    -18.52905,
                    -17.5468,
                    -18.491865,
                    -16.514572,
                    -17.545147,
                    -16.59582,
                    -17.57621,
                    -16.731762,
                    -17.606161,
                    -19.260359,
                    -19.190453,
                    -19.178417,
                    -18.325453,
                    -19.093569,
                    -18.852571,
                    -18.286358,
                    -18.246077,
                    -18.20506,
                    -15.655197,
                    -15.606964,
                    -15.50033,
                    -15.698754,
                    -15.67969,
                    -15.715727,
                    -16.789492,
                    -16.649633,
                    -16.68866,
                    -16.049864,
                    -16.973625,
                    -16.01786,
                    -16.116434,
                    -15.557606,
                    -17.142601,
                    -15.612009,
                    -15.713797,
                    -15.804326,
                    -15.5497265,
                    -16.247198,
                    -15.758226,
                    -14.825481,
                    -14.92157,
                    -16.006496,
                    -14.777175,
                    -15.0447645,
                    -16.181662,
                    -14.536589,
                    -14.665277,
                    -15.05599,
                    -15.024142,
                    -14.673421,
                    -15.108641,
                    -13.854024,
                    -13.804122,
                    -13.913481,
                    -15.156532,
                    -15.154123,
                    -15.154995,
                    -15.036769,
                    -15.035886,
                    -15.044145,
                    -14.726852,
                    -14.7233715,
                    -14.873814,
                    -14.458394,
                    -14.080158,
                    -14.104843,
                    -13.44091,
                    -13.601209,
                    -13.959709,
                    -17.671957,
                    -17.70992,
                    -17.67442,
                    -17.641582,
                    -17.703636,
                    -17.738464,
                    -17.629158,
                    -17.715324,
                    -17.620735,
                    -16.064663,
                    -17.372904,
                    -17.449358,
                    -16.607384,
                    -17.649206,
                    -15.106518,
                    -17.074059,
                    -17.03839,
                    -16.898987,
                    -16.989098,
                    -16.984013,
                    -16.840633,
                    -15.879458,
                    -16.882215,
                    -16.953936,
                    -15.204436,
                    -15.430471,
                    -15.3919525,
                    -15.198814,
                    -15.485513,
                    -15.310556,
                    7.657167,
                    7.7835603,
                    7.826708,
                    6.8417425,
                    6.882744,
                    7.316464,
                    5.7231565,
                    5.9275856,
                    6.428285,
                    5.3758693,
                    5.507133,
                    5.7383513,
                    5.1675797,
                    5.2078543,
                    5.2516346,
                    8.358646,
                    8.71609,
                    8.779331,
                    6.422468,
                    7.7181745,
                    7.869768,
                    6.913849,
                    7.1023126,
                    7.222862,
                    5.993982,
                    6.0585055,
                    5.3708024,
                    5.6014385,
                    5.539093,
                    5.514967,
                    5.8404136,
                    5.8197756,
                    5.932839,
                    6.257113,
                    5.4936514,
                    5.535438,
                    5.029448,
                    5.325955,
                    5.0000615,
                    5.1414742,
                    4.494225,
                    5.106495,
                    4.313918,
                    4.0450716,
                    4.2622967,
                    7.269193,
                    7.2518435,
                    6.6941495,
                    7.7282867,
                    7.699647,
                    7.7363377,
                    7.379706,
                    7.3830075,
                    7.4130654,
                    7.2395797,
                    7.167542,
                    7.1536503,
                    7.5546656,
                    7.744739,
                    6.9188924,
                    16.688334,
                    16.500696,
                    16.600948,
                    16.013592,
                    15.919227,
                    15.820721,
                    15.254892,
                    15.12462,
                    14.955583,
                    15.006682,
                    14.813655,
                    14.94847,
                    16.243708,
                    16.125242,
                    15.770934,
                    18.03705,
                    15.841646,
                    17.368837,
                    17.484467,
                    15.4322815,
                    16.922796,
                    16.373697,
                    11.788263,
                    15.554566,
                    13.421984,
                    11.205678,
                    13.022604,
                    13.084128,
                    12.928825,
                    12.78608,
                    10.1639185,
                    10.076492,
                    9.898729,
                    9.472474,
                    9.037198,
                    8.7488785,
                    8.210431,
                    8.74559,
                    7.0271606,
                    7.202128,
                    7.215807,
                    7.234441,
                    6.6662016,
                    7.099856,
                    6.889569,
                    9.13083,
                    9.126867,
                    9.105036,
                    7.9456015,
                    7.845073,
                    7.889183,
                    6.195008,
                    6.1845593,
                    6.1694655,
                    6.1120787,
                    6.950488,
                    6.203762,
                    7.2316594,
                    7.3133445,
                    7.313361,
                    3.2035866,
                    3.2215347,
                    3.0298655,
                    2.8489947,
                    2.8813384,
                    2.5644162,
                    2.27308,
                    2.0582964,
                    2.1141462,
                    0.85735565,
                    0.81967354,
                    1.0018613,
                    -0.13747625,
                    -0.13240403,
                    -0.1466547,
                    -2.5308564,
                    -2.3575938,
                    -2.2839522,
                    -3.2601247,
                    -2.9656532,
                    -2.8249087,
                    -4.1146245,
                    -3.9529622,
                    -3.9526334,
                    -5.047602,
                    -5.1169324,
                    -4.992721,
                    -6.130816,
                    -5.8722115,
                    -5.6415296,
                    -1.5641285,
                    -1.6249225,
                    -1.5764351,
                    -2.1593935,
                    -2.172526,
                    -2.0706537,
                    -3.3553047,
                    -3.7479296,
                    -3.565828,
                    -4.198115,
                    -4.6924777,
                    -4.5828967,
                    -5.2166867,
                    -4.4163384,
                    -4.942363,
                    -3.9159856,
                    -3.4228888,
                    -3.287677,
                    -7.669495,
                    -4.7396083,
                    -4.35913,
                    -6.3554244,
                    -5.336278,
                    -5.39648,
                    -5.632397,
                    -5.4295855,
                    -5.2287354,
                    -5.964745,
                    -5.5615177,
                    -5.975829,
                    -1.8367712,
                    -1.5226753,
                    -1.2557096,
                    -3.3336325,
                    -2.5032039,
                    -2.194117,
                    -4.862566,
                    -4.952766,
                    -4.360557,
                    -5.4844584,
                    -5.018283,
                    -4.9721007,
                    -6.2090178,
                    -6.6436114,
                    -5.749402,
                    -2.2895584,
                    -2.3798096,
                    -2.2948728,
                    -8.087765,
                    -4.9999485,
                    -4.8058934,
                    -7.8593416,
                    -5.699341,
                    -6.404284,
                    -7.1174974,
                    -6.742243,
                    -6.8415155,
                    -7.3864756,
                    -6.9268594,
                    -7.0304317,
                    -2.478948,
                    -2.207816,
                    -2.5827065,
                    -5.34972,
                    -5.633358,
                    -7.290981,
                    -5.8999968,
                    -6.264632,
                    -7.38349,
                    -6.452018,
                    -6.398728,
                    -6.177768,
                    -6.7207174,
                    -5.7706,
                    -7.1012597,
                    -1.859526,
                    -1.6850184,
                    -1.5717437,
                    -2.7908738,
                    -2.7717307,
                    -2.2264414,
                    -4.140467,
                    -3.8013012,
                    -4.3203793,
                    -7.482071,
                    -7.1866236,
                    -6.007314,
                    -7.557667,
                    -7.53282,
                    -6.546263,
                    -5.615952,
                    -5.6924496,
                    -5.8370557,
                    -6.1042523,
                    -6.460878,
                    -6.7400427,
                    -6.9585724,
                    -7.0448637,
                    -7.437619,
                    -7.355968,
                    -7.4743166,
                    -7.901155,
                    -7.9588103,
                    -7.976012,
                    -8.026756,
                    -8.942352,
                    -8.693539,
                    -8.950815,
                    -7.8328037,
                    -7.7558856,
                    -7.8447456,
                    -7.4286923,
                    -7.241765,
                    -6.942069,
                    -6.627495,
                    -6.720841,
                    -6.7114534,
                    -5.613699,
                    -5.6449986,
                    -6.2681055,
                    13.518585,
                    13.79957,
                    13.829346,
                    12.368525,
                    12.404068,
                    12.458461,
                    11.631185,
                    11.783051,
                    11.531683,
                    10.542914,
                    10.868362,
                    11.042252,
                    9.888225,
                    9.729458,
                    9.841316,
                    12.48723,
                    12.486314,
                    12.7818575,
                    11.297426,
                    11.552354,
                    11.326484,
                    10.038416,
                    10.014236,
                    10.422937,
                    7.638142,
                    7.5912595,
                    7.1205025,
                    7.074867,
                    7.0643287,
                    7.6267414,
                    10.604449,
                    10.859783,
                    11.464295,
                    9.805135,
                    10.087531,
                    10.540196,
                    9.174263,
                    9.487394,
                    8.613364,
                    7.975539,
                    8.225545,
                    7.230043,
                    7.777371,
                    7.146813,
                    7.9920225,
                    12.033263,
                    11.968762,
                    12.001031,
                    11.240001,
                    11.216438,
                    11.041231,
                    9.338821,
                    9.030737,
                    9.264215,
                    8.589367,
                    7.530755,
                    7.5803595,
                    7.940115,
                    7.302547,
                    6.6804194,
                    12.292663,
                    12.573603,
                    12.425595,
                    11.518562,
                    11.217204,
                    11.164593,
                    9.481776,
                    9.832067,
                    9.395878,
                    9.087235,
                    9.057608,
                    7.771275,
                    8.169039,
                    7.3105416,
                    7.224487,
                    14.752159,
                    14.702054,
                    14.62571,
                    13.326693,
                    13.1233015,
                    12.545946,
                    12.768436,
                    12.117607,
                    11.475376,
                    10.916493,
                    10.978454,
                    10.325719,
                    10.287415,
                    10.327637,
                    10.195178,
                    -0.043229673,
                    0.006520975,
                    0.014162798,
                    0.6215296,
                    0.72036725,
                    0.6074477,
                    0.7189321,
                    0.683598,
                    0.6930439,
                    0.53533196,
                    0.801497,
                    0.8048872,
                    0.7945025,
                    1.2208376,
                    1.0755503,
                    9.117472,
                    9.123524,
                    9.124726,
                    8.412672,
                    8.577678,
                    8.609567,
                    8.073917,
                    8.108819,
                    8.075333,
                    7.097424,
                    7.161665,
                    7.1952686,
                    7.036623,
                    6.5872245,
                    6.579947,
                    2.2697518,
                    2.3089025,
                    2.5986633,
                    2.5130022,
                    2.2348955,
                    2.5664933,
                    2.4715993,
                    2.4569604,
                    2.4345143,
                    2.8414457,
                    2.6875293,
                    2.7507749,
                    2.977502,
                    2.5371218,
                    2.8730073,
                    -5.921546,
                    -6.6783285,
                    -6.9053802,
                    -7.0714555,
                    -7.084792,
                    -7.5629373,
                    -7.667962,
                    -8.236908,
                    -8.181223,
                    -8.453586,
                    -8.691706,
                    -8.804364,
                    -8.964373,
                    -9.026915,
                    -8.977386,
                    -4.3580055,
                    -4.4642124,
                    -4.96837,
                    -5.435103,
                    -5.1372023,
                    -6.168864,
                    -6.1125193,
                    -6.3203206,
                    -6.600256,
                    -7.6004667,
                    -7.3432884,
                    -7.784134,
                    -8.097766,
                    -7.7783513,
                    -7.864666,
                    -4.5818524,
                    -4.824224,
                    -5.372829,
                    -5.6657023,
                    -5.452421,
                    -5.620709,
                    -6.508866,
                    -6.3569026,
                    -5.6138053,
                    -7.044941,
                    -7.5195394,
                    -7.069012,
                    -7.0872545,
                    -7.45818,
                    -7.4674335,
                    -4.4774127,
                    -4.214408,
                    -3.625706,
                    -5.1187134,
                    -4.920541,
                    -4.0245123,
                    -5.592055,
                    -5.7460527,
                    -5.0597305,
                    -11.624315,
                    -11.612154,
                    -11.719086,
                    -11.222967,
                    -11.86789,
                    -11.927993,
                    -4.6335297,
                    -4.099979,
                    -3.5973525,
                    -4.8581758,
                    -4.74656,
                    -3.9874418,
                    -5.3395753,
                    -5.1979604,
                    -4.9554167,
                    -5.9425097,
                    -5.461714,
                    -5.3808165,
                    -10.478277,
                    -5.9169927,
                    -5.684407,
                    -6.4946446,
                    -6.4915576,
                    -6.220885,
                    -7.7283864,
                    -7.6025014,
                    -7.6594486,
                    -8.019805,
                    -8.123234,
                    -8.351687,
                    -12.471698,
                    -12.462509,
                    -12.516551,
                    -11.794078,
                    -12.034247,
                    -12.214233,
                    -6.887524,
                    -6.2216325,
                    -6.1701455,
                    -8.160577,
                    -7.7099867,
                    -6.842388,
                    -8.800921,
                    -8.307566,
                    -8.377639,
                    -9.431812,
                    -9.655833,
                    -9.083487,
                    -9.844819,
                    -9.877556,
                    -9.855294,
                    -6.246295,
                    -6.1639595,
                    -6.1361294,
                    -7.8824368,
                    -6.872481,
                    -6.786375,
                    -8.474571,
                    -8.268593,
                    -8.221249,
                    -10.516349,
                    -10.862915,
                    -10.885616,
                    -9.953078,
                    -10.548296,
                    -11.220244,
                    -5.283576,
                    -5.3628426,
                    -5.2263374,
                    -7.067726,
                    -7.5321064,
                    -7.1116686,
                    -8.300079,
                    -8.295384,
                    -8.1138735,
                    -8.613062,
                    -8.592878,
                    -8.581967,
                    -8.433985,
                    -8.88159,
                    -8.794642,
                    5.387575,
                    5.4351096,
                    5.441433,
                    5.0192776,
                    5.0927596,
                    5.118333,
                    4.9403224,
                    4.921646,
                    4.91104,
                    5.1131363,
                    4.9688945,
                    4.9417133,
                    4.743102,
                    4.75012,
                    4.6030464,
                    1.593474,
                    1.5544748,
                    1.5553578,
                    2.001657,
                    1.6567223,
                    1.992833,
                    1.6352282,
                    2.0148485,
                    2.061246,
                    1.0097277,
                    0.9979852,
                    0.9331934,
                    0.6057673,
                    0.92453784,
                    0.8761366,
                    3.7834713,
                    3.7722461,
                    3.7742314,
                    3.011477,
                    3.030845,
                    3.0884233,
                    3.431525,
                    2.9984608,
                    3.0137966,
                    3.479682,
                    3.154867,
                    3.1430953,
                    3.1604202,
                    2.6071832,
                    2.7739596,
                    9.320934,
                    9.424277,
                    9.423164,
                    9.056503,
                    9.421958,
                    9.322926,
                    8.899526,
                    9.072964,
                    9.008873,
                    8.266663,
                    8.527945,
                    8.590354,
                    8.18286,
                    8.406279,
                    8.036817,
                    7.1431828,
                    7.1529856,
                    7.163741,
                    6.8491898,
                    6.8371797,
                    7.5476155,
                    7.52643,
                    6.7390895,
                    6.743776,
                    7.1787796,
                    6.473048,
                    5.8767595,
                    6.2818556,
                    6.279133,
                    5.903503,
                    5.9827843,
                    6.088331,
                    6.0425124,
                    5.031142,
                    5.1843133,
                    2.9189274,
                    4.0658455,
                    4.042905,
                    4.222987,
                    3.2295918,
                    3.5434413,
                    3.3758016,
                    2.5457675,
                    2.72139,
                    2.9557705,
                    5.321489,
                    5.2055316,
                    5.3959875,
                    3.6912649,
                    3.8552377,
                    3.7200837,
                    3.0878844,
                    3.1868668,
                    3.154677,
                    2.2113662,
                    2.246076,
                    2.2076743,
                    2.0578437,
                    2.0280612,
                    2.0697768,
                    -5.843504,
                    -5.84301,
                    -5.789689,
                    -4.866077,
                    -5.066482,
                    -5.370577,
                    -3.6313424,
                    -4.0089135,
                    -3.7987082,
                    -3.0075006,
                    -3.3857613,
                    -3.8716161,
                    -2.7084372,
                    -2.7110767,
                    -3.3480432,
                    -5.3520746,
                    -5.3124957,
                    -5.074768,
                    -4.621937,
                    -4.2776895,
                    -4.372594,
                    -3.9009316,
                    -2.7766273,
                    -2.8118968,
                    -3.140055,
                    -2.4187593,
                    -2.4844253,
                    -2.5714567,
                    -2.1153066,
                    -1.9128903,
                    -5.3537827,
                    -5.28222,
                    -5.3137465,
                    -4.8826,
                    -4.413804,
                    -4.6479416,
                    -4.0478454,
                    -3.7205,
                    -3.8637378,
                    -3.5543876,
                    -4.2157645,
                    -3.4767995,
                    -4.044934,
                    -4.7805943,
                    -4.0478463,
                    -5.4424534,
                    -5.416805,
                    -5.925642,
                    -4.9668183,
                    -4.8165264,
                    -4.707559,
                    -4.4439683,
                    -4.392003,
                    -4.5328174,
                    -5.1658607,
                    -5.033923,
                    -5.1016192,
                    -4.8738446,
                    -4.850844,
                    -5.038204,
                    -7.487932,
                    -7.56127,
                    -7.4821143,
                    -6.7777553,
                    -6.6667213,
                    -6.286351,
                    -6.3729568,
                    -6.284786,
                    -6.064185,
                    -6.019113,
                    -5.7468762,
                    -5.8425384,
                    -5.9752827,
                    -5.679687,
                    -6.015105,
                    -8.263585,
                    -8.143036,
                    -8.050091,
                    -7.5393276,
                    -6.6682,
                    -7.061808,
                    -7.333059,
                    -6.7448792,
                    -6.6575212,
                    -7.2058487,
                    -6.616625,
                    -6.4490433,
                    -6.7173686,
                    -6.5266914,
                    -6.582823,
                    -7.35719,
                    -6.9567895,
                    -7.602053,
                    -6.148932,
                    -6.397511,
                    -7.3091483,
                    -5.6881213,
                    -5.819973,
                    -5.7651753,
                    -5.1642237,
                    -5.476257,
                    -5.5328135,
                    -5.0457616,
                    -5.1123495,
                    -5.12145,
                    -6.243548,
                    -6.3151174,
                    -6.282608,
                    -6.1180286,
                    -5.817672,
                    -6.134401,
                    -5.8767595,
                    -5.8983665,
                    -5.764099,
                    -5.503616,
                    -5.21631,
                    -5.236027,
                    -4.8906283,
                    -5.0910797,
                    -5.243707,
                    -5.715883,
                    -5.722292,
                    -5.780271,
                    -5.3200445,
                    -5.254659,
                    -5.400154,
                    -5.3236523,
                    -4.6678286,
                    -4.448564,
                    -2.5219264,
                    -2.591687,
                    -2.6039445,
                    -2.984195,
                    -2.4927993,
                    -2.586613
                  ],
                  "z": [
                    -0.7264539,
                    -0.7178042,
                    -0.73458534,
                    -0.89201254,
                    -0.867335,
                    -0.86578465,
                    -0.8131938,
                    -0.7498617,
                    -0.6379366,
                    -0.32077077,
                    0.4110072,
                    0.45165285,
                    0.63746566,
                    0.5865982,
                    0.6071866,
                    1.7321651,
                    1.8210461,
                    1.8208699,
                    2.0449684,
                    2.1611814,
                    2.123395,
                    2.2135048,
                    2.2245712,
                    2.2406416,
                    2.3371327,
                    2.32634,
                    2.3570144,
                    2.4400218,
                    2.438794,
                    2.4410946,
                    1.1404295,
                    1.2459605,
                    1.2727698,
                    1.5469999,
                    1.7310331,
                    2.0467446,
                    2.058354,
                    2.0833418,
                    2.3436193,
                    2.4360087,
                    2.5816183,
                    2.6761727,
                    1.2500583,
                    2.5153465,
                    2.709497,
                    1.4660926,
                    1.5892571,
                    1.9860783,
                    1.7894778,
                    1.9104592,
                    2.2803764,
                    2.387177,
                    2.3784108,
                    2.5155144,
                    2.6055636,
                    2.6280997,
                    2.6329658,
                    2.6318274,
                    2.6610715,
                    2.6645136,
                    3.7803285,
                    3.7027912,
                    3.6383142,
                    4.0696425,
                    4.707866,
                    4.0319896,
                    4.067711,
                    4.759881,
                    4.0713315,
                    4.755758,
                    4.724138,
                    4.7225504,
                    4.773077,
                    5.180302,
                    4.7606626,
                    0.48706883,
                    1.1080092,
                    1.1164002,
                    0.5433391,
                    1.0986156,
                    0.54065245,
                    -0.2808168,
                    0.65410274,
                    0.6044313,
                    0.9908904,
                    0.99282074,
                    1.9879924,
                    -0.64376503,
                    2.1443548,
                    2.1417706,
                    -1.6348325,
                    -1.6450547,
                    -1.6426432,
                    -1.0343237,
                    -1.036178,
                    -1.0317966,
                    -0.76569897,
                    -0.76123065,
                    -0.780944,
                    -0.7674505,
                    -0.75453323,
                    -0.7300681,
                    -0.7876126,
                    2.012937,
                    2.0117407,
                    0.27648225,
                    0.31314895,
                    0.2763323,
                    1.5988551,
                    1.5993999,
                    0.4950426,
                    2.1773362,
                    1.9189951,
                    0.9324953,
                    3.0084138,
                    3.74042,
                    3.7366252,
                    3.758263,
                    4.1912103,
                    3.7415502,
                    -1.5754893,
                    -1.6017082,
                    -1.5781683,
                    -1.4640051,
                    -1.2835641,
                    -1.3484268,
                    -1.1761799,
                    -1.029679,
                    -1.0329267,
                    1.2396997,
                    2.1536105,
                    2.1779096,
                    2.2238178,
                    2.2418492,
                    2.238629,
                    -1.131796,
                    -1.115292,
                    -1.1010034,
                    -1.5589539,
                    -1.5501417,
                    -1.4520758,
                    -1.4624286,
                    -1.3177037,
                    -1.3257066,
                    -1.0390581,
                    -1.1448874,
                    -1.2192602,
                    -0.92024875,
                    -0.92569256,
                    -0.815908,
                    -1.7062798,
                    -1.3199877,
                    -1.9218556,
                    -0.76928246,
                    -0.12680902,
                    -0.37878954,
                    0.5540445,
                    0.116418086,
                    0.76860344,
                    0.8768496,
                    0.6228926,
                    0.62050515,
                    2.010842,
                    1.7440376,
                    1.286291,
                    -2.6417308,
                    -3.117265,
                    -2.9199843,
                    -1.9100031,
                    -2.023498,
                    -1.1489987,
                    -1.0074888,
                    -1.1068313,
                    -1.13299,
                    -0.009293149,
                    -0.23137741,
                    -0.13302249,
                    1.6547347,
                    0.4559691,
                    1.3944808,
                    -1.8226055,
                    -1.5558926,
                    -1.4838283,
                    -0.060622543,
                    0.048685543,
                    0.02182994,
                    5.195276,
                    5.2321677,
                    5.234777,
                    5.687973,
                    5.7225394,
                    5.342898,
                    6.5591335,
                    6.276145,
                    5.7213926,
                    0.63403493,
                    0.5056049,
                    1.3120186,
                    2.666666,
                    2.7288454,
                    3.4274802,
                    3.4655256,
                    4.3482356,
                    3.7907531,
                    3.9885948,
                    4.218665,
                    4.7075615,
                    4.5298085,
                    4.8661523,
                    4.847709,
                    1.5033214,
                    1.622442,
                    2.288201,
                    2.6903794,
                    2.4094505,
                    3.6221187,
                    3.7160137,
                    4.2530894,
                    4.5045457,
                    2.8284369,
                    3.1485705,
                    3.5214047,
                    3.390628,
                    3.6890135,
                    3.4970036,
                    -3.4653602,
                    -2.8393743,
                    -2.9345555,
                    -1.5579852,
                    -0.7769299,
                    -0.9978808,
                    -0.69797164,
                    0.46768823,
                    -0.15013158,
                    0.98510176,
                    3.1571424,
                    3.2869115,
                    3.2735047,
                    3.8431704,
                    3.572755,
                    -1.9814022,
                    -2.1093905,
                    -2.1642816,
                    -1.5576707,
                    0.7544763,
                    0.092571706,
                    2.930259,
                    3.0576515,
                    2.7690349,
                    3.9990966,
                    3.7257376,
                    4.1021323,
                    5.835327,
                    5.9870267,
                    5.7385015,
                    2.1522622,
                    2.1284895,
                    2.327945,
                    3.4472613,
                    3.4115355,
                    3.6192136,
                    4.3666162,
                    4.50564,
                    4.1750517,
                    4.649205,
                    5.491963,
                    5.5758176,
                    5.399905,
                    5.9531384,
                    5.9254565,
                    -1.0596536,
                    -1.1756935,
                    -1.8001227,
                    0.11461792,
                    -0.17735322,
                    -0.8555582,
                    1.4257599,
                    0.8726391,
                    1.8041849,
                    1.8904778,
                    0.85412735,
                    2.1850805,
                    2.5994585,
                    2.7572873,
                    -0.20927717,
                    -0.9891782,
                    -1.1849525,
                    -1.117453,
                    0.10797398,
                    0.33947504,
                    0.9308053,
                    2.4830096,
                    1.3511941,
                    1.1484971,
                    5.639939,
                    5.123675,
                    5.201022,
                    5.5924406,
                    5.0879555,
                    5.4053044,
                    10.704956,
                    10.779042,
                    10.801506,
                    10.059521,
                    10.081558,
                    10.4071455,
                    8.890183,
                    9.082118,
                    9.570254,
                    8.380081,
                    8.534504,
                    8.809808,
                    8.006459,
                    7.8659472,
                    8.110543,
                    11.269858,
                    11.39671,
                    11.406976,
                    10.666132,
                    10.659158,
                    10.844563,
                    9.59736,
                    9.97681,
                    10.244673,
                    7.335399,
                    7.2992873,
                    6.279014,
                    6.1318192,
                    6.160295,
                    6.1510053,
                    10.740634,
                    10.743824,
                    10.914876,
                    9.069619,
                    10.229773,
                    10.360997,
                    9.592288,
                    8.496447,
                    9.55812,
                    8.064101,
                    6.9446244,
                    8.050103,
                    6.8617387,
                    6.5328617,
                    6.852999,
                    11.986377,
                    12.042035,
                    12.023472,
                    9.130276,
                    9.031142,
                    9.142556,
                    8.1783695,
                    8.139323,
                    8.210921,
                    7.411889,
                    7.4894195,
                    7.424808,
                    6.543546,
                    6.392576,
                    5.687491,
                    -2.4502683,
                    -2.5718582,
                    -2.4448342,
                    -3.0190568,
                    -3.09948,
                    -3.0832052,
                    -3.3988938,
                    -3.482898,
                    -3.6150646,
                    -2.241541,
                    -2.4127233,
                    -2.8669193,
                    -1.84174,
                    -1.8377684,
                    -1.472809,
                    3.057125,
                    3.7775645,
                    3.250299,
                    3.2397103,
                    3.928044,
                    3.4298174,
                    3.6758842,
                    4.546221,
                    3.8931043,
                    4.5330515,
                    4.469356,
                    4.652296,
                    5.0672812,
                    5.3256183,
                    4.783619,
                    12.140502,
                    12.065465,
                    12.002766,
                    11.393815,
                    11.293654,
                    11.034624,
                    10.483222,
                    10.134029,
                    10.457216,
                    8.353647,
                    8.080402,
                    8.023712,
                    7.6840425,
                    7.3993893,
                    7.5071297,
                    11.4532585,
                    11.4518385,
                    11.433198,
                    10.524826,
                    10.380991,
                    10.467114,
                    9.9042845,
                    9.82161,
                    9.6946125,
                    9.13076,
                    7.1738567,
                    6.204757,
                    6.6878905,
                    6.601778,
                    6.5780954,
                    11.750606,
                    11.780781,
                    11.675064,
                    11.408561,
                    11.456989,
                    11.273885,
                    11.054471,
                    10.877704,
                    10.927515,
                    9.776218,
                    9.735989,
                    9.982033,
                    8.344729,
                    8.352992,
                    8.322633,
                    11.333815,
                    10.523593,
                    10.55108,
                    11.233732,
                    10.255727,
                    11.309768,
                    9.62254,
                    11.04904,
                    9.720693,
                    9.064121,
                    7.8674645,
                    7.9151573,
                    8.680589,
                    7.527905,
                    7.575472,
                    17.19538,
                    17.163939,
                    17.245794,
                    16.884739,
                    16.877636,
                    16.976038,
                    16.123524,
                    15.847327,
                    15.97802,
                    14.641296,
                    14.226523,
                    14.27975,
                    13.73622,
                    12.608641,
                    13.990786,
                    15.4711,
                    16.08662,
                    16.429598,
                    11.643054,
                    15.0956,
                    15.463457,
                    13.148629,
                    12.306605,
                    12.2341795,
                    8.458346,
                    8.659681,
                    8.689054,
                    7.638725,
                    7.780351,
                    7.9156785,
                    14.569935,
                    14.985518,
                    15.231497,
                    11.871222,
                    13.921977,
                    14.212056,
                    12.448782,
                    12.389839,
                    11.035781,
                    10.172835,
                    10.53752,
                    10.530002,
                    8.0243225,
                    7.752863,
                    8.359053,
                    12.86157,
                    12.9229765,
                    12.961064,
                    14.476207,
                    11.4271,
                    10.307006,
                    14.493812,
                    9.774648,
                    10.82927,
                    10.579407,
                    9.096276,
                    10.536803,
                    10.217347,
                    7.544428,
                    8.810754,
                    15.524185,
                    15.768518,
                    15.512642,
                    15.178354,
                    14.880316,
                    14.73944,
                    14.644457,
                    14.117294,
                    14.624431,
                    13.939236,
                    13.863607,
                    12.775414,
                    13.488991,
                    10.161307,
                    12.924016,
                    15.461182,
                    15.707396,
                    15.929967,
                    14.272978,
                    14.229819,
                    14.916841,
                    13.244891,
                    13.45315,
                    15.14112,
                    9.133355,
                    8.295221,
                    9.154349,
                    7.994372,
                    9.0151,
                    8.7124815,
                    9.969303,
                    9.916855,
                    9.836953,
                    9.625712,
                    9.451068,
                    8.483236,
                    9.354919,
                    9.36507,
                    9.272128,
                    8.174747,
                    8.093318,
                    7.1247945,
                    7.000573,
                    6.9774632,
                    6.914364,
                    -0.5968024,
                    -0.6471962,
                    -0.59416056,
                    -0.37693357,
                    -0.33635503,
                    -0.3785242,
                    0.5581187,
                    -0.17486544,
                    -0.687404,
                    0.078790575,
                    0.005477936,
                    -0.13804968,
                    -0.02420824,
                    -0.036491774,
                    0.1756458,
                    -7.4745274,
                    -7.1414385,
                    -6.991772,
                    -9.085477,
                    -8.73309,
                    -8.3786,
                    -9.513954,
                    -8.982166,
                    -8.967744,
                    -10.0471525,
                    -9.537397,
                    -9.339049,
                    -10.338574,
                    -10.153647,
                    -10.013916,
                    -7.0058117,
                    -6.92976,
                    -6.5561824,
                    -7.6467514,
                    -7.2498603,
                    -7.3646107,
                    -8.238579,
                    -8.191298,
                    -7.9057674,
                    -11.9636345,
                    -11.852101,
                    -12.663708,
                    -12.87054,
                    -12.441014,
                    -11.962926,
                    -10.002373,
                    -9.840933,
                    -9.851901,
                    -10.432753,
                    -10.295669,
                    -10.101298,
                    -10.898205,
                    -10.587846,
                    -11.3585825,
                    -11.478589,
                    -11.419568,
                    -11.984581,
                    -11.397172,
                    -11.915917,
                    -11.407956,
                    -7.9680033,
                    -8.014869,
                    -7.992301,
                    -8.489458,
                    -8.58806,
                    -8.642451,
                    -8.591562,
                    -9.320643,
                    -9.251366,
                    -9.315889,
                    -10.17524,
                    -10.129618,
                    -9.570845,
                    -10.309261,
                    -11.070073,
                    -6.534981,
                    -7.7696,
                    -7.9475393,
                    -8.586211,
                    -8.813271,
                    -8.901847,
                    -8.255269,
                    -9.538909,
                    -9.883768,
                    -8.605575,
                    -9.898392,
                    -11.195666,
                    -10.2071295,
                    -11.005585,
                    -11.0245075,
                    -4.5362716,
                    -4.5861197,
                    -4.6591687,
                    -5.588232,
                    -5.7747746,
                    -5.918016,
                    -5.7428756,
                    -6.079718,
                    -6.614313,
                    -6.518517,
                    -6.684418,
                    -7.479604,
                    -7.0954885,
                    -6.958435,
                    -7.2622714,
                    -6.1194925,
                    -6.136649,
                    -6.138792,
                    -6.4388266,
                    -6.4668064,
                    -7.2039156,
                    -6.4123144,
                    -6.4035077,
                    -6.343929,
                    -8.464775,
                    -8.554982,
                    -8.52021,
                    -8.5322075,
                    -8.598449,
                    -8.535506,
                    -5.333813,
                    -5.332979,
                    -5.335785,
                    -5.588442,
                    -5.5252337,
                    -5.5126905,
                    -5.7764764,
                    -5.760673,
                    -5.78874,
                    -6.4678974,
                    -6.4252634,
                    -6.39058,
                    -6.527781,
                    -6.634052,
                    -6.639591,
                    -6.2057805,
                    -6.2241936,
                    -6.871796,
                    -7.1267276,
                    -6.1992927,
                    -7.215745,
                    -6.1281047,
                    -6.1881666,
                    -7.066788,
                    -7.2994857,
                    -7.2297087,
                    -7.117823,
                    -7.353892,
                    -7.9075556,
                    -7.2115145,
                    -3.7765849,
                    -3.1831505,
                    -3.0548975,
                    -2.7763176,
                    -2.9097736,
                    -2.5735269,
                    -2.4284916,
                    -1.9117483,
                    -2.0095534,
                    -1.6556286,
                    -1.4071195,
                    -1.3205887,
                    -0.40496904,
                    -0.3757533,
                    -1.0776238,
                    -0.5241097,
                    -0.43938574,
                    -0.08545256,
                    0.19846867,
                    0.010508561,
                    0.4794578,
                    1.4868785,
                    1.5080183,
                    0.62179935,
                    1.8058645,
                    0.91576034,
                    1.7946998,
                    2.4984632,
                    1.9204019,
                    1.9559017,
                    0.27630973,
                    0.42910963,
                    0.75053877,
                    1.67861,
                    0.8929391,
                    1.0869209,
                    2.4859903,
                    2.329509,
                    1.1149197,
                    3.5812657,
                    3.8986063,
                    3.6956134,
                    3.885912,
                    4.215529,
                    4.197152,
                    -5.8211665,
                    -5.844867,
                    -5.8664837,
                    -5.3435283,
                    -5.612303,
                    -5.7659364,
                    -4.8373566,
                    -4.7204704,
                    -5.0744824,
                    -0.068628296,
                    -0.08192682,
                    -0.095233485,
                    0.07398166,
                    0.69665223,
                    0.721916,
                    -3.489164,
                    -3.9792902,
                    -4.3920226,
                    -3.0298507,
                    -3.1018891,
                    -3.8352299,
                    -1.2966582,
                    -2.5327091,
                    -1.3220255,
                    -2.021927,
                    -0.98555046,
                    -0.73441005,
                    0.5135108,
                    -1.0615749,
                    -1.0978886,
                    -7.3674498,
                    -7.2933326,
                    -7.590743,
                    -6.797718,
                    -6.611216,
                    -6.662235,
                    -6.543013,
                    -6.4096007,
                    -6.2720714,
                    0.43294272,
                    0.43086845,
                    0.42854404,
                    0.7114764,
                    0.5490684,
                    0.48338327,
                    -6.3638124,
                    -6.618552,
                    -6.703491,
                    -4.864717,
                    -5.368892,
                    -5.8699527,
                    -4.1270657,
                    -4.8513823,
                    -4.5770617,
                    -3.4129295,
                    -2.475369,
                    -3.725317,
                    -2.414151,
                    -2.5949275,
                    -2.3796268,
                    -5.582743,
                    -5.690756,
                    -5.649312,
                    -4.302347,
                    -5.184054,
                    -5.273506,
                    -3.5872335,
                    -3.9470134,
                    -4.027223,
                    -0.47411278,
                    -0.5631659,
                    -0.5626871,
                    -0.10723141,
                    0.70501524,
                    0.609344,
                    -4.493491,
                    -4.3937435,
                    -4.5290236,
                    -3.6894083,
                    -3.146668,
                    -3.643095,
                    -3.4564655,
                    -2.2275991,
                    -2.5656364,
                    -1.2147876,
                    -1.4708955,
                    -1.1814808,
                    -0.4969622,
                    0.21013853,
                    0.23776098,
                    -1.7825068,
                    -1.5179945,
                    -1.3568575,
                    -3.1581204,
                    -2.336022,
                    -2.2748296,
                    -3.9044135,
                    -3.4937432,
                    -3.1512349,
                    -4.806012,
                    -4.5293703,
                    -4.4096465,
                    -5.070925,
                    -4.8935018,
                    -4.9727745,
                    -3.189031,
                    -3.1576014,
                    -3.119173,
                    -3.847644,
                    -3.8865435,
                    -3.7845263,
                    -3.9221768,
                    -3.8443277,
                    -3.8798459,
                    -4.141023,
                    -4.1480923,
                    -4.1969113,
                    -4.257318,
                    -4.187373,
                    -4.2478585,
                    -1.8477346,
                    -1.8496903,
                    -1.8408355,
                    -3.687395,
                    -3.6138773,
                    -3.339816,
                    -4.5333004,
                    -4.2927947,
                    -4.0570455,
                    -5.558501,
                    -5.8240886,
                    -5.828207,
                    -5.95526,
                    -7.0145526,
                    -6.663309,
                    -2.5623057,
                    -2.4150133,
                    -2.330444,
                    -3.481639,
                    -3.0891597,
                    -3.2184079,
                    -4.103547,
                    -4.045112,
                    -3.5995872,
                    -5.071796,
                    -4.7484546,
                    -4.433177,
                    -5.2807865,
                    -4.8569093,
                    -5.2300596,
                    -0.5312091,
                    -0.46797228,
                    -0.47761816,
                    -1.741636,
                    -1.8162918,
                    -2.096814,
                    -3.131189,
                    -2.923202,
                    -2.7947848,
                    -5.9535804,
                    -6.3627543,
                    -6.904075,
                    -6.3802204,
                    -6.398679,
                    -6.881919,
                    1.4191973,
                    1.49143,
                    1.4639165,
                    0.8350239,
                    1.060459,
                    1.2894492,
                    0.3710603,
                    0.5308432,
                    0.4411818,
                    -0.03912377,
                    0.07420098,
                    -0.20098248,
                    -1.4540709,
                    -0.17273827,
                    0.08114815,
                    0.10211,
                    0.6117647,
                    0.6962712,
                    -1.6195337,
                    -0.38871682,
                    -1.6643715,
                    -2.4286573,
                    -2.2375557,
                    -2.28517,
                    -3.1399984,
                    -3.0000334,
                    -2.9850004,
                    -3.5132918,
                    -3.4602315,
                    -3.3598876,
                    -12.392023,
                    -12.342842,
                    -12.731668,
                    -12.245766,
                    -12.234468,
                    -12.268614,
                    -12.044613,
                    -11.982908,
                    -12.772911,
                    -11.478076,
                    -12.21971,
                    -11.90705,
                    -11.868021,
                    -11.8440895,
                    -11.23157,
                    -10.230069,
                    -9.358418,
                    -10.404039,
                    -10.772799,
                    -11.17474,
                    -11.1072855,
                    -11.329999,
                    -10.649187,
                    -10.541551,
                    -11.73792,
                    -11.248619,
                    -11.094831,
                    -12.443445,
                    -11.86076,
                    -11.322123,
                    -11.124132,
                    -11.23141,
                    -11.139134,
                    -11.245085,
                    -11.491312,
                    -11.363523,
                    -11.798427,
                    -12.013645,
                    -11.871441,
                    -12.200868,
                    -10.74998,
                    -12.155889,
                    -11.393155,
                    -10.373725,
                    -11.382218,
                    -8.983464,
                    -8.949405,
                    -8.738129,
                    -8.398771,
                    -8.401969,
                    -8.346354,
                    -8.167236,
                    -8.135156,
                    -7.345637,
                    -5.2285547,
                    -5.3291245,
                    -5.425546,
                    -5.409932,
                    -5.4882064,
                    -5.8302145,
                    -6.8264894,
                    -6.831421,
                    -6.9211392,
                    -6.928404,
                    -6.908295,
                    -7.220511,
                    -6.857657,
                    -6.95466,
                    -7.19609,
                    -7.1659074,
                    -6.3665714,
                    -7.335873,
                    -6.1670284,
                    -5.6563416,
                    -6.3385305,
                    -5.374452,
                    -5.384657,
                    -5.4039464,
                    -5.183799,
                    -6.07875,
                    -5.2830977,
                    -5.0602884,
                    -5.3164682,
                    -5.370315,
                    -4.6842837,
                    -5.50727,
                    -5.8626676,
                    -5.665129,
                    -5.7372985,
                    -6.0443115,
                    -6.501653,
                    -6.496347,
                    -6.176842,
                    -6.410743,
                    -6.3253646,
                    -5.949705,
                    -5.8687344,
                    -6.1694436,
                    -6.107729,
                    -6.2469697,
                    -5.6736703,
                    -5.543588,
                    -5.601386,
                    -5.5804844,
                    -5.4744086,
                    -10.622433,
                    -10.569009,
                    -10.571312,
                    -10.5669565,
                    -10.612857,
                    -10.506308,
                    -10.740293,
                    -10.515963,
                    -10.231445,
                    -10.878272,
                    -10.491446,
                    -10.464885,
                    -10.892272,
                    -10.821867,
                    -10.754799,
                    -12.130541,
                    -12.167817,
                    -12.053558,
                    -12.489373,
                    -12.376735,
                    -12.344321,
                    -11.300197,
                    -12.771512,
                    -12.72909,
                    -9.67151,
                    -9.2217865,
                    -9.106119,
                    -10.638838,
                    -9.751115,
                    -9.259771
                  ]
                }
              ],
              "layout": {
                "coloraxis": {
                  "colorbar": {
                    "title": {
                      "text": "Anomaly"
                    }
                  },
                  "colorscale": [
                    [
                      0,
                      "#440154"
                    ],
                    [
                      0.1111111111111111,
                      "#482878"
                    ],
                    [
                      0.2222222222222222,
                      "#3e4989"
                    ],
                    [
                      0.3333333333333333,
                      "#31688e"
                    ],
                    [
                      0.4444444444444444,
                      "#26828e"
                    ],
                    [
                      0.5555555555555556,
                      "#1f9e89"
                    ],
                    [
                      0.6666666666666666,
                      "#35b779"
                    ],
                    [
                      0.7777777777777778,
                      "#6ece58"
                    ],
                    [
                      0.8888888888888888,
                      "#b5de2b"
                    ],
                    [
                      1,
                      "#fde725"
                    ]
                  ]
                },
                "height": 800,
                "legend": {
                  "tracegroupgap": 0
                },
                "scene": {
                  "domain": {
                    "x": [
                      0,
                      1
                    ],
                    "y": [
                      0,
                      1
                    ]
                  },
                  "xaxis": {
                    "title": {
                      "text": "0"
                    }
                  },
                  "yaxis": {
                    "title": {
                      "text": "1"
                    }
                  },
                  "zaxis": {
                    "title": {
                      "text": "2"
                    }
                  }
                },
                "template": {
                  "data": {
                    "scatter": [
                      {
                        "type": "scatter"
                      }
                    ]
                  }
                },
                "title": {
                  "text": "3d TSNE Plot for Outliers"
                },
                "width": 900
              }
            }
          },
          "metadata": {},
          "output_type": "display_data"
        }
      ],
      "source": [
        "# tsne plot of anomalies\n",
        "plot_model(iforest, plot = 'tsne')"
      ]
    },
    {
      "cell_type": "code",
      "execution_count": 68,
      "id": "bc5cf24a",
      "metadata": {
        "id": "bc5cf24a",
        "outputId": "eb045506-aa31-4db0-c876-d0d04392955d"
      },
      "outputs": [
        {
          "name": "stdout",
          "output_type": "stream",
          "text": [
            "Transformation Pipeline and Model Successfully Saved\n"
          ]
        },
        {
          "data": {
            "text/plain": [
              "(Pipeline(memory=Memory(location=None),\n",
              "          steps=[('numerical_imputer',\n",
              "                  TransformerWrapper(include=['DYRK1A_N', 'ITSN1_N', 'BDNF_N',\n",
              "                                              'NR1_N', 'NR2A_N', 'pAKT_N',\n",
              "                                              'pBRAF_N', 'pCAMKII_N', 'pCREB_N',\n",
              "                                              'pELK_N', 'pERK_N', 'pJNK_N',\n",
              "                                              'PKCA_N', 'pMEK_N', 'pNR1_N',\n",
              "                                              'pNR2A_N', 'pNR2B_N', 'pPKCAB_N',\n",
              "                                              'pRSK_N', 'AKT_N', 'BRAF_N',\n",
              "                                              'CAMKII_N', 'CREB_N', 'ELK_N',\n",
              "                                              'ERK_N', 'GSK3B_N', 'JNK_N',\n",
              "                                              'ME...\n",
              "                                                                     'class'],\n",
              "                                                               handle_missing='return_nan',\n",
              "                                                               use_cat_names=True))),\n",
              "                 ('bin_numeric_features',\n",
              "                  TransformerWrapper(include=['pCFOS_N'],\n",
              "                                     transformer=KBinsDiscretizer(encode='ordinal',\n",
              "                                                                  strategy='kmeans'))),\n",
              "                 ('trained_model',\n",
              "                  IForest(behaviour='new', bootstrap=False, contamination=0.05,\n",
              "     max_features=1.0, max_samples='auto', n_estimators=100, n_jobs=-1,\n",
              "     random_state=123, verbose=0))]),\n",
              " 'my_first_model.pkl')"
            ]
          },
          "execution_count": 68,
          "metadata": {},
          "output_type": "execute_result"
        }
      ],
      "source": [
        "# save model\n",
        "save_model(iforest, 'my_first_model')"
      ]
    },
    {
      "cell_type": "code",
      "execution_count": 69,
      "id": "e8478d34",
      "metadata": {
        "id": "e8478d34",
        "outputId": "e4aec8b0-f598-4bc0-c84b-71e29578023c"
      },
      "outputs": [
        {
          "name": "stdout",
          "output_type": "stream",
          "text": [
            "Transformation Pipeline and Model Successfully Loaded\n"
          ]
        },
        {
          "data": {
            "text/html": [
              "<style>#sk-container-id-4 {\n",
              "  /* Definition of color scheme common for light and dark mode */\n",
              "  --sklearn-color-text: black;\n",
              "  --sklearn-color-line: gray;\n",
              "  /* Definition of color scheme for unfitted estimators */\n",
              "  --sklearn-color-unfitted-level-0: #fff5e6;\n",
              "  --sklearn-color-unfitted-level-1: #f6e4d2;\n",
              "  --sklearn-color-unfitted-level-2: #ffe0b3;\n",
              "  --sklearn-color-unfitted-level-3: chocolate;\n",
              "  /* Definition of color scheme for fitted estimators */\n",
              "  --sklearn-color-fitted-level-0: #f0f8ff;\n",
              "  --sklearn-color-fitted-level-1: #d4ebff;\n",
              "  --sklearn-color-fitted-level-2: #b3dbfd;\n",
              "  --sklearn-color-fitted-level-3: cornflowerblue;\n",
              "\n",
              "  /* Specific color for light theme */\n",
              "  --sklearn-color-text-on-default-background: var(--sg-text-color, var(--theme-code-foreground, var(--jp-content-font-color1, black)));\n",
              "  --sklearn-color-background: var(--sg-background-color, var(--theme-background, var(--jp-layout-color0, white)));\n",
              "  --sklearn-color-border-box: var(--sg-text-color, var(--theme-code-foreground, var(--jp-content-font-color1, black)));\n",
              "  --sklearn-color-icon: #696969;\n",
              "\n",
              "  @media (prefers-color-scheme: dark) {\n",
              "    /* Redefinition of color scheme for dark theme */\n",
              "    --sklearn-color-text-on-default-background: var(--sg-text-color, var(--theme-code-foreground, var(--jp-content-font-color1, white)));\n",
              "    --sklearn-color-background: var(--sg-background-color, var(--theme-background, var(--jp-layout-color0, #111)));\n",
              "    --sklearn-color-border-box: var(--sg-text-color, var(--theme-code-foreground, var(--jp-content-font-color1, white)));\n",
              "    --sklearn-color-icon: #878787;\n",
              "  }\n",
              "}\n",
              "\n",
              "#sk-container-id-4 {\n",
              "  color: var(--sklearn-color-text);\n",
              "}\n",
              "\n",
              "#sk-container-id-4 pre {\n",
              "  padding: 0;\n",
              "}\n",
              "\n",
              "#sk-container-id-4 input.sk-hidden--visually {\n",
              "  border: 0;\n",
              "  clip: rect(1px 1px 1px 1px);\n",
              "  clip: rect(1px, 1px, 1px, 1px);\n",
              "  height: 1px;\n",
              "  margin: -1px;\n",
              "  overflow: hidden;\n",
              "  padding: 0;\n",
              "  position: absolute;\n",
              "  width: 1px;\n",
              "}\n",
              "\n",
              "#sk-container-id-4 div.sk-dashed-wrapped {\n",
              "  border: 1px dashed var(--sklearn-color-line);\n",
              "  margin: 0 0.4em 0.5em 0.4em;\n",
              "  box-sizing: border-box;\n",
              "  padding-bottom: 0.4em;\n",
              "  background-color: var(--sklearn-color-background);\n",
              "}\n",
              "\n",
              "#sk-container-id-4 div.sk-container {\n",
              "  /* jupyter's `normalize.less` sets `[hidden] { display: none; }`\n",
              "     but bootstrap.min.css set `[hidden] { display: none !important; }`\n",
              "     so we also need the `!important` here to be able to override the\n",
              "     default hidden behavior on the sphinx rendered scikit-learn.org.\n",
              "     See: https://github.com/scikit-learn/scikit-learn/issues/21755 */\n",
              "  display: inline-block !important;\n",
              "  position: relative;\n",
              "}\n",
              "\n",
              "#sk-container-id-4 div.sk-text-repr-fallback {\n",
              "  display: none;\n",
              "}\n",
              "\n",
              "div.sk-parallel-item,\n",
              "div.sk-serial,\n",
              "div.sk-item {\n",
              "  /* draw centered vertical line to link estimators */\n",
              "  background-image: linear-gradient(var(--sklearn-color-text-on-default-background), var(--sklearn-color-text-on-default-background));\n",
              "  background-size: 2px 100%;\n",
              "  background-repeat: no-repeat;\n",
              "  background-position: center center;\n",
              "}\n",
              "\n",
              "/* Parallel-specific style estimator block */\n",
              "\n",
              "#sk-container-id-4 div.sk-parallel-item::after {\n",
              "  content: \"\";\n",
              "  width: 100%;\n",
              "  border-bottom: 2px solid var(--sklearn-color-text-on-default-background);\n",
              "  flex-grow: 1;\n",
              "}\n",
              "\n",
              "#sk-container-id-4 div.sk-parallel {\n",
              "  display: flex;\n",
              "  align-items: stretch;\n",
              "  justify-content: center;\n",
              "  background-color: var(--sklearn-color-background);\n",
              "  position: relative;\n",
              "}\n",
              "\n",
              "#sk-container-id-4 div.sk-parallel-item {\n",
              "  display: flex;\n",
              "  flex-direction: column;\n",
              "}\n",
              "\n",
              "#sk-container-id-4 div.sk-parallel-item:first-child::after {\n",
              "  align-self: flex-end;\n",
              "  width: 50%;\n",
              "}\n",
              "\n",
              "#sk-container-id-4 div.sk-parallel-item:last-child::after {\n",
              "  align-self: flex-start;\n",
              "  width: 50%;\n",
              "}\n",
              "\n",
              "#sk-container-id-4 div.sk-parallel-item:only-child::after {\n",
              "  width: 0;\n",
              "}\n",
              "\n",
              "/* Serial-specific style estimator block */\n",
              "\n",
              "#sk-container-id-4 div.sk-serial {\n",
              "  display: flex;\n",
              "  flex-direction: column;\n",
              "  align-items: center;\n",
              "  background-color: var(--sklearn-color-background);\n",
              "  padding-right: 1em;\n",
              "  padding-left: 1em;\n",
              "}\n",
              "\n",
              "\n",
              "/* Toggleable style: style used for estimator/Pipeline/ColumnTransformer box that is\n",
              "clickable and can be expanded/collapsed.\n",
              "- Pipeline and ColumnTransformer use this feature and define the default style\n",
              "- Estimators will overwrite some part of the style using the `sk-estimator` class\n",
              "*/\n",
              "\n",
              "/* Pipeline and ColumnTransformer style (default) */\n",
              "\n",
              "#sk-container-id-4 div.sk-toggleable {\n",
              "  /* Default theme specific background. It is overwritten whether we have a\n",
              "  specific estimator or a Pipeline/ColumnTransformer */\n",
              "  background-color: var(--sklearn-color-background);\n",
              "}\n",
              "\n",
              "/* Toggleable label */\n",
              "#sk-container-id-4 label.sk-toggleable__label {\n",
              "  cursor: pointer;\n",
              "  display: block;\n",
              "  width: 100%;\n",
              "  margin-bottom: 0;\n",
              "  padding: 0.5em;\n",
              "  box-sizing: border-box;\n",
              "  text-align: center;\n",
              "}\n",
              "\n",
              "#sk-container-id-4 label.sk-toggleable__label-arrow:before {\n",
              "  /* Arrow on the left of the label */\n",
              "  content: \"▸\";\n",
              "  float: left;\n",
              "  margin-right: 0.25em;\n",
              "  color: var(--sklearn-color-icon);\n",
              "}\n",
              "\n",
              "#sk-container-id-4 label.sk-toggleable__label-arrow:hover:before {\n",
              "  color: var(--sklearn-color-text);\n",
              "}\n",
              "\n",
              "/* Toggleable content - dropdown */\n",
              "\n",
              "#sk-container-id-4 div.sk-toggleable__content {\n",
              "  max-height: 0;\n",
              "  max-width: 0;\n",
              "  overflow: hidden;\n",
              "  text-align: left;\n",
              "  /* unfitted */\n",
              "  background-color: var(--sklearn-color-unfitted-level-0);\n",
              "}\n",
              "\n",
              "#sk-container-id-4 div.sk-toggleable__content.fitted {\n",
              "  /* fitted */\n",
              "  background-color: var(--sklearn-color-fitted-level-0);\n",
              "}\n",
              "\n",
              "#sk-container-id-4 div.sk-toggleable__content pre {\n",
              "  margin: 0.2em;\n",
              "  border-radius: 0.25em;\n",
              "  color: var(--sklearn-color-text);\n",
              "  /* unfitted */\n",
              "  background-color: var(--sklearn-color-unfitted-level-0);\n",
              "}\n",
              "\n",
              "#sk-container-id-4 div.sk-toggleable__content.fitted pre {\n",
              "  /* unfitted */\n",
              "  background-color: var(--sklearn-color-fitted-level-0);\n",
              "}\n",
              "\n",
              "#sk-container-id-4 input.sk-toggleable__control:checked~div.sk-toggleable__content {\n",
              "  /* Expand drop-down */\n",
              "  max-height: 200px;\n",
              "  max-width: 100%;\n",
              "  overflow: auto;\n",
              "}\n",
              "\n",
              "#sk-container-id-4 input.sk-toggleable__control:checked~label.sk-toggleable__label-arrow:before {\n",
              "  content: \"▾\";\n",
              "}\n",
              "\n",
              "/* Pipeline/ColumnTransformer-specific style */\n",
              "\n",
              "#sk-container-id-4 div.sk-label input.sk-toggleable__control:checked~label.sk-toggleable__label {\n",
              "  color: var(--sklearn-color-text);\n",
              "  background-color: var(--sklearn-color-unfitted-level-2);\n",
              "}\n",
              "\n",
              "#sk-container-id-4 div.sk-label.fitted input.sk-toggleable__control:checked~label.sk-toggleable__label {\n",
              "  background-color: var(--sklearn-color-fitted-level-2);\n",
              "}\n",
              "\n",
              "/* Estimator-specific style */\n",
              "\n",
              "/* Colorize estimator box */\n",
              "#sk-container-id-4 div.sk-estimator input.sk-toggleable__control:checked~label.sk-toggleable__label {\n",
              "  /* unfitted */\n",
              "  background-color: var(--sklearn-color-unfitted-level-2);\n",
              "}\n",
              "\n",
              "#sk-container-id-4 div.sk-estimator.fitted input.sk-toggleable__control:checked~label.sk-toggleable__label {\n",
              "  /* fitted */\n",
              "  background-color: var(--sklearn-color-fitted-level-2);\n",
              "}\n",
              "\n",
              "#sk-container-id-4 div.sk-label label.sk-toggleable__label,\n",
              "#sk-container-id-4 div.sk-label label {\n",
              "  /* The background is the default theme color */\n",
              "  color: var(--sklearn-color-text-on-default-background);\n",
              "}\n",
              "\n",
              "/* On hover, darken the color of the background */\n",
              "#sk-container-id-4 div.sk-label:hover label.sk-toggleable__label {\n",
              "  color: var(--sklearn-color-text);\n",
              "  background-color: var(--sklearn-color-unfitted-level-2);\n",
              "}\n",
              "\n",
              "/* Label box, darken color on hover, fitted */\n",
              "#sk-container-id-4 div.sk-label.fitted:hover label.sk-toggleable__label.fitted {\n",
              "  color: var(--sklearn-color-text);\n",
              "  background-color: var(--sklearn-color-fitted-level-2);\n",
              "}\n",
              "\n",
              "/* Estimator label */\n",
              "\n",
              "#sk-container-id-4 div.sk-label label {\n",
              "  font-family: monospace;\n",
              "  font-weight: bold;\n",
              "  display: inline-block;\n",
              "  line-height: 1.2em;\n",
              "}\n",
              "\n",
              "#sk-container-id-4 div.sk-label-container {\n",
              "  text-align: center;\n",
              "}\n",
              "\n",
              "/* Estimator-specific */\n",
              "#sk-container-id-4 div.sk-estimator {\n",
              "  font-family: monospace;\n",
              "  border: 1px dotted var(--sklearn-color-border-box);\n",
              "  border-radius: 0.25em;\n",
              "  box-sizing: border-box;\n",
              "  margin-bottom: 0.5em;\n",
              "  /* unfitted */\n",
              "  background-color: var(--sklearn-color-unfitted-level-0);\n",
              "}\n",
              "\n",
              "#sk-container-id-4 div.sk-estimator.fitted {\n",
              "  /* fitted */\n",
              "  background-color: var(--sklearn-color-fitted-level-0);\n",
              "}\n",
              "\n",
              "/* on hover */\n",
              "#sk-container-id-4 div.sk-estimator:hover {\n",
              "  /* unfitted */\n",
              "  background-color: var(--sklearn-color-unfitted-level-2);\n",
              "}\n",
              "\n",
              "#sk-container-id-4 div.sk-estimator.fitted:hover {\n",
              "  /* fitted */\n",
              "  background-color: var(--sklearn-color-fitted-level-2);\n",
              "}\n",
              "\n",
              "/* Specification for estimator info (e.g. \"i\" and \"?\") */\n",
              "\n",
              "/* Common style for \"i\" and \"?\" */\n",
              "\n",
              ".sk-estimator-doc-link,\n",
              "a:link.sk-estimator-doc-link,\n",
              "a:visited.sk-estimator-doc-link {\n",
              "  float: right;\n",
              "  font-size: smaller;\n",
              "  line-height: 1em;\n",
              "  font-family: monospace;\n",
              "  background-color: var(--sklearn-color-background);\n",
              "  border-radius: 1em;\n",
              "  height: 1em;\n",
              "  width: 1em;\n",
              "  text-decoration: none !important;\n",
              "  margin-left: 1ex;\n",
              "  /* unfitted */\n",
              "  border: var(--sklearn-color-unfitted-level-1) 1pt solid;\n",
              "  color: var(--sklearn-color-unfitted-level-1);\n",
              "}\n",
              "\n",
              ".sk-estimator-doc-link.fitted,\n",
              "a:link.sk-estimator-doc-link.fitted,\n",
              "a:visited.sk-estimator-doc-link.fitted {\n",
              "  /* fitted */\n",
              "  border: var(--sklearn-color-fitted-level-1) 1pt solid;\n",
              "  color: var(--sklearn-color-fitted-level-1);\n",
              "}\n",
              "\n",
              "/* On hover */\n",
              "div.sk-estimator:hover .sk-estimator-doc-link:hover,\n",
              ".sk-estimator-doc-link:hover,\n",
              "div.sk-label-container:hover .sk-estimator-doc-link:hover,\n",
              ".sk-estimator-doc-link:hover {\n",
              "  /* unfitted */\n",
              "  background-color: var(--sklearn-color-unfitted-level-3);\n",
              "  color: var(--sklearn-color-background);\n",
              "  text-decoration: none;\n",
              "}\n",
              "\n",
              "div.sk-estimator.fitted:hover .sk-estimator-doc-link.fitted:hover,\n",
              ".sk-estimator-doc-link.fitted:hover,\n",
              "div.sk-label-container:hover .sk-estimator-doc-link.fitted:hover,\n",
              ".sk-estimator-doc-link.fitted:hover {\n",
              "  /* fitted */\n",
              "  background-color: var(--sklearn-color-fitted-level-3);\n",
              "  color: var(--sklearn-color-background);\n",
              "  text-decoration: none;\n",
              "}\n",
              "\n",
              "/* Span, style for the box shown on hovering the info icon */\n",
              ".sk-estimator-doc-link span {\n",
              "  display: none;\n",
              "  z-index: 9999;\n",
              "  position: relative;\n",
              "  font-weight: normal;\n",
              "  right: .2ex;\n",
              "  padding: .5ex;\n",
              "  margin: .5ex;\n",
              "  width: min-content;\n",
              "  min-width: 20ex;\n",
              "  max-width: 50ex;\n",
              "  color: var(--sklearn-color-text);\n",
              "  box-shadow: 2pt 2pt 4pt #999;\n",
              "  /* unfitted */\n",
              "  background: var(--sklearn-color-unfitted-level-0);\n",
              "  border: .5pt solid var(--sklearn-color-unfitted-level-3);\n",
              "}\n",
              "\n",
              ".sk-estimator-doc-link.fitted span {\n",
              "  /* fitted */\n",
              "  background: var(--sklearn-color-fitted-level-0);\n",
              "  border: var(--sklearn-color-fitted-level-3);\n",
              "}\n",
              "\n",
              ".sk-estimator-doc-link:hover span {\n",
              "  display: block;\n",
              "}\n",
              "\n",
              "/* \"?\"-specific style due to the `<a>` HTML tag */\n",
              "\n",
              "#sk-container-id-4 a.estimator_doc_link {\n",
              "  float: right;\n",
              "  font-size: 1rem;\n",
              "  line-height: 1em;\n",
              "  font-family: monospace;\n",
              "  background-color: var(--sklearn-color-background);\n",
              "  border-radius: 1rem;\n",
              "  height: 1rem;\n",
              "  width: 1rem;\n",
              "  text-decoration: none;\n",
              "  /* unfitted */\n",
              "  color: var(--sklearn-color-unfitted-level-1);\n",
              "  border: var(--sklearn-color-unfitted-level-1) 1pt solid;\n",
              "}\n",
              "\n",
              "#sk-container-id-4 a.estimator_doc_link.fitted {\n",
              "  /* fitted */\n",
              "  border: var(--sklearn-color-fitted-level-1) 1pt solid;\n",
              "  color: var(--sklearn-color-fitted-level-1);\n",
              "}\n",
              "\n",
              "/* On hover */\n",
              "#sk-container-id-4 a.estimator_doc_link:hover {\n",
              "  /* unfitted */\n",
              "  background-color: var(--sklearn-color-unfitted-level-3);\n",
              "  color: var(--sklearn-color-background);\n",
              "  text-decoration: none;\n",
              "}\n",
              "\n",
              "#sk-container-id-4 a.estimator_doc_link.fitted:hover {\n",
              "  /* fitted */\n",
              "  background-color: var(--sklearn-color-fitted-level-3);\n",
              "}\n",
              "</style><div id=\"sk-container-id-4\" class=\"sk-top-container\"><div class=\"sk-text-repr-fallback\"><pre>Pipeline(memory=FastMemory(location=/var/folders/rx/lm_kfng95w9_1rxj88cthphm0000gq/T/joblib),\n",
              "         steps=[(&#x27;numerical_imputer&#x27;,\n",
              "                 TransformerWrapper(include=[&#x27;DYRK1A_N&#x27;, &#x27;ITSN1_N&#x27;, &#x27;BDNF_N&#x27;,\n",
              "                                             &#x27;NR1_N&#x27;, &#x27;NR2A_N&#x27;, &#x27;pAKT_N&#x27;,\n",
              "                                             &#x27;pBRAF_N&#x27;, &#x27;pCAMKII_N&#x27;, &#x27;pCREB_N&#x27;,\n",
              "                                             &#x27;pELK_N&#x27;, &#x27;pERK_N&#x27;, &#x27;pJNK_N&#x27;,\n",
              "                                             &#x27;PKCA_N&#x27;, &#x27;pMEK_N&#x27;, &#x27;pNR1_N&#x27;,\n",
              "                                             &#x27;pNR2A_N&#x27;, &#x27;pNR2B_N&#x27;, &#x27;pPKCAB_N&#x27;,\n",
              "                                             &#x27;pRSK_N&#x27;, &#x27;AKT_N&#x27;, &#x27;BRAF_N&#x27;,\n",
              "                                             &#x27;C...\n",
              "                                                                    &#x27;class&#x27;],\n",
              "                                                              handle_missing=&#x27;return_nan&#x27;,\n",
              "                                                              use_cat_names=True))),\n",
              "                (&#x27;bin_numeric_features&#x27;,\n",
              "                 TransformerWrapper(include=[&#x27;pCFOS_N&#x27;],\n",
              "                                    transformer=KBinsDiscretizer(encode=&#x27;ordinal&#x27;,\n",
              "                                                                 strategy=&#x27;kmeans&#x27;))),\n",
              "                (&#x27;trained_model&#x27;,\n",
              "                 IForest(behaviour=&#x27;new&#x27;, bootstrap=False, contamination=0.05,\n",
              "    max_features=1.0, max_samples=&#x27;auto&#x27;, n_estimators=100, n_jobs=-1,\n",
              "    random_state=123, verbose=0))])</pre><b>In a Jupyter environment, please rerun this cell to show the HTML representation or trust the notebook. <br />On GitHub, the HTML representation is unable to render, please try loading this page with nbviewer.org.</b></div><div class=\"sk-container\" hidden><div class=\"sk-item sk-dashed-wrapped\"><div class=\"sk-label-container\"><div class=\"sk-label fitted sk-toggleable\"><input class=\"sk-toggleable__control sk-hidden--visually\" id=\"sk-estimator-id-43\" type=\"checkbox\" ><label for=\"sk-estimator-id-43\" class=\"sk-toggleable__label fitted sk-toggleable__label-arrow fitted\">&nbsp;Pipeline<span class=\"sk-estimator-doc-link fitted\">i<span>Fitted</span></span></label><div class=\"sk-toggleable__content fitted\"><pre>Pipeline(memory=FastMemory(location=/var/folders/rx/lm_kfng95w9_1rxj88cthphm0000gq/T/joblib),\n",
              "         steps=[(&#x27;numerical_imputer&#x27;,\n",
              "                 TransformerWrapper(include=[&#x27;DYRK1A_N&#x27;, &#x27;ITSN1_N&#x27;, &#x27;BDNF_N&#x27;,\n",
              "                                             &#x27;NR1_N&#x27;, &#x27;NR2A_N&#x27;, &#x27;pAKT_N&#x27;,\n",
              "                                             &#x27;pBRAF_N&#x27;, &#x27;pCAMKII_N&#x27;, &#x27;pCREB_N&#x27;,\n",
              "                                             &#x27;pELK_N&#x27;, &#x27;pERK_N&#x27;, &#x27;pJNK_N&#x27;,\n",
              "                                             &#x27;PKCA_N&#x27;, &#x27;pMEK_N&#x27;, &#x27;pNR1_N&#x27;,\n",
              "                                             &#x27;pNR2A_N&#x27;, &#x27;pNR2B_N&#x27;, &#x27;pPKCAB_N&#x27;,\n",
              "                                             &#x27;pRSK_N&#x27;, &#x27;AKT_N&#x27;, &#x27;BRAF_N&#x27;,\n",
              "                                             &#x27;C...\n",
              "                                                                    &#x27;class&#x27;],\n",
              "                                                              handle_missing=&#x27;return_nan&#x27;,\n",
              "                                                              use_cat_names=True))),\n",
              "                (&#x27;bin_numeric_features&#x27;,\n",
              "                 TransformerWrapper(include=[&#x27;pCFOS_N&#x27;],\n",
              "                                    transformer=KBinsDiscretizer(encode=&#x27;ordinal&#x27;,\n",
              "                                                                 strategy=&#x27;kmeans&#x27;))),\n",
              "                (&#x27;trained_model&#x27;,\n",
              "                 IForest(behaviour=&#x27;new&#x27;, bootstrap=False, contamination=0.05,\n",
              "    max_features=1.0, max_samples=&#x27;auto&#x27;, n_estimators=100, n_jobs=-1,\n",
              "    random_state=123, verbose=0))])</pre></div> </div></div><div class=\"sk-serial\"><div class=\"sk-item sk-dashed-wrapped\"><div class=\"sk-label-container\"><div class=\"sk-label fitted sk-toggleable\"><input class=\"sk-toggleable__control sk-hidden--visually\" id=\"sk-estimator-id-44\" type=\"checkbox\" ><label for=\"sk-estimator-id-44\" class=\"sk-toggleable__label fitted sk-toggleable__label-arrow fitted\">numerical_imputer: TransformerWrapper</label><div class=\"sk-toggleable__content fitted\"><pre>TransformerWrapper(include=[&#x27;DYRK1A_N&#x27;, &#x27;ITSN1_N&#x27;, &#x27;BDNF_N&#x27;, &#x27;NR1_N&#x27;, &#x27;NR2A_N&#x27;,\n",
              "                            &#x27;pAKT_N&#x27;, &#x27;pBRAF_N&#x27;, &#x27;pCAMKII_N&#x27;, &#x27;pCREB_N&#x27;,\n",
              "                            &#x27;pELK_N&#x27;, &#x27;pERK_N&#x27;, &#x27;pJNK_N&#x27;, &#x27;PKCA_N&#x27;, &#x27;pMEK_N&#x27;,\n",
              "                            &#x27;pNR1_N&#x27;, &#x27;pNR2A_N&#x27;, &#x27;pNR2B_N&#x27;, &#x27;pPKCAB_N&#x27;,\n",
              "                            &#x27;pRSK_N&#x27;, &#x27;AKT_N&#x27;, &#x27;BRAF_N&#x27;, &#x27;CAMKII_N&#x27;, &#x27;CREB_N&#x27;,\n",
              "                            &#x27;ELK_N&#x27;, &#x27;ERK_N&#x27;, &#x27;GSK3B_N&#x27;, &#x27;JNK_N&#x27;, &#x27;MEK_N&#x27;,\n",
              "                            &#x27;TRKA_N&#x27;, &#x27;RSK_N&#x27;, ...],\n",
              "                   transformer=SimpleImputer())</pre></div> </div></div><div class=\"sk-parallel\"><div class=\"sk-parallel-item\"><div class=\"sk-item\"><div class=\"sk-label-container\"><div class=\"sk-label fitted sk-toggleable\"><input class=\"sk-toggleable__control sk-hidden--visually\" id=\"sk-estimator-id-45\" type=\"checkbox\" ><label for=\"sk-estimator-id-45\" class=\"sk-toggleable__label fitted sk-toggleable__label-arrow fitted\">transformer: SimpleImputer</label><div class=\"sk-toggleable__content fitted\"><pre>SimpleImputer()</pre></div> </div></div><div class=\"sk-serial\"><div class=\"sk-item\"><div class=\"sk-estimator fitted sk-toggleable\"><input class=\"sk-toggleable__control sk-hidden--visually\" id=\"sk-estimator-id-46\" type=\"checkbox\" ><label for=\"sk-estimator-id-46\" class=\"sk-toggleable__label fitted sk-toggleable__label-arrow fitted\">&nbsp;SimpleImputer<a class=\"sk-estimator-doc-link fitted\" rel=\"noreferrer\" target=\"_blank\" href=\"https://scikit-learn.org/1.4/modules/generated/sklearn.impute.SimpleImputer.html\">?<span>Documentation for SimpleImputer</span></a></label><div class=\"sk-toggleable__content fitted\"><pre>SimpleImputer()</pre></div> </div></div></div></div></div></div></div><div class=\"sk-item sk-dashed-wrapped\"><div class=\"sk-label-container\"><div class=\"sk-label fitted sk-toggleable\"><input class=\"sk-toggleable__control sk-hidden--visually\" id=\"sk-estimator-id-47\" type=\"checkbox\" ><label for=\"sk-estimator-id-47\" class=\"sk-toggleable__label fitted sk-toggleable__label-arrow fitted\">categorical_imputer: TransformerWrapper</label><div class=\"sk-toggleable__content fitted\"><pre>TransformerWrapper(include=[&#x27;MouseID&#x27;, &#x27;Genotype&#x27;, &#x27;Treatment&#x27;, &#x27;Behavior&#x27;,\n",
              "                            &#x27;class&#x27;],\n",
              "                   transformer=SimpleImputer(strategy=&#x27;most_frequent&#x27;))</pre></div> </div></div><div class=\"sk-parallel\"><div class=\"sk-parallel-item\"><div class=\"sk-item\"><div class=\"sk-label-container\"><div class=\"sk-label fitted sk-toggleable\"><input class=\"sk-toggleable__control sk-hidden--visually\" id=\"sk-estimator-id-48\" type=\"checkbox\" ><label for=\"sk-estimator-id-48\" class=\"sk-toggleable__label fitted sk-toggleable__label-arrow fitted\">transformer: SimpleImputer</label><div class=\"sk-toggleable__content fitted\"><pre>SimpleImputer(strategy=&#x27;most_frequent&#x27;)</pre></div> </div></div><div class=\"sk-serial\"><div class=\"sk-item\"><div class=\"sk-estimator fitted sk-toggleable\"><input class=\"sk-toggleable__control sk-hidden--visually\" id=\"sk-estimator-id-49\" type=\"checkbox\" ><label for=\"sk-estimator-id-49\" class=\"sk-toggleable__label fitted sk-toggleable__label-arrow fitted\">&nbsp;SimpleImputer<a class=\"sk-estimator-doc-link fitted\" rel=\"noreferrer\" target=\"_blank\" href=\"https://scikit-learn.org/1.4/modules/generated/sklearn.impute.SimpleImputer.html\">?<span>Documentation for SimpleImputer</span></a></label><div class=\"sk-toggleable__content fitted\"><pre>SimpleImputer(strategy=&#x27;most_frequent&#x27;)</pre></div> </div></div></div></div></div></div></div><div class=\"sk-item sk-dashed-wrapped\"><div class=\"sk-label-container\"><div class=\"sk-label fitted sk-toggleable\"><input class=\"sk-toggleable__control sk-hidden--visually\" id=\"sk-estimator-id-50\" type=\"checkbox\" ><label for=\"sk-estimator-id-50\" class=\"sk-toggleable__label fitted sk-toggleable__label-arrow fitted\">ordinal_encoding: TransformerWrapper</label><div class=\"sk-toggleable__content fitted\"><pre>TransformerWrapper(include=[&#x27;Genotype&#x27;, &#x27;Treatment&#x27;, &#x27;Behavior&#x27;],\n",
              "                   transformer=OrdinalEncoder(cols=[&#x27;Genotype&#x27;, &#x27;Treatment&#x27;,\n",
              "                                                    &#x27;Behavior&#x27;],\n",
              "                                              handle_missing=&#x27;return_nan&#x27;,\n",
              "                                              mapping=[{&#x27;col&#x27;: &#x27;Genotype&#x27;,\n",
              "                                                        &#x27;data_type&#x27;: dtype(&#x27;O&#x27;),\n",
              "                                                        &#x27;mapping&#x27;: Control    0\n",
              "Ts65Dn     1\n",
              "NaN       -1\n",
              "dtype: int64},\n",
              "                                                       {&#x27;col&#x27;: &#x27;Treatment&#x27;,\n",
              "                                                        &#x27;data_type&#x27;: dtype(&#x27;O&#x27;),\n",
              "                                                        &#x27;mapping&#x27;: Memantine    0\n",
              "Saline       1\n",
              "NaN         -1\n",
              "dtype: int64},\n",
              "                                                       {&#x27;col&#x27;: &#x27;Behavior&#x27;,\n",
              "                                                        &#x27;data_type&#x27;: dtype(&#x27;O&#x27;),\n",
              "                                                        &#x27;mapping&#x27;: C/S    0\n",
              "S/C    1\n",
              "NaN   -1\n",
              "dtype: int64}]))</pre></div> </div></div><div class=\"sk-parallel\"><div class=\"sk-parallel-item\"><div class=\"sk-item\"><div class=\"sk-label-container\"><div class=\"sk-label fitted sk-toggleable\"><input class=\"sk-toggleable__control sk-hidden--visually\" id=\"sk-estimator-id-51\" type=\"checkbox\" ><label for=\"sk-estimator-id-51\" class=\"sk-toggleable__label fitted sk-toggleable__label-arrow fitted\">transformer: OrdinalEncoder</label><div class=\"sk-toggleable__content fitted\"><pre>OrdinalEncoder(cols=[&#x27;Genotype&#x27;, &#x27;Treatment&#x27;, &#x27;Behavior&#x27;],\n",
              "               handle_missing=&#x27;return_nan&#x27;,\n",
              "               mapping=[{&#x27;col&#x27;: &#x27;Genotype&#x27;, &#x27;data_type&#x27;: dtype(&#x27;O&#x27;),\n",
              "                         &#x27;mapping&#x27;: Control    0\n",
              "Ts65Dn     1\n",
              "NaN       -1\n",
              "dtype: int64},\n",
              "                        {&#x27;col&#x27;: &#x27;Treatment&#x27;, &#x27;data_type&#x27;: dtype(&#x27;O&#x27;),\n",
              "                         &#x27;mapping&#x27;: Memantine    0\n",
              "Saline       1\n",
              "NaN         -1\n",
              "dtype: int64},\n",
              "                        {&#x27;col&#x27;: &#x27;Behavior&#x27;, &#x27;data_type&#x27;: dtype(&#x27;O&#x27;),\n",
              "                         &#x27;mapping&#x27;: C/S    0\n",
              "S/C    1\n",
              "NaN   -1\n",
              "dtype: int64}])</pre></div> </div></div><div class=\"sk-serial\"><div class=\"sk-item\"><div class=\"sk-estimator fitted sk-toggleable\"><input class=\"sk-toggleable__control sk-hidden--visually\" id=\"sk-estimator-id-52\" type=\"checkbox\" ><label for=\"sk-estimator-id-52\" class=\"sk-toggleable__label fitted sk-toggleable__label-arrow fitted\">OrdinalEncoder</label><div class=\"sk-toggleable__content fitted\"><pre>OrdinalEncoder(cols=[&#x27;Genotype&#x27;, &#x27;Treatment&#x27;, &#x27;Behavior&#x27;],\n",
              "               handle_missing=&#x27;return_nan&#x27;,\n",
              "               mapping=[{&#x27;col&#x27;: &#x27;Genotype&#x27;, &#x27;data_type&#x27;: dtype(&#x27;O&#x27;),\n",
              "                         &#x27;mapping&#x27;: Control    0\n",
              "Ts65Dn     1\n",
              "NaN       -1\n",
              "dtype: int64},\n",
              "                        {&#x27;col&#x27;: &#x27;Treatment&#x27;, &#x27;data_type&#x27;: dtype(&#x27;O&#x27;),\n",
              "                         &#x27;mapping&#x27;: Memantine    0\n",
              "Saline       1\n",
              "NaN         -1\n",
              "dtype: int64},\n",
              "                        {&#x27;col&#x27;: &#x27;Behavior&#x27;, &#x27;data_type&#x27;: dtype(&#x27;O&#x27;),\n",
              "                         &#x27;mapping&#x27;: C/S    0\n",
              "S/C    1\n",
              "NaN   -1\n",
              "dtype: int64}])</pre></div> </div></div></div></div></div></div></div><div class=\"sk-item sk-dashed-wrapped\"><div class=\"sk-label-container\"><div class=\"sk-label fitted sk-toggleable\"><input class=\"sk-toggleable__control sk-hidden--visually\" id=\"sk-estimator-id-53\" type=\"checkbox\" ><label for=\"sk-estimator-id-53\" class=\"sk-toggleable__label fitted sk-toggleable__label-arrow fitted\">onehot_encoding: TransformerWrapper</label><div class=\"sk-toggleable__content fitted\"><pre>TransformerWrapper(include=[&#x27;MouseID&#x27;, &#x27;class&#x27;],\n",
              "                   transformer=OneHotEncoder(cols=[&#x27;MouseID&#x27;, &#x27;class&#x27;],\n",
              "                                             handle_missing=&#x27;return_nan&#x27;,\n",
              "                                             use_cat_names=True))</pre></div> </div></div><div class=\"sk-parallel\"><div class=\"sk-parallel-item\"><div class=\"sk-item\"><div class=\"sk-label-container\"><div class=\"sk-label fitted sk-toggleable\"><input class=\"sk-toggleable__control sk-hidden--visually\" id=\"sk-estimator-id-54\" type=\"checkbox\" ><label for=\"sk-estimator-id-54\" class=\"sk-toggleable__label fitted sk-toggleable__label-arrow fitted\">transformer: OneHotEncoder</label><div class=\"sk-toggleable__content fitted\"><pre>OneHotEncoder(cols=[&#x27;MouseID&#x27;, &#x27;class&#x27;], handle_missing=&#x27;return_nan&#x27;,\n",
              "              use_cat_names=True)</pre></div> </div></div><div class=\"sk-serial\"><div class=\"sk-item\"><div class=\"sk-estimator fitted sk-toggleable\"><input class=\"sk-toggleable__control sk-hidden--visually\" id=\"sk-estimator-id-55\" type=\"checkbox\" ><label for=\"sk-estimator-id-55\" class=\"sk-toggleable__label fitted sk-toggleable__label-arrow fitted\">OneHotEncoder</label><div class=\"sk-toggleable__content fitted\"><pre>OneHotEncoder(cols=[&#x27;MouseID&#x27;, &#x27;class&#x27;], handle_missing=&#x27;return_nan&#x27;,\n",
              "              use_cat_names=True)</pre></div> </div></div></div></div></div></div></div><div class=\"sk-item sk-dashed-wrapped\"><div class=\"sk-label-container\"><div class=\"sk-label fitted sk-toggleable\"><input class=\"sk-toggleable__control sk-hidden--visually\" id=\"sk-estimator-id-56\" type=\"checkbox\" ><label for=\"sk-estimator-id-56\" class=\"sk-toggleable__label fitted sk-toggleable__label-arrow fitted\">bin_numeric_features: TransformerWrapper</label><div class=\"sk-toggleable__content fitted\"><pre>TransformerWrapper(include=[&#x27;pCFOS_N&#x27;],\n",
              "                   transformer=KBinsDiscretizer(encode=&#x27;ordinal&#x27;,\n",
              "                                                strategy=&#x27;kmeans&#x27;))</pre></div> </div></div><div class=\"sk-parallel\"><div class=\"sk-parallel-item\"><div class=\"sk-item\"><div class=\"sk-label-container\"><div class=\"sk-label fitted sk-toggleable\"><input class=\"sk-toggleable__control sk-hidden--visually\" id=\"sk-estimator-id-57\" type=\"checkbox\" ><label for=\"sk-estimator-id-57\" class=\"sk-toggleable__label fitted sk-toggleable__label-arrow fitted\">transformer: KBinsDiscretizer</label><div class=\"sk-toggleable__content fitted\"><pre>KBinsDiscretizer(encode=&#x27;ordinal&#x27;, strategy=&#x27;kmeans&#x27;)</pre></div> </div></div><div class=\"sk-serial\"><div class=\"sk-item\"><div class=\"sk-estimator fitted sk-toggleable\"><input class=\"sk-toggleable__control sk-hidden--visually\" id=\"sk-estimator-id-58\" type=\"checkbox\" ><label for=\"sk-estimator-id-58\" class=\"sk-toggleable__label fitted sk-toggleable__label-arrow fitted\">&nbsp;KBinsDiscretizer<a class=\"sk-estimator-doc-link fitted\" rel=\"noreferrer\" target=\"_blank\" href=\"https://scikit-learn.org/1.4/modules/generated/sklearn.preprocessing.KBinsDiscretizer.html\">?<span>Documentation for KBinsDiscretizer</span></a></label><div class=\"sk-toggleable__content fitted\"><pre>KBinsDiscretizer(encode=&#x27;ordinal&#x27;, strategy=&#x27;kmeans&#x27;)</pre></div> </div></div></div></div></div></div></div><div class=\"sk-item\"><div class=\"sk-estimator fitted sk-toggleable\"><input class=\"sk-toggleable__control sk-hidden--visually\" id=\"sk-estimator-id-59\" type=\"checkbox\" ><label for=\"sk-estimator-id-59\" class=\"sk-toggleable__label fitted sk-toggleable__label-arrow fitted\">IForest</label><div class=\"sk-toggleable__content fitted\"><pre>IForest(behaviour=&#x27;new&#x27;, bootstrap=False, contamination=0.05,\n",
              "    max_features=1.0, max_samples=&#x27;auto&#x27;, n_estimators=100, n_jobs=-1,\n",
              "    random_state=123, verbose=0)</pre></div> </div></div></div></div></div></div>"
            ],
            "text/plain": [
              "Pipeline(memory=FastMemory(location=/var/folders/rx/lm_kfng95w9_1rxj88cthphm0000gq/T/joblib),\n",
              "         steps=[('numerical_imputer',\n",
              "                 TransformerWrapper(include=['DYRK1A_N', 'ITSN1_N', 'BDNF_N',\n",
              "                                             'NR1_N', 'NR2A_N', 'pAKT_N',\n",
              "                                             'pBRAF_N', 'pCAMKII_N', 'pCREB_N',\n",
              "                                             'pELK_N', 'pERK_N', 'pJNK_N',\n",
              "                                             'PKCA_N', 'pMEK_N', 'pNR1_N',\n",
              "                                             'pNR2A_N', 'pNR2B_N', 'pPKCAB_N',\n",
              "                                             'pRSK_N', 'AKT_N', 'BRAF_N',\n",
              "                                             'C...\n",
              "                                                                    'class'],\n",
              "                                                              handle_missing='return_nan',\n",
              "                                                              use_cat_names=True))),\n",
              "                ('bin_numeric_features',\n",
              "                 TransformerWrapper(include=['pCFOS_N'],\n",
              "                                    transformer=KBinsDiscretizer(encode='ordinal',\n",
              "                                                                 strategy='kmeans'))),\n",
              "                ('trained_model',\n",
              "                 IForest(behaviour='new', bootstrap=False, contamination=0.05,\n",
              "    max_features=1.0, max_samples='auto', n_estimators=100, n_jobs=-1,\n",
              "    random_state=123, verbose=0))])"
            ]
          },
          "execution_count": 69,
          "metadata": {},
          "output_type": "execute_result"
        }
      ],
      "source": [
        "# load model\n",
        "loaded_from_disk = load_model('my_first_model')\n",
        "loaded_from_disk"
      ]
    },
    {
      "cell_type": "code",
      "execution_count": 70,
      "id": "6a3c61b6",
      "metadata": {
        "id": "6a3c61b6"
      },
      "outputs": [],
      "source": [
        "# save experiment\n",
        "save_experiment('my_experiment')"
      ]
    },
    {
      "cell_type": "code",
      "execution_count": 71,
      "id": "83252c09",
      "metadata": {
        "id": "83252c09",
        "outputId": "aceb18a1-8414-4284-8223-9ee76a95c311"
      },
      "outputs": [
        {
          "data": {
            "text/html": [
              "<style type=\"text/css\">\n",
              "#T_dd819_row6_col1 {\n",
              "  background-color: lightgreen;\n",
              "}\n",
              "</style>\n",
              "<table id=\"T_dd819\">\n",
              "  <thead>\n",
              "    <tr>\n",
              "      <th class=\"blank level0\" >&nbsp;</th>\n",
              "      <th id=\"T_dd819_level0_col0\" class=\"col_heading level0 col0\" >Description</th>\n",
              "      <th id=\"T_dd819_level0_col1\" class=\"col_heading level0 col1\" >Value</th>\n",
              "    </tr>\n",
              "  </thead>\n",
              "  <tbody>\n",
              "    <tr>\n",
              "      <th id=\"T_dd819_level0_row0\" class=\"row_heading level0 row0\" >0</th>\n",
              "      <td id=\"T_dd819_row0_col0\" class=\"data row0 col0\" >Session id</td>\n",
              "      <td id=\"T_dd819_row0_col1\" class=\"data row0 col1\" >123</td>\n",
              "    </tr>\n",
              "    <tr>\n",
              "      <th id=\"T_dd819_level0_row1\" class=\"row_heading level0 row1\" >1</th>\n",
              "      <td id=\"T_dd819_row1_col0\" class=\"data row1 col0\" >Original data shape</td>\n",
              "      <td id=\"T_dd819_row1_col1\" class=\"data row1 col1\" >(1080, 82)</td>\n",
              "    </tr>\n",
              "    <tr>\n",
              "      <th id=\"T_dd819_level0_row2\" class=\"row_heading level0 row2\" >2</th>\n",
              "      <td id=\"T_dd819_row2_col0\" class=\"data row2 col0\" >Transformed data shape</td>\n",
              "      <td id=\"T_dd819_row2_col1\" class=\"data row2 col1\" >(1080, 1168)</td>\n",
              "    </tr>\n",
              "    <tr>\n",
              "      <th id=\"T_dd819_level0_row3\" class=\"row_heading level0 row3\" >3</th>\n",
              "      <td id=\"T_dd819_row3_col0\" class=\"data row3 col0\" >Numeric features</td>\n",
              "      <td id=\"T_dd819_row3_col1\" class=\"data row3 col1\" >77</td>\n",
              "    </tr>\n",
              "    <tr>\n",
              "      <th id=\"T_dd819_level0_row4\" class=\"row_heading level0 row4\" >4</th>\n",
              "      <td id=\"T_dd819_row4_col0\" class=\"data row4 col0\" >Categorical features</td>\n",
              "      <td id=\"T_dd819_row4_col1\" class=\"data row4 col1\" >5</td>\n",
              "    </tr>\n",
              "    <tr>\n",
              "      <th id=\"T_dd819_level0_row5\" class=\"row_heading level0 row5\" >5</th>\n",
              "      <td id=\"T_dd819_row5_col0\" class=\"data row5 col0\" >Rows with missing values</td>\n",
              "      <td id=\"T_dd819_row5_col1\" class=\"data row5 col1\" >48.9%</td>\n",
              "    </tr>\n",
              "    <tr>\n",
              "      <th id=\"T_dd819_level0_row6\" class=\"row_heading level0 row6\" >6</th>\n",
              "      <td id=\"T_dd819_row6_col0\" class=\"data row6 col0\" >Preprocess</td>\n",
              "      <td id=\"T_dd819_row6_col1\" class=\"data row6 col1\" >True</td>\n",
              "    </tr>\n",
              "    <tr>\n",
              "      <th id=\"T_dd819_level0_row7\" class=\"row_heading level0 row7\" >7</th>\n",
              "      <td id=\"T_dd819_row7_col0\" class=\"data row7 col0\" >Imputation type</td>\n",
              "      <td id=\"T_dd819_row7_col1\" class=\"data row7 col1\" >simple</td>\n",
              "    </tr>\n",
              "    <tr>\n",
              "      <th id=\"T_dd819_level0_row8\" class=\"row_heading level0 row8\" >8</th>\n",
              "      <td id=\"T_dd819_row8_col0\" class=\"data row8 col0\" >Numeric imputation</td>\n",
              "      <td id=\"T_dd819_row8_col1\" class=\"data row8 col1\" >mean</td>\n",
              "    </tr>\n",
              "    <tr>\n",
              "      <th id=\"T_dd819_level0_row9\" class=\"row_heading level0 row9\" >9</th>\n",
              "      <td id=\"T_dd819_row9_col0\" class=\"data row9 col0\" >Categorical imputation</td>\n",
              "      <td id=\"T_dd819_row9_col1\" class=\"data row9 col1\" >mode</td>\n",
              "    </tr>\n",
              "    <tr>\n",
              "      <th id=\"T_dd819_level0_row10\" class=\"row_heading level0 row10\" >10</th>\n",
              "      <td id=\"T_dd819_row10_col0\" class=\"data row10 col0\" >Maximum one-hot encoding</td>\n",
              "      <td id=\"T_dd819_row10_col1\" class=\"data row10 col1\" >-1</td>\n",
              "    </tr>\n",
              "    <tr>\n",
              "      <th id=\"T_dd819_level0_row11\" class=\"row_heading level0 row11\" >11</th>\n",
              "      <td id=\"T_dd819_row11_col0\" class=\"data row11 col0\" >Encoding method</td>\n",
              "      <td id=\"T_dd819_row11_col1\" class=\"data row11 col1\" >None</td>\n",
              "    </tr>\n",
              "    <tr>\n",
              "      <th id=\"T_dd819_level0_row12\" class=\"row_heading level0 row12\" >12</th>\n",
              "      <td id=\"T_dd819_row12_col0\" class=\"data row12 col0\" >CPU Jobs</td>\n",
              "      <td id=\"T_dd819_row12_col1\" class=\"data row12 col1\" >-1</td>\n",
              "    </tr>\n",
              "    <tr>\n",
              "      <th id=\"T_dd819_level0_row13\" class=\"row_heading level0 row13\" >13</th>\n",
              "      <td id=\"T_dd819_row13_col0\" class=\"data row13 col0\" >Use GPU</td>\n",
              "      <td id=\"T_dd819_row13_col1\" class=\"data row13 col1\" >False</td>\n",
              "    </tr>\n",
              "    <tr>\n",
              "      <th id=\"T_dd819_level0_row14\" class=\"row_heading level0 row14\" >14</th>\n",
              "      <td id=\"T_dd819_row14_col0\" class=\"data row14 col0\" >Log Experiment</td>\n",
              "      <td id=\"T_dd819_row14_col1\" class=\"data row14 col1\" >False</td>\n",
              "    </tr>\n",
              "    <tr>\n",
              "      <th id=\"T_dd819_level0_row15\" class=\"row_heading level0 row15\" >15</th>\n",
              "      <td id=\"T_dd819_row15_col0\" class=\"data row15 col0\" >Experiment Name</td>\n",
              "      <td id=\"T_dd819_row15_col1\" class=\"data row15 col1\" >anomaly-default-name</td>\n",
              "    </tr>\n",
              "    <tr>\n",
              "      <th id=\"T_dd819_level0_row16\" class=\"row_heading level0 row16\" >16</th>\n",
              "      <td id=\"T_dd819_row16_col0\" class=\"data row16 col0\" >USI</td>\n",
              "      <td id=\"T_dd819_row16_col1\" class=\"data row16 col1\" >9cae</td>\n",
              "    </tr>\n",
              "  </tbody>\n",
              "</table>\n"
            ],
            "text/plain": [
              "<pandas.io.formats.style.Styler at 0x35428e7a0>"
            ]
          },
          "metadata": {},
          "output_type": "display_data"
        }
      ],
      "source": [
        "# load experiment from disk\n",
        "exp_from_disk = load_experiment('my_experiment', data=data)"
      ]
    }
  ],
  "metadata": {
    "colab": {
      "provenance": []
    },
    "kernelspec": {
      "display_name": ".venv3.10 (3.10.19)",
      "language": "python",
      "name": "python3"
    },
    "language_info": {
      "codemirror_mode": {
        "name": "ipython",
        "version": 3
      },
      "file_extension": ".py",
      "mimetype": "text/x-python",
      "name": "python",
      "nbconvert_exporter": "python",
      "pygments_lexer": "ipython3",
      "version": "3.10.19"
    }
  },
  "nbformat": 4,
  "nbformat_minor": 5
}
