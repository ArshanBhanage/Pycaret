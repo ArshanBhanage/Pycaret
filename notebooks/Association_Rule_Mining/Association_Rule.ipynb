{
 "cells": [
  {
   "cell_type": "code",
   "execution_count": 1,
   "metadata": {},
   "outputs": [
    {
     "data": {
      "text/html": [
       "<div>\n",
       "<style scoped>\n",
       "    .dataframe tbody tr th:only-of-type {\n",
       "        vertical-align: middle;\n",
       "    }\n",
       "\n",
       "    .dataframe tbody tr th {\n",
       "        vertical-align: top;\n",
       "    }\n",
       "\n",
       "    .dataframe thead th {\n",
       "        text-align: right;\n",
       "    }\n",
       "</style>\n",
       "<table border=\"1\" class=\"dataframe\">\n",
       "  <thead>\n",
       "    <tr style=\"text-align: right;\">\n",
       "      <th></th>\n",
       "      <th>Dataset</th>\n",
       "      <th>Data Types</th>\n",
       "      <th>Default Task</th>\n",
       "      <th>Target Variable 1</th>\n",
       "      <th>Target Variable 2</th>\n",
       "      <th># Instances</th>\n",
       "      <th># Attributes</th>\n",
       "      <th>Missing Values</th>\n",
       "    </tr>\n",
       "  </thead>\n",
       "  <tbody>\n",
       "    <tr>\n",
       "      <th>0</th>\n",
       "      <td>anomaly</td>\n",
       "      <td>Multivariate</td>\n",
       "      <td>Anomaly Detection</td>\n",
       "      <td>NaN</td>\n",
       "      <td>NaN</td>\n",
       "      <td>1000</td>\n",
       "      <td>10</td>\n",
       "      <td>N</td>\n",
       "    </tr>\n",
       "    <tr>\n",
       "      <th>1</th>\n",
       "      <td>france</td>\n",
       "      <td>Multivariate</td>\n",
       "      <td>Association Rule Mining</td>\n",
       "      <td>InvoiceNo</td>\n",
       "      <td>Description</td>\n",
       "      <td>8557</td>\n",
       "      <td>8</td>\n",
       "      <td>N</td>\n",
       "    </tr>\n",
       "    <tr>\n",
       "      <th>2</th>\n",
       "      <td>germany</td>\n",
       "      <td>Multivariate</td>\n",
       "      <td>Association Rule Mining</td>\n",
       "      <td>InvoiceNo</td>\n",
       "      <td>Description</td>\n",
       "      <td>9495</td>\n",
       "      <td>8</td>\n",
       "      <td>N</td>\n",
       "    </tr>\n",
       "    <tr>\n",
       "      <th>3</th>\n",
       "      <td>bank</td>\n",
       "      <td>Multivariate</td>\n",
       "      <td>Classification (Binary)</td>\n",
       "      <td>deposit</td>\n",
       "      <td>NaN</td>\n",
       "      <td>45211</td>\n",
       "      <td>17</td>\n",
       "      <td>N</td>\n",
       "    </tr>\n",
       "    <tr>\n",
       "      <th>4</th>\n",
       "      <td>blood</td>\n",
       "      <td>Multivariate</td>\n",
       "      <td>Classification (Binary)</td>\n",
       "      <td>Class</td>\n",
       "      <td>NaN</td>\n",
       "      <td>748</td>\n",
       "      <td>5</td>\n",
       "      <td>N</td>\n",
       "    </tr>\n",
       "    <tr>\n",
       "      <th>5</th>\n",
       "      <td>cancer</td>\n",
       "      <td>Multivariate</td>\n",
       "      <td>Classification (Binary)</td>\n",
       "      <td>Class</td>\n",
       "      <td>NaN</td>\n",
       "      <td>683</td>\n",
       "      <td>10</td>\n",
       "      <td>N</td>\n",
       "    </tr>\n",
       "    <tr>\n",
       "      <th>6</th>\n",
       "      <td>credit</td>\n",
       "      <td>Multivariate</td>\n",
       "      <td>Classification (Binary)</td>\n",
       "      <td>default</td>\n",
       "      <td>NaN</td>\n",
       "      <td>24000</td>\n",
       "      <td>24</td>\n",
       "      <td>N</td>\n",
       "    </tr>\n",
       "    <tr>\n",
       "      <th>7</th>\n",
       "      <td>diabetes</td>\n",
       "      <td>Multivariate</td>\n",
       "      <td>Classification (Binary)</td>\n",
       "      <td>Class variable</td>\n",
       "      <td>NaN</td>\n",
       "      <td>768</td>\n",
       "      <td>9</td>\n",
       "      <td>N</td>\n",
       "    </tr>\n",
       "    <tr>\n",
       "      <th>8</th>\n",
       "      <td>electrical_grid</td>\n",
       "      <td>Multivariate</td>\n",
       "      <td>Classification (Binary)</td>\n",
       "      <td>stabf</td>\n",
       "      <td>NaN</td>\n",
       "      <td>10000</td>\n",
       "      <td>14</td>\n",
       "      <td>N</td>\n",
       "    </tr>\n",
       "    <tr>\n",
       "      <th>9</th>\n",
       "      <td>employee</td>\n",
       "      <td>Multivariate</td>\n",
       "      <td>Classification (Binary)</td>\n",
       "      <td>left</td>\n",
       "      <td>NaN</td>\n",
       "      <td>14999</td>\n",
       "      <td>10</td>\n",
       "      <td>N</td>\n",
       "    </tr>\n",
       "    <tr>\n",
       "      <th>10</th>\n",
       "      <td>heart</td>\n",
       "      <td>Multivariate</td>\n",
       "      <td>Classification (Binary)</td>\n",
       "      <td>DEATH</td>\n",
       "      <td>NaN</td>\n",
       "      <td>200</td>\n",
       "      <td>16</td>\n",
       "      <td>N</td>\n",
       "    </tr>\n",
       "    <tr>\n",
       "      <th>11</th>\n",
       "      <td>heart_disease</td>\n",
       "      <td>Multivariate</td>\n",
       "      <td>Classification (Binary)</td>\n",
       "      <td>Disease</td>\n",
       "      <td>NaN</td>\n",
       "      <td>270</td>\n",
       "      <td>14</td>\n",
       "      <td>N</td>\n",
       "    </tr>\n",
       "    <tr>\n",
       "      <th>12</th>\n",
       "      <td>hepatitis</td>\n",
       "      <td>Multivariate</td>\n",
       "      <td>Classification (Binary)</td>\n",
       "      <td>Class</td>\n",
       "      <td>NaN</td>\n",
       "      <td>154</td>\n",
       "      <td>32</td>\n",
       "      <td>Y</td>\n",
       "    </tr>\n",
       "    <tr>\n",
       "      <th>13</th>\n",
       "      <td>income</td>\n",
       "      <td>Multivariate</td>\n",
       "      <td>Classification (Binary)</td>\n",
       "      <td>income &gt;50K</td>\n",
       "      <td>NaN</td>\n",
       "      <td>32561</td>\n",
       "      <td>14</td>\n",
       "      <td>Y</td>\n",
       "    </tr>\n",
       "    <tr>\n",
       "      <th>14</th>\n",
       "      <td>juice</td>\n",
       "      <td>Multivariate</td>\n",
       "      <td>Classification (Binary)</td>\n",
       "      <td>Purchase</td>\n",
       "      <td>NaN</td>\n",
       "      <td>1070</td>\n",
       "      <td>15</td>\n",
       "      <td>N</td>\n",
       "    </tr>\n",
       "    <tr>\n",
       "      <th>15</th>\n",
       "      <td>nba</td>\n",
       "      <td>Multivariate</td>\n",
       "      <td>Classification (Binary)</td>\n",
       "      <td>TARGET_5Yrs</td>\n",
       "      <td>NaN</td>\n",
       "      <td>1340</td>\n",
       "      <td>21</td>\n",
       "      <td>N</td>\n",
       "    </tr>\n",
       "    <tr>\n",
       "      <th>16</th>\n",
       "      <td>wine</td>\n",
       "      <td>Multivariate</td>\n",
       "      <td>Classification (Binary)</td>\n",
       "      <td>type</td>\n",
       "      <td>NaN</td>\n",
       "      <td>6498</td>\n",
       "      <td>13</td>\n",
       "      <td>N</td>\n",
       "    </tr>\n",
       "    <tr>\n",
       "      <th>17</th>\n",
       "      <td>telescope</td>\n",
       "      <td>Multivariate</td>\n",
       "      <td>Classification (Binary)</td>\n",
       "      <td>Class</td>\n",
       "      <td>NaN</td>\n",
       "      <td>19020</td>\n",
       "      <td>11</td>\n",
       "      <td>N</td>\n",
       "    </tr>\n",
       "    <tr>\n",
       "      <th>18</th>\n",
       "      <td>titanic</td>\n",
       "      <td>Multivariate</td>\n",
       "      <td>Classification (Binary)</td>\n",
       "      <td>Survived</td>\n",
       "      <td>NaN</td>\n",
       "      <td>891</td>\n",
       "      <td>11</td>\n",
       "      <td>Y</td>\n",
       "    </tr>\n",
       "    <tr>\n",
       "      <th>19</th>\n",
       "      <td>us_presidential_election_results</td>\n",
       "      <td>Multivariate</td>\n",
       "      <td>Classification (Binary)</td>\n",
       "      <td>party_winner</td>\n",
       "      <td>NaN</td>\n",
       "      <td>497</td>\n",
       "      <td>7</td>\n",
       "      <td>N</td>\n",
       "    </tr>\n",
       "    <tr>\n",
       "      <th>20</th>\n",
       "      <td>glass</td>\n",
       "      <td>Multivariate</td>\n",
       "      <td>Classification (Multiclass)</td>\n",
       "      <td>Type</td>\n",
       "      <td>NaN</td>\n",
       "      <td>214</td>\n",
       "      <td>10</td>\n",
       "      <td>N</td>\n",
       "    </tr>\n",
       "    <tr>\n",
       "      <th>21</th>\n",
       "      <td>iris</td>\n",
       "      <td>Multivariate</td>\n",
       "      <td>Classification (Multiclass)</td>\n",
       "      <td>species</td>\n",
       "      <td>NaN</td>\n",
       "      <td>150</td>\n",
       "      <td>5</td>\n",
       "      <td>N</td>\n",
       "    </tr>\n",
       "    <tr>\n",
       "      <th>22</th>\n",
       "      <td>poker</td>\n",
       "      <td>Multivariate</td>\n",
       "      <td>Classification (Multiclass)</td>\n",
       "      <td>CLASS</td>\n",
       "      <td>NaN</td>\n",
       "      <td>100000</td>\n",
       "      <td>11</td>\n",
       "      <td>N</td>\n",
       "    </tr>\n",
       "    <tr>\n",
       "      <th>23</th>\n",
       "      <td>questions</td>\n",
       "      <td>Multivariate</td>\n",
       "      <td>Classification (Multiclass)</td>\n",
       "      <td>Next_Question</td>\n",
       "      <td>NaN</td>\n",
       "      <td>499</td>\n",
       "      <td>4</td>\n",
       "      <td>N</td>\n",
       "    </tr>\n",
       "    <tr>\n",
       "      <th>24</th>\n",
       "      <td>satellite</td>\n",
       "      <td>Multivariate</td>\n",
       "      <td>Classification (Multiclass)</td>\n",
       "      <td>Class</td>\n",
       "      <td>NaN</td>\n",
       "      <td>6435</td>\n",
       "      <td>37</td>\n",
       "      <td>N</td>\n",
       "    </tr>\n",
       "    <tr>\n",
       "      <th>25</th>\n",
       "      <td>CTG</td>\n",
       "      <td>Multivariate</td>\n",
       "      <td>Classification (Multiclass)</td>\n",
       "      <td>NSP</td>\n",
       "      <td>NaN</td>\n",
       "      <td>2129</td>\n",
       "      <td>40</td>\n",
       "      <td>Y</td>\n",
       "    </tr>\n",
       "    <tr>\n",
       "      <th>26</th>\n",
       "      <td>asia_gdp</td>\n",
       "      <td>Multivariate</td>\n",
       "      <td>Clustering</td>\n",
       "      <td>NaN</td>\n",
       "      <td>NaN</td>\n",
       "      <td>40</td>\n",
       "      <td>11</td>\n",
       "      <td>N</td>\n",
       "    </tr>\n",
       "    <tr>\n",
       "      <th>27</th>\n",
       "      <td>elections</td>\n",
       "      <td>Multivariate</td>\n",
       "      <td>Clustering</td>\n",
       "      <td>NaN</td>\n",
       "      <td>NaN</td>\n",
       "      <td>3195</td>\n",
       "      <td>54</td>\n",
       "      <td>Y</td>\n",
       "    </tr>\n",
       "    <tr>\n",
       "      <th>28</th>\n",
       "      <td>facebook</td>\n",
       "      <td>Multivariate</td>\n",
       "      <td>Clustering</td>\n",
       "      <td>NaN</td>\n",
       "      <td>NaN</td>\n",
       "      <td>7050</td>\n",
       "      <td>12</td>\n",
       "      <td>N</td>\n",
       "    </tr>\n",
       "    <tr>\n",
       "      <th>29</th>\n",
       "      <td>ipl</td>\n",
       "      <td>Multivariate</td>\n",
       "      <td>Clustering</td>\n",
       "      <td>NaN</td>\n",
       "      <td>NaN</td>\n",
       "      <td>153</td>\n",
       "      <td>25</td>\n",
       "      <td>N</td>\n",
       "    </tr>\n",
       "    <tr>\n",
       "      <th>30</th>\n",
       "      <td>jewellery</td>\n",
       "      <td>Multivariate</td>\n",
       "      <td>Clustering</td>\n",
       "      <td>NaN</td>\n",
       "      <td>NaN</td>\n",
       "      <td>505</td>\n",
       "      <td>4</td>\n",
       "      <td>N</td>\n",
       "    </tr>\n",
       "    <tr>\n",
       "      <th>31</th>\n",
       "      <td>mice</td>\n",
       "      <td>Multivariate</td>\n",
       "      <td>Clustering</td>\n",
       "      <td>NaN</td>\n",
       "      <td>NaN</td>\n",
       "      <td>1080</td>\n",
       "      <td>82</td>\n",
       "      <td>Y</td>\n",
       "    </tr>\n",
       "    <tr>\n",
       "      <th>32</th>\n",
       "      <td>migration</td>\n",
       "      <td>Multivariate</td>\n",
       "      <td>Clustering</td>\n",
       "      <td>NaN</td>\n",
       "      <td>NaN</td>\n",
       "      <td>233</td>\n",
       "      <td>12</td>\n",
       "      <td>N</td>\n",
       "    </tr>\n",
       "    <tr>\n",
       "      <th>33</th>\n",
       "      <td>perfume</td>\n",
       "      <td>Multivariate</td>\n",
       "      <td>Clustering</td>\n",
       "      <td>NaN</td>\n",
       "      <td>NaN</td>\n",
       "      <td>20</td>\n",
       "      <td>29</td>\n",
       "      <td>N</td>\n",
       "    </tr>\n",
       "    <tr>\n",
       "      <th>34</th>\n",
       "      <td>pokemon</td>\n",
       "      <td>Multivariate</td>\n",
       "      <td>Clustering</td>\n",
       "      <td>NaN</td>\n",
       "      <td>NaN</td>\n",
       "      <td>800</td>\n",
       "      <td>13</td>\n",
       "      <td>Y</td>\n",
       "    </tr>\n",
       "    <tr>\n",
       "      <th>35</th>\n",
       "      <td>population</td>\n",
       "      <td>Multivariate</td>\n",
       "      <td>Clustering</td>\n",
       "      <td>NaN</td>\n",
       "      <td>NaN</td>\n",
       "      <td>255</td>\n",
       "      <td>56</td>\n",
       "      <td>Y</td>\n",
       "    </tr>\n",
       "    <tr>\n",
       "      <th>36</th>\n",
       "      <td>public_health</td>\n",
       "      <td>Multivariate</td>\n",
       "      <td>Clustering</td>\n",
       "      <td>NaN</td>\n",
       "      <td>NaN</td>\n",
       "      <td>224</td>\n",
       "      <td>21</td>\n",
       "      <td>N</td>\n",
       "    </tr>\n",
       "    <tr>\n",
       "      <th>37</th>\n",
       "      <td>seeds</td>\n",
       "      <td>Multivariate</td>\n",
       "      <td>Clustering</td>\n",
       "      <td>NaN</td>\n",
       "      <td>NaN</td>\n",
       "      <td>210</td>\n",
       "      <td>7</td>\n",
       "      <td>N</td>\n",
       "    </tr>\n",
       "    <tr>\n",
       "      <th>38</th>\n",
       "      <td>wholesale</td>\n",
       "      <td>Multivariate</td>\n",
       "      <td>Clustering</td>\n",
       "      <td>NaN</td>\n",
       "      <td>NaN</td>\n",
       "      <td>440</td>\n",
       "      <td>8</td>\n",
       "      <td>N</td>\n",
       "    </tr>\n",
       "    <tr>\n",
       "      <th>39</th>\n",
       "      <td>tweets</td>\n",
       "      <td>Text</td>\n",
       "      <td>NLP</td>\n",
       "      <td>tweet</td>\n",
       "      <td>NaN</td>\n",
       "      <td>8594</td>\n",
       "      <td>2</td>\n",
       "      <td>N</td>\n",
       "    </tr>\n",
       "    <tr>\n",
       "      <th>40</th>\n",
       "      <td>amazon</td>\n",
       "      <td>Text</td>\n",
       "      <td>NLP / Classification</td>\n",
       "      <td>reviewText</td>\n",
       "      <td>NaN</td>\n",
       "      <td>20000</td>\n",
       "      <td>2</td>\n",
       "      <td>N</td>\n",
       "    </tr>\n",
       "    <tr>\n",
       "      <th>41</th>\n",
       "      <td>kiva</td>\n",
       "      <td>Text</td>\n",
       "      <td>NLP / Classification</td>\n",
       "      <td>en</td>\n",
       "      <td>NaN</td>\n",
       "      <td>6818</td>\n",
       "      <td>7</td>\n",
       "      <td>N</td>\n",
       "    </tr>\n",
       "    <tr>\n",
       "      <th>42</th>\n",
       "      <td>spx</td>\n",
       "      <td>Text</td>\n",
       "      <td>NLP / Regression</td>\n",
       "      <td>text</td>\n",
       "      <td>NaN</td>\n",
       "      <td>874</td>\n",
       "      <td>4</td>\n",
       "      <td>N</td>\n",
       "    </tr>\n",
       "    <tr>\n",
       "      <th>43</th>\n",
       "      <td>wikipedia</td>\n",
       "      <td>Text</td>\n",
       "      <td>NLP / Classification</td>\n",
       "      <td>Text</td>\n",
       "      <td>NaN</td>\n",
       "      <td>500</td>\n",
       "      <td>3</td>\n",
       "      <td>N</td>\n",
       "    </tr>\n",
       "    <tr>\n",
       "      <th>44</th>\n",
       "      <td>automobile</td>\n",
       "      <td>Multivariate</td>\n",
       "      <td>Regression</td>\n",
       "      <td>price</td>\n",
       "      <td>NaN</td>\n",
       "      <td>202</td>\n",
       "      <td>26</td>\n",
       "      <td>Y</td>\n",
       "    </tr>\n",
       "    <tr>\n",
       "      <th>45</th>\n",
       "      <td>bike</td>\n",
       "      <td>Multivariate</td>\n",
       "      <td>Regression</td>\n",
       "      <td>cnt</td>\n",
       "      <td>NaN</td>\n",
       "      <td>17379</td>\n",
       "      <td>15</td>\n",
       "      <td>N</td>\n",
       "    </tr>\n",
       "    <tr>\n",
       "      <th>46</th>\n",
       "      <td>boston</td>\n",
       "      <td>Multivariate</td>\n",
       "      <td>Regression</td>\n",
       "      <td>medv</td>\n",
       "      <td>NaN</td>\n",
       "      <td>506</td>\n",
       "      <td>14</td>\n",
       "      <td>N</td>\n",
       "    </tr>\n",
       "    <tr>\n",
       "      <th>47</th>\n",
       "      <td>concrete</td>\n",
       "      <td>Multivariate</td>\n",
       "      <td>Regression</td>\n",
       "      <td>strength</td>\n",
       "      <td>NaN</td>\n",
       "      <td>1030</td>\n",
       "      <td>9</td>\n",
       "      <td>N</td>\n",
       "    </tr>\n",
       "    <tr>\n",
       "      <th>48</th>\n",
       "      <td>diamond</td>\n",
       "      <td>Multivariate</td>\n",
       "      <td>Regression</td>\n",
       "      <td>Price</td>\n",
       "      <td>NaN</td>\n",
       "      <td>6000</td>\n",
       "      <td>8</td>\n",
       "      <td>N</td>\n",
       "    </tr>\n",
       "    <tr>\n",
       "      <th>49</th>\n",
       "      <td>energy</td>\n",
       "      <td>Multivariate</td>\n",
       "      <td>Regression</td>\n",
       "      <td>Heating Load</td>\n",
       "      <td>Cooling Load</td>\n",
       "      <td>768</td>\n",
       "      <td>10</td>\n",
       "      <td>N</td>\n",
       "    </tr>\n",
       "    <tr>\n",
       "      <th>50</th>\n",
       "      <td>forest</td>\n",
       "      <td>Multivariate</td>\n",
       "      <td>Regression</td>\n",
       "      <td>area</td>\n",
       "      <td>NaN</td>\n",
       "      <td>517</td>\n",
       "      <td>13</td>\n",
       "      <td>N</td>\n",
       "    </tr>\n",
       "    <tr>\n",
       "      <th>51</th>\n",
       "      <td>gold</td>\n",
       "      <td>Multivariate</td>\n",
       "      <td>Regression</td>\n",
       "      <td>Gold_T+22</td>\n",
       "      <td>NaN</td>\n",
       "      <td>2558</td>\n",
       "      <td>121</td>\n",
       "      <td>N</td>\n",
       "    </tr>\n",
       "    <tr>\n",
       "      <th>52</th>\n",
       "      <td>house</td>\n",
       "      <td>Multivariate</td>\n",
       "      <td>Regression</td>\n",
       "      <td>SalePrice</td>\n",
       "      <td>NaN</td>\n",
       "      <td>1461</td>\n",
       "      <td>81</td>\n",
       "      <td>Y</td>\n",
       "    </tr>\n",
       "    <tr>\n",
       "      <th>53</th>\n",
       "      <td>insurance</td>\n",
       "      <td>Multivariate</td>\n",
       "      <td>Regression</td>\n",
       "      <td>charges</td>\n",
       "      <td>NaN</td>\n",
       "      <td>1338</td>\n",
       "      <td>7</td>\n",
       "      <td>N</td>\n",
       "    </tr>\n",
       "    <tr>\n",
       "      <th>54</th>\n",
       "      <td>parkinsons</td>\n",
       "      <td>Multivariate</td>\n",
       "      <td>Regression</td>\n",
       "      <td>PPE</td>\n",
       "      <td>NaN</td>\n",
       "      <td>5875</td>\n",
       "      <td>22</td>\n",
       "      <td>N</td>\n",
       "    </tr>\n",
       "    <tr>\n",
       "      <th>55</th>\n",
       "      <td>traffic</td>\n",
       "      <td>Multivariate</td>\n",
       "      <td>Regression</td>\n",
       "      <td>traffic_volume</td>\n",
       "      <td>NaN</td>\n",
       "      <td>48204</td>\n",
       "      <td>8</td>\n",
       "      <td>N</td>\n",
       "    </tr>\n",
       "  </tbody>\n",
       "</table>\n",
       "</div>"
      ],
      "text/plain": [
       "                             Dataset    Data Types  \\\n",
       "0                            anomaly  Multivariate   \n",
       "1                             france  Multivariate   \n",
       "2                            germany  Multivariate   \n",
       "3                               bank  Multivariate   \n",
       "4                              blood  Multivariate   \n",
       "5                             cancer  Multivariate   \n",
       "6                             credit  Multivariate   \n",
       "7                           diabetes  Multivariate   \n",
       "8                    electrical_grid  Multivariate   \n",
       "9                           employee  Multivariate   \n",
       "10                             heart  Multivariate   \n",
       "11                     heart_disease  Multivariate   \n",
       "12                         hepatitis  Multivariate   \n",
       "13                            income  Multivariate   \n",
       "14                             juice  Multivariate   \n",
       "15                               nba  Multivariate   \n",
       "16                              wine  Multivariate   \n",
       "17                         telescope  Multivariate   \n",
       "18                           titanic  Multivariate   \n",
       "19  us_presidential_election_results  Multivariate   \n",
       "20                             glass  Multivariate   \n",
       "21                              iris  Multivariate   \n",
       "22                             poker  Multivariate   \n",
       "23                         questions  Multivariate   \n",
       "24                         satellite  Multivariate   \n",
       "25                               CTG  Multivariate   \n",
       "26                          asia_gdp  Multivariate   \n",
       "27                         elections  Multivariate   \n",
       "28                          facebook  Multivariate   \n",
       "29                               ipl  Multivariate   \n",
       "30                         jewellery  Multivariate   \n",
       "31                              mice  Multivariate   \n",
       "32                         migration  Multivariate   \n",
       "33                           perfume  Multivariate   \n",
       "34                           pokemon  Multivariate   \n",
       "35                        population  Multivariate   \n",
       "36                     public_health  Multivariate   \n",
       "37                             seeds  Multivariate   \n",
       "38                         wholesale  Multivariate   \n",
       "39                            tweets          Text   \n",
       "40                            amazon          Text   \n",
       "41                              kiva          Text   \n",
       "42                               spx          Text   \n",
       "43                         wikipedia          Text   \n",
       "44                        automobile  Multivariate   \n",
       "45                              bike  Multivariate   \n",
       "46                            boston  Multivariate   \n",
       "47                          concrete  Multivariate   \n",
       "48                           diamond  Multivariate   \n",
       "49                            energy  Multivariate   \n",
       "50                            forest  Multivariate   \n",
       "51                              gold  Multivariate   \n",
       "52                             house  Multivariate   \n",
       "53                         insurance  Multivariate   \n",
       "54                        parkinsons  Multivariate   \n",
       "55                           traffic  Multivariate   \n",
       "\n",
       "                   Default Task Target Variable 1 Target Variable 2  \\\n",
       "0             Anomaly Detection               NaN               NaN   \n",
       "1       Association Rule Mining         InvoiceNo       Description   \n",
       "2       Association Rule Mining         InvoiceNo       Description   \n",
       "3       Classification (Binary)           deposit               NaN   \n",
       "4       Classification (Binary)             Class               NaN   \n",
       "5       Classification (Binary)             Class               NaN   \n",
       "6       Classification (Binary)           default               NaN   \n",
       "7       Classification (Binary)    Class variable               NaN   \n",
       "8       Classification (Binary)             stabf               NaN   \n",
       "9       Classification (Binary)              left               NaN   \n",
       "10      Classification (Binary)             DEATH               NaN   \n",
       "11      Classification (Binary)           Disease               NaN   \n",
       "12      Classification (Binary)             Class               NaN   \n",
       "13      Classification (Binary)       income >50K               NaN   \n",
       "14      Classification (Binary)          Purchase               NaN   \n",
       "15      Classification (Binary)       TARGET_5Yrs               NaN   \n",
       "16      Classification (Binary)              type               NaN   \n",
       "17      Classification (Binary)             Class               NaN   \n",
       "18      Classification (Binary)          Survived               NaN   \n",
       "19      Classification (Binary)      party_winner               NaN   \n",
       "20  Classification (Multiclass)              Type               NaN   \n",
       "21  Classification (Multiclass)           species               NaN   \n",
       "22  Classification (Multiclass)             CLASS               NaN   \n",
       "23  Classification (Multiclass)     Next_Question               NaN   \n",
       "24  Classification (Multiclass)             Class               NaN   \n",
       "25  Classification (Multiclass)               NSP               NaN   \n",
       "26                   Clustering               NaN               NaN   \n",
       "27                   Clustering               NaN               NaN   \n",
       "28                   Clustering               NaN               NaN   \n",
       "29                   Clustering               NaN               NaN   \n",
       "30                   Clustering               NaN               NaN   \n",
       "31                   Clustering               NaN               NaN   \n",
       "32                   Clustering               NaN               NaN   \n",
       "33                   Clustering               NaN               NaN   \n",
       "34                   Clustering               NaN               NaN   \n",
       "35                   Clustering               NaN               NaN   \n",
       "36                   Clustering               NaN               NaN   \n",
       "37                   Clustering               NaN               NaN   \n",
       "38                   Clustering               NaN               NaN   \n",
       "39                          NLP             tweet               NaN   \n",
       "40         NLP / Classification        reviewText               NaN   \n",
       "41         NLP / Classification                en               NaN   \n",
       "42             NLP / Regression              text               NaN   \n",
       "43         NLP / Classification              Text               NaN   \n",
       "44                   Regression             price               NaN   \n",
       "45                   Regression               cnt               NaN   \n",
       "46                   Regression              medv               NaN   \n",
       "47                   Regression          strength               NaN   \n",
       "48                   Regression             Price               NaN   \n",
       "49                   Regression      Heating Load      Cooling Load   \n",
       "50                   Regression              area               NaN   \n",
       "51                   Regression         Gold_T+22               NaN   \n",
       "52                   Regression         SalePrice               NaN   \n",
       "53                   Regression           charges               NaN   \n",
       "54                   Regression               PPE               NaN   \n",
       "55                   Regression    traffic_volume               NaN   \n",
       "\n",
       "    # Instances  # Attributes Missing Values  \n",
       "0          1000            10              N  \n",
       "1          8557             8              N  \n",
       "2          9495             8              N  \n",
       "3         45211            17              N  \n",
       "4           748             5              N  \n",
       "5           683            10              N  \n",
       "6         24000            24              N  \n",
       "7           768             9              N  \n",
       "8         10000            14              N  \n",
       "9         14999            10              N  \n",
       "10          200            16              N  \n",
       "11          270            14              N  \n",
       "12          154            32              Y  \n",
       "13        32561            14              Y  \n",
       "14         1070            15              N  \n",
       "15         1340            21              N  \n",
       "16         6498            13              N  \n",
       "17        19020            11              N  \n",
       "18          891            11              Y  \n",
       "19          497             7              N  \n",
       "20          214            10              N  \n",
       "21          150             5              N  \n",
       "22       100000            11              N  \n",
       "23          499             4              N  \n",
       "24         6435            37              N  \n",
       "25         2129            40              Y  \n",
       "26           40            11              N  \n",
       "27         3195            54              Y  \n",
       "28         7050            12              N  \n",
       "29          153            25              N  \n",
       "30          505             4              N  \n",
       "31         1080            82              Y  \n",
       "32          233            12              N  \n",
       "33           20            29              N  \n",
       "34          800            13              Y  \n",
       "35          255            56              Y  \n",
       "36          224            21              N  \n",
       "37          210             7              N  \n",
       "38          440             8              N  \n",
       "39         8594             2              N  \n",
       "40        20000             2              N  \n",
       "41         6818             7              N  \n",
       "42          874             4              N  \n",
       "43          500             3              N  \n",
       "44          202            26              Y  \n",
       "45        17379            15              N  \n",
       "46          506            14              N  \n",
       "47         1030             9              N  \n",
       "48         6000             8              N  \n",
       "49          768            10              N  \n",
       "50          517            13              N  \n",
       "51         2558           121              N  \n",
       "52         1461            81              Y  \n",
       "53         1338             7              N  \n",
       "54         5875            22              N  \n",
       "55        48204             8              N  "
      ]
     },
     "metadata": {},
     "output_type": "display_data"
    },
    {
     "data": {
      "text/html": [
       "<div>\n",
       "<style scoped>\n",
       "    .dataframe tbody tr th:only-of-type {\n",
       "        vertical-align: middle;\n",
       "    }\n",
       "\n",
       "    .dataframe tbody tr th {\n",
       "        vertical-align: top;\n",
       "    }\n",
       "\n",
       "    .dataframe thead th {\n",
       "        text-align: right;\n",
       "    }\n",
       "</style>\n",
       "<table border=\"1\" class=\"dataframe\">\n",
       "  <thead>\n",
       "    <tr style=\"text-align: right;\">\n",
       "      <th></th>\n",
       "      <th>Dataset</th>\n",
       "      <th>Data Types</th>\n",
       "      <th>Default Task</th>\n",
       "      <th>Target Variable 1</th>\n",
       "      <th>Target Variable 2</th>\n",
       "      <th># Instances</th>\n",
       "      <th># Attributes</th>\n",
       "      <th>Missing Values</th>\n",
       "    </tr>\n",
       "  </thead>\n",
       "  <tbody>\n",
       "    <tr>\n",
       "      <th>0</th>\n",
       "      <td>anomaly</td>\n",
       "      <td>Multivariate</td>\n",
       "      <td>Anomaly Detection</td>\n",
       "      <td>NaN</td>\n",
       "      <td>NaN</td>\n",
       "      <td>1000</td>\n",
       "      <td>10</td>\n",
       "      <td>N</td>\n",
       "    </tr>\n",
       "    <tr>\n",
       "      <th>1</th>\n",
       "      <td>france</td>\n",
       "      <td>Multivariate</td>\n",
       "      <td>Association Rule Mining</td>\n",
       "      <td>InvoiceNo</td>\n",
       "      <td>Description</td>\n",
       "      <td>8557</td>\n",
       "      <td>8</td>\n",
       "      <td>N</td>\n",
       "    </tr>\n",
       "    <tr>\n",
       "      <th>2</th>\n",
       "      <td>germany</td>\n",
       "      <td>Multivariate</td>\n",
       "      <td>Association Rule Mining</td>\n",
       "      <td>InvoiceNo</td>\n",
       "      <td>Description</td>\n",
       "      <td>9495</td>\n",
       "      <td>8</td>\n",
       "      <td>N</td>\n",
       "    </tr>\n",
       "    <tr>\n",
       "      <th>3</th>\n",
       "      <td>bank</td>\n",
       "      <td>Multivariate</td>\n",
       "      <td>Classification (Binary)</td>\n",
       "      <td>deposit</td>\n",
       "      <td>NaN</td>\n",
       "      <td>45211</td>\n",
       "      <td>17</td>\n",
       "      <td>N</td>\n",
       "    </tr>\n",
       "    <tr>\n",
       "      <th>4</th>\n",
       "      <td>blood</td>\n",
       "      <td>Multivariate</td>\n",
       "      <td>Classification (Binary)</td>\n",
       "      <td>Class</td>\n",
       "      <td>NaN</td>\n",
       "      <td>748</td>\n",
       "      <td>5</td>\n",
       "      <td>N</td>\n",
       "    </tr>\n",
       "    <tr>\n",
       "      <th>5</th>\n",
       "      <td>cancer</td>\n",
       "      <td>Multivariate</td>\n",
       "      <td>Classification (Binary)</td>\n",
       "      <td>Class</td>\n",
       "      <td>NaN</td>\n",
       "      <td>683</td>\n",
       "      <td>10</td>\n",
       "      <td>N</td>\n",
       "    </tr>\n",
       "    <tr>\n",
       "      <th>6</th>\n",
       "      <td>credit</td>\n",
       "      <td>Multivariate</td>\n",
       "      <td>Classification (Binary)</td>\n",
       "      <td>default</td>\n",
       "      <td>NaN</td>\n",
       "      <td>24000</td>\n",
       "      <td>24</td>\n",
       "      <td>N</td>\n",
       "    </tr>\n",
       "    <tr>\n",
       "      <th>7</th>\n",
       "      <td>diabetes</td>\n",
       "      <td>Multivariate</td>\n",
       "      <td>Classification (Binary)</td>\n",
       "      <td>Class variable</td>\n",
       "      <td>NaN</td>\n",
       "      <td>768</td>\n",
       "      <td>9</td>\n",
       "      <td>N</td>\n",
       "    </tr>\n",
       "    <tr>\n",
       "      <th>8</th>\n",
       "      <td>electrical_grid</td>\n",
       "      <td>Multivariate</td>\n",
       "      <td>Classification (Binary)</td>\n",
       "      <td>stabf</td>\n",
       "      <td>NaN</td>\n",
       "      <td>10000</td>\n",
       "      <td>14</td>\n",
       "      <td>N</td>\n",
       "    </tr>\n",
       "    <tr>\n",
       "      <th>9</th>\n",
       "      <td>employee</td>\n",
       "      <td>Multivariate</td>\n",
       "      <td>Classification (Binary)</td>\n",
       "      <td>left</td>\n",
       "      <td>NaN</td>\n",
       "      <td>14999</td>\n",
       "      <td>10</td>\n",
       "      <td>N</td>\n",
       "    </tr>\n",
       "    <tr>\n",
       "      <th>10</th>\n",
       "      <td>heart</td>\n",
       "      <td>Multivariate</td>\n",
       "      <td>Classification (Binary)</td>\n",
       "      <td>DEATH</td>\n",
       "      <td>NaN</td>\n",
       "      <td>200</td>\n",
       "      <td>16</td>\n",
       "      <td>N</td>\n",
       "    </tr>\n",
       "    <tr>\n",
       "      <th>11</th>\n",
       "      <td>heart_disease</td>\n",
       "      <td>Multivariate</td>\n",
       "      <td>Classification (Binary)</td>\n",
       "      <td>Disease</td>\n",
       "      <td>NaN</td>\n",
       "      <td>270</td>\n",
       "      <td>14</td>\n",
       "      <td>N</td>\n",
       "    </tr>\n",
       "    <tr>\n",
       "      <th>12</th>\n",
       "      <td>hepatitis</td>\n",
       "      <td>Multivariate</td>\n",
       "      <td>Classification (Binary)</td>\n",
       "      <td>Class</td>\n",
       "      <td>NaN</td>\n",
       "      <td>154</td>\n",
       "      <td>32</td>\n",
       "      <td>Y</td>\n",
       "    </tr>\n",
       "    <tr>\n",
       "      <th>13</th>\n",
       "      <td>income</td>\n",
       "      <td>Multivariate</td>\n",
       "      <td>Classification (Binary)</td>\n",
       "      <td>income &gt;50K</td>\n",
       "      <td>NaN</td>\n",
       "      <td>32561</td>\n",
       "      <td>14</td>\n",
       "      <td>Y</td>\n",
       "    </tr>\n",
       "    <tr>\n",
       "      <th>14</th>\n",
       "      <td>juice</td>\n",
       "      <td>Multivariate</td>\n",
       "      <td>Classification (Binary)</td>\n",
       "      <td>Purchase</td>\n",
       "      <td>NaN</td>\n",
       "      <td>1070</td>\n",
       "      <td>15</td>\n",
       "      <td>N</td>\n",
       "    </tr>\n",
       "    <tr>\n",
       "      <th>15</th>\n",
       "      <td>nba</td>\n",
       "      <td>Multivariate</td>\n",
       "      <td>Classification (Binary)</td>\n",
       "      <td>TARGET_5Yrs</td>\n",
       "      <td>NaN</td>\n",
       "      <td>1340</td>\n",
       "      <td>21</td>\n",
       "      <td>N</td>\n",
       "    </tr>\n",
       "    <tr>\n",
       "      <th>16</th>\n",
       "      <td>wine</td>\n",
       "      <td>Multivariate</td>\n",
       "      <td>Classification (Binary)</td>\n",
       "      <td>type</td>\n",
       "      <td>NaN</td>\n",
       "      <td>6498</td>\n",
       "      <td>13</td>\n",
       "      <td>N</td>\n",
       "    </tr>\n",
       "    <tr>\n",
       "      <th>17</th>\n",
       "      <td>telescope</td>\n",
       "      <td>Multivariate</td>\n",
       "      <td>Classification (Binary)</td>\n",
       "      <td>Class</td>\n",
       "      <td>NaN</td>\n",
       "      <td>19020</td>\n",
       "      <td>11</td>\n",
       "      <td>N</td>\n",
       "    </tr>\n",
       "    <tr>\n",
       "      <th>18</th>\n",
       "      <td>titanic</td>\n",
       "      <td>Multivariate</td>\n",
       "      <td>Classification (Binary)</td>\n",
       "      <td>Survived</td>\n",
       "      <td>NaN</td>\n",
       "      <td>891</td>\n",
       "      <td>11</td>\n",
       "      <td>Y</td>\n",
       "    </tr>\n",
       "    <tr>\n",
       "      <th>19</th>\n",
       "      <td>us_presidential_election_results</td>\n",
       "      <td>Multivariate</td>\n",
       "      <td>Classification (Binary)</td>\n",
       "      <td>party_winner</td>\n",
       "      <td>NaN</td>\n",
       "      <td>497</td>\n",
       "      <td>7</td>\n",
       "      <td>N</td>\n",
       "    </tr>\n",
       "    <tr>\n",
       "      <th>20</th>\n",
       "      <td>glass</td>\n",
       "      <td>Multivariate</td>\n",
       "      <td>Classification (Multiclass)</td>\n",
       "      <td>Type</td>\n",
       "      <td>NaN</td>\n",
       "      <td>214</td>\n",
       "      <td>10</td>\n",
       "      <td>N</td>\n",
       "    </tr>\n",
       "    <tr>\n",
       "      <th>21</th>\n",
       "      <td>iris</td>\n",
       "      <td>Multivariate</td>\n",
       "      <td>Classification (Multiclass)</td>\n",
       "      <td>species</td>\n",
       "      <td>NaN</td>\n",
       "      <td>150</td>\n",
       "      <td>5</td>\n",
       "      <td>N</td>\n",
       "    </tr>\n",
       "    <tr>\n",
       "      <th>22</th>\n",
       "      <td>poker</td>\n",
       "      <td>Multivariate</td>\n",
       "      <td>Classification (Multiclass)</td>\n",
       "      <td>CLASS</td>\n",
       "      <td>NaN</td>\n",
       "      <td>100000</td>\n",
       "      <td>11</td>\n",
       "      <td>N</td>\n",
       "    </tr>\n",
       "    <tr>\n",
       "      <th>23</th>\n",
       "      <td>questions</td>\n",
       "      <td>Multivariate</td>\n",
       "      <td>Classification (Multiclass)</td>\n",
       "      <td>Next_Question</td>\n",
       "      <td>NaN</td>\n",
       "      <td>499</td>\n",
       "      <td>4</td>\n",
       "      <td>N</td>\n",
       "    </tr>\n",
       "    <tr>\n",
       "      <th>24</th>\n",
       "      <td>satellite</td>\n",
       "      <td>Multivariate</td>\n",
       "      <td>Classification (Multiclass)</td>\n",
       "      <td>Class</td>\n",
       "      <td>NaN</td>\n",
       "      <td>6435</td>\n",
       "      <td>37</td>\n",
       "      <td>N</td>\n",
       "    </tr>\n",
       "    <tr>\n",
       "      <th>25</th>\n",
       "      <td>CTG</td>\n",
       "      <td>Multivariate</td>\n",
       "      <td>Classification (Multiclass)</td>\n",
       "      <td>NSP</td>\n",
       "      <td>NaN</td>\n",
       "      <td>2129</td>\n",
       "      <td>40</td>\n",
       "      <td>Y</td>\n",
       "    </tr>\n",
       "    <tr>\n",
       "      <th>26</th>\n",
       "      <td>asia_gdp</td>\n",
       "      <td>Multivariate</td>\n",
       "      <td>Clustering</td>\n",
       "      <td>NaN</td>\n",
       "      <td>NaN</td>\n",
       "      <td>40</td>\n",
       "      <td>11</td>\n",
       "      <td>N</td>\n",
       "    </tr>\n",
       "    <tr>\n",
       "      <th>27</th>\n",
       "      <td>elections</td>\n",
       "      <td>Multivariate</td>\n",
       "      <td>Clustering</td>\n",
       "      <td>NaN</td>\n",
       "      <td>NaN</td>\n",
       "      <td>3195</td>\n",
       "      <td>54</td>\n",
       "      <td>Y</td>\n",
       "    </tr>\n",
       "    <tr>\n",
       "      <th>28</th>\n",
       "      <td>facebook</td>\n",
       "      <td>Multivariate</td>\n",
       "      <td>Clustering</td>\n",
       "      <td>NaN</td>\n",
       "      <td>NaN</td>\n",
       "      <td>7050</td>\n",
       "      <td>12</td>\n",
       "      <td>N</td>\n",
       "    </tr>\n",
       "    <tr>\n",
       "      <th>29</th>\n",
       "      <td>ipl</td>\n",
       "      <td>Multivariate</td>\n",
       "      <td>Clustering</td>\n",
       "      <td>NaN</td>\n",
       "      <td>NaN</td>\n",
       "      <td>153</td>\n",
       "      <td>25</td>\n",
       "      <td>N</td>\n",
       "    </tr>\n",
       "    <tr>\n",
       "      <th>30</th>\n",
       "      <td>jewellery</td>\n",
       "      <td>Multivariate</td>\n",
       "      <td>Clustering</td>\n",
       "      <td>NaN</td>\n",
       "      <td>NaN</td>\n",
       "      <td>505</td>\n",
       "      <td>4</td>\n",
       "      <td>N</td>\n",
       "    </tr>\n",
       "    <tr>\n",
       "      <th>31</th>\n",
       "      <td>mice</td>\n",
       "      <td>Multivariate</td>\n",
       "      <td>Clustering</td>\n",
       "      <td>NaN</td>\n",
       "      <td>NaN</td>\n",
       "      <td>1080</td>\n",
       "      <td>82</td>\n",
       "      <td>Y</td>\n",
       "    </tr>\n",
       "    <tr>\n",
       "      <th>32</th>\n",
       "      <td>migration</td>\n",
       "      <td>Multivariate</td>\n",
       "      <td>Clustering</td>\n",
       "      <td>NaN</td>\n",
       "      <td>NaN</td>\n",
       "      <td>233</td>\n",
       "      <td>12</td>\n",
       "      <td>N</td>\n",
       "    </tr>\n",
       "    <tr>\n",
       "      <th>33</th>\n",
       "      <td>perfume</td>\n",
       "      <td>Multivariate</td>\n",
       "      <td>Clustering</td>\n",
       "      <td>NaN</td>\n",
       "      <td>NaN</td>\n",
       "      <td>20</td>\n",
       "      <td>29</td>\n",
       "      <td>N</td>\n",
       "    </tr>\n",
       "    <tr>\n",
       "      <th>34</th>\n",
       "      <td>pokemon</td>\n",
       "      <td>Multivariate</td>\n",
       "      <td>Clustering</td>\n",
       "      <td>NaN</td>\n",
       "      <td>NaN</td>\n",
       "      <td>800</td>\n",
       "      <td>13</td>\n",
       "      <td>Y</td>\n",
       "    </tr>\n",
       "    <tr>\n",
       "      <th>35</th>\n",
       "      <td>population</td>\n",
       "      <td>Multivariate</td>\n",
       "      <td>Clustering</td>\n",
       "      <td>NaN</td>\n",
       "      <td>NaN</td>\n",
       "      <td>255</td>\n",
       "      <td>56</td>\n",
       "      <td>Y</td>\n",
       "    </tr>\n",
       "    <tr>\n",
       "      <th>36</th>\n",
       "      <td>public_health</td>\n",
       "      <td>Multivariate</td>\n",
       "      <td>Clustering</td>\n",
       "      <td>NaN</td>\n",
       "      <td>NaN</td>\n",
       "      <td>224</td>\n",
       "      <td>21</td>\n",
       "      <td>N</td>\n",
       "    </tr>\n",
       "    <tr>\n",
       "      <th>37</th>\n",
       "      <td>seeds</td>\n",
       "      <td>Multivariate</td>\n",
       "      <td>Clustering</td>\n",
       "      <td>NaN</td>\n",
       "      <td>NaN</td>\n",
       "      <td>210</td>\n",
       "      <td>7</td>\n",
       "      <td>N</td>\n",
       "    </tr>\n",
       "    <tr>\n",
       "      <th>38</th>\n",
       "      <td>wholesale</td>\n",
       "      <td>Multivariate</td>\n",
       "      <td>Clustering</td>\n",
       "      <td>NaN</td>\n",
       "      <td>NaN</td>\n",
       "      <td>440</td>\n",
       "      <td>8</td>\n",
       "      <td>N</td>\n",
       "    </tr>\n",
       "    <tr>\n",
       "      <th>39</th>\n",
       "      <td>tweets</td>\n",
       "      <td>Text</td>\n",
       "      <td>NLP</td>\n",
       "      <td>tweet</td>\n",
       "      <td>NaN</td>\n",
       "      <td>8594</td>\n",
       "      <td>2</td>\n",
       "      <td>N</td>\n",
       "    </tr>\n",
       "    <tr>\n",
       "      <th>40</th>\n",
       "      <td>amazon</td>\n",
       "      <td>Text</td>\n",
       "      <td>NLP / Classification</td>\n",
       "      <td>reviewText</td>\n",
       "      <td>NaN</td>\n",
       "      <td>20000</td>\n",
       "      <td>2</td>\n",
       "      <td>N</td>\n",
       "    </tr>\n",
       "    <tr>\n",
       "      <th>41</th>\n",
       "      <td>kiva</td>\n",
       "      <td>Text</td>\n",
       "      <td>NLP / Classification</td>\n",
       "      <td>en</td>\n",
       "      <td>NaN</td>\n",
       "      <td>6818</td>\n",
       "      <td>7</td>\n",
       "      <td>N</td>\n",
       "    </tr>\n",
       "    <tr>\n",
       "      <th>42</th>\n",
       "      <td>spx</td>\n",
       "      <td>Text</td>\n",
       "      <td>NLP / Regression</td>\n",
       "      <td>text</td>\n",
       "      <td>NaN</td>\n",
       "      <td>874</td>\n",
       "      <td>4</td>\n",
       "      <td>N</td>\n",
       "    </tr>\n",
       "    <tr>\n",
       "      <th>43</th>\n",
       "      <td>wikipedia</td>\n",
       "      <td>Text</td>\n",
       "      <td>NLP / Classification</td>\n",
       "      <td>Text</td>\n",
       "      <td>NaN</td>\n",
       "      <td>500</td>\n",
       "      <td>3</td>\n",
       "      <td>N</td>\n",
       "    </tr>\n",
       "    <tr>\n",
       "      <th>44</th>\n",
       "      <td>automobile</td>\n",
       "      <td>Multivariate</td>\n",
       "      <td>Regression</td>\n",
       "      <td>price</td>\n",
       "      <td>NaN</td>\n",
       "      <td>202</td>\n",
       "      <td>26</td>\n",
       "      <td>Y</td>\n",
       "    </tr>\n",
       "    <tr>\n",
       "      <th>45</th>\n",
       "      <td>bike</td>\n",
       "      <td>Multivariate</td>\n",
       "      <td>Regression</td>\n",
       "      <td>cnt</td>\n",
       "      <td>NaN</td>\n",
       "      <td>17379</td>\n",
       "      <td>15</td>\n",
       "      <td>N</td>\n",
       "    </tr>\n",
       "    <tr>\n",
       "      <th>46</th>\n",
       "      <td>boston</td>\n",
       "      <td>Multivariate</td>\n",
       "      <td>Regression</td>\n",
       "      <td>medv</td>\n",
       "      <td>NaN</td>\n",
       "      <td>506</td>\n",
       "      <td>14</td>\n",
       "      <td>N</td>\n",
       "    </tr>\n",
       "    <tr>\n",
       "      <th>47</th>\n",
       "      <td>concrete</td>\n",
       "      <td>Multivariate</td>\n",
       "      <td>Regression</td>\n",
       "      <td>strength</td>\n",
       "      <td>NaN</td>\n",
       "      <td>1030</td>\n",
       "      <td>9</td>\n",
       "      <td>N</td>\n",
       "    </tr>\n",
       "    <tr>\n",
       "      <th>48</th>\n",
       "      <td>diamond</td>\n",
       "      <td>Multivariate</td>\n",
       "      <td>Regression</td>\n",
       "      <td>Price</td>\n",
       "      <td>NaN</td>\n",
       "      <td>6000</td>\n",
       "      <td>8</td>\n",
       "      <td>N</td>\n",
       "    </tr>\n",
       "    <tr>\n",
       "      <th>49</th>\n",
       "      <td>energy</td>\n",
       "      <td>Multivariate</td>\n",
       "      <td>Regression</td>\n",
       "      <td>Heating Load</td>\n",
       "      <td>Cooling Load</td>\n",
       "      <td>768</td>\n",
       "      <td>10</td>\n",
       "      <td>N</td>\n",
       "    </tr>\n",
       "    <tr>\n",
       "      <th>50</th>\n",
       "      <td>forest</td>\n",
       "      <td>Multivariate</td>\n",
       "      <td>Regression</td>\n",
       "      <td>area</td>\n",
       "      <td>NaN</td>\n",
       "      <td>517</td>\n",
       "      <td>13</td>\n",
       "      <td>N</td>\n",
       "    </tr>\n",
       "    <tr>\n",
       "      <th>51</th>\n",
       "      <td>gold</td>\n",
       "      <td>Multivariate</td>\n",
       "      <td>Regression</td>\n",
       "      <td>Gold_T+22</td>\n",
       "      <td>NaN</td>\n",
       "      <td>2558</td>\n",
       "      <td>121</td>\n",
       "      <td>N</td>\n",
       "    </tr>\n",
       "    <tr>\n",
       "      <th>52</th>\n",
       "      <td>house</td>\n",
       "      <td>Multivariate</td>\n",
       "      <td>Regression</td>\n",
       "      <td>SalePrice</td>\n",
       "      <td>NaN</td>\n",
       "      <td>1461</td>\n",
       "      <td>81</td>\n",
       "      <td>Y</td>\n",
       "    </tr>\n",
       "    <tr>\n",
       "      <th>53</th>\n",
       "      <td>insurance</td>\n",
       "      <td>Multivariate</td>\n",
       "      <td>Regression</td>\n",
       "      <td>charges</td>\n",
       "      <td>NaN</td>\n",
       "      <td>1338</td>\n",
       "      <td>7</td>\n",
       "      <td>N</td>\n",
       "    </tr>\n",
       "    <tr>\n",
       "      <th>54</th>\n",
       "      <td>parkinsons</td>\n",
       "      <td>Multivariate</td>\n",
       "      <td>Regression</td>\n",
       "      <td>PPE</td>\n",
       "      <td>NaN</td>\n",
       "      <td>5875</td>\n",
       "      <td>22</td>\n",
       "      <td>N</td>\n",
       "    </tr>\n",
       "    <tr>\n",
       "      <th>55</th>\n",
       "      <td>traffic</td>\n",
       "      <td>Multivariate</td>\n",
       "      <td>Regression</td>\n",
       "      <td>traffic_volume</td>\n",
       "      <td>NaN</td>\n",
       "      <td>48204</td>\n",
       "      <td>8</td>\n",
       "      <td>N</td>\n",
       "    </tr>\n",
       "  </tbody>\n",
       "</table>\n",
       "</div>"
      ],
      "text/plain": [
       "                             Dataset    Data Types  \\\n",
       "0                            anomaly  Multivariate   \n",
       "1                             france  Multivariate   \n",
       "2                            germany  Multivariate   \n",
       "3                               bank  Multivariate   \n",
       "4                              blood  Multivariate   \n",
       "5                             cancer  Multivariate   \n",
       "6                             credit  Multivariate   \n",
       "7                           diabetes  Multivariate   \n",
       "8                    electrical_grid  Multivariate   \n",
       "9                           employee  Multivariate   \n",
       "10                             heart  Multivariate   \n",
       "11                     heart_disease  Multivariate   \n",
       "12                         hepatitis  Multivariate   \n",
       "13                            income  Multivariate   \n",
       "14                             juice  Multivariate   \n",
       "15                               nba  Multivariate   \n",
       "16                              wine  Multivariate   \n",
       "17                         telescope  Multivariate   \n",
       "18                           titanic  Multivariate   \n",
       "19  us_presidential_election_results  Multivariate   \n",
       "20                             glass  Multivariate   \n",
       "21                              iris  Multivariate   \n",
       "22                             poker  Multivariate   \n",
       "23                         questions  Multivariate   \n",
       "24                         satellite  Multivariate   \n",
       "25                               CTG  Multivariate   \n",
       "26                          asia_gdp  Multivariate   \n",
       "27                         elections  Multivariate   \n",
       "28                          facebook  Multivariate   \n",
       "29                               ipl  Multivariate   \n",
       "30                         jewellery  Multivariate   \n",
       "31                              mice  Multivariate   \n",
       "32                         migration  Multivariate   \n",
       "33                           perfume  Multivariate   \n",
       "34                           pokemon  Multivariate   \n",
       "35                        population  Multivariate   \n",
       "36                     public_health  Multivariate   \n",
       "37                             seeds  Multivariate   \n",
       "38                         wholesale  Multivariate   \n",
       "39                            tweets          Text   \n",
       "40                            amazon          Text   \n",
       "41                              kiva          Text   \n",
       "42                               spx          Text   \n",
       "43                         wikipedia          Text   \n",
       "44                        automobile  Multivariate   \n",
       "45                              bike  Multivariate   \n",
       "46                            boston  Multivariate   \n",
       "47                          concrete  Multivariate   \n",
       "48                           diamond  Multivariate   \n",
       "49                            energy  Multivariate   \n",
       "50                            forest  Multivariate   \n",
       "51                              gold  Multivariate   \n",
       "52                             house  Multivariate   \n",
       "53                         insurance  Multivariate   \n",
       "54                        parkinsons  Multivariate   \n",
       "55                           traffic  Multivariate   \n",
       "\n",
       "                   Default Task Target Variable 1 Target Variable 2  \\\n",
       "0             Anomaly Detection               NaN               NaN   \n",
       "1       Association Rule Mining         InvoiceNo       Description   \n",
       "2       Association Rule Mining         InvoiceNo       Description   \n",
       "3       Classification (Binary)           deposit               NaN   \n",
       "4       Classification (Binary)             Class               NaN   \n",
       "5       Classification (Binary)             Class               NaN   \n",
       "6       Classification (Binary)           default               NaN   \n",
       "7       Classification (Binary)    Class variable               NaN   \n",
       "8       Classification (Binary)             stabf               NaN   \n",
       "9       Classification (Binary)              left               NaN   \n",
       "10      Classification (Binary)             DEATH               NaN   \n",
       "11      Classification (Binary)           Disease               NaN   \n",
       "12      Classification (Binary)             Class               NaN   \n",
       "13      Classification (Binary)       income >50K               NaN   \n",
       "14      Classification (Binary)          Purchase               NaN   \n",
       "15      Classification (Binary)       TARGET_5Yrs               NaN   \n",
       "16      Classification (Binary)              type               NaN   \n",
       "17      Classification (Binary)             Class               NaN   \n",
       "18      Classification (Binary)          Survived               NaN   \n",
       "19      Classification (Binary)      party_winner               NaN   \n",
       "20  Classification (Multiclass)              Type               NaN   \n",
       "21  Classification (Multiclass)           species               NaN   \n",
       "22  Classification (Multiclass)             CLASS               NaN   \n",
       "23  Classification (Multiclass)     Next_Question               NaN   \n",
       "24  Classification (Multiclass)             Class               NaN   \n",
       "25  Classification (Multiclass)               NSP               NaN   \n",
       "26                   Clustering               NaN               NaN   \n",
       "27                   Clustering               NaN               NaN   \n",
       "28                   Clustering               NaN               NaN   \n",
       "29                   Clustering               NaN               NaN   \n",
       "30                   Clustering               NaN               NaN   \n",
       "31                   Clustering               NaN               NaN   \n",
       "32                   Clustering               NaN               NaN   \n",
       "33                   Clustering               NaN               NaN   \n",
       "34                   Clustering               NaN               NaN   \n",
       "35                   Clustering               NaN               NaN   \n",
       "36                   Clustering               NaN               NaN   \n",
       "37                   Clustering               NaN               NaN   \n",
       "38                   Clustering               NaN               NaN   \n",
       "39                          NLP             tweet               NaN   \n",
       "40         NLP / Classification        reviewText               NaN   \n",
       "41         NLP / Classification                en               NaN   \n",
       "42             NLP / Regression              text               NaN   \n",
       "43         NLP / Classification              Text               NaN   \n",
       "44                   Regression             price               NaN   \n",
       "45                   Regression               cnt               NaN   \n",
       "46                   Regression              medv               NaN   \n",
       "47                   Regression          strength               NaN   \n",
       "48                   Regression             Price               NaN   \n",
       "49                   Regression      Heating Load      Cooling Load   \n",
       "50                   Regression              area               NaN   \n",
       "51                   Regression         Gold_T+22               NaN   \n",
       "52                   Regression         SalePrice               NaN   \n",
       "53                   Regression           charges               NaN   \n",
       "54                   Regression               PPE               NaN   \n",
       "55                   Regression    traffic_volume               NaN   \n",
       "\n",
       "    # Instances  # Attributes Missing Values  \n",
       "0          1000            10              N  \n",
       "1          8557             8              N  \n",
       "2          9495             8              N  \n",
       "3         45211            17              N  \n",
       "4           748             5              N  \n",
       "5           683            10              N  \n",
       "6         24000            24              N  \n",
       "7           768             9              N  \n",
       "8         10000            14              N  \n",
       "9         14999            10              N  \n",
       "10          200            16              N  \n",
       "11          270            14              N  \n",
       "12          154            32              Y  \n",
       "13        32561            14              Y  \n",
       "14         1070            15              N  \n",
       "15         1340            21              N  \n",
       "16         6498            13              N  \n",
       "17        19020            11              N  \n",
       "18          891            11              Y  \n",
       "19          497             7              N  \n",
       "20          214            10              N  \n",
       "21          150             5              N  \n",
       "22       100000            11              N  \n",
       "23          499             4              N  \n",
       "24         6435            37              N  \n",
       "25         2129            40              Y  \n",
       "26           40            11              N  \n",
       "27         3195            54              Y  \n",
       "28         7050            12              N  \n",
       "29          153            25              N  \n",
       "30          505             4              N  \n",
       "31         1080            82              Y  \n",
       "32          233            12              N  \n",
       "33           20            29              N  \n",
       "34          800            13              Y  \n",
       "35          255            56              Y  \n",
       "36          224            21              N  \n",
       "37          210             7              N  \n",
       "38          440             8              N  \n",
       "39         8594             2              N  \n",
       "40        20000             2              N  \n",
       "41         6818             7              N  \n",
       "42          874             4              N  \n",
       "43          500             3              N  \n",
       "44          202            26              Y  \n",
       "45        17379            15              N  \n",
       "46          506            14              N  \n",
       "47         1030             9              N  \n",
       "48         6000             8              N  \n",
       "49          768            10              N  \n",
       "50          517            13              N  \n",
       "51         2558           121              N  \n",
       "52         1461            81              Y  \n",
       "53         1338             7              N  \n",
       "54         5875            22              N  \n",
       "55        48204             8              N  "
      ]
     },
     "execution_count": 1,
     "metadata": {},
     "output_type": "execute_result"
    }
   ],
   "source": [
    "from pycaret.datasets import get_data\n",
    "get_data('index')"
   ]
  },
  {
   "cell_type": "code",
   "execution_count": 2,
   "metadata": {},
   "outputs": [
    {
     "data": {
      "text/html": [
       "<div>\n",
       "<style scoped>\n",
       "    .dataframe tbody tr th:only-of-type {\n",
       "        vertical-align: middle;\n",
       "    }\n",
       "\n",
       "    .dataframe tbody tr th {\n",
       "        vertical-align: top;\n",
       "    }\n",
       "\n",
       "    .dataframe thead th {\n",
       "        text-align: right;\n",
       "    }\n",
       "</style>\n",
       "<table border=\"1\" class=\"dataframe\">\n",
       "  <thead>\n",
       "    <tr style=\"text-align: right;\">\n",
       "      <th></th>\n",
       "      <th>InvoiceNo</th>\n",
       "      <th>StockCode</th>\n",
       "      <th>Description</th>\n",
       "      <th>Quantity</th>\n",
       "      <th>InvoiceDate</th>\n",
       "      <th>UnitPrice</th>\n",
       "      <th>CustomerID</th>\n",
       "      <th>Country</th>\n",
       "    </tr>\n",
       "  </thead>\n",
       "  <tbody>\n",
       "    <tr>\n",
       "      <th>0</th>\n",
       "      <td>536527</td>\n",
       "      <td>22809</td>\n",
       "      <td>SET OF 6 T-LIGHTS SANTA</td>\n",
       "      <td>6</td>\n",
       "      <td>12/1/2010 13:04</td>\n",
       "      <td>2.95</td>\n",
       "      <td>12662</td>\n",
       "      <td>Germany</td>\n",
       "    </tr>\n",
       "    <tr>\n",
       "      <th>1</th>\n",
       "      <td>536527</td>\n",
       "      <td>84347</td>\n",
       "      <td>ROTATING SILVER ANGELS T-LIGHT HLDR</td>\n",
       "      <td>6</td>\n",
       "      <td>12/1/2010 13:04</td>\n",
       "      <td>2.55</td>\n",
       "      <td>12662</td>\n",
       "      <td>Germany</td>\n",
       "    </tr>\n",
       "    <tr>\n",
       "      <th>2</th>\n",
       "      <td>536527</td>\n",
       "      <td>84945</td>\n",
       "      <td>MULTI COLOUR SILVER T-LIGHT HOLDER</td>\n",
       "      <td>12</td>\n",
       "      <td>12/1/2010 13:04</td>\n",
       "      <td>0.85</td>\n",
       "      <td>12662</td>\n",
       "      <td>Germany</td>\n",
       "    </tr>\n",
       "    <tr>\n",
       "      <th>3</th>\n",
       "      <td>536527</td>\n",
       "      <td>22242</td>\n",
       "      <td>5 HOOK HANGER MAGIC TOADSTOOL</td>\n",
       "      <td>12</td>\n",
       "      <td>12/1/2010 13:04</td>\n",
       "      <td>1.65</td>\n",
       "      <td>12662</td>\n",
       "      <td>Germany</td>\n",
       "    </tr>\n",
       "    <tr>\n",
       "      <th>4</th>\n",
       "      <td>536527</td>\n",
       "      <td>22244</td>\n",
       "      <td>3 HOOK HANGER MAGIC GARDEN</td>\n",
       "      <td>12</td>\n",
       "      <td>12/1/2010 13:04</td>\n",
       "      <td>1.95</td>\n",
       "      <td>12662</td>\n",
       "      <td>Germany</td>\n",
       "    </tr>\n",
       "  </tbody>\n",
       "</table>\n",
       "</div>"
      ],
      "text/plain": [
       "  InvoiceNo StockCode                          Description  Quantity  \\\n",
       "0    536527     22809              SET OF 6 T-LIGHTS SANTA         6   \n",
       "1    536527     84347  ROTATING SILVER ANGELS T-LIGHT HLDR         6   \n",
       "2    536527     84945   MULTI COLOUR SILVER T-LIGHT HOLDER        12   \n",
       "3    536527     22242        5 HOOK HANGER MAGIC TOADSTOOL        12   \n",
       "4    536527     22244           3 HOOK HANGER MAGIC GARDEN        12   \n",
       "\n",
       "       InvoiceDate  UnitPrice  CustomerID  Country  \n",
       "0  12/1/2010 13:04       2.95       12662  Germany  \n",
       "1  12/1/2010 13:04       2.55       12662  Germany  \n",
       "2  12/1/2010 13:04       0.85       12662  Germany  \n",
       "3  12/1/2010 13:04       1.65       12662  Germany  \n",
       "4  12/1/2010 13:04       1.95       12662  Germany  "
      ]
     },
     "metadata": {},
     "output_type": "display_data"
    }
   ],
   "source": [
    "data = get_data('germany')"
   ]
  },
  {
   "cell_type": "code",
   "execution_count": 3,
   "metadata": {},
   "outputs": [],
   "source": [
    "from pycaret.arules import *"
   ]
  },
  {
   "cell_type": "code",
   "execution_count": 4,
   "metadata": {},
   "outputs": [
    {
     "data": {
      "text/html": [
       "<style type=\"text/css\">\n",
       "</style>\n",
       "<table id=\"T_0580f\">\n",
       "  <thead>\n",
       "    <tr>\n",
       "      <th id=\"T_0580f_level0_col0\" class=\"col_heading level0 col0\" >Description</th>\n",
       "      <th id=\"T_0580f_level0_col1\" class=\"col_heading level0 col1\" >Value</th>\n",
       "    </tr>\n",
       "  </thead>\n",
       "  <tbody>\n",
       "    <tr>\n",
       "      <td id=\"T_0580f_row0_col0\" class=\"data row0 col0\" >session_id</td>\n",
       "      <td id=\"T_0580f_row0_col1\" class=\"data row0 col1\" >6316</td>\n",
       "    </tr>\n",
       "    <tr>\n",
       "      <td id=\"T_0580f_row1_col0\" class=\"data row1 col0\" ># Transactions</td>\n",
       "      <td id=\"T_0580f_row1_col1\" class=\"data row1 col1\" >603</td>\n",
       "    </tr>\n",
       "    <tr>\n",
       "      <td id=\"T_0580f_row2_col0\" class=\"data row2 col0\" ># Items</td>\n",
       "      <td id=\"T_0580f_row2_col1\" class=\"data row2 col1\" >1703</td>\n",
       "    </tr>\n",
       "    <tr>\n",
       "      <td id=\"T_0580f_row3_col0\" class=\"data row3 col0\" >Ignore Items</td>\n",
       "      <td id=\"T_0580f_row3_col1\" class=\"data row3 col1\" >None</td>\n",
       "    </tr>\n",
       "  </tbody>\n",
       "</table>\n"
      ],
      "text/plain": [
       "<pandas.io.formats.style.Styler at 0x1072f9930>"
      ]
     },
     "metadata": {},
     "output_type": "display_data"
    }
   ],
   "source": [
    "s = setup(data, 'InvoiceNo', item_id='Description')"
   ]
  },
  {
   "cell_type": "code",
   "execution_count": 5,
   "metadata": {},
   "outputs": [
    {
     "name": "stderr",
     "output_type": "stream",
     "text": [
      "/Users/spartan/Documents/Data Mining/Pycaret/notebooks/Association_Rule_Mining/.venv_pycaret_235/lib/python3.10/site-packages/mlxtend/frequent_patterns/fpcommon.py:161: DeprecationWarning: DataFrames with non-bool types result in worse computationalperformance and their support might be discontinued in the future.Please use a DataFrame with bool type\n",
      "  warnings.warn(\n"
     ]
    }
   ],
   "source": [
    "a1 = create_model()"
   ]
  },
  {
   "cell_type": "code",
   "execution_count": 6,
   "metadata": {},
   "outputs": [
    {
     "data": {
      "text/html": [
       "<div>\n",
       "<style scoped>\n",
       "    .dataframe tbody tr th:only-of-type {\n",
       "        vertical-align: middle;\n",
       "    }\n",
       "\n",
       "    .dataframe tbody tr th {\n",
       "        vertical-align: top;\n",
       "    }\n",
       "\n",
       "    .dataframe thead th {\n",
       "        text-align: right;\n",
       "    }\n",
       "</style>\n",
       "<table border=\"1\" class=\"dataframe\">\n",
       "  <thead>\n",
       "    <tr style=\"text-align: right;\">\n",
       "      <th></th>\n",
       "      <th>antecedents</th>\n",
       "      <th>consequents</th>\n",
       "      <th>antecedent support</th>\n",
       "      <th>consequent support</th>\n",
       "      <th>support</th>\n",
       "      <th>confidence</th>\n",
       "      <th>lift</th>\n",
       "      <th>representativity</th>\n",
       "      <th>leverage</th>\n",
       "      <th>conviction</th>\n",
       "      <th>zhangs_metric</th>\n",
       "      <th>jaccard</th>\n",
       "      <th>certainty</th>\n",
       "      <th>kulczynski</th>\n",
       "    </tr>\n",
       "  </thead>\n",
       "  <tbody>\n",
       "    <tr>\n",
       "      <th>0</th>\n",
       "      <td>(ROUND SNACK BOXES SET OF4 WOODLAND , ROUND SN...</td>\n",
       "      <td>(POSTAGE)</td>\n",
       "      <td>0.1028</td>\n",
       "      <td>0.6352</td>\n",
       "      <td>0.0945</td>\n",
       "      <td>0.9194</td>\n",
       "      <td>1.4474</td>\n",
       "      <td>1.0</td>\n",
       "      <td>0.0292</td>\n",
       "      <td>4.5240</td>\n",
       "      <td>0.3446</td>\n",
       "      <td>0.1469</td>\n",
       "      <td>0.7790</td>\n",
       "      <td>0.5341</td>\n",
       "    </tr>\n",
       "    <tr>\n",
       "      <th>1</th>\n",
       "      <td>(PLASTERS IN TIN STRONGMAN)</td>\n",
       "      <td>(POSTAGE)</td>\n",
       "      <td>0.0564</td>\n",
       "      <td>0.6352</td>\n",
       "      <td>0.0514</td>\n",
       "      <td>0.9118</td>\n",
       "      <td>1.4355</td>\n",
       "      <td>1.0</td>\n",
       "      <td>0.0156</td>\n",
       "      <td>4.1349</td>\n",
       "      <td>0.3215</td>\n",
       "      <td>0.0803</td>\n",
       "      <td>0.7582</td>\n",
       "      <td>0.4964</td>\n",
       "    </tr>\n",
       "    <tr>\n",
       "      <th>2</th>\n",
       "      <td>(PLASTERS IN TIN SPACEBOY)</td>\n",
       "      <td>(POSTAGE)</td>\n",
       "      <td>0.0846</td>\n",
       "      <td>0.6352</td>\n",
       "      <td>0.0763</td>\n",
       "      <td>0.9020</td>\n",
       "      <td>1.4201</td>\n",
       "      <td>1.0</td>\n",
       "      <td>0.0226</td>\n",
       "      <td>3.7214</td>\n",
       "      <td>0.3231</td>\n",
       "      <td>0.1186</td>\n",
       "      <td>0.7313</td>\n",
       "      <td>0.5110</td>\n",
       "    </tr>\n",
       "    <tr>\n",
       "      <th>3</th>\n",
       "      <td>(WOODLAND CHARLOTTE BAG)</td>\n",
       "      <td>(POSTAGE)</td>\n",
       "      <td>0.0978</td>\n",
       "      <td>0.6352</td>\n",
       "      <td>0.0879</td>\n",
       "      <td>0.8983</td>\n",
       "      <td>1.4143</td>\n",
       "      <td>1.0</td>\n",
       "      <td>0.0257</td>\n",
       "      <td>3.5876</td>\n",
       "      <td>0.3247</td>\n",
       "      <td>0.1362</td>\n",
       "      <td>0.7213</td>\n",
       "      <td>0.5183</td>\n",
       "    </tr>\n",
       "    <tr>\n",
       "      <th>4</th>\n",
       "      <td>(ROUND SNACK BOXES SET OF 4 FRUITS )</td>\n",
       "      <td>(POSTAGE)</td>\n",
       "      <td>0.1294</td>\n",
       "      <td>0.6352</td>\n",
       "      <td>0.1144</td>\n",
       "      <td>0.8846</td>\n",
       "      <td>1.3927</td>\n",
       "      <td>1.0</td>\n",
       "      <td>0.0323</td>\n",
       "      <td>3.1620</td>\n",
       "      <td>0.3239</td>\n",
       "      <td>0.1760</td>\n",
       "      <td>0.6837</td>\n",
       "      <td>0.5324</td>\n",
       "    </tr>\n",
       "    <tr>\n",
       "      <th>5</th>\n",
       "      <td>(SPACEBOY LUNCH BOX )</td>\n",
       "      <td>(POSTAGE)</td>\n",
       "      <td>0.0796</td>\n",
       "      <td>0.6352</td>\n",
       "      <td>0.0697</td>\n",
       "      <td>0.8750</td>\n",
       "      <td>1.3776</td>\n",
       "      <td>1.0</td>\n",
       "      <td>0.0191</td>\n",
       "      <td>2.9187</td>\n",
       "      <td>0.2978</td>\n",
       "      <td>0.1080</td>\n",
       "      <td>0.6574</td>\n",
       "      <td>0.4923</td>\n",
       "    </tr>\n",
       "    <tr>\n",
       "      <th>6</th>\n",
       "      <td>(ROUND SNACK BOXES SET OF4 WOODLAND )</td>\n",
       "      <td>(POSTAGE)</td>\n",
       "      <td>0.1973</td>\n",
       "      <td>0.6352</td>\n",
       "      <td>0.1708</td>\n",
       "      <td>0.8655</td>\n",
       "      <td>1.3627</td>\n",
       "      <td>1.0</td>\n",
       "      <td>0.0455</td>\n",
       "      <td>2.7135</td>\n",
       "      <td>0.3316</td>\n",
       "      <td>0.2581</td>\n",
       "      <td>0.6315</td>\n",
       "      <td>0.5672</td>\n",
       "    </tr>\n",
       "    <tr>\n",
       "      <th>7</th>\n",
       "      <td>(LUNCH BAG WOODLAND)</td>\n",
       "      <td>(POSTAGE)</td>\n",
       "      <td>0.0597</td>\n",
       "      <td>0.6352</td>\n",
       "      <td>0.0514</td>\n",
       "      <td>0.8611</td>\n",
       "      <td>1.3557</td>\n",
       "      <td>1.0</td>\n",
       "      <td>0.0135</td>\n",
       "      <td>2.6269</td>\n",
       "      <td>0.2791</td>\n",
       "      <td>0.0799</td>\n",
       "      <td>0.6193</td>\n",
       "      <td>0.4710</td>\n",
       "    </tr>\n",
       "    <tr>\n",
       "      <th>8</th>\n",
       "      <td>(6 RIBBONS RUSTIC CHARM)</td>\n",
       "      <td>(POSTAGE)</td>\n",
       "      <td>0.0829</td>\n",
       "      <td>0.6352</td>\n",
       "      <td>0.0697</td>\n",
       "      <td>0.8400</td>\n",
       "      <td>1.3225</td>\n",
       "      <td>1.0</td>\n",
       "      <td>0.0170</td>\n",
       "      <td>2.2803</td>\n",
       "      <td>0.2659</td>\n",
       "      <td>0.1074</td>\n",
       "      <td>0.5615</td>\n",
       "      <td>0.4748</td>\n",
       "    </tr>\n",
       "    <tr>\n",
       "      <th>9</th>\n",
       "      <td>(JUMBO BAG WOODLAND ANIMALS)</td>\n",
       "      <td>(POSTAGE)</td>\n",
       "      <td>0.0796</td>\n",
       "      <td>0.6352</td>\n",
       "      <td>0.0663</td>\n",
       "      <td>0.8333</td>\n",
       "      <td>1.3120</td>\n",
       "      <td>1.0</td>\n",
       "      <td>0.0158</td>\n",
       "      <td>2.1891</td>\n",
       "      <td>0.2584</td>\n",
       "      <td>0.1023</td>\n",
       "      <td>0.5432</td>\n",
       "      <td>0.4689</td>\n",
       "    </tr>\n",
       "    <tr>\n",
       "      <th>10</th>\n",
       "      <td>(ROUND SNACK BOXES SET OF 4 FRUITS , POSTAGE)</td>\n",
       "      <td>(ROUND SNACK BOXES SET OF4 WOODLAND )</td>\n",
       "      <td>0.1144</td>\n",
       "      <td>0.1973</td>\n",
       "      <td>0.0945</td>\n",
       "      <td>0.8261</td>\n",
       "      <td>4.1860</td>\n",
       "      <td>1.0</td>\n",
       "      <td>0.0719</td>\n",
       "      <td>4.6153</td>\n",
       "      <td>0.8595</td>\n",
       "      <td>0.4351</td>\n",
       "      <td>0.7833</td>\n",
       "      <td>0.6525</td>\n",
       "    </tr>\n",
       "    <tr>\n",
       "      <th>11</th>\n",
       "      <td>(PLASTERS IN TIN WOODLAND ANIMALS)</td>\n",
       "      <td>(POSTAGE)</td>\n",
       "      <td>0.1095</td>\n",
       "      <td>0.6352</td>\n",
       "      <td>0.0896</td>\n",
       "      <td>0.8182</td>\n",
       "      <td>1.2882</td>\n",
       "      <td>1.0</td>\n",
       "      <td>0.0200</td>\n",
       "      <td>2.0066</td>\n",
       "      <td>0.2512</td>\n",
       "      <td>0.1367</td>\n",
       "      <td>0.5017</td>\n",
       "      <td>0.4796</td>\n",
       "    </tr>\n",
       "    <tr>\n",
       "      <th>12</th>\n",
       "      <td>(STRAWBERRY LUNCH BOX WITH CUTLERY)</td>\n",
       "      <td>(POSTAGE)</td>\n",
       "      <td>0.0630</td>\n",
       "      <td>0.6352</td>\n",
       "      <td>0.0514</td>\n",
       "      <td>0.8158</td>\n",
       "      <td>1.2844</td>\n",
       "      <td>1.0</td>\n",
       "      <td>0.0114</td>\n",
       "      <td>1.9806</td>\n",
       "      <td>0.2363</td>\n",
       "      <td>0.0795</td>\n",
       "      <td>0.4951</td>\n",
       "      <td>0.4484</td>\n",
       "    </tr>\n",
       "    <tr>\n",
       "      <th>13</th>\n",
       "      <td>(PLASTERS IN TIN CIRCUS PARADE )</td>\n",
       "      <td>(POSTAGE)</td>\n",
       "      <td>0.0945</td>\n",
       "      <td>0.6352</td>\n",
       "      <td>0.0763</td>\n",
       "      <td>0.8070</td>\n",
       "      <td>1.2706</td>\n",
       "      <td>1.0</td>\n",
       "      <td>0.0162</td>\n",
       "      <td>1.8905</td>\n",
       "      <td>0.2352</td>\n",
       "      <td>0.1168</td>\n",
       "      <td>0.4711</td>\n",
       "      <td>0.4636</td>\n",
       "    </tr>\n",
       "    <tr>\n",
       "      <th>14</th>\n",
       "      <td>(ROUND SNACK BOXES SET OF 4 FRUITS )</td>\n",
       "      <td>(ROUND SNACK BOXES SET OF4 WOODLAND )</td>\n",
       "      <td>0.1294</td>\n",
       "      <td>0.1973</td>\n",
       "      <td>0.1028</td>\n",
       "      <td>0.7949</td>\n",
       "      <td>4.0278</td>\n",
       "      <td>1.0</td>\n",
       "      <td>0.0773</td>\n",
       "      <td>3.9129</td>\n",
       "      <td>0.8634</td>\n",
       "      <td>0.4593</td>\n",
       "      <td>0.7444</td>\n",
       "      <td>0.6579</td>\n",
       "    </tr>\n",
       "    <tr>\n",
       "      <th>15</th>\n",
       "      <td>(JAM MAKING SET PRINTED)</td>\n",
       "      <td>(POSTAGE)</td>\n",
       "      <td>0.0713</td>\n",
       "      <td>0.6352</td>\n",
       "      <td>0.0564</td>\n",
       "      <td>0.7907</td>\n",
       "      <td>1.2449</td>\n",
       "      <td>1.0</td>\n",
       "      <td>0.0111</td>\n",
       "      <td>1.7431</td>\n",
       "      <td>0.2118</td>\n",
       "      <td>0.0867</td>\n",
       "      <td>0.4263</td>\n",
       "      <td>0.4397</td>\n",
       "    </tr>\n",
       "    <tr>\n",
       "      <th>16</th>\n",
       "      <td>(RED TOADSTOOL LED NIGHT LIGHT)</td>\n",
       "      <td>(POSTAGE)</td>\n",
       "      <td>0.0779</td>\n",
       "      <td>0.6352</td>\n",
       "      <td>0.0614</td>\n",
       "      <td>0.7872</td>\n",
       "      <td>1.2394</td>\n",
       "      <td>1.0</td>\n",
       "      <td>0.0119</td>\n",
       "      <td>1.7148</td>\n",
       "      <td>0.2095</td>\n",
       "      <td>0.0941</td>\n",
       "      <td>0.4168</td>\n",
       "      <td>0.4419</td>\n",
       "    </tr>\n",
       "    <tr>\n",
       "      <th>17</th>\n",
       "      <td>(ROUND SNACK BOXES SET OF 4 FRUITS )</td>\n",
       "      <td>(ROUND SNACK BOXES SET OF4 WOODLAND , POSTAGE)</td>\n",
       "      <td>0.1294</td>\n",
       "      <td>0.1708</td>\n",
       "      <td>0.0945</td>\n",
       "      <td>0.7308</td>\n",
       "      <td>4.2782</td>\n",
       "      <td>1.0</td>\n",
       "      <td>0.0724</td>\n",
       "      <td>3.0798</td>\n",
       "      <td>0.8801</td>\n",
       "      <td>0.4597</td>\n",
       "      <td>0.6753</td>\n",
       "      <td>0.6421</td>\n",
       "    </tr>\n",
       "    <tr>\n",
       "      <th>18</th>\n",
       "      <td>(SPACEBOY LUNCH BOX )</td>\n",
       "      <td>(ROUND SNACK BOXES SET OF4 WOODLAND )</td>\n",
       "      <td>0.0796</td>\n",
       "      <td>0.1973</td>\n",
       "      <td>0.0547</td>\n",
       "      <td>0.6875</td>\n",
       "      <td>3.4837</td>\n",
       "      <td>1.0</td>\n",
       "      <td>0.0390</td>\n",
       "      <td>2.5685</td>\n",
       "      <td>0.7746</td>\n",
       "      <td>0.2463</td>\n",
       "      <td>0.6107</td>\n",
       "      <td>0.4824</td>\n",
       "    </tr>\n",
       "    <tr>\n",
       "      <th>19</th>\n",
       "      <td>(REGENCY CAKESTAND 3 TIER)</td>\n",
       "      <td>(POSTAGE)</td>\n",
       "      <td>0.1343</td>\n",
       "      <td>0.6352</td>\n",
       "      <td>0.0912</td>\n",
       "      <td>0.6790</td>\n",
       "      <td>1.0690</td>\n",
       "      <td>1.0</td>\n",
       "      <td>0.0059</td>\n",
       "      <td>1.1366</td>\n",
       "      <td>0.0746</td>\n",
       "      <td>0.1345</td>\n",
       "      <td>0.1202</td>\n",
       "      <td>0.4113</td>\n",
       "    </tr>\n",
       "    <tr>\n",
       "      <th>20</th>\n",
       "      <td>(ROUND SNACK BOXES SET OF4 WOODLAND , POSTAGE)</td>\n",
       "      <td>(ROUND SNACK BOXES SET OF 4 FRUITS )</td>\n",
       "      <td>0.1708</td>\n",
       "      <td>0.1294</td>\n",
       "      <td>0.0945</td>\n",
       "      <td>0.5534</td>\n",
       "      <td>4.2782</td>\n",
       "      <td>1.0</td>\n",
       "      <td>0.0724</td>\n",
       "      <td>1.9495</td>\n",
       "      <td>0.9241</td>\n",
       "      <td>0.4597</td>\n",
       "      <td>0.4870</td>\n",
       "      <td>0.6421</td>\n",
       "    </tr>\n",
       "    <tr>\n",
       "      <th>21</th>\n",
       "      <td>(PLASTERS IN TIN CIRCUS PARADE )</td>\n",
       "      <td>(PLASTERS IN TIN WOODLAND ANIMALS)</td>\n",
       "      <td>0.0945</td>\n",
       "      <td>0.1095</td>\n",
       "      <td>0.0514</td>\n",
       "      <td>0.5439</td>\n",
       "      <td>4.9689</td>\n",
       "      <td>1.0</td>\n",
       "      <td>0.0411</td>\n",
       "      <td>1.9524</td>\n",
       "      <td>0.8821</td>\n",
       "      <td>0.3370</td>\n",
       "      <td>0.4878</td>\n",
       "      <td>0.5068</td>\n",
       "    </tr>\n",
       "    <tr>\n",
       "      <th>22</th>\n",
       "      <td>(ROUND SNACK BOXES SET OF4 WOODLAND )</td>\n",
       "      <td>(ROUND SNACK BOXES SET OF 4 FRUITS )</td>\n",
       "      <td>0.1973</td>\n",
       "      <td>0.1294</td>\n",
       "      <td>0.1028</td>\n",
       "      <td>0.5210</td>\n",
       "      <td>4.0278</td>\n",
       "      <td>1.0</td>\n",
       "      <td>0.0773</td>\n",
       "      <td>1.8177</td>\n",
       "      <td>0.9366</td>\n",
       "      <td>0.4593</td>\n",
       "      <td>0.4498</td>\n",
       "      <td>0.6579</td>\n",
       "    </tr>\n",
       "    <tr>\n",
       "      <th>23</th>\n",
       "      <td>(PLASTERS IN TIN WOODLAND ANIMALS)</td>\n",
       "      <td>(ROUND SNACK BOXES SET OF4 WOODLAND )</td>\n",
       "      <td>0.1095</td>\n",
       "      <td>0.1973</td>\n",
       "      <td>0.0564</td>\n",
       "      <td>0.5152</td>\n",
       "      <td>2.6104</td>\n",
       "      <td>1.0</td>\n",
       "      <td>0.0348</td>\n",
       "      <td>1.6555</td>\n",
       "      <td>0.6927</td>\n",
       "      <td>0.2252</td>\n",
       "      <td>0.3959</td>\n",
       "      <td>0.4004</td>\n",
       "    </tr>\n",
       "  </tbody>\n",
       "</table>\n",
       "</div>"
      ],
      "text/plain": [
       "                                          antecedents  \\\n",
       "0   (ROUND SNACK BOXES SET OF4 WOODLAND , ROUND SN...   \n",
       "1                         (PLASTERS IN TIN STRONGMAN)   \n",
       "2                          (PLASTERS IN TIN SPACEBOY)   \n",
       "3                            (WOODLAND CHARLOTTE BAG)   \n",
       "4                (ROUND SNACK BOXES SET OF 4 FRUITS )   \n",
       "5                               (SPACEBOY LUNCH BOX )   \n",
       "6               (ROUND SNACK BOXES SET OF4 WOODLAND )   \n",
       "7                                (LUNCH BAG WOODLAND)   \n",
       "8                            (6 RIBBONS RUSTIC CHARM)   \n",
       "9                        (JUMBO BAG WOODLAND ANIMALS)   \n",
       "10      (ROUND SNACK BOXES SET OF 4 FRUITS , POSTAGE)   \n",
       "11                 (PLASTERS IN TIN WOODLAND ANIMALS)   \n",
       "12                (STRAWBERRY LUNCH BOX WITH CUTLERY)   \n",
       "13                   (PLASTERS IN TIN CIRCUS PARADE )   \n",
       "14               (ROUND SNACK BOXES SET OF 4 FRUITS )   \n",
       "15                           (JAM MAKING SET PRINTED)   \n",
       "16                    (RED TOADSTOOL LED NIGHT LIGHT)   \n",
       "17               (ROUND SNACK BOXES SET OF 4 FRUITS )   \n",
       "18                              (SPACEBOY LUNCH BOX )   \n",
       "19                         (REGENCY CAKESTAND 3 TIER)   \n",
       "20     (ROUND SNACK BOXES SET OF4 WOODLAND , POSTAGE)   \n",
       "21                   (PLASTERS IN TIN CIRCUS PARADE )   \n",
       "22              (ROUND SNACK BOXES SET OF4 WOODLAND )   \n",
       "23                 (PLASTERS IN TIN WOODLAND ANIMALS)   \n",
       "\n",
       "                                       consequents  antecedent support  \\\n",
       "0                                        (POSTAGE)              0.1028   \n",
       "1                                        (POSTAGE)              0.0564   \n",
       "2                                        (POSTAGE)              0.0846   \n",
       "3                                        (POSTAGE)              0.0978   \n",
       "4                                        (POSTAGE)              0.1294   \n",
       "5                                        (POSTAGE)              0.0796   \n",
       "6                                        (POSTAGE)              0.1973   \n",
       "7                                        (POSTAGE)              0.0597   \n",
       "8                                        (POSTAGE)              0.0829   \n",
       "9                                        (POSTAGE)              0.0796   \n",
       "10           (ROUND SNACK BOXES SET OF4 WOODLAND )              0.1144   \n",
       "11                                       (POSTAGE)              0.1095   \n",
       "12                                       (POSTAGE)              0.0630   \n",
       "13                                       (POSTAGE)              0.0945   \n",
       "14           (ROUND SNACK BOXES SET OF4 WOODLAND )              0.1294   \n",
       "15                                       (POSTAGE)              0.0713   \n",
       "16                                       (POSTAGE)              0.0779   \n",
       "17  (ROUND SNACK BOXES SET OF4 WOODLAND , POSTAGE)              0.1294   \n",
       "18           (ROUND SNACK BOXES SET OF4 WOODLAND )              0.0796   \n",
       "19                                       (POSTAGE)              0.1343   \n",
       "20            (ROUND SNACK BOXES SET OF 4 FRUITS )              0.1708   \n",
       "21              (PLASTERS IN TIN WOODLAND ANIMALS)              0.0945   \n",
       "22            (ROUND SNACK BOXES SET OF 4 FRUITS )              0.1973   \n",
       "23           (ROUND SNACK BOXES SET OF4 WOODLAND )              0.1095   \n",
       "\n",
       "    consequent support  support  confidence    lift  representativity  \\\n",
       "0               0.6352   0.0945      0.9194  1.4474               1.0   \n",
       "1               0.6352   0.0514      0.9118  1.4355               1.0   \n",
       "2               0.6352   0.0763      0.9020  1.4201               1.0   \n",
       "3               0.6352   0.0879      0.8983  1.4143               1.0   \n",
       "4               0.6352   0.1144      0.8846  1.3927               1.0   \n",
       "5               0.6352   0.0697      0.8750  1.3776               1.0   \n",
       "6               0.6352   0.1708      0.8655  1.3627               1.0   \n",
       "7               0.6352   0.0514      0.8611  1.3557               1.0   \n",
       "8               0.6352   0.0697      0.8400  1.3225               1.0   \n",
       "9               0.6352   0.0663      0.8333  1.3120               1.0   \n",
       "10              0.1973   0.0945      0.8261  4.1860               1.0   \n",
       "11              0.6352   0.0896      0.8182  1.2882               1.0   \n",
       "12              0.6352   0.0514      0.8158  1.2844               1.0   \n",
       "13              0.6352   0.0763      0.8070  1.2706               1.0   \n",
       "14              0.1973   0.1028      0.7949  4.0278               1.0   \n",
       "15              0.6352   0.0564      0.7907  1.2449               1.0   \n",
       "16              0.6352   0.0614      0.7872  1.2394               1.0   \n",
       "17              0.1708   0.0945      0.7308  4.2782               1.0   \n",
       "18              0.1973   0.0547      0.6875  3.4837               1.0   \n",
       "19              0.6352   0.0912      0.6790  1.0690               1.0   \n",
       "20              0.1294   0.0945      0.5534  4.2782               1.0   \n",
       "21              0.1095   0.0514      0.5439  4.9689               1.0   \n",
       "22              0.1294   0.1028      0.5210  4.0278               1.0   \n",
       "23              0.1973   0.0564      0.5152  2.6104               1.0   \n",
       "\n",
       "    leverage  conviction  zhangs_metric  jaccard  certainty  kulczynski  \n",
       "0     0.0292      4.5240         0.3446   0.1469     0.7790      0.5341  \n",
       "1     0.0156      4.1349         0.3215   0.0803     0.7582      0.4964  \n",
       "2     0.0226      3.7214         0.3231   0.1186     0.7313      0.5110  \n",
       "3     0.0257      3.5876         0.3247   0.1362     0.7213      0.5183  \n",
       "4     0.0323      3.1620         0.3239   0.1760     0.6837      0.5324  \n",
       "5     0.0191      2.9187         0.2978   0.1080     0.6574      0.4923  \n",
       "6     0.0455      2.7135         0.3316   0.2581     0.6315      0.5672  \n",
       "7     0.0135      2.6269         0.2791   0.0799     0.6193      0.4710  \n",
       "8     0.0170      2.2803         0.2659   0.1074     0.5615      0.4748  \n",
       "9     0.0158      2.1891         0.2584   0.1023     0.5432      0.4689  \n",
       "10    0.0719      4.6153         0.8595   0.4351     0.7833      0.6525  \n",
       "11    0.0200      2.0066         0.2512   0.1367     0.5017      0.4796  \n",
       "12    0.0114      1.9806         0.2363   0.0795     0.4951      0.4484  \n",
       "13    0.0162      1.8905         0.2352   0.1168     0.4711      0.4636  \n",
       "14    0.0773      3.9129         0.8634   0.4593     0.7444      0.6579  \n",
       "15    0.0111      1.7431         0.2118   0.0867     0.4263      0.4397  \n",
       "16    0.0119      1.7148         0.2095   0.0941     0.4168      0.4419  \n",
       "17    0.0724      3.0798         0.8801   0.4597     0.6753      0.6421  \n",
       "18    0.0390      2.5685         0.7746   0.2463     0.6107      0.4824  \n",
       "19    0.0059      1.1366         0.0746   0.1345     0.1202      0.4113  \n",
       "20    0.0724      1.9495         0.9241   0.4597     0.4870      0.6421  \n",
       "21    0.0411      1.9524         0.8821   0.3370     0.4878      0.5068  \n",
       "22    0.0773      1.8177         0.9366   0.4593     0.4498      0.6579  \n",
       "23    0.0348      1.6555         0.6927   0.2252     0.3959      0.4004  "
      ]
     },
     "execution_count": 6,
     "metadata": {},
     "output_type": "execute_result"
    }
   ],
   "source": [
    "a1"
   ]
  },
  {
   "cell_type": "code",
   "execution_count": 7,
   "metadata": {},
   "outputs": [
    {
     "data": {
      "text/html": [
       "        <script type=\"text/javascript\">\n",
       "        window.PlotlyConfig = {MathJaxConfig: 'local'};\n",
       "        if (window.MathJax && window.MathJax.Hub && window.MathJax.Hub.Config) {window.MathJax.Hub.Config({SVG: {font: \"STIX-Web\"}});}\n",
       "        </script>\n",
       "        <script type=\"module\">import \"https://cdn.plot.ly/plotly-3.1.1.min\"</script>\n",
       "        "
      ]
     },
     "metadata": {},
     "output_type": "display_data"
    },
    {
     "data": {
      "application/vnd.plotly.v1+json": {
       "config": {
        "plotlyServerURL": "https://plot.ly"
       },
       "data": [
        {
         "customdata": [
          [
           "ROUND SNACK BOXES SET OF4 WOODLAND ",
           "POSTAGE"
          ],
          [
           "PLASTERS IN TIN STRONGMAN",
           "POSTAGE"
          ],
          [
           "PLASTERS IN TIN SPACEBOY",
           "POSTAGE"
          ],
          [
           "WOODLAND CHARLOTTE BAG",
           "POSTAGE"
          ],
          [
           "ROUND SNACK BOXES SET OF 4 FRUITS ",
           "POSTAGE"
          ],
          [
           "SPACEBOY LUNCH BOX ",
           "POSTAGE"
          ],
          [
           "ROUND SNACK BOXES SET OF4 WOODLAND ",
           "POSTAGE"
          ],
          [
           "LUNCH BAG WOODLAND",
           "POSTAGE"
          ],
          [
           "6 RIBBONS RUSTIC CHARM",
           "POSTAGE"
          ],
          [
           "JUMBO BAG WOODLAND ANIMALS",
           "POSTAGE"
          ],
          [
           "ROUND SNACK BOXES SET OF 4 FRUITS ",
           "ROUND SNACK BOXES SET OF4 WOODLAND "
          ],
          [
           "PLASTERS IN TIN WOODLAND ANIMALS",
           "POSTAGE"
          ],
          [
           "STRAWBERRY LUNCH BOX WITH CUTLERY",
           "POSTAGE"
          ],
          [
           "PLASTERS IN TIN CIRCUS PARADE ",
           "POSTAGE"
          ],
          [
           "ROUND SNACK BOXES SET OF 4 FRUITS ",
           "ROUND SNACK BOXES SET OF4 WOODLAND "
          ],
          [
           "JAM MAKING SET PRINTED",
           "POSTAGE"
          ],
          [
           "RED TOADSTOOL LED NIGHT LIGHT",
           "POSTAGE"
          ],
          [
           "ROUND SNACK BOXES SET OF 4 FRUITS ",
           "ROUND SNACK BOXES SET OF4 WOODLAND "
          ],
          [
           "SPACEBOY LUNCH BOX ",
           "ROUND SNACK BOXES SET OF4 WOODLAND "
          ],
          [
           "REGENCY CAKESTAND 3 TIER",
           "POSTAGE"
          ],
          [
           "ROUND SNACK BOXES SET OF4 WOODLAND ",
           "ROUND SNACK BOXES SET OF 4 FRUITS "
          ],
          [
           "PLASTERS IN TIN CIRCUS PARADE ",
           "PLASTERS IN TIN WOODLAND ANIMALS"
          ],
          [
           "ROUND SNACK BOXES SET OF4 WOODLAND ",
           "ROUND SNACK BOXES SET OF 4 FRUITS "
          ],
          [
           "PLASTERS IN TIN WOODLAND ANIMALS",
           "ROUND SNACK BOXES SET OF4 WOODLAND "
          ]
         ],
         "hovertemplate": "support=%{x}<br>confidence=%{y}<br>antecedents_short=%{text}<br>antecedents=%{customdata[0]}<br>consequents=%{customdata[1]}<br>lift=%{marker.color}<extra></extra>",
         "legendgroup": "",
         "marker": {
          "color": {
           "bdata": "uK8D54wo9z8rhxbZzvf2PynLEMe6uPY/jLlrCfmg9j8qOpLLf0j2P3uDL0ymCvY/ryXkg57N9T/F/rJ78rD1Pylcj8L1KPU/y6FFtvP99D9YObTIdr4QQLFQa5p3nPQ/6bevA+eM9D/4wmSqYFT0P7FQa5p3HBBAeqUsQxzr8z8xmSoYldTzPyL99nXgHBFAApoIG57eC0C0yHa+nxrxPyL99nXgHBFAqmBUUifgE0CxUGuadxwQQMPTK2UZ4gRA",
           "dtype": "f8"
          },
          "coloraxis": "coloraxis",
          "opacity": 0.5,
          "symbol": "circle"
         },
         "mode": "markers+text",
         "name": "",
         "orientation": "v",
         "showlegend": false,
         "text": [
          "ROUND SNAC",
          "PLASTERS I",
          "PLASTERS I",
          "WOODLAND C",
          "ROUND SNAC",
          "SPACEBOY L",
          "ROUND SNAC",
          "LUNCH BAG ",
          "6 RIBBONS ",
          "JUMBO BAG ",
          "ROUND SNAC",
          "PLASTERS I",
          "STRAWBERRY",
          "PLASTERS I",
          "ROUND SNAC",
          "JAM MAKING",
          "RED TOADST",
          "ROUND SNAC",
          "SPACEBOY L",
          "REGENCY CA",
          "ROUND SNAC",
          "PLASTERS I",
          "ROUND SNAC",
          "PLASTERS I"
         ],
         "textposition": "top center",
         "type": "scatter",
         "x": {
          "bdata": "/tR46SYxuD9wXwfOGVGqPw5Pr5RliLM/qoJRSZ2Atj8Mk6mCUUm9P7n8h/Tb17E/BhIUP8bcxT9wXwfOGVGqP7n8h/Tb17E/foy5awn5sD/+1HjpJjG4P8e6uI0G8LY/cF8HzhlRqj8OT6+UZYizP3BfB84ZUbo//yH99nXgrD+P5PIf0m+vP/7UeOkmMbg/xLEubqMBrD/UK2UZ4li3P/7UeOkmMbg/cF8HzhlRqj9wXwfOGVG6P/8h/fZ14Kw/",
          "dtype": "f8"
         },
         "xaxis": "x",
         "y": {
          "bdata": "JCh+jLlr7T8FxY8xdy3tP3e+nxov3ew/yeU/pN++7D/KVMGopE7sPwAAAAAAAOw/GQRWDi2y6z88vVKWIY7rP+F6FK5H4eo/tTf4wmSq6j8dOGdEaW/qP1jKMsSxLuo/JXUCmggb6j9t5/up8dLpP4/k8h/Sb+k/dk8eFmpN6T+NKO0NvjDpP21Wfa62Yuc/AAAAAAAA5j/ufD81XrrlP6Fns+pzteE/umsJ+aBn4T956SYxCKzgPz/G3LWEfOA/",
          "dtype": "f8"
         },
         "yaxis": "y"
        }
       ],
       "layout": {
        "coloraxis": {
         "colorbar": {
          "title": {
           "text": "lift"
          }
         },
         "colorscale": [
          [
           0,
           "#0d0887"
          ],
          [
           0.1111111111111111,
           "#46039f"
          ],
          [
           0.2222222222222222,
           "#7201a8"
          ],
          [
           0.3333333333333333,
           "#9c179e"
          ],
          [
           0.4444444444444444,
           "#bd3786"
          ],
          [
           0.5555555555555556,
           "#d8576b"
          ],
          [
           0.6666666666666666,
           "#ed7953"
          ],
          [
           0.7777777777777778,
           "#fb9f3a"
          ],
          [
           0.8888888888888888,
           "#fdca26"
          ],
          [
           1,
           "#f0f921"
          ]
         ]
        },
        "height": 800,
        "legend": {
         "tracegroupgap": 0
        },
        "margin": {
         "t": 60
        },
        "plot_bgcolor": "rgb(240,240,240)",
        "template": {
         "data": {
          "bar": [
           {
            "error_x": {
             "color": "#2a3f5f"
            },
            "error_y": {
             "color": "#2a3f5f"
            },
            "marker": {
             "line": {
              "color": "#E5ECF6",
              "width": 0.5
             },
             "pattern": {
              "fillmode": "overlay",
              "size": 10,
              "solidity": 0.2
             }
            },
            "type": "bar"
           }
          ],
          "barpolar": [
           {
            "marker": {
             "line": {
              "color": "#E5ECF6",
              "width": 0.5
             },
             "pattern": {
              "fillmode": "overlay",
              "size": 10,
              "solidity": 0.2
             }
            },
            "type": "barpolar"
           }
          ],
          "carpet": [
           {
            "aaxis": {
             "endlinecolor": "#2a3f5f",
             "gridcolor": "white",
             "linecolor": "white",
             "minorgridcolor": "white",
             "startlinecolor": "#2a3f5f"
            },
            "baxis": {
             "endlinecolor": "#2a3f5f",
             "gridcolor": "white",
             "linecolor": "white",
             "minorgridcolor": "white",
             "startlinecolor": "#2a3f5f"
            },
            "type": "carpet"
           }
          ],
          "choropleth": [
           {
            "colorbar": {
             "outlinewidth": 0,
             "ticks": ""
            },
            "type": "choropleth"
           }
          ],
          "contour": [
           {
            "colorbar": {
             "outlinewidth": 0,
             "ticks": ""
            },
            "colorscale": [
             [
              0,
              "#0d0887"
             ],
             [
              0.1111111111111111,
              "#46039f"
             ],
             [
              0.2222222222222222,
              "#7201a8"
             ],
             [
              0.3333333333333333,
              "#9c179e"
             ],
             [
              0.4444444444444444,
              "#bd3786"
             ],
             [
              0.5555555555555556,
              "#d8576b"
             ],
             [
              0.6666666666666666,
              "#ed7953"
             ],
             [
              0.7777777777777778,
              "#fb9f3a"
             ],
             [
              0.8888888888888888,
              "#fdca26"
             ],
             [
              1,
              "#f0f921"
             ]
            ],
            "type": "contour"
           }
          ],
          "contourcarpet": [
           {
            "colorbar": {
             "outlinewidth": 0,
             "ticks": ""
            },
            "type": "contourcarpet"
           }
          ],
          "heatmap": [
           {
            "colorbar": {
             "outlinewidth": 0,
             "ticks": ""
            },
            "colorscale": [
             [
              0,
              "#0d0887"
             ],
             [
              0.1111111111111111,
              "#46039f"
             ],
             [
              0.2222222222222222,
              "#7201a8"
             ],
             [
              0.3333333333333333,
              "#9c179e"
             ],
             [
              0.4444444444444444,
              "#bd3786"
             ],
             [
              0.5555555555555556,
              "#d8576b"
             ],
             [
              0.6666666666666666,
              "#ed7953"
             ],
             [
              0.7777777777777778,
              "#fb9f3a"
             ],
             [
              0.8888888888888888,
              "#fdca26"
             ],
             [
              1,
              "#f0f921"
             ]
            ],
            "type": "heatmap"
           }
          ],
          "histogram": [
           {
            "marker": {
             "pattern": {
              "fillmode": "overlay",
              "size": 10,
              "solidity": 0.2
             }
            },
            "type": "histogram"
           }
          ],
          "histogram2d": [
           {
            "colorbar": {
             "outlinewidth": 0,
             "ticks": ""
            },
            "colorscale": [
             [
              0,
              "#0d0887"
             ],
             [
              0.1111111111111111,
              "#46039f"
             ],
             [
              0.2222222222222222,
              "#7201a8"
             ],
             [
              0.3333333333333333,
              "#9c179e"
             ],
             [
              0.4444444444444444,
              "#bd3786"
             ],
             [
              0.5555555555555556,
              "#d8576b"
             ],
             [
              0.6666666666666666,
              "#ed7953"
             ],
             [
              0.7777777777777778,
              "#fb9f3a"
             ],
             [
              0.8888888888888888,
              "#fdca26"
             ],
             [
              1,
              "#f0f921"
             ]
            ],
            "type": "histogram2d"
           }
          ],
          "histogram2dcontour": [
           {
            "colorbar": {
             "outlinewidth": 0,
             "ticks": ""
            },
            "colorscale": [
             [
              0,
              "#0d0887"
             ],
             [
              0.1111111111111111,
              "#46039f"
             ],
             [
              0.2222222222222222,
              "#7201a8"
             ],
             [
              0.3333333333333333,
              "#9c179e"
             ],
             [
              0.4444444444444444,
              "#bd3786"
             ],
             [
              0.5555555555555556,
              "#d8576b"
             ],
             [
              0.6666666666666666,
              "#ed7953"
             ],
             [
              0.7777777777777778,
              "#fb9f3a"
             ],
             [
              0.8888888888888888,
              "#fdca26"
             ],
             [
              1,
              "#f0f921"
             ]
            ],
            "type": "histogram2dcontour"
           }
          ],
          "mesh3d": [
           {
            "colorbar": {
             "outlinewidth": 0,
             "ticks": ""
            },
            "type": "mesh3d"
           }
          ],
          "parcoords": [
           {
            "line": {
             "colorbar": {
              "outlinewidth": 0,
              "ticks": ""
             }
            },
            "type": "parcoords"
           }
          ],
          "pie": [
           {
            "automargin": true,
            "type": "pie"
           }
          ],
          "scatter": [
           {
            "fillpattern": {
             "fillmode": "overlay",
             "size": 10,
             "solidity": 0.2
            },
            "type": "scatter"
           }
          ],
          "scatter3d": [
           {
            "line": {
             "colorbar": {
              "outlinewidth": 0,
              "ticks": ""
             }
            },
            "marker": {
             "colorbar": {
              "outlinewidth": 0,
              "ticks": ""
             }
            },
            "type": "scatter3d"
           }
          ],
          "scattercarpet": [
           {
            "marker": {
             "colorbar": {
              "outlinewidth": 0,
              "ticks": ""
             }
            },
            "type": "scattercarpet"
           }
          ],
          "scattergeo": [
           {
            "marker": {
             "colorbar": {
              "outlinewidth": 0,
              "ticks": ""
             }
            },
            "type": "scattergeo"
           }
          ],
          "scattergl": [
           {
            "marker": {
             "colorbar": {
              "outlinewidth": 0,
              "ticks": ""
             }
            },
            "type": "scattergl"
           }
          ],
          "scattermap": [
           {
            "marker": {
             "colorbar": {
              "outlinewidth": 0,
              "ticks": ""
             }
            },
            "type": "scattermap"
           }
          ],
          "scattermapbox": [
           {
            "marker": {
             "colorbar": {
              "outlinewidth": 0,
              "ticks": ""
             }
            },
            "type": "scattermapbox"
           }
          ],
          "scatterpolar": [
           {
            "marker": {
             "colorbar": {
              "outlinewidth": 0,
              "ticks": ""
             }
            },
            "type": "scatterpolar"
           }
          ],
          "scatterpolargl": [
           {
            "marker": {
             "colorbar": {
              "outlinewidth": 0,
              "ticks": ""
             }
            },
            "type": "scatterpolargl"
           }
          ],
          "scatterternary": [
           {
            "marker": {
             "colorbar": {
              "outlinewidth": 0,
              "ticks": ""
             }
            },
            "type": "scatterternary"
           }
          ],
          "surface": [
           {
            "colorbar": {
             "outlinewidth": 0,
             "ticks": ""
            },
            "colorscale": [
             [
              0,
              "#0d0887"
             ],
             [
              0.1111111111111111,
              "#46039f"
             ],
             [
              0.2222222222222222,
              "#7201a8"
             ],
             [
              0.3333333333333333,
              "#9c179e"
             ],
             [
              0.4444444444444444,
              "#bd3786"
             ],
             [
              0.5555555555555556,
              "#d8576b"
             ],
             [
              0.6666666666666666,
              "#ed7953"
             ],
             [
              0.7777777777777778,
              "#fb9f3a"
             ],
             [
              0.8888888888888888,
              "#fdca26"
             ],
             [
              1,
              "#f0f921"
             ]
            ],
            "type": "surface"
           }
          ],
          "table": [
           {
            "cells": {
             "fill": {
              "color": "#EBF0F8"
             },
             "line": {
              "color": "white"
             }
            },
            "header": {
             "fill": {
              "color": "#C8D4E3"
             },
             "line": {
              "color": "white"
             }
            },
            "type": "table"
           }
          ]
         },
         "layout": {
          "annotationdefaults": {
           "arrowcolor": "#2a3f5f",
           "arrowhead": 0,
           "arrowwidth": 1
          },
          "autotypenumbers": "strict",
          "coloraxis": {
           "colorbar": {
            "outlinewidth": 0,
            "ticks": ""
           }
          },
          "colorscale": {
           "diverging": [
            [
             0,
             "#8e0152"
            ],
            [
             0.1,
             "#c51b7d"
            ],
            [
             0.2,
             "#de77ae"
            ],
            [
             0.3,
             "#f1b6da"
            ],
            [
             0.4,
             "#fde0ef"
            ],
            [
             0.5,
             "#f7f7f7"
            ],
            [
             0.6,
             "#e6f5d0"
            ],
            [
             0.7,
             "#b8e186"
            ],
            [
             0.8,
             "#7fbc41"
            ],
            [
             0.9,
             "#4d9221"
            ],
            [
             1,
             "#276419"
            ]
           ],
           "sequential": [
            [
             0,
             "#0d0887"
            ],
            [
             0.1111111111111111,
             "#46039f"
            ],
            [
             0.2222222222222222,
             "#7201a8"
            ],
            [
             0.3333333333333333,
             "#9c179e"
            ],
            [
             0.4444444444444444,
             "#bd3786"
            ],
            [
             0.5555555555555556,
             "#d8576b"
            ],
            [
             0.6666666666666666,
             "#ed7953"
            ],
            [
             0.7777777777777778,
             "#fb9f3a"
            ],
            [
             0.8888888888888888,
             "#fdca26"
            ],
            [
             1,
             "#f0f921"
            ]
           ],
           "sequentialminus": [
            [
             0,
             "#0d0887"
            ],
            [
             0.1111111111111111,
             "#46039f"
            ],
            [
             0.2222222222222222,
             "#7201a8"
            ],
            [
             0.3333333333333333,
             "#9c179e"
            ],
            [
             0.4444444444444444,
             "#bd3786"
            ],
            [
             0.5555555555555556,
             "#d8576b"
            ],
            [
             0.6666666666666666,
             "#ed7953"
            ],
            [
             0.7777777777777778,
             "#fb9f3a"
            ],
            [
             0.8888888888888888,
             "#fdca26"
            ],
            [
             1,
             "#f0f921"
            ]
           ]
          },
          "colorway": [
           "#636efa",
           "#EF553B",
           "#00cc96",
           "#ab63fa",
           "#FFA15A",
           "#19d3f3",
           "#FF6692",
           "#B6E880",
           "#FF97FF",
           "#FECB52"
          ],
          "font": {
           "color": "#2a3f5f"
          },
          "geo": {
           "bgcolor": "white",
           "lakecolor": "white",
           "landcolor": "#E5ECF6",
           "showlakes": true,
           "showland": true,
           "subunitcolor": "white"
          },
          "hoverlabel": {
           "align": "left"
          },
          "hovermode": "closest",
          "mapbox": {
           "style": "light"
          },
          "paper_bgcolor": "white",
          "plot_bgcolor": "#E5ECF6",
          "polar": {
           "angularaxis": {
            "gridcolor": "white",
            "linecolor": "white",
            "ticks": ""
           },
           "bgcolor": "#E5ECF6",
           "radialaxis": {
            "gridcolor": "white",
            "linecolor": "white",
            "ticks": ""
           }
          },
          "scene": {
           "xaxis": {
            "backgroundcolor": "#E5ECF6",
            "gridcolor": "white",
            "gridwidth": 2,
            "linecolor": "white",
            "showbackground": true,
            "ticks": "",
            "zerolinecolor": "white"
           },
           "yaxis": {
            "backgroundcolor": "#E5ECF6",
            "gridcolor": "white",
            "gridwidth": 2,
            "linecolor": "white",
            "showbackground": true,
            "ticks": "",
            "zerolinecolor": "white"
           },
           "zaxis": {
            "backgroundcolor": "#E5ECF6",
            "gridcolor": "white",
            "gridwidth": 2,
            "linecolor": "white",
            "showbackground": true,
            "ticks": "",
            "zerolinecolor": "white"
           }
          },
          "shapedefaults": {
           "line": {
            "color": "#2a3f5f"
           }
          },
          "ternary": {
           "aaxis": {
            "gridcolor": "white",
            "linecolor": "white",
            "ticks": ""
           },
           "baxis": {
            "gridcolor": "white",
            "linecolor": "white",
            "ticks": ""
           },
           "bgcolor": "#E5ECF6",
           "caxis": {
            "gridcolor": "white",
            "linecolor": "white",
            "ticks": ""
           }
          },
          "title": {
           "x": 0.05
          },
          "xaxis": {
           "automargin": true,
           "gridcolor": "white",
           "linecolor": "white",
           "ticks": "",
           "title": {
            "standoff": 15
           },
           "zerolinecolor": "white",
           "zerolinewidth": 2
          },
          "yaxis": {
           "automargin": true,
           "gridcolor": "white",
           "linecolor": "white",
           "ticks": "",
           "title": {
            "standoff": 15
           },
           "zerolinecolor": "white",
           "zerolinewidth": 2
          }
         }
        },
        "title": {
         "text": "2D Plot of Support, Confidence and Lift"
        },
        "xaxis": {
         "anchor": "y",
         "domain": [
          0,
          1
         ],
         "title": {
          "text": "support"
         },
         "type": "log"
        },
        "yaxis": {
         "anchor": "x",
         "domain": [
          0,
          1
         ],
         "title": {
          "text": "confidence"
         }
        }
       }
      },
      "text/html": [
       "<div>            <script src=\"https://cdnjs.cloudflare.com/ajax/libs/mathjax/2.7.5/MathJax.js?config=TeX-AMS-MML_SVG\"></script><script type=\"text/javascript\">if (window.MathJax && window.MathJax.Hub && window.MathJax.Hub.Config) {window.MathJax.Hub.Config({SVG: {font: \"STIX-Web\"}});}</script>                <script type=\"text/javascript\">window.PlotlyConfig = {MathJaxConfig: 'local'};</script>\n",
       "        <script charset=\"utf-8\" src=\"https://cdn.plot.ly/plotly-3.1.1.min.js\" integrity=\"sha256-HUEFyfiTnZJxCxur99FjbKYTvKSzwDaD3/x5TqHpFu4=\" crossorigin=\"anonymous\"></script>                <div id=\"0c24bc5a-f0dc-4afe-9a51-65c6ad8b7da2\" class=\"plotly-graph-div\" style=\"height:800px; width:100%;\"></div>            <script type=\"text/javascript\">                window.PLOTLYENV=window.PLOTLYENV || {};                                if (document.getElementById(\"0c24bc5a-f0dc-4afe-9a51-65c6ad8b7da2\")) {                    Plotly.newPlot(                        \"0c24bc5a-f0dc-4afe-9a51-65c6ad8b7da2\",                        [{\"customdata\":[[\"ROUND SNACK BOXES SET OF4 WOODLAND \",\"POSTAGE\"],[\"PLASTERS IN TIN STRONGMAN\",\"POSTAGE\"],[\"PLASTERS IN TIN SPACEBOY\",\"POSTAGE\"],[\"WOODLAND CHARLOTTE BAG\",\"POSTAGE\"],[\"ROUND SNACK BOXES SET OF 4 FRUITS \",\"POSTAGE\"],[\"SPACEBOY LUNCH BOX \",\"POSTAGE\"],[\"ROUND SNACK BOXES SET OF4 WOODLAND \",\"POSTAGE\"],[\"LUNCH BAG WOODLAND\",\"POSTAGE\"],[\"6 RIBBONS RUSTIC CHARM\",\"POSTAGE\"],[\"JUMBO BAG WOODLAND ANIMALS\",\"POSTAGE\"],[\"ROUND SNACK BOXES SET OF 4 FRUITS \",\"ROUND SNACK BOXES SET OF4 WOODLAND \"],[\"PLASTERS IN TIN WOODLAND ANIMALS\",\"POSTAGE\"],[\"STRAWBERRY LUNCH BOX WITH CUTLERY\",\"POSTAGE\"],[\"PLASTERS IN TIN CIRCUS PARADE \",\"POSTAGE\"],[\"ROUND SNACK BOXES SET OF 4 FRUITS \",\"ROUND SNACK BOXES SET OF4 WOODLAND \"],[\"JAM MAKING SET PRINTED\",\"POSTAGE\"],[\"RED TOADSTOOL LED NIGHT LIGHT\",\"POSTAGE\"],[\"ROUND SNACK BOXES SET OF 4 FRUITS \",\"ROUND SNACK BOXES SET OF4 WOODLAND \"],[\"SPACEBOY LUNCH BOX \",\"ROUND SNACK BOXES SET OF4 WOODLAND \"],[\"REGENCY CAKESTAND 3 TIER\",\"POSTAGE\"],[\"ROUND SNACK BOXES SET OF4 WOODLAND \",\"ROUND SNACK BOXES SET OF 4 FRUITS \"],[\"PLASTERS IN TIN CIRCUS PARADE \",\"PLASTERS IN TIN WOODLAND ANIMALS\"],[\"ROUND SNACK BOXES SET OF4 WOODLAND \",\"ROUND SNACK BOXES SET OF 4 FRUITS \"],[\"PLASTERS IN TIN WOODLAND ANIMALS\",\"ROUND SNACK BOXES SET OF4 WOODLAND \"]],\"hovertemplate\":\"support=%{x}\\u003cbr\\u003econfidence=%{y}\\u003cbr\\u003eantecedents_short=%{text}\\u003cbr\\u003eantecedents=%{customdata[0]}\\u003cbr\\u003econsequents=%{customdata[1]}\\u003cbr\\u003elift=%{marker.color}\\u003cextra\\u003e\\u003c\\u002fextra\\u003e\",\"legendgroup\":\"\",\"marker\":{\"color\":{\"dtype\":\"f8\",\"bdata\":\"uK8D54wo9z8rhxbZzvf2PynLEMe6uPY\\u002fjLlrCfmg9j8qOpLLf0j2P3uDL0ymCvY\\u002fryXkg57N9T\\u002fF\\u002frJ78rD1Pylcj8L1KPU\\u002fy6FFtvP99D9YObTIdr4QQLFQa5p3nPQ\\u002f6bevA+eM9D\\u002f4wmSqYFT0P7FQa5p3HBBAeqUsQxzr8z8xmSoYldTzPyL99nXgHBFAApoIG57eC0C0yHa+nxrxPyL99nXgHBFAqmBUUifgE0CxUGuadxwQQMPTK2UZ4gRA\"},\"coloraxis\":\"coloraxis\",\"opacity\":0.5,\"symbol\":\"circle\"},\"mode\":\"markers+text\",\"name\":\"\",\"orientation\":\"v\",\"showlegend\":false,\"text\":[\"ROUND SNAC\",\"PLASTERS I\",\"PLASTERS I\",\"WOODLAND C\",\"ROUND SNAC\",\"SPACEBOY L\",\"ROUND SNAC\",\"LUNCH BAG \",\"6 RIBBONS \",\"JUMBO BAG \",\"ROUND SNAC\",\"PLASTERS I\",\"STRAWBERRY\",\"PLASTERS I\",\"ROUND SNAC\",\"JAM MAKING\",\"RED TOADST\",\"ROUND SNAC\",\"SPACEBOY L\",\"REGENCY CA\",\"ROUND SNAC\",\"PLASTERS I\",\"ROUND SNAC\",\"PLASTERS I\"],\"x\":{\"dtype\":\"f8\",\"bdata\":\"\\u002ftR46SYxuD9wXwfOGVGqPw5Pr5RliLM\\u002fqoJRSZ2Atj8Mk6mCUUm9P7n8h\\u002fTb17E\\u002fBhIUP8bcxT9wXwfOGVGqP7n8h\\u002fTb17E\\u002ffoy5awn5sD\\u002f+1HjpJjG4P8e6uI0G8LY\\u002fcF8HzhlRqj8OT6+UZYizP3BfB84ZUbo\\u002f\\u002fyH99nXgrD+P5PIf0m+vP\\u002f7UeOkmMbg\\u002fxLEubqMBrD\\u002fUK2UZ4li3P\\u002f7UeOkmMbg\\u002fcF8HzhlRqj9wXwfOGVG6P\\u002f8h\\u002ffZ14Kw\\u002f\"},\"xaxis\":\"x\",\"y\":{\"dtype\":\"f8\",\"bdata\":\"JCh+jLlr7T8FxY8xdy3tP3e+nxov3ew\\u002fyeU\\u002fpN++7D\\u002fKVMGopE7sPwAAAAAAAOw\\u002fGQRWDi2y6z88vVKWIY7rP+F6FK5H4eo\\u002ftTf4wmSq6j8dOGdEaW\\u002fqP1jKMsSxLuo\\u002fJXUCmggb6j9t5\\u002fup8dLpP4\\u002fk8h\\u002fSb+k\\u002fdk8eFmpN6T+NKO0NvjDpP21Wfa62Yuc\\u002fAAAAAAAA5j\\u002fufD81XrrlP6Fns+pzteE\\u002fumsJ+aBn4T956SYxCKzgPz\\u002fG3LWEfOA\\u002f\"},\"yaxis\":\"y\",\"type\":\"scatter\",\"textposition\":\"top center\"}],                        {\"template\":{\"data\":{\"histogram2dcontour\":[{\"type\":\"histogram2dcontour\",\"colorbar\":{\"outlinewidth\":0,\"ticks\":\"\"},\"colorscale\":[[0.0,\"#0d0887\"],[0.1111111111111111,\"#46039f\"],[0.2222222222222222,\"#7201a8\"],[0.3333333333333333,\"#9c179e\"],[0.4444444444444444,\"#bd3786\"],[0.5555555555555556,\"#d8576b\"],[0.6666666666666666,\"#ed7953\"],[0.7777777777777778,\"#fb9f3a\"],[0.8888888888888888,\"#fdca26\"],[1.0,\"#f0f921\"]]}],\"choropleth\":[{\"type\":\"choropleth\",\"colorbar\":{\"outlinewidth\":0,\"ticks\":\"\"}}],\"histogram2d\":[{\"type\":\"histogram2d\",\"colorbar\":{\"outlinewidth\":0,\"ticks\":\"\"},\"colorscale\":[[0.0,\"#0d0887\"],[0.1111111111111111,\"#46039f\"],[0.2222222222222222,\"#7201a8\"],[0.3333333333333333,\"#9c179e\"],[0.4444444444444444,\"#bd3786\"],[0.5555555555555556,\"#d8576b\"],[0.6666666666666666,\"#ed7953\"],[0.7777777777777778,\"#fb9f3a\"],[0.8888888888888888,\"#fdca26\"],[1.0,\"#f0f921\"]]}],\"heatmap\":[{\"type\":\"heatmap\",\"colorbar\":{\"outlinewidth\":0,\"ticks\":\"\"},\"colorscale\":[[0.0,\"#0d0887\"],[0.1111111111111111,\"#46039f\"],[0.2222222222222222,\"#7201a8\"],[0.3333333333333333,\"#9c179e\"],[0.4444444444444444,\"#bd3786\"],[0.5555555555555556,\"#d8576b\"],[0.6666666666666666,\"#ed7953\"],[0.7777777777777778,\"#fb9f3a\"],[0.8888888888888888,\"#fdca26\"],[1.0,\"#f0f921\"]]}],\"contourcarpet\":[{\"type\":\"contourcarpet\",\"colorbar\":{\"outlinewidth\":0,\"ticks\":\"\"}}],\"contour\":[{\"type\":\"contour\",\"colorbar\":{\"outlinewidth\":0,\"ticks\":\"\"},\"colorscale\":[[0.0,\"#0d0887\"],[0.1111111111111111,\"#46039f\"],[0.2222222222222222,\"#7201a8\"],[0.3333333333333333,\"#9c179e\"],[0.4444444444444444,\"#bd3786\"],[0.5555555555555556,\"#d8576b\"],[0.6666666666666666,\"#ed7953\"],[0.7777777777777778,\"#fb9f3a\"],[0.8888888888888888,\"#fdca26\"],[1.0,\"#f0f921\"]]}],\"surface\":[{\"type\":\"surface\",\"colorbar\":{\"outlinewidth\":0,\"ticks\":\"\"},\"colorscale\":[[0.0,\"#0d0887\"],[0.1111111111111111,\"#46039f\"],[0.2222222222222222,\"#7201a8\"],[0.3333333333333333,\"#9c179e\"],[0.4444444444444444,\"#bd3786\"],[0.5555555555555556,\"#d8576b\"],[0.6666666666666666,\"#ed7953\"],[0.7777777777777778,\"#fb9f3a\"],[0.8888888888888888,\"#fdca26\"],[1.0,\"#f0f921\"]]}],\"mesh3d\":[{\"type\":\"mesh3d\",\"colorbar\":{\"outlinewidth\":0,\"ticks\":\"\"}}],\"scatter\":[{\"fillpattern\":{\"fillmode\":\"overlay\",\"size\":10,\"solidity\":0.2},\"type\":\"scatter\"}],\"parcoords\":[{\"type\":\"parcoords\",\"line\":{\"colorbar\":{\"outlinewidth\":0,\"ticks\":\"\"}}}],\"scatterpolargl\":[{\"type\":\"scatterpolargl\",\"marker\":{\"colorbar\":{\"outlinewidth\":0,\"ticks\":\"\"}}}],\"bar\":[{\"error_x\":{\"color\":\"#2a3f5f\"},\"error_y\":{\"color\":\"#2a3f5f\"},\"marker\":{\"line\":{\"color\":\"#E5ECF6\",\"width\":0.5},\"pattern\":{\"fillmode\":\"overlay\",\"size\":10,\"solidity\":0.2}},\"type\":\"bar\"}],\"scattergeo\":[{\"type\":\"scattergeo\",\"marker\":{\"colorbar\":{\"outlinewidth\":0,\"ticks\":\"\"}}}],\"scatterpolar\":[{\"type\":\"scatterpolar\",\"marker\":{\"colorbar\":{\"outlinewidth\":0,\"ticks\":\"\"}}}],\"histogram\":[{\"marker\":{\"pattern\":{\"fillmode\":\"overlay\",\"size\":10,\"solidity\":0.2}},\"type\":\"histogram\"}],\"scattergl\":[{\"type\":\"scattergl\",\"marker\":{\"colorbar\":{\"outlinewidth\":0,\"ticks\":\"\"}}}],\"scatter3d\":[{\"type\":\"scatter3d\",\"line\":{\"colorbar\":{\"outlinewidth\":0,\"ticks\":\"\"}},\"marker\":{\"colorbar\":{\"outlinewidth\":0,\"ticks\":\"\"}}}],\"scattermap\":[{\"type\":\"scattermap\",\"marker\":{\"colorbar\":{\"outlinewidth\":0,\"ticks\":\"\"}}}],\"scattermapbox\":[{\"type\":\"scattermapbox\",\"marker\":{\"colorbar\":{\"outlinewidth\":0,\"ticks\":\"\"}}}],\"scatterternary\":[{\"type\":\"scatterternary\",\"marker\":{\"colorbar\":{\"outlinewidth\":0,\"ticks\":\"\"}}}],\"scattercarpet\":[{\"type\":\"scattercarpet\",\"marker\":{\"colorbar\":{\"outlinewidth\":0,\"ticks\":\"\"}}}],\"carpet\":[{\"aaxis\":{\"endlinecolor\":\"#2a3f5f\",\"gridcolor\":\"white\",\"linecolor\":\"white\",\"minorgridcolor\":\"white\",\"startlinecolor\":\"#2a3f5f\"},\"baxis\":{\"endlinecolor\":\"#2a3f5f\",\"gridcolor\":\"white\",\"linecolor\":\"white\",\"minorgridcolor\":\"white\",\"startlinecolor\":\"#2a3f5f\"},\"type\":\"carpet\"}],\"table\":[{\"cells\":{\"fill\":{\"color\":\"#EBF0F8\"},\"line\":{\"color\":\"white\"}},\"header\":{\"fill\":{\"color\":\"#C8D4E3\"},\"line\":{\"color\":\"white\"}},\"type\":\"table\"}],\"barpolar\":[{\"marker\":{\"line\":{\"color\":\"#E5ECF6\",\"width\":0.5},\"pattern\":{\"fillmode\":\"overlay\",\"size\":10,\"solidity\":0.2}},\"type\":\"barpolar\"}],\"pie\":[{\"automargin\":true,\"type\":\"pie\"}]},\"layout\":{\"autotypenumbers\":\"strict\",\"colorway\":[\"#636efa\",\"#EF553B\",\"#00cc96\",\"#ab63fa\",\"#FFA15A\",\"#19d3f3\",\"#FF6692\",\"#B6E880\",\"#FF97FF\",\"#FECB52\"],\"font\":{\"color\":\"#2a3f5f\"},\"hovermode\":\"closest\",\"hoverlabel\":{\"align\":\"left\"},\"paper_bgcolor\":\"white\",\"plot_bgcolor\":\"#E5ECF6\",\"polar\":{\"bgcolor\":\"#E5ECF6\",\"angularaxis\":{\"gridcolor\":\"white\",\"linecolor\":\"white\",\"ticks\":\"\"},\"radialaxis\":{\"gridcolor\":\"white\",\"linecolor\":\"white\",\"ticks\":\"\"}},\"ternary\":{\"bgcolor\":\"#E5ECF6\",\"aaxis\":{\"gridcolor\":\"white\",\"linecolor\":\"white\",\"ticks\":\"\"},\"baxis\":{\"gridcolor\":\"white\",\"linecolor\":\"white\",\"ticks\":\"\"},\"caxis\":{\"gridcolor\":\"white\",\"linecolor\":\"white\",\"ticks\":\"\"}},\"coloraxis\":{\"colorbar\":{\"outlinewidth\":0,\"ticks\":\"\"}},\"colorscale\":{\"sequential\":[[0.0,\"#0d0887\"],[0.1111111111111111,\"#46039f\"],[0.2222222222222222,\"#7201a8\"],[0.3333333333333333,\"#9c179e\"],[0.4444444444444444,\"#bd3786\"],[0.5555555555555556,\"#d8576b\"],[0.6666666666666666,\"#ed7953\"],[0.7777777777777778,\"#fb9f3a\"],[0.8888888888888888,\"#fdca26\"],[1.0,\"#f0f921\"]],\"sequentialminus\":[[0.0,\"#0d0887\"],[0.1111111111111111,\"#46039f\"],[0.2222222222222222,\"#7201a8\"],[0.3333333333333333,\"#9c179e\"],[0.4444444444444444,\"#bd3786\"],[0.5555555555555556,\"#d8576b\"],[0.6666666666666666,\"#ed7953\"],[0.7777777777777778,\"#fb9f3a\"],[0.8888888888888888,\"#fdca26\"],[1.0,\"#f0f921\"]],\"diverging\":[[0,\"#8e0152\"],[0.1,\"#c51b7d\"],[0.2,\"#de77ae\"],[0.3,\"#f1b6da\"],[0.4,\"#fde0ef\"],[0.5,\"#f7f7f7\"],[0.6,\"#e6f5d0\"],[0.7,\"#b8e186\"],[0.8,\"#7fbc41\"],[0.9,\"#4d9221\"],[1,\"#276419\"]]},\"xaxis\":{\"gridcolor\":\"white\",\"linecolor\":\"white\",\"ticks\":\"\",\"title\":{\"standoff\":15},\"zerolinecolor\":\"white\",\"automargin\":true,\"zerolinewidth\":2},\"yaxis\":{\"gridcolor\":\"white\",\"linecolor\":\"white\",\"ticks\":\"\",\"title\":{\"standoff\":15},\"zerolinecolor\":\"white\",\"automargin\":true,\"zerolinewidth\":2},\"scene\":{\"xaxis\":{\"backgroundcolor\":\"#E5ECF6\",\"gridcolor\":\"white\",\"linecolor\":\"white\",\"showbackground\":true,\"ticks\":\"\",\"zerolinecolor\":\"white\",\"gridwidth\":2},\"yaxis\":{\"backgroundcolor\":\"#E5ECF6\",\"gridcolor\":\"white\",\"linecolor\":\"white\",\"showbackground\":true,\"ticks\":\"\",\"zerolinecolor\":\"white\",\"gridwidth\":2},\"zaxis\":{\"backgroundcolor\":\"#E5ECF6\",\"gridcolor\":\"white\",\"linecolor\":\"white\",\"showbackground\":true,\"ticks\":\"\",\"zerolinecolor\":\"white\",\"gridwidth\":2}},\"shapedefaults\":{\"line\":{\"color\":\"#2a3f5f\"}},\"annotationdefaults\":{\"arrowcolor\":\"#2a3f5f\",\"arrowhead\":0,\"arrowwidth\":1},\"geo\":{\"bgcolor\":\"white\",\"landcolor\":\"#E5ECF6\",\"subunitcolor\":\"white\",\"showland\":true,\"showlakes\":true,\"lakecolor\":\"white\"},\"title\":{\"x\":0.05},\"mapbox\":{\"style\":\"light\"}}},\"xaxis\":{\"anchor\":\"y\",\"domain\":[0.0,1.0],\"title\":{\"text\":\"support\"},\"type\":\"log\"},\"yaxis\":{\"anchor\":\"x\",\"domain\":[0.0,1.0],\"title\":{\"text\":\"confidence\"}},\"coloraxis\":{\"colorbar\":{\"title\":{\"text\":\"lift\"}},\"colorscale\":[[0.0,\"#0d0887\"],[0.1111111111111111,\"#46039f\"],[0.2222222222222222,\"#7201a8\"],[0.3333333333333333,\"#9c179e\"],[0.4444444444444444,\"#bd3786\"],[0.5555555555555556,\"#d8576b\"],[0.6666666666666666,\"#ed7953\"],[0.7777777777777778,\"#fb9f3a\"],[0.8888888888888888,\"#fdca26\"],[1.0,\"#f0f921\"]]},\"legend\":{\"tracegroupgap\":0},\"margin\":{\"t\":60},\"plot_bgcolor\":\"rgb(240,240,240)\",\"title\":{\"text\":\"2D Plot of Support, Confidence and Lift\"},\"height\":800},                        {\"responsive\": true}                    ).then(function(){\n",
       "                            \n",
       "var gd = document.getElementById('0c24bc5a-f0dc-4afe-9a51-65c6ad8b7da2');\n",
       "var x = new MutationObserver(function (mutations, observer) {{\n",
       "        var display = window.getComputedStyle(gd).display;\n",
       "        if (!display || display === 'none') {{\n",
       "            console.log([gd, 'removed!']);\n",
       "            Plotly.purge(gd);\n",
       "            observer.disconnect();\n",
       "        }}\n",
       "}});\n",
       "\n",
       "// Listen for the removal of the full notebook cells\n",
       "var notebookContainer = gd.closest('#notebook-container');\n",
       "if (notebookContainer) {{\n",
       "    x.observe(notebookContainer, {childList: true});\n",
       "}}\n",
       "\n",
       "// Listen for the clearing of the current output cell\n",
       "var outputEl = gd.closest('.output');\n",
       "if (outputEl) {{\n",
       "    x.observe(outputEl, {childList: true});\n",
       "}}\n",
       "\n",
       "                        })                };            </script>        </div>"
      ]
     },
     "metadata": {},
     "output_type": "display_data"
    }
   ],
   "source": [
    "plot_model(a1)"
   ]
  },
  {
   "cell_type": "code",
   "execution_count": 8,
   "metadata": {},
   "outputs": [
    {
     "data": {
      "text/html": [
       "        <script type=\"text/javascript\">\n",
       "        window.PlotlyConfig = {MathJaxConfig: 'local'};\n",
       "        if (window.MathJax && window.MathJax.Hub && window.MathJax.Hub.Config) {window.MathJax.Hub.Config({SVG: {font: \"STIX-Web\"}});}\n",
       "        </script>\n",
       "        <script type=\"module\">import \"https://cdn.plot.ly/plotly-3.1.1.min\"</script>\n",
       "        "
      ]
     },
     "metadata": {},
     "output_type": "display_data"
    },
    {
     "data": {
      "application/vnd.plotly.v1+json": {
       "config": {
        "plotlyServerURL": "https://plot.ly"
       },
       "data": [
        {
         "customdata": [
          [
           "ROUND SNACK BOXES SET OF4 WOODLAND ",
           "POSTAGE"
          ],
          [
           "PLASTERS IN TIN STRONGMAN",
           "POSTAGE"
          ],
          [
           "PLASTERS IN TIN SPACEBOY",
           "POSTAGE"
          ],
          [
           "WOODLAND CHARLOTTE BAG",
           "POSTAGE"
          ],
          [
           "ROUND SNACK BOXES SET OF 4 FRUITS ",
           "POSTAGE"
          ],
          [
           "SPACEBOY LUNCH BOX ",
           "POSTAGE"
          ],
          [
           "ROUND SNACK BOXES SET OF4 WOODLAND ",
           "POSTAGE"
          ],
          [
           "LUNCH BAG WOODLAND",
           "POSTAGE"
          ],
          [
           "6 RIBBONS RUSTIC CHARM",
           "POSTAGE"
          ],
          [
           "JUMBO BAG WOODLAND ANIMALS",
           "POSTAGE"
          ],
          [
           "ROUND SNACK BOXES SET OF 4 FRUITS ",
           "ROUND SNACK BOXES SET OF4 WOODLAND "
          ],
          [
           "PLASTERS IN TIN WOODLAND ANIMALS",
           "POSTAGE"
          ],
          [
           "STRAWBERRY LUNCH BOX WITH CUTLERY",
           "POSTAGE"
          ],
          [
           "PLASTERS IN TIN CIRCUS PARADE ",
           "POSTAGE"
          ],
          [
           "ROUND SNACK BOXES SET OF 4 FRUITS ",
           "ROUND SNACK BOXES SET OF4 WOODLAND "
          ],
          [
           "JAM MAKING SET PRINTED",
           "POSTAGE"
          ],
          [
           "RED TOADSTOOL LED NIGHT LIGHT",
           "POSTAGE"
          ],
          [
           "ROUND SNACK BOXES SET OF 4 FRUITS ",
           "ROUND SNACK BOXES SET OF4 WOODLAND "
          ],
          [
           "SPACEBOY LUNCH BOX ",
           "ROUND SNACK BOXES SET OF4 WOODLAND "
          ],
          [
           "REGENCY CAKESTAND 3 TIER",
           "POSTAGE"
          ],
          [
           "ROUND SNACK BOXES SET OF4 WOODLAND ",
           "ROUND SNACK BOXES SET OF 4 FRUITS "
          ],
          [
           "PLASTERS IN TIN CIRCUS PARADE ",
           "PLASTERS IN TIN WOODLAND ANIMALS"
          ],
          [
           "ROUND SNACK BOXES SET OF4 WOODLAND ",
           "ROUND SNACK BOXES SET OF 4 FRUITS "
          ],
          [
           "PLASTERS IN TIN WOODLAND ANIMALS",
           "ROUND SNACK BOXES SET OF4 WOODLAND "
          ]
         ],
         "hovertemplate": "support=%{x}<br>confidence=%{y}<br>lift=%{z}<br>antecedents=%{customdata[0]}<br>consequents=%{customdata[1]}<br>antecedent support=%{marker.color}<extra></extra>",
         "legendgroup": "",
         "marker": {
          "color": {
           "bdata": "cF8HzhlRuj//If32deCsP3/ZPXlYqLU/KH6MuWsJuT9xGw3gLZDAPzj4wmSqYLQ/NxrAWyBByT9UdCSX/5CuP2Kh1jTvOLU/OPjCZKpgtD8Mk6mCUUm9P9V46SYxCLw/VOOlm8QgsD/+1HjpJjG4P3EbDeAtkMA/xm00gLdAsj8awFsgQfGzP3EbDeAtkMA/OPjCZKpgtD+NKO0NvjDBPwYSFD/G3MU//tR46SYxuD83GsBbIEHJP9V46SYxCLw/",
           "dtype": "f8"
          },
          "coloraxis": "coloraxis",
          "opacity": 0.7,
          "symbol": "circle"
         },
         "mode": "markers",
         "name": "",
         "scene": "scene",
         "showlegend": false,
         "type": "scatter3d",
         "x": {
          "bdata": "/tR46SYxuD9wXwfOGVGqPw5Pr5RliLM/qoJRSZ2Atj8Mk6mCUUm9P7n8h/Tb17E/BhIUP8bcxT9wXwfOGVGqP7n8h/Tb17E/foy5awn5sD/+1HjpJjG4P8e6uI0G8LY/cF8HzhlRqj8OT6+UZYizP3BfB84ZUbo//yH99nXgrD+P5PIf0m+vP/7UeOkmMbg/xLEubqMBrD/UK2UZ4li3P/7UeOkmMbg/cF8HzhlRqj9wXwfOGVG6P/8h/fZ14Kw/",
          "dtype": "f8"
         },
         "y": {
          "bdata": "JCh+jLlr7T8FxY8xdy3tP3e+nxov3ew/yeU/pN++7D/KVMGopE7sPwAAAAAAAOw/GQRWDi2y6z88vVKWIY7rP+F6FK5H4eo/tTf4wmSq6j8dOGdEaW/qP1jKMsSxLuo/JXUCmggb6j9t5/up8dLpP4/k8h/Sb+k/dk8eFmpN6T+NKO0NvjDpP21Wfa62Yuc/AAAAAAAA5j/ufD81XrrlP6Fns+pzteE/umsJ+aBn4T956SYxCKzgPz/G3LWEfOA/",
          "dtype": "f8"
         },
         "z": {
          "bdata": "uK8D54wo9z8rhxbZzvf2PynLEMe6uPY/jLlrCfmg9j8qOpLLf0j2P3uDL0ymCvY/ryXkg57N9T/F/rJ78rD1Pylcj8L1KPU/y6FFtvP99D9YObTIdr4QQLFQa5p3nPQ/6bevA+eM9D/4wmSqYFT0P7FQa5p3HBBAeqUsQxzr8z8xmSoYldTzPyL99nXgHBFAApoIG57eC0C0yHa+nxrxPyL99nXgHBFAqmBUUifgE0CxUGuadxwQQMPTK2UZ4gRA",
          "dtype": "f8"
         }
        }
       ],
       "layout": {
        "coloraxis": {
         "colorbar": {
          "title": {
           "text": "antecedent support"
          }
         },
         "colorscale": [
          [
           0,
           "#0d0887"
          ],
          [
           0.1111111111111111,
           "#46039f"
          ],
          [
           0.2222222222222222,
           "#7201a8"
          ],
          [
           0.3333333333333333,
           "#9c179e"
          ],
          [
           0.4444444444444444,
           "#bd3786"
          ],
          [
           0.5555555555555556,
           "#d8576b"
          ],
          [
           0.6666666666666666,
           "#ed7953"
          ],
          [
           0.7777777777777778,
           "#fb9f3a"
          ],
          [
           0.8888888888888888,
           "#fdca26"
          ],
          [
           1,
           "#f0f921"
          ]
         ]
        },
        "height": 800,
        "legend": {
         "tracegroupgap": 0
        },
        "scene": {
         "domain": {
          "x": [
           0,
           1
          ],
          "y": [
           0,
           1
          ]
         },
         "xaxis": {
          "title": {
           "text": "support"
          }
         },
         "yaxis": {
          "title": {
           "text": "confidence"
          }
         },
         "zaxis": {
          "title": {
           "text": "lift"
          }
         }
        },
        "template": {
         "data": {
          "bar": [
           {
            "error_x": {
             "color": "#2a3f5f"
            },
            "error_y": {
             "color": "#2a3f5f"
            },
            "marker": {
             "line": {
              "color": "#E5ECF6",
              "width": 0.5
             },
             "pattern": {
              "fillmode": "overlay",
              "size": 10,
              "solidity": 0.2
             }
            },
            "type": "bar"
           }
          ],
          "barpolar": [
           {
            "marker": {
             "line": {
              "color": "#E5ECF6",
              "width": 0.5
             },
             "pattern": {
              "fillmode": "overlay",
              "size": 10,
              "solidity": 0.2
             }
            },
            "type": "barpolar"
           }
          ],
          "carpet": [
           {
            "aaxis": {
             "endlinecolor": "#2a3f5f",
             "gridcolor": "white",
             "linecolor": "white",
             "minorgridcolor": "white",
             "startlinecolor": "#2a3f5f"
            },
            "baxis": {
             "endlinecolor": "#2a3f5f",
             "gridcolor": "white",
             "linecolor": "white",
             "minorgridcolor": "white",
             "startlinecolor": "#2a3f5f"
            },
            "type": "carpet"
           }
          ],
          "choropleth": [
           {
            "colorbar": {
             "outlinewidth": 0,
             "ticks": ""
            },
            "type": "choropleth"
           }
          ],
          "contour": [
           {
            "colorbar": {
             "outlinewidth": 0,
             "ticks": ""
            },
            "colorscale": [
             [
              0,
              "#0d0887"
             ],
             [
              0.1111111111111111,
              "#46039f"
             ],
             [
              0.2222222222222222,
              "#7201a8"
             ],
             [
              0.3333333333333333,
              "#9c179e"
             ],
             [
              0.4444444444444444,
              "#bd3786"
             ],
             [
              0.5555555555555556,
              "#d8576b"
             ],
             [
              0.6666666666666666,
              "#ed7953"
             ],
             [
              0.7777777777777778,
              "#fb9f3a"
             ],
             [
              0.8888888888888888,
              "#fdca26"
             ],
             [
              1,
              "#f0f921"
             ]
            ],
            "type": "contour"
           }
          ],
          "contourcarpet": [
           {
            "colorbar": {
             "outlinewidth": 0,
             "ticks": ""
            },
            "type": "contourcarpet"
           }
          ],
          "heatmap": [
           {
            "colorbar": {
             "outlinewidth": 0,
             "ticks": ""
            },
            "colorscale": [
             [
              0,
              "#0d0887"
             ],
             [
              0.1111111111111111,
              "#46039f"
             ],
             [
              0.2222222222222222,
              "#7201a8"
             ],
             [
              0.3333333333333333,
              "#9c179e"
             ],
             [
              0.4444444444444444,
              "#bd3786"
             ],
             [
              0.5555555555555556,
              "#d8576b"
             ],
             [
              0.6666666666666666,
              "#ed7953"
             ],
             [
              0.7777777777777778,
              "#fb9f3a"
             ],
             [
              0.8888888888888888,
              "#fdca26"
             ],
             [
              1,
              "#f0f921"
             ]
            ],
            "type": "heatmap"
           }
          ],
          "histogram": [
           {
            "marker": {
             "pattern": {
              "fillmode": "overlay",
              "size": 10,
              "solidity": 0.2
             }
            },
            "type": "histogram"
           }
          ],
          "histogram2d": [
           {
            "colorbar": {
             "outlinewidth": 0,
             "ticks": ""
            },
            "colorscale": [
             [
              0,
              "#0d0887"
             ],
             [
              0.1111111111111111,
              "#46039f"
             ],
             [
              0.2222222222222222,
              "#7201a8"
             ],
             [
              0.3333333333333333,
              "#9c179e"
             ],
             [
              0.4444444444444444,
              "#bd3786"
             ],
             [
              0.5555555555555556,
              "#d8576b"
             ],
             [
              0.6666666666666666,
              "#ed7953"
             ],
             [
              0.7777777777777778,
              "#fb9f3a"
             ],
             [
              0.8888888888888888,
              "#fdca26"
             ],
             [
              1,
              "#f0f921"
             ]
            ],
            "type": "histogram2d"
           }
          ],
          "histogram2dcontour": [
           {
            "colorbar": {
             "outlinewidth": 0,
             "ticks": ""
            },
            "colorscale": [
             [
              0,
              "#0d0887"
             ],
             [
              0.1111111111111111,
              "#46039f"
             ],
             [
              0.2222222222222222,
              "#7201a8"
             ],
             [
              0.3333333333333333,
              "#9c179e"
             ],
             [
              0.4444444444444444,
              "#bd3786"
             ],
             [
              0.5555555555555556,
              "#d8576b"
             ],
             [
              0.6666666666666666,
              "#ed7953"
             ],
             [
              0.7777777777777778,
              "#fb9f3a"
             ],
             [
              0.8888888888888888,
              "#fdca26"
             ],
             [
              1,
              "#f0f921"
             ]
            ],
            "type": "histogram2dcontour"
           }
          ],
          "mesh3d": [
           {
            "colorbar": {
             "outlinewidth": 0,
             "ticks": ""
            },
            "type": "mesh3d"
           }
          ],
          "parcoords": [
           {
            "line": {
             "colorbar": {
              "outlinewidth": 0,
              "ticks": ""
             }
            },
            "type": "parcoords"
           }
          ],
          "pie": [
           {
            "automargin": true,
            "type": "pie"
           }
          ],
          "scatter": [
           {
            "fillpattern": {
             "fillmode": "overlay",
             "size": 10,
             "solidity": 0.2
            },
            "type": "scatter"
           }
          ],
          "scatter3d": [
           {
            "line": {
             "colorbar": {
              "outlinewidth": 0,
              "ticks": ""
             }
            },
            "marker": {
             "colorbar": {
              "outlinewidth": 0,
              "ticks": ""
             }
            },
            "type": "scatter3d"
           }
          ],
          "scattercarpet": [
           {
            "marker": {
             "colorbar": {
              "outlinewidth": 0,
              "ticks": ""
             }
            },
            "type": "scattercarpet"
           }
          ],
          "scattergeo": [
           {
            "marker": {
             "colorbar": {
              "outlinewidth": 0,
              "ticks": ""
             }
            },
            "type": "scattergeo"
           }
          ],
          "scattergl": [
           {
            "marker": {
             "colorbar": {
              "outlinewidth": 0,
              "ticks": ""
             }
            },
            "type": "scattergl"
           }
          ],
          "scattermap": [
           {
            "marker": {
             "colorbar": {
              "outlinewidth": 0,
              "ticks": ""
             }
            },
            "type": "scattermap"
           }
          ],
          "scattermapbox": [
           {
            "marker": {
             "colorbar": {
              "outlinewidth": 0,
              "ticks": ""
             }
            },
            "type": "scattermapbox"
           }
          ],
          "scatterpolar": [
           {
            "marker": {
             "colorbar": {
              "outlinewidth": 0,
              "ticks": ""
             }
            },
            "type": "scatterpolar"
           }
          ],
          "scatterpolargl": [
           {
            "marker": {
             "colorbar": {
              "outlinewidth": 0,
              "ticks": ""
             }
            },
            "type": "scatterpolargl"
           }
          ],
          "scatterternary": [
           {
            "marker": {
             "colorbar": {
              "outlinewidth": 0,
              "ticks": ""
             }
            },
            "type": "scatterternary"
           }
          ],
          "surface": [
           {
            "colorbar": {
             "outlinewidth": 0,
             "ticks": ""
            },
            "colorscale": [
             [
              0,
              "#0d0887"
             ],
             [
              0.1111111111111111,
              "#46039f"
             ],
             [
              0.2222222222222222,
              "#7201a8"
             ],
             [
              0.3333333333333333,
              "#9c179e"
             ],
             [
              0.4444444444444444,
              "#bd3786"
             ],
             [
              0.5555555555555556,
              "#d8576b"
             ],
             [
              0.6666666666666666,
              "#ed7953"
             ],
             [
              0.7777777777777778,
              "#fb9f3a"
             ],
             [
              0.8888888888888888,
              "#fdca26"
             ],
             [
              1,
              "#f0f921"
             ]
            ],
            "type": "surface"
           }
          ],
          "table": [
           {
            "cells": {
             "fill": {
              "color": "#EBF0F8"
             },
             "line": {
              "color": "white"
             }
            },
            "header": {
             "fill": {
              "color": "#C8D4E3"
             },
             "line": {
              "color": "white"
             }
            },
            "type": "table"
           }
          ]
         },
         "layout": {
          "annotationdefaults": {
           "arrowcolor": "#2a3f5f",
           "arrowhead": 0,
           "arrowwidth": 1
          },
          "autotypenumbers": "strict",
          "coloraxis": {
           "colorbar": {
            "outlinewidth": 0,
            "ticks": ""
           }
          },
          "colorscale": {
           "diverging": [
            [
             0,
             "#8e0152"
            ],
            [
             0.1,
             "#c51b7d"
            ],
            [
             0.2,
             "#de77ae"
            ],
            [
             0.3,
             "#f1b6da"
            ],
            [
             0.4,
             "#fde0ef"
            ],
            [
             0.5,
             "#f7f7f7"
            ],
            [
             0.6,
             "#e6f5d0"
            ],
            [
             0.7,
             "#b8e186"
            ],
            [
             0.8,
             "#7fbc41"
            ],
            [
             0.9,
             "#4d9221"
            ],
            [
             1,
             "#276419"
            ]
           ],
           "sequential": [
            [
             0,
             "#0d0887"
            ],
            [
             0.1111111111111111,
             "#46039f"
            ],
            [
             0.2222222222222222,
             "#7201a8"
            ],
            [
             0.3333333333333333,
             "#9c179e"
            ],
            [
             0.4444444444444444,
             "#bd3786"
            ],
            [
             0.5555555555555556,
             "#d8576b"
            ],
            [
             0.6666666666666666,
             "#ed7953"
            ],
            [
             0.7777777777777778,
             "#fb9f3a"
            ],
            [
             0.8888888888888888,
             "#fdca26"
            ],
            [
             1,
             "#f0f921"
            ]
           ],
           "sequentialminus": [
            [
             0,
             "#0d0887"
            ],
            [
             0.1111111111111111,
             "#46039f"
            ],
            [
             0.2222222222222222,
             "#7201a8"
            ],
            [
             0.3333333333333333,
             "#9c179e"
            ],
            [
             0.4444444444444444,
             "#bd3786"
            ],
            [
             0.5555555555555556,
             "#d8576b"
            ],
            [
             0.6666666666666666,
             "#ed7953"
            ],
            [
             0.7777777777777778,
             "#fb9f3a"
            ],
            [
             0.8888888888888888,
             "#fdca26"
            ],
            [
             1,
             "#f0f921"
            ]
           ]
          },
          "colorway": [
           "#636efa",
           "#EF553B",
           "#00cc96",
           "#ab63fa",
           "#FFA15A",
           "#19d3f3",
           "#FF6692",
           "#B6E880",
           "#FF97FF",
           "#FECB52"
          ],
          "font": {
           "color": "#2a3f5f"
          },
          "geo": {
           "bgcolor": "white",
           "lakecolor": "white",
           "landcolor": "#E5ECF6",
           "showlakes": true,
           "showland": true,
           "subunitcolor": "white"
          },
          "hoverlabel": {
           "align": "left"
          },
          "hovermode": "closest",
          "mapbox": {
           "style": "light"
          },
          "paper_bgcolor": "white",
          "plot_bgcolor": "#E5ECF6",
          "polar": {
           "angularaxis": {
            "gridcolor": "white",
            "linecolor": "white",
            "ticks": ""
           },
           "bgcolor": "#E5ECF6",
           "radialaxis": {
            "gridcolor": "white",
            "linecolor": "white",
            "ticks": ""
           }
          },
          "scene": {
           "xaxis": {
            "backgroundcolor": "#E5ECF6",
            "gridcolor": "white",
            "gridwidth": 2,
            "linecolor": "white",
            "showbackground": true,
            "ticks": "",
            "zerolinecolor": "white"
           },
           "yaxis": {
            "backgroundcolor": "#E5ECF6",
            "gridcolor": "white",
            "gridwidth": 2,
            "linecolor": "white",
            "showbackground": true,
            "ticks": "",
            "zerolinecolor": "white"
           },
           "zaxis": {
            "backgroundcolor": "#E5ECF6",
            "gridcolor": "white",
            "gridwidth": 2,
            "linecolor": "white",
            "showbackground": true,
            "ticks": "",
            "zerolinecolor": "white"
           }
          },
          "shapedefaults": {
           "line": {
            "color": "#2a3f5f"
           }
          },
          "ternary": {
           "aaxis": {
            "gridcolor": "white",
            "linecolor": "white",
            "ticks": ""
           },
           "baxis": {
            "gridcolor": "white",
            "linecolor": "white",
            "ticks": ""
           },
           "bgcolor": "#E5ECF6",
           "caxis": {
            "gridcolor": "white",
            "linecolor": "white",
            "ticks": ""
           }
          },
          "title": {
           "x": 0.05
          },
          "xaxis": {
           "automargin": true,
           "gridcolor": "white",
           "linecolor": "white",
           "ticks": "",
           "title": {
            "standoff": 15
           },
           "zerolinecolor": "white",
           "zerolinewidth": 2
          },
          "yaxis": {
           "automargin": true,
           "gridcolor": "white",
           "linecolor": "white",
           "ticks": "",
           "title": {
            "standoff": 15
           },
           "zerolinecolor": "white",
           "zerolinewidth": 2
          }
         }
        },
        "title": {
         "text": "3d Plot for Rule Mining"
        },
        "width": 900
       }
      },
      "text/html": [
       "<div>            <script src=\"https://cdnjs.cloudflare.com/ajax/libs/mathjax/2.7.5/MathJax.js?config=TeX-AMS-MML_SVG\"></script><script type=\"text/javascript\">if (window.MathJax && window.MathJax.Hub && window.MathJax.Hub.Config) {window.MathJax.Hub.Config({SVG: {font: \"STIX-Web\"}});}</script>                <script type=\"text/javascript\">window.PlotlyConfig = {MathJaxConfig: 'local'};</script>\n",
       "        <script charset=\"utf-8\" src=\"https://cdn.plot.ly/plotly-3.1.1.min.js\" integrity=\"sha256-HUEFyfiTnZJxCxur99FjbKYTvKSzwDaD3/x5TqHpFu4=\" crossorigin=\"anonymous\"></script>                <div id=\"6f61cbc0-02ea-447d-8d6d-02792775f473\" class=\"plotly-graph-div\" style=\"height:800px; width:900px;\"></div>            <script type=\"text/javascript\">                window.PLOTLYENV=window.PLOTLYENV || {};                                if (document.getElementById(\"6f61cbc0-02ea-447d-8d6d-02792775f473\")) {                    Plotly.newPlot(                        \"6f61cbc0-02ea-447d-8d6d-02792775f473\",                        [{\"customdata\":[[\"ROUND SNACK BOXES SET OF4 WOODLAND \",\"POSTAGE\"],[\"PLASTERS IN TIN STRONGMAN\",\"POSTAGE\"],[\"PLASTERS IN TIN SPACEBOY\",\"POSTAGE\"],[\"WOODLAND CHARLOTTE BAG\",\"POSTAGE\"],[\"ROUND SNACK BOXES SET OF 4 FRUITS \",\"POSTAGE\"],[\"SPACEBOY LUNCH BOX \",\"POSTAGE\"],[\"ROUND SNACK BOXES SET OF4 WOODLAND \",\"POSTAGE\"],[\"LUNCH BAG WOODLAND\",\"POSTAGE\"],[\"6 RIBBONS RUSTIC CHARM\",\"POSTAGE\"],[\"JUMBO BAG WOODLAND ANIMALS\",\"POSTAGE\"],[\"ROUND SNACK BOXES SET OF 4 FRUITS \",\"ROUND SNACK BOXES SET OF4 WOODLAND \"],[\"PLASTERS IN TIN WOODLAND ANIMALS\",\"POSTAGE\"],[\"STRAWBERRY LUNCH BOX WITH CUTLERY\",\"POSTAGE\"],[\"PLASTERS IN TIN CIRCUS PARADE \",\"POSTAGE\"],[\"ROUND SNACK BOXES SET OF 4 FRUITS \",\"ROUND SNACK BOXES SET OF4 WOODLAND \"],[\"JAM MAKING SET PRINTED\",\"POSTAGE\"],[\"RED TOADSTOOL LED NIGHT LIGHT\",\"POSTAGE\"],[\"ROUND SNACK BOXES SET OF 4 FRUITS \",\"ROUND SNACK BOXES SET OF4 WOODLAND \"],[\"SPACEBOY LUNCH BOX \",\"ROUND SNACK BOXES SET OF4 WOODLAND \"],[\"REGENCY CAKESTAND 3 TIER\",\"POSTAGE\"],[\"ROUND SNACK BOXES SET OF4 WOODLAND \",\"ROUND SNACK BOXES SET OF 4 FRUITS \"],[\"PLASTERS IN TIN CIRCUS PARADE \",\"PLASTERS IN TIN WOODLAND ANIMALS\"],[\"ROUND SNACK BOXES SET OF4 WOODLAND \",\"ROUND SNACK BOXES SET OF 4 FRUITS \"],[\"PLASTERS IN TIN WOODLAND ANIMALS\",\"ROUND SNACK BOXES SET OF4 WOODLAND \"]],\"hovertemplate\":\"support=%{x}\\u003cbr\\u003econfidence=%{y}\\u003cbr\\u003elift=%{z}\\u003cbr\\u003eantecedents=%{customdata[0]}\\u003cbr\\u003econsequents=%{customdata[1]}\\u003cbr\\u003eantecedent support=%{marker.color}\\u003cextra\\u003e\\u003c\\u002fextra\\u003e\",\"legendgroup\":\"\",\"marker\":{\"color\":{\"dtype\":\"f8\",\"bdata\":\"cF8HzhlRuj\\u002f\\u002fIf32deCsP3\\u002fZPXlYqLU\\u002fKH6MuWsJuT9xGw3gLZDAPzj4wmSqYLQ\\u002fNxrAWyBByT9UdCSX\\u002f5CuP2Kh1jTvOLU\\u002fOPjCZKpgtD8Mk6mCUUm9P9V46SYxCLw\\u002fVOOlm8QgsD\\u002f+1HjpJjG4P3EbDeAtkMA\\u002fxm00gLdAsj8awFsgQfGzP3EbDeAtkMA\\u002fOPjCZKpgtD+NKO0NvjDBPwYSFD\\u002fG3MU\\u002f\\u002ftR46SYxuD83GsBbIEHJP9V46SYxCLw\\u002f\"},\"coloraxis\":\"coloraxis\",\"opacity\":0.7,\"symbol\":\"circle\"},\"mode\":\"markers\",\"name\":\"\",\"scene\":\"scene\",\"showlegend\":false,\"x\":{\"dtype\":\"f8\",\"bdata\":\"\\u002ftR46SYxuD9wXwfOGVGqPw5Pr5RliLM\\u002fqoJRSZ2Atj8Mk6mCUUm9P7n8h\\u002fTb17E\\u002fBhIUP8bcxT9wXwfOGVGqP7n8h\\u002fTb17E\\u002ffoy5awn5sD\\u002f+1HjpJjG4P8e6uI0G8LY\\u002fcF8HzhlRqj8OT6+UZYizP3BfB84ZUbo\\u002f\\u002fyH99nXgrD+P5PIf0m+vP\\u002f7UeOkmMbg\\u002fxLEubqMBrD\\u002fUK2UZ4li3P\\u002f7UeOkmMbg\\u002fcF8HzhlRqj9wXwfOGVG6P\\u002f8h\\u002ffZ14Kw\\u002f\"},\"y\":{\"dtype\":\"f8\",\"bdata\":\"JCh+jLlr7T8FxY8xdy3tP3e+nxov3ew\\u002fyeU\\u002fpN++7D\\u002fKVMGopE7sPwAAAAAAAOw\\u002fGQRWDi2y6z88vVKWIY7rP+F6FK5H4eo\\u002ftTf4wmSq6j8dOGdEaW\\u002fqP1jKMsSxLuo\\u002fJXUCmggb6j9t5\\u002fup8dLpP4\\u002fk8h\\u002fSb+k\\u002fdk8eFmpN6T+NKO0NvjDpP21Wfa62Yuc\\u002fAAAAAAAA5j\\u002fufD81XrrlP6Fns+pzteE\\u002fumsJ+aBn4T956SYxCKzgPz\\u002fG3LWEfOA\\u002f\"},\"z\":{\"dtype\":\"f8\",\"bdata\":\"uK8D54wo9z8rhxbZzvf2PynLEMe6uPY\\u002fjLlrCfmg9j8qOpLLf0j2P3uDL0ymCvY\\u002fryXkg57N9T\\u002fF\\u002frJ78rD1Pylcj8L1KPU\\u002fy6FFtvP99D9YObTIdr4QQLFQa5p3nPQ\\u002f6bevA+eM9D\\u002f4wmSqYFT0P7FQa5p3HBBAeqUsQxzr8z8xmSoYldTzPyL99nXgHBFAApoIG57eC0C0yHa+nxrxPyL99nXgHBFAqmBUUifgE0CxUGuadxwQQMPTK2UZ4gRA\"},\"type\":\"scatter3d\"}],                        {\"template\":{\"data\":{\"histogram2dcontour\":[{\"type\":\"histogram2dcontour\",\"colorbar\":{\"outlinewidth\":0,\"ticks\":\"\"},\"colorscale\":[[0.0,\"#0d0887\"],[0.1111111111111111,\"#46039f\"],[0.2222222222222222,\"#7201a8\"],[0.3333333333333333,\"#9c179e\"],[0.4444444444444444,\"#bd3786\"],[0.5555555555555556,\"#d8576b\"],[0.6666666666666666,\"#ed7953\"],[0.7777777777777778,\"#fb9f3a\"],[0.8888888888888888,\"#fdca26\"],[1.0,\"#f0f921\"]]}],\"choropleth\":[{\"type\":\"choropleth\",\"colorbar\":{\"outlinewidth\":0,\"ticks\":\"\"}}],\"histogram2d\":[{\"type\":\"histogram2d\",\"colorbar\":{\"outlinewidth\":0,\"ticks\":\"\"},\"colorscale\":[[0.0,\"#0d0887\"],[0.1111111111111111,\"#46039f\"],[0.2222222222222222,\"#7201a8\"],[0.3333333333333333,\"#9c179e\"],[0.4444444444444444,\"#bd3786\"],[0.5555555555555556,\"#d8576b\"],[0.6666666666666666,\"#ed7953\"],[0.7777777777777778,\"#fb9f3a\"],[0.8888888888888888,\"#fdca26\"],[1.0,\"#f0f921\"]]}],\"heatmap\":[{\"type\":\"heatmap\",\"colorbar\":{\"outlinewidth\":0,\"ticks\":\"\"},\"colorscale\":[[0.0,\"#0d0887\"],[0.1111111111111111,\"#46039f\"],[0.2222222222222222,\"#7201a8\"],[0.3333333333333333,\"#9c179e\"],[0.4444444444444444,\"#bd3786\"],[0.5555555555555556,\"#d8576b\"],[0.6666666666666666,\"#ed7953\"],[0.7777777777777778,\"#fb9f3a\"],[0.8888888888888888,\"#fdca26\"],[1.0,\"#f0f921\"]]}],\"contourcarpet\":[{\"type\":\"contourcarpet\",\"colorbar\":{\"outlinewidth\":0,\"ticks\":\"\"}}],\"contour\":[{\"type\":\"contour\",\"colorbar\":{\"outlinewidth\":0,\"ticks\":\"\"},\"colorscale\":[[0.0,\"#0d0887\"],[0.1111111111111111,\"#46039f\"],[0.2222222222222222,\"#7201a8\"],[0.3333333333333333,\"#9c179e\"],[0.4444444444444444,\"#bd3786\"],[0.5555555555555556,\"#d8576b\"],[0.6666666666666666,\"#ed7953\"],[0.7777777777777778,\"#fb9f3a\"],[0.8888888888888888,\"#fdca26\"],[1.0,\"#f0f921\"]]}],\"surface\":[{\"type\":\"surface\",\"colorbar\":{\"outlinewidth\":0,\"ticks\":\"\"},\"colorscale\":[[0.0,\"#0d0887\"],[0.1111111111111111,\"#46039f\"],[0.2222222222222222,\"#7201a8\"],[0.3333333333333333,\"#9c179e\"],[0.4444444444444444,\"#bd3786\"],[0.5555555555555556,\"#d8576b\"],[0.6666666666666666,\"#ed7953\"],[0.7777777777777778,\"#fb9f3a\"],[0.8888888888888888,\"#fdca26\"],[1.0,\"#f0f921\"]]}],\"mesh3d\":[{\"type\":\"mesh3d\",\"colorbar\":{\"outlinewidth\":0,\"ticks\":\"\"}}],\"scatter\":[{\"fillpattern\":{\"fillmode\":\"overlay\",\"size\":10,\"solidity\":0.2},\"type\":\"scatter\"}],\"parcoords\":[{\"type\":\"parcoords\",\"line\":{\"colorbar\":{\"outlinewidth\":0,\"ticks\":\"\"}}}],\"scatterpolargl\":[{\"type\":\"scatterpolargl\",\"marker\":{\"colorbar\":{\"outlinewidth\":0,\"ticks\":\"\"}}}],\"bar\":[{\"error_x\":{\"color\":\"#2a3f5f\"},\"error_y\":{\"color\":\"#2a3f5f\"},\"marker\":{\"line\":{\"color\":\"#E5ECF6\",\"width\":0.5},\"pattern\":{\"fillmode\":\"overlay\",\"size\":10,\"solidity\":0.2}},\"type\":\"bar\"}],\"scattergeo\":[{\"type\":\"scattergeo\",\"marker\":{\"colorbar\":{\"outlinewidth\":0,\"ticks\":\"\"}}}],\"scatterpolar\":[{\"type\":\"scatterpolar\",\"marker\":{\"colorbar\":{\"outlinewidth\":0,\"ticks\":\"\"}}}],\"histogram\":[{\"marker\":{\"pattern\":{\"fillmode\":\"overlay\",\"size\":10,\"solidity\":0.2}},\"type\":\"histogram\"}],\"scattergl\":[{\"type\":\"scattergl\",\"marker\":{\"colorbar\":{\"outlinewidth\":0,\"ticks\":\"\"}}}],\"scatter3d\":[{\"type\":\"scatter3d\",\"line\":{\"colorbar\":{\"outlinewidth\":0,\"ticks\":\"\"}},\"marker\":{\"colorbar\":{\"outlinewidth\":0,\"ticks\":\"\"}}}],\"scattermap\":[{\"type\":\"scattermap\",\"marker\":{\"colorbar\":{\"outlinewidth\":0,\"ticks\":\"\"}}}],\"scattermapbox\":[{\"type\":\"scattermapbox\",\"marker\":{\"colorbar\":{\"outlinewidth\":0,\"ticks\":\"\"}}}],\"scatterternary\":[{\"type\":\"scatterternary\",\"marker\":{\"colorbar\":{\"outlinewidth\":0,\"ticks\":\"\"}}}],\"scattercarpet\":[{\"type\":\"scattercarpet\",\"marker\":{\"colorbar\":{\"outlinewidth\":0,\"ticks\":\"\"}}}],\"carpet\":[{\"aaxis\":{\"endlinecolor\":\"#2a3f5f\",\"gridcolor\":\"white\",\"linecolor\":\"white\",\"minorgridcolor\":\"white\",\"startlinecolor\":\"#2a3f5f\"},\"baxis\":{\"endlinecolor\":\"#2a3f5f\",\"gridcolor\":\"white\",\"linecolor\":\"white\",\"minorgridcolor\":\"white\",\"startlinecolor\":\"#2a3f5f\"},\"type\":\"carpet\"}],\"table\":[{\"cells\":{\"fill\":{\"color\":\"#EBF0F8\"},\"line\":{\"color\":\"white\"}},\"header\":{\"fill\":{\"color\":\"#C8D4E3\"},\"line\":{\"color\":\"white\"}},\"type\":\"table\"}],\"barpolar\":[{\"marker\":{\"line\":{\"color\":\"#E5ECF6\",\"width\":0.5},\"pattern\":{\"fillmode\":\"overlay\",\"size\":10,\"solidity\":0.2}},\"type\":\"barpolar\"}],\"pie\":[{\"automargin\":true,\"type\":\"pie\"}]},\"layout\":{\"autotypenumbers\":\"strict\",\"colorway\":[\"#636efa\",\"#EF553B\",\"#00cc96\",\"#ab63fa\",\"#FFA15A\",\"#19d3f3\",\"#FF6692\",\"#B6E880\",\"#FF97FF\",\"#FECB52\"],\"font\":{\"color\":\"#2a3f5f\"},\"hovermode\":\"closest\",\"hoverlabel\":{\"align\":\"left\"},\"paper_bgcolor\":\"white\",\"plot_bgcolor\":\"#E5ECF6\",\"polar\":{\"bgcolor\":\"#E5ECF6\",\"angularaxis\":{\"gridcolor\":\"white\",\"linecolor\":\"white\",\"ticks\":\"\"},\"radialaxis\":{\"gridcolor\":\"white\",\"linecolor\":\"white\",\"ticks\":\"\"}},\"ternary\":{\"bgcolor\":\"#E5ECF6\",\"aaxis\":{\"gridcolor\":\"white\",\"linecolor\":\"white\",\"ticks\":\"\"},\"baxis\":{\"gridcolor\":\"white\",\"linecolor\":\"white\",\"ticks\":\"\"},\"caxis\":{\"gridcolor\":\"white\",\"linecolor\":\"white\",\"ticks\":\"\"}},\"coloraxis\":{\"colorbar\":{\"outlinewidth\":0,\"ticks\":\"\"}},\"colorscale\":{\"sequential\":[[0.0,\"#0d0887\"],[0.1111111111111111,\"#46039f\"],[0.2222222222222222,\"#7201a8\"],[0.3333333333333333,\"#9c179e\"],[0.4444444444444444,\"#bd3786\"],[0.5555555555555556,\"#d8576b\"],[0.6666666666666666,\"#ed7953\"],[0.7777777777777778,\"#fb9f3a\"],[0.8888888888888888,\"#fdca26\"],[1.0,\"#f0f921\"]],\"sequentialminus\":[[0.0,\"#0d0887\"],[0.1111111111111111,\"#46039f\"],[0.2222222222222222,\"#7201a8\"],[0.3333333333333333,\"#9c179e\"],[0.4444444444444444,\"#bd3786\"],[0.5555555555555556,\"#d8576b\"],[0.6666666666666666,\"#ed7953\"],[0.7777777777777778,\"#fb9f3a\"],[0.8888888888888888,\"#fdca26\"],[1.0,\"#f0f921\"]],\"diverging\":[[0,\"#8e0152\"],[0.1,\"#c51b7d\"],[0.2,\"#de77ae\"],[0.3,\"#f1b6da\"],[0.4,\"#fde0ef\"],[0.5,\"#f7f7f7\"],[0.6,\"#e6f5d0\"],[0.7,\"#b8e186\"],[0.8,\"#7fbc41\"],[0.9,\"#4d9221\"],[1,\"#276419\"]]},\"xaxis\":{\"gridcolor\":\"white\",\"linecolor\":\"white\",\"ticks\":\"\",\"title\":{\"standoff\":15},\"zerolinecolor\":\"white\",\"automargin\":true,\"zerolinewidth\":2},\"yaxis\":{\"gridcolor\":\"white\",\"linecolor\":\"white\",\"ticks\":\"\",\"title\":{\"standoff\":15},\"zerolinecolor\":\"white\",\"automargin\":true,\"zerolinewidth\":2},\"scene\":{\"xaxis\":{\"backgroundcolor\":\"#E5ECF6\",\"gridcolor\":\"white\",\"linecolor\":\"white\",\"showbackground\":true,\"ticks\":\"\",\"zerolinecolor\":\"white\",\"gridwidth\":2},\"yaxis\":{\"backgroundcolor\":\"#E5ECF6\",\"gridcolor\":\"white\",\"linecolor\":\"white\",\"showbackground\":true,\"ticks\":\"\",\"zerolinecolor\":\"white\",\"gridwidth\":2},\"zaxis\":{\"backgroundcolor\":\"#E5ECF6\",\"gridcolor\":\"white\",\"linecolor\":\"white\",\"showbackground\":true,\"ticks\":\"\",\"zerolinecolor\":\"white\",\"gridwidth\":2}},\"shapedefaults\":{\"line\":{\"color\":\"#2a3f5f\"}},\"annotationdefaults\":{\"arrowcolor\":\"#2a3f5f\",\"arrowhead\":0,\"arrowwidth\":1},\"geo\":{\"bgcolor\":\"white\",\"landcolor\":\"#E5ECF6\",\"subunitcolor\":\"white\",\"showland\":true,\"showlakes\":true,\"lakecolor\":\"white\"},\"title\":{\"x\":0.05},\"mapbox\":{\"style\":\"light\"}}},\"scene\":{\"domain\":{\"x\":[0.0,1.0],\"y\":[0.0,1.0]},\"xaxis\":{\"title\":{\"text\":\"support\"}},\"yaxis\":{\"title\":{\"text\":\"confidence\"}},\"zaxis\":{\"title\":{\"text\":\"lift\"}}},\"coloraxis\":{\"colorbar\":{\"title\":{\"text\":\"antecedent support\"}},\"colorscale\":[[0.0,\"#0d0887\"],[0.1111111111111111,\"#46039f\"],[0.2222222222222222,\"#7201a8\"],[0.3333333333333333,\"#9c179e\"],[0.4444444444444444,\"#bd3786\"],[0.5555555555555556,\"#d8576b\"],[0.6666666666666666,\"#ed7953\"],[0.7777777777777778,\"#fb9f3a\"],[0.8888888888888888,\"#fdca26\"],[1.0,\"#f0f921\"]]},\"legend\":{\"tracegroupgap\":0},\"title\":{\"text\":\"3d Plot for Rule Mining\"},\"height\":800,\"width\":900},                        {\"responsive\": true}                    ).then(function(){\n",
       "                            \n",
       "var gd = document.getElementById('6f61cbc0-02ea-447d-8d6d-02792775f473');\n",
       "var x = new MutationObserver(function (mutations, observer) {{\n",
       "        var display = window.getComputedStyle(gd).display;\n",
       "        if (!display || display === 'none') {{\n",
       "            console.log([gd, 'removed!']);\n",
       "            Plotly.purge(gd);\n",
       "            observer.disconnect();\n",
       "        }}\n",
       "}});\n",
       "\n",
       "// Listen for the removal of the full notebook cells\n",
       "var notebookContainer = gd.closest('#notebook-container');\n",
       "if (notebookContainer) {{\n",
       "    x.observe(notebookContainer, {childList: true});\n",
       "}}\n",
       "\n",
       "// Listen for the clearing of the current output cell\n",
       "var outputEl = gd.closest('.output');\n",
       "if (outputEl) {{\n",
       "    x.observe(outputEl, {childList: true});\n",
       "}}\n",
       "\n",
       "                        })                };            </script>        </div>"
      ]
     },
     "metadata": {},
     "output_type": "display_data"
    }
   ],
   "source": [
    "plot_model(a1, plot='3d')"
   ]
  }
 ],
 "metadata": {
  "kernelspec": {
   "display_name": "Python 3.10 (PyCaret 2.3.5)",
   "language": "python",
   "name": "pycaret_235"
  },
  "language_info": {
   "codemirror_mode": {
    "name": "ipython",
    "version": 3
   },
   "file_extension": ".py",
   "mimetype": "text/x-python",
   "name": "python",
   "nbconvert_exporter": "python",
   "pygments_lexer": "ipython3",
   "version": "3.10.19"
  }
 },
 "nbformat": 4,
 "nbformat_minor": 2
}
